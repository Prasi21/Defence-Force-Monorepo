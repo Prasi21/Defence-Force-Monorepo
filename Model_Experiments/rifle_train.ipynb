{
  "cells": [
    {
      "cell_type": "markdown",
      "metadata": {
        "id": "view-in-github",
        "colab_type": "text"
      },
      "source": [
        "<a href=\"https://colab.research.google.com/github/Prasi21/Defence-Force-Monorepo/blob/master/Model_Experiments/rifle_train.ipynb\" target=\"_parent\"><img src=\"https://colab.research.google.com/assets/colab-badge.svg\" alt=\"Open In Colab\"/></a>"
      ]
    },
    {
      "cell_type": "code",
      "execution_count": null,
      "metadata": {
        "colab": {
          "base_uri": "https://localhost:8080/"
        },
        "id": "Bstnqh26Z2fU",
        "outputId": "73d9dc91-8f84-4f4d-8004-16b14405fc90"
      },
      "outputs": [
        {
          "output_type": "stream",
          "name": "stdout",
          "text": [
            "\u001b[2K     \u001b[90m━━━━━━━━━━━━━━━━━━━━━━━━━━━━━━━━━━━━━━━━\u001b[0m \u001b[32m2.1/2.1 MB\u001b[0m \u001b[31m15.0 MB/s\u001b[0m eta \u001b[36m0:00:00\u001b[0m\n",
            "\u001b[2K     \u001b[90m━━━━━━━━━━━━━━━━━━━━━━━━━━━━━━━━━━━━━━\u001b[0m \u001b[32m190.0/190.0 kB\u001b[0m \u001b[31m16.2 MB/s\u001b[0m eta \u001b[36m0:00:00\u001b[0m\n",
            "\u001b[2K     \u001b[90m━━━━━━━━━━━━━━━━━━━━━━━━━━━━━━━━━━━━━━\u001b[0m \u001b[32m224.8/224.8 kB\u001b[0m \u001b[31m17.2 MB/s\u001b[0m eta \u001b[36m0:00:00\u001b[0m\n",
            "\u001b[?25h  Preparing metadata (setup.py) ... \u001b[?25l\u001b[?25hdone\n",
            "\u001b[2K     \u001b[90m━━━━━━━━━━━━━━━━━━━━━━━━━━━━━━━━━━━━━━━━\u001b[0m \u001b[32m62.7/62.7 kB\u001b[0m \u001b[31m7.6 MB/s\u001b[0m eta \u001b[36m0:00:00\u001b[0m\n",
            "\u001b[?25h  Building wheel for pathtools (setup.py) ... \u001b[?25l\u001b[?25hdone\n"
          ]
        }
      ],
      "source": [
        "!pip install wandb -qU\n"
      ]
    },
    {
      "cell_type": "code",
      "execution_count": null,
      "metadata": {
        "id": "sjQ-tMRRPo5Q",
        "colab": {
          "base_uri": "https://localhost:8080/",
          "height": 123
        },
        "outputId": "aec4611c-519d-4463-c862-58c72b1fc1e6"
      },
      "outputs": [
        {
          "output_type": "display_data",
          "data": {
            "text/plain": [
              "<IPython.core.display.Javascript object>"
            ],
            "application/javascript": [
              "\n",
              "        window._wandbApiKey = new Promise((resolve, reject) => {\n",
              "            function loadScript(url) {\n",
              "            return new Promise(function(resolve, reject) {\n",
              "                let newScript = document.createElement(\"script\");\n",
              "                newScript.onerror = reject;\n",
              "                newScript.onload = resolve;\n",
              "                document.body.appendChild(newScript);\n",
              "                newScript.src = url;\n",
              "            });\n",
              "            }\n",
              "            loadScript(\"https://cdn.jsdelivr.net/npm/postmate/build/postmate.min.js\").then(() => {\n",
              "            const iframe = document.createElement('iframe')\n",
              "            iframe.style.cssText = \"width:0;height:0;border:none\"\n",
              "            document.body.appendChild(iframe)\n",
              "            const handshake = new Postmate({\n",
              "                container: iframe,\n",
              "                url: 'https://wandb.ai/authorize'\n",
              "            });\n",
              "            const timeout = setTimeout(() => reject(\"Couldn't auto authenticate\"), 5000)\n",
              "            handshake.then(function(child) {\n",
              "                child.on('authorize', data => {\n",
              "                    clearTimeout(timeout)\n",
              "                    resolve(data)\n",
              "                });\n",
              "            });\n",
              "            })\n",
              "        });\n",
              "    "
            ]
          },
          "metadata": {}
        },
        {
          "output_type": "stream",
          "name": "stderr",
          "text": [
            "\u001b[34m\u001b[1mwandb\u001b[0m: Logging into wandb.ai. (Learn how to deploy a W&B server locally: https://wandb.me/wandb-server)\n",
            "\u001b[34m\u001b[1mwandb\u001b[0m: You can find your API key in your browser here: https://wandb.ai/authorize\n",
            "wandb: Paste an API key from your profile and hit enter, or press ctrl+c to quit:"
          ]
        },
        {
          "name": "stdout",
          "output_type": "stream",
          "text": [
            " ··········\n"
          ]
        },
        {
          "output_type": "stream",
          "name": "stderr",
          "text": [
            "\u001b[34m\u001b[1mwandb\u001b[0m: Appending key for api.wandb.ai to your netrc file: /root/.netrc\n"
          ]
        },
        {
          "output_type": "execute_result",
          "data": {
            "text/plain": [
              "True"
            ]
          },
          "metadata": {},
          "execution_count": 2
        }
      ],
      "source": [
        "# Login to your wandb account\n",
        "import wandb\n",
        "wandb.login()"
      ]
    },
    {
      "cell_type": "code",
      "execution_count": null,
      "metadata": {
        "id": "-_y8VVEubJ07"
      },
      "outputs": [],
      "source": [
        "root = \"/content/drive/MyDrive/RifleAction/\""
      ]
    },
    {
      "cell_type": "code",
      "execution_count": null,
      "metadata": {
        "id": "dLemVDTD2h2Y",
        "colab": {
          "base_uri": "https://localhost:8080/"
        },
        "outputId": "db2c560a-d15d-4353-9c82-4ec79acb0076"
      },
      "outputs": [
        {
          "output_type": "stream",
          "name": "stdout",
          "text": [
            "Mounted at /content/gdrive\n"
          ]
        }
      ],
      "source": [
        "from google.colab import drive\n",
        "drive.mount('/content/gdrive')"
      ]
    },
    {
      "cell_type": "code",
      "execution_count": null,
      "metadata": {
        "id": "2lF8mLL42jez",
        "colab": {
          "base_uri": "https://localhost:8080/"
        },
        "outputId": "0dea2321-c0cb-4935-bf59-16a7ce4f0ca3"
      },
      "outputs": [
        {
          "output_type": "stream",
          "name": "stdout",
          "text": [
            "/content/gdrive/MyDrive/RifleAction\n",
            "app.py\t\t model_all_test.keras\tprecision_recall_curve_multiclass.png\n",
            "EF88\t\t model_label_M4\t\tprecision_recall_curve_multilabel.png\n",
            "evaluate.ipynb\t model_label_M4.h5\trequirements.txt\n",
            "logs\t\t model_label_M4.keras\tRifleAction\n",
            "M4\t\t model_m4\t\tshare\n",
            "M4_2-5_CM.jpg\t model_m4_2\t\ttemp\n",
            "model\t\t model_M4_all.keras\ttrain.ipynb\n",
            "model_all.keras  model_M4_test-1.keras\twandb\n"
          ]
        }
      ],
      "source": [
        "%cd gdrive/MyDrive/RifleAction\n",
        "!ls"
      ]
    },
    {
      "cell_type": "code",
      "execution_count": null,
      "metadata": {
        "id": "COz2DP8H1cjB"
      },
      "outputs": [],
      "source": [
        "import datetime\n",
        "from keras.callbacks import EarlyStopping, TensorBoard, ModelCheckpoint\n",
        "from keras.optimizers import Adam\n",
        "from sklearn.model_selection import train_test_split\n",
        "# from RifleAction import DataLoader, build_model\n",
        "from keras.models import load_model, Model\n",
        "from wandb.keras import WandbMetricsLogger, WandbModelCheckpoint\n",
        "import numpy as np\n",
        "import pandas as pd\n",
        "import os\n",
        "from typing import Tuple, List\n",
        "from keras import layers, Model, Input"
      ]
    },
    {
      "cell_type": "code",
      "execution_count": null,
      "metadata": {
        "id": "FxBVFWAXx3ak"
      },
      "outputs": [],
      "source": [
        "from sklearn.preprocessing import MultiLabelBinarizer\n",
        "class DataLoader:\n",
        "    def __init__(self, feature_names:List[str] = ['Quat_W', 'Quat_X', 'Quat_Y', 'Quat_Z', 'FreeAcc_X', 'FreeAcc_Y', 'FreeAcc_Z'],\n",
        "                 slide_window_size:int=100, column_labels:List[str]=None) -> None:\n",
        "        self._features = list()\n",
        "        self._labels = list()\n",
        "        self._feature_names = feature_names\n",
        "        self._slide_window_size:int = slide_window_size\n",
        "        self._column_labels = column_labels\n",
        "\n",
        "    def load_data(self, data_path:str, label_description_path:str,):\n",
        "\n",
        "        # load the raw data\n",
        "        raw_data = pd.read_csv(data_path)\n",
        "\n",
        "        # load the label description and create a dictionary to store\n",
        "        label_description =  pd.read_csv(label_description_path)\n",
        "        label_dict = {}\n",
        "        for _, row in label_description.iterrows():\n",
        "            if row['Action'] not in label_dict.keys():\n",
        "                label_dict[row['Action']] = list()\n",
        "                label_dict[row['Action']].append((row['DataStart'], row['DataEnd']))\n",
        "            else:\n",
        "                label_dict[row['Action']].append((row['DataStart'], row['DataEnd']))\n",
        "\n",
        "        # assign label to each sample\n",
        "        sample_labels = list()\n",
        "        for index, row in raw_data.iterrows():\n",
        "            found_action = False\n",
        "            for key, value in label_dict.items():\n",
        "                for start, end in value:\n",
        "                    if index >= start and index <= end:\n",
        "                        sample_labels.append(key)\n",
        "                        found_action = True\n",
        "                        break\n",
        "                if found_action:\n",
        "                    break\n",
        "            if not found_action:\n",
        "                sample_labels.append('None')\n",
        "        raw_data['Label'] = sample_labels\n",
        "\n",
        "        #  extract the features and labels, stripe is 1 for sliding window\n",
        "        for i in range(len(raw_data)-self.slide_window_size):\n",
        "            current_window_features = list()\n",
        "            for feature_name in self.feature_names:\n",
        "                current_window_features.append(raw_data[feature_name][i:i+self.slide_window_size].values)\n",
        "            self.features.append(current_window_features)\n",
        "            # self.labels.append(raw_data['Label'][i:i+self.slide_window_size].value_counts().index[0])\n",
        "            self.labels.append(raw_data['Label'][i:i+self.slide_window_size].unique())\n",
        "\n",
        "    def dataset(self):\n",
        "\n",
        "        features = np.array(self.features)\n",
        "\n",
        "        # window_labels = pd.DataFrame(self.labels, columns=['Label'])\n",
        "        # one_hot = pd.get_dummies(window_labels['Label'])\n",
        "        # one_hot = pd.DataFrame(mlb.fit_transform(self.labels), columns=mlb.classes_)\n",
        "\n",
        "        if self._column_labels:\n",
        "          mlb = MultiLabelBinarizer(classes=self._column_labels)\n",
        "          mlb.fit(self._column_labels)\n",
        "          one_hot = pd.DataFrame(mlb.transform(self.labels), columns=mlb.classes_)\n",
        "          # one_hot = one_hot.reindex(columns=self._column_labels, fill_value=0)\n",
        "        else:\n",
        "          mlb = MultiLabelBinarizer()\n",
        "          one_hot = pd.DataFrame(mlb.fit_transform(self.labels), columns=mlb.classes_)\n",
        "\n",
        "\n",
        "        labels =  one_hot.to_numpy()\n",
        "\n",
        "        return features, labels, one_hot.columns, mlb\n",
        "\n",
        "    @property\n",
        "    def feature_names(self):\n",
        "        return self._feature_names\n",
        "\n",
        "    @property\n",
        "    def features(self):\n",
        "        return self._features\n",
        "\n",
        "    @property\n",
        "    def labels(self):\n",
        "        return self._labels\n",
        "\n",
        "    @property\n",
        "    def slide_window_size(self):\n",
        "        return self._slide_window_size"
      ]
    },
    {
      "cell_type": "code",
      "execution_count": null,
      "metadata": {
        "id": "oecZlnYZ0vAU"
      },
      "outputs": [],
      "source": [
        "def transformer_encoder(inputs, head_size:int, num_heads:int, ff_dim:int, dropout:float=0):\n",
        "    # Attention and Normalization\n",
        "    x = layers.MultiHeadAttention(\n",
        "        key_dim=head_size, num_heads=num_heads, dropout=dropout\n",
        "    )(inputs, inputs)\n",
        "    x = layers.Dropout(dropout)(x)\n",
        "    x = layers.LayerNormalization(epsilon=1e-6)(x)\n",
        "    res = x + inputs\n",
        "\n",
        "    # Feed Forward Part\n",
        "    x = layers.Conv1D(filters=ff_dim, kernel_size=1, activation=\"relu\")(res)\n",
        "    x = layers.Dropout(dropout)(x)\n",
        "    x = layers.Conv1D(filters=inputs.shape[-1], kernel_size=1)(x)\n",
        "    x = layers.LayerNormalization(epsilon=1e-6)(x)\n",
        "    return x + res\n",
        "\n",
        "def build_model(\n",
        "    input_shape:Tuple,\n",
        "    n_classes:int,\n",
        "    head_size:int,\n",
        "    num_heads:int,\n",
        "    ff_dim:int,\n",
        "    num_transformer_blocks:int,\n",
        "    mlp_units:List[int],\n",
        "    dropout:float=0,\n",
        "    mlp_dropout:float=0,\n",
        "):\n",
        "    inputs = Input(shape=input_shape)\n",
        "    x = inputs\n",
        "    for _ in range(num_transformer_blocks):\n",
        "        x = transformer_encoder(x, head_size, num_heads, ff_dim, dropout)\n",
        "\n",
        "    x = layers.GlobalAveragePooling1D(data_format=\"channels_first\")(x)\n",
        "    for dim in mlp_units:\n",
        "        x = layers.Dense(dim, activation=\"relu\")(x)\n",
        "        x = layers.Dropout(mlp_dropout)(x)\n",
        "    outputs = layers.Dense(n_classes, activation=\"sigmoid\")(x)\n",
        "    return Model(inputs, outputs)"
      ]
    },
    {
      "cell_type": "markdown",
      "metadata": {
        "id": "u5cAmiM81cjE"
      },
      "source": [
        "Load the data from M4 Participant 1 - 3"
      ]
    },
    {
      "cell_type": "code",
      "execution_count": null,
      "metadata": {
        "id": "-LNqAkHaq-HQ"
      },
      "outputs": [],
      "source": [
        "### Change low ready/aim Approach and multishot to just low ready, aim and shot\n",
        "# for i in range(1,26):\n",
        "#         label_path = f\"./M4/Participant_5/Labels/{i}.csv\"\n",
        "#         df = pd.read_csv(label_path)\n",
        "#         df['Action'] = df['Action'].replace(\"low ready approach\", \"low ready\")\n",
        "#         df['Action'] = df['Action'].replace(\"aim approach\", \"aim\")\n",
        "#         df['Action'] = df['Action'].replace(\"multishot\", \"shot\")\n",
        "#         df.to_csv(f\"./M4/Participant_5/Labels/{i}.csv\")"
      ]
    },
    {
      "cell_type": "code",
      "execution_count": null,
      "metadata": {
        "id": "AKvCi54g1cjG"
      },
      "outputs": [],
      "source": [
        "# Dataset_ids in form of <gun>_<particpantID>. Eg M4_3\n",
        "# def load_datasets(dataset_ids, column_labels):\n",
        "\n",
        "def load_datasets(dataset_ids, column_labels, config=None, win_size=100):\n",
        "  if config:\n",
        "      slide_window_size=config.slide_window_size\n",
        "  else:\n",
        "      slide_window_size=win_size\n",
        "\n",
        "  data_formatter = DataLoader(slide_window_size=slide_window_size, column_labels=column_labels)\n",
        "\n",
        "  for id in dataset_ids:\n",
        "    gun, participant = id.split(\"_\")\n",
        "    dir = os.path.join(gun, f\"Participant_{participant}\")\n",
        "\n",
        "    num_csv = 0\n",
        "    for datafile in os.listdir(os.path.join(dir,\"Raw_Data\")):\n",
        "          if datafile.endswith(\".csv\"):\n",
        "              num_csv += 1\n",
        "\n",
        "    for i in range(1, num_csv+1):\n",
        "      data_path = os.path.join(dir,\"Raw_Data\",f\"{i}.csv\")\n",
        "      label_path = os.path.join(dir,\"Labels\",f\"{i}.csv\")\n",
        "      if os.path.exists(data_path) and os.path.exists(label_path):\n",
        "        data_formatter.load_data(data_path, label_path)\n",
        "      else:\n",
        "        print(f\"Failed to read {data_path} or labels\")\n",
        "\n",
        "  features, labels, classes, mlb = data_formatter.dataset()\n",
        "  return features, labels, classes, mlb"
      ]
    },
    {
      "cell_type": "code",
      "execution_count": null,
      "metadata": {
        "id": "h60-YBjBjnuu"
      },
      "outputs": [],
      "source": [
        "import tensorflow as tf\n",
        "# import tensorflow_addons as tfa\n",
        "\n",
        "def create_model(features, config):\n",
        "  input_shape = features.shape[1:]\n",
        "  model = build_model(input_shape=input_shape,\n",
        "                      n_classes=config.num_classes,\n",
        "                      head_size=config.head_size,\n",
        "                      num_heads=config.num_heads,\n",
        "                      ff_dim=config.ff_dim,\n",
        "                      num_transformer_blocks=config.num_transformer_blocks,\n",
        "                      mlp_units=config.mlp_units,\n",
        "                      dropout=config.dropout,\n",
        "                      mlp_dropout=config.mlp_dropout)\n",
        "\n",
        "  model.compile(\n",
        "      loss=config.loss,\n",
        "      optimizer=Adam(learning_rate=config.learning_rate),\n",
        "      metrics=[\"accuracy\"],\n",
        "  )\n",
        "  return model\n"
      ]
    },
    {
      "cell_type": "markdown",
      "metadata": {
        "id": "7yGNNuXw1cjP"
      },
      "source": [
        "Train the model"
      ]
    },
    {
      "cell_type": "code",
      "execution_count": null,
      "metadata": {
        "id": "tjnqfTIhrec6"
      },
      "outputs": [],
      "source": [
        "def get_dataset_ids(datafile):\n",
        "  if(datafile == \"M4_test-5\"):\n",
        "    train_ids = [\"M4_1\",\"M4_2\",\"M4_3\",\"M4_4\"]\n",
        "    test_ids = [\"M4_5\"]\n",
        "  if(datafile == \"M4_test-4\"):\n",
        "    train_ids = [\"M4_1\",\"M4_2\",\"M4_3\",\"M4_5\"]\n",
        "    test_ids = [\"M4_4\"]\n",
        "  if(datafile == \"M4_test-1\"):\n",
        "    train_ids = [\"M4_2\",\"M4_3\",\"M4_4\",\"M4_5\"]\n",
        "    test_ids = [\"M4_1\"]\n",
        "  if(datafile == \"EF88_test-3\"):\n",
        "    train_ids = [\"EF88_1\",\"EF88_2\",\"EF88_4\"]\n",
        "    test_ids = [\"EF88_3\"]\n",
        "  if(datafile == \"EF88_test-2\"):\n",
        "    train_ids = [\"EF88_1\",\"EF88_3\",\"EF88_4\"]\n",
        "    test_ids = [\"EF88_2\"]\n",
        "  if(datafile == \"All_test_M4-4_EF88-3\"):\n",
        "    train_ids = [\"M4_1\",\"M4_2\",\"M4_3\",\"M4_5\",\"EF88_1\",\"EF88_2\",\"EF88_4\"]\n",
        "    test_ids = [\"M4_4\", \"EF88_3\"]\n",
        "  if(datafile == \"M4_123_test-4\"):\n",
        "    train_ids = [\"M4_1\",\"M4_2\",\"M4_3\"]\n",
        "    test_ids = [\"M4_4\"]\n",
        "  if(datafile == \"all\"):\n",
        "    train_ids = [\"M4_1\",\"M4_2\",\"M4_3\",\"M4_4\",\"M4_5\",\"EF88_1\",\"EF88_2\",\"EF88_3\",\"EF88_4\"]\n",
        "    test_ids = [\"M4_4\"]\n",
        "  if(datafile == \"M4_all\"):\n",
        "    train_ids = [\"M4_1\",\"M4_2\",\"M4_3\",\"M4_4\",\"M4_5\"]\n",
        "    test_ids = [\"M4_4\"]\n",
        "\n",
        "  return train_ids, test_ids"
      ]
    },
    {
      "cell_type": "code",
      "execution_count": null,
      "metadata": {
        "id": "C88oQJNT0Wcr"
      },
      "outputs": [],
      "source": [
        "all_classes = ['None', 'aim', 'cocking', 'extreme low ready', 'high ready',\n",
        "       'low ready', 'magazine change', 'magazine recovery', 'scanning', 'shot']\n",
        "# low ready approach, aim approach, multishot"
      ]
    },
    {
      "cell_type": "code",
      "execution_count": null,
      "metadata": {
        "id": "WbWMwCe1qvrk"
      },
      "outputs": [],
      "source": [
        "datafiles = [\n",
        "    \"M4_test-1\"\n",
        "    # \"M4_all\",\n",
        "    # \"all\",\n",
        "    # \"M4_test-4\",\n",
        "    # \"M4_test-5\",\n",
        "    # \"EF88_test-3\",\n",
        "    # \"EF88_test-2\",\n",
        "    # \"All_test_M4-4_EF88-3\"\n",
        "    # \"M4_123_test-4\"\n",
        "    ]"
      ]
    },
    {
      "cell_type": "code",
      "execution_count": null,
      "metadata": {
        "id": "kEK12b4AwIZJ"
      },
      "outputs": [],
      "source": [
        "def print_class_counts(labels, all_classes):\n",
        "  # Convert one-hot encoded labels to class indices\n",
        "  class_indices = np.argmax(labels, axis=1)\n",
        "\n",
        "  # Count the number of instances for each class\n",
        "  class_counts = {}\n",
        "  for idx in range(len(all_classes)):\n",
        "      class_name = all_classes[idx]\n",
        "      class_count = np.sum(class_indices == idx)\n",
        "      class_counts[class_name] = class_count\n",
        "\n",
        "  # Print the number of instances for each class\n",
        "  for class_name, count in class_counts.items():\n",
        "      print(f\"Class '{class_name}': {count} instances\")"
      ]
    },
    {
      "cell_type": "code",
      "execution_count": null,
      "metadata": {
        "id": "afKPN2R--fwu"
      },
      "outputs": [],
      "source": [
        "# model.load_weights('temp/checkpoint')"
      ]
    },
    {
      "cell_type": "markdown",
      "metadata": {
        "id": "DkJ3NEqOGfEY"
      },
      "source": [
        "## Running the whole experiment script"
      ]
    },
    {
      "cell_type": "code",
      "execution_count": null,
      "metadata": {
        "colab": {
          "base_uri": "https://localhost:8080/",
          "height": 1000,
          "referenced_widgets": [
            "3dcc14237bbb4b479d1b7bfe09ee03c9",
            "4c9f5dffe51749edb83afc245c1b0af8",
            "dcb25ae2f88c4c23a09eaf617661b964",
            "3239c273918b49198563e1ac413a41d8",
            "b092d302f60b46e096993dba6ea99451",
            "4d1617cd75084e62967fda755e5d5edd",
            "5928016d4809420c8b02e6737dec72d6",
            "6cbfe3bf2aec4fe4b199c1a4bcb49c3e"
          ]
        },
        "id": "9imxsFsKUC5Q",
        "outputId": "eebd73d2-0164-4442-a68c-fc99515eae95"
      },
      "outputs": [
        {
          "output_type": "stream",
          "name": "stderr",
          "text": [
            "\u001b[34m\u001b[1mwandb\u001b[0m: Currently logged in as: \u001b[33mprasi\u001b[0m. Use \u001b[1m`wandb login --relogin`\u001b[0m to force relogin\n"
          ]
        },
        {
          "output_type": "display_data",
          "data": {
            "text/plain": [
              "<IPython.core.display.HTML object>"
            ],
            "text/html": [
              "Tracking run with wandb version 0.15.11"
            ]
          },
          "metadata": {}
        },
        {
          "output_type": "display_data",
          "data": {
            "text/plain": [
              "<IPython.core.display.HTML object>"
            ],
            "text/html": [
              "Run data is saved locally in <code>/content/gdrive/MyDrive/RifleAction/wandb/run-20231003_012359-hgzb9zlg</code>"
            ]
          },
          "metadata": {}
        },
        {
          "output_type": "display_data",
          "data": {
            "text/plain": [
              "<IPython.core.display.HTML object>"
            ],
            "text/html": [
              "Syncing run <strong><a href='https://wandb.ai/prasi/defence-force/runs/hgzb9zlg' target=\"_blank\">soft-disco-48</a></strong> to <a href='https://wandb.ai/prasi/defence-force' target=\"_blank\">Weights & Biases</a> (<a href='https://wandb.me/run' target=\"_blank\">docs</a>)<br/>"
            ]
          },
          "metadata": {}
        },
        {
          "output_type": "display_data",
          "data": {
            "text/plain": [
              "<IPython.core.display.HTML object>"
            ],
            "text/html": [
              " View project at <a href='https://wandb.ai/prasi/defence-force' target=\"_blank\">https://wandb.ai/prasi/defence-force</a>"
            ]
          },
          "metadata": {}
        },
        {
          "output_type": "display_data",
          "data": {
            "text/plain": [
              "<IPython.core.display.HTML object>"
            ],
            "text/html": [
              " View run at <a href='https://wandb.ai/prasi/defence-force/runs/hgzb9zlg' target=\"_blank\">https://wandb.ai/prasi/defence-force/runs/hgzb9zlg</a>"
            ]
          },
          "metadata": {}
        },
        {
          "output_type": "stream",
          "name": "stdout",
          "text": [
            "Train class Counts\n",
            "Class 'None': 73382 instances\n",
            "Class 'aim': 9968 instances\n",
            "Class 'cocking': 3150 instances\n",
            "Class 'extreme low ready': 6091 instances\n",
            "Class 'high ready': 6109 instances\n",
            "Class 'low ready': 4610 instances\n",
            "Class 'magazine change': 1037 instances\n",
            "Class 'magazine recovery': 3428 instances\n",
            "Class 'scanning': 4692 instances\n",
            "Class 'shot': 0 instances\n",
            "\n",
            "Test class Counts\n",
            "train_ids ['M4_2', 'M4_3', 'M4_4', 'M4_5'] train classes Index(['None', 'aim', 'cocking', 'extreme low ready', 'high ready',\n",
            "       'low ready', 'magazine change', 'magazine recovery', 'scanning',\n",
            "       'shot'],\n",
            "      dtype='object') len features 112467\n",
            "Epoch 1/1000\n",
            "1758/1758 [==============================] - 78s 28ms/step - loss: 0.4344 - accuracy: 0.5477 - val_loss: 0.3535 - val_accuracy: 0.5843\n",
            "Epoch 2/1000\n",
            "1758/1758 [==============================] - 49s 28ms/step - loss: 0.3290 - accuracy: 0.6218 - val_loss: 0.3407 - val_accuracy: 0.5511\n",
            "Epoch 3/1000\n",
            "1758/1758 [==============================] - 52s 30ms/step - loss: 0.2982 - accuracy: 0.6242 - val_loss: 0.3250 - val_accuracy: 0.5519\n",
            "Epoch 4/1000\n",
            "1758/1758 [==============================] - 49s 28ms/step - loss: 0.2799 - accuracy: 0.6362 - val_loss: 0.3142 - val_accuracy: 0.5850\n",
            "Epoch 5/1000\n",
            "1758/1758 [==============================] - 54s 31ms/step - loss: 0.2634 - accuracy: 0.6477 - val_loss: 0.3111 - val_accuracy: 0.5865\n",
            "Epoch 6/1000\n",
            "1758/1758 [==============================] - 50s 28ms/step - loss: 0.2511 - accuracy: 0.6585 - val_loss: 0.3087 - val_accuracy: 0.5845\n",
            "Epoch 7/1000\n",
            "1758/1758 [==============================] - 52s 29ms/step - loss: 0.2426 - accuracy: 0.6689 - val_loss: 0.3008 - val_accuracy: 0.5918\n",
            "Epoch 8/1000\n",
            "1758/1758 [==============================] - 50s 28ms/step - loss: 0.2343 - accuracy: 0.6796 - val_loss: 0.3038 - val_accuracy: 0.6209\n",
            "Epoch 9/1000\n",
            "1758/1758 [==============================] - 54s 31ms/step - loss: 0.2269 - accuracy: 0.6875 - val_loss: 0.3059 - val_accuracy: 0.6310\n",
            "Epoch 10/1000\n",
            "1758/1758 [==============================] - 67s 38ms/step - loss: 0.2205 - accuracy: 0.6927 - val_loss: 0.3038 - val_accuracy: 0.6391\n",
            "Epoch 11/1000\n",
            "1758/1758 [==============================] - 49s 28ms/step - loss: 0.2146 - accuracy: 0.6987 - val_loss: 0.3125 - val_accuracy: 0.6238\n",
            "Epoch 12/1000\n",
            "1758/1758 [==============================] - 49s 28ms/step - loss: 0.2090 - accuracy: 0.7016 - val_loss: 0.3087 - val_accuracy: 0.6241\n",
            "Epoch 13/1000\n",
            "1758/1758 [==============================] - 50s 28ms/step - loss: 0.2037 - accuracy: 0.7063 - val_loss: 0.3178 - val_accuracy: 0.6152\n",
            "Epoch 14/1000\n",
            "1758/1758 [==============================] - 52s 30ms/step - loss: 0.1997 - accuracy: 0.7071 - val_loss: 0.3075 - val_accuracy: 0.6375\n",
            "Epoch 15/1000\n",
            "1758/1758 [==============================] - 49s 28ms/step - loss: 0.1948 - accuracy: 0.7097 - val_loss: 0.3156 - val_accuracy: 0.6228\n",
            "Epoch 16/1000\n",
            "1758/1758 [==============================] - 50s 29ms/step - loss: 0.1915 - accuracy: 0.7129 - val_loss: 0.3101 - val_accuracy: 0.6172\n",
            "Epoch 17/1000\n",
            "1758/1758 [==============================] - 50s 28ms/step - loss: 0.1881 - accuracy: 0.7130 - val_loss: 0.3105 - val_accuracy: 0.6224\n",
            "Epoch 18/1000\n",
            "1758/1758 [==============================] - 50s 29ms/step - loss: 0.1844 - accuracy: 0.7155 - val_loss: 0.3148 - val_accuracy: 0.6238\n",
            "Epoch 19/1000\n",
            "1758/1758 [==============================] - 50s 28ms/step - loss: 0.1823 - accuracy: 0.7166 - val_loss: 0.3205 - val_accuracy: 0.6237\n",
            "Epoch 20/1000\n",
            "1758/1758 [==============================] - 49s 28ms/step - loss: 0.1791 - accuracy: 0.7190 - val_loss: 0.3239 - val_accuracy: 0.6183\n",
            "Epoch 21/1000\n",
            "1758/1758 [==============================] - 51s 29ms/step - loss: 0.1764 - accuracy: 0.7208 - val_loss: 0.3289 - val_accuracy: 0.6275\n",
            "Epoch 22/1000\n",
            "1758/1758 [==============================] - 50s 28ms/step - loss: 0.1738 - accuracy: 0.7228 - val_loss: 0.3345 - val_accuracy: 0.6150\n",
            "Epoch 23/1000\n",
            "1758/1758 [==============================] - 48s 27ms/step - loss: 0.1720 - accuracy: 0.7233 - val_loss: 0.3289 - val_accuracy: 0.6344\n",
            "Epoch 24/1000\n",
            "1758/1758 [==============================] - 48s 27ms/step - loss: 0.1694 - accuracy: 0.7244 - val_loss: 0.3394 - val_accuracy: 0.6288\n",
            "Epoch 25/1000\n",
            "1758/1758 [==============================] - 52s 29ms/step - loss: 0.1673 - accuracy: 0.7243 - val_loss: 0.3218 - val_accuracy: 0.6407\n",
            "Epoch 26/1000\n",
            "1758/1758 [==============================] - 49s 28ms/step - loss: 0.1647 - accuracy: 0.7273 - val_loss: 0.3485 - val_accuracy: 0.6079\n",
            "Epoch 27/1000\n",
            "1758/1758 [==============================] - 49s 28ms/step - loss: 0.1637 - accuracy: 0.7253 - val_loss: 0.3535 - val_accuracy: 0.6107\n"
          ]
        },
        {
          "output_type": "display_data",
          "data": {
            "text/plain": [
              "<IPython.core.display.HTML object>"
            ],
            "text/html": [
              "Waiting for W&B process to finish... <strong style=\"color:green\">(success).</strong>"
            ]
          },
          "metadata": {}
        },
        {
          "output_type": "display_data",
          "data": {
            "text/plain": [
              "VBox(children=(Label(value='0.001 MB of 0.001 MB uploaded (0.000 MB deduped)\\r'), FloatProgress(value=1.0, max…"
            ],
            "application/vnd.jupyter.widget-view+json": {
              "version_major": 2,
              "version_minor": 0,
              "model_id": "3dcc14237bbb4b479d1b7bfe09ee03c9"
            }
          },
          "metadata": {}
        },
        {
          "output_type": "display_data",
          "data": {
            "text/plain": [
              "<IPython.core.display.HTML object>"
            ],
            "text/html": [
              "<style>\n",
              "    table.wandb td:nth-child(1) { padding: 0 10px; text-align: left ; width: auto;} td:nth-child(2) {text-align: left ; width: 100%}\n",
              "    .wandb-row { display: flex; flex-direction: row; flex-wrap: wrap; justify-content: flex-start; width: 100% }\n",
              "    .wandb-col { display: flex; flex-direction: column; flex-basis: 100%; flex: 1; padding: 10px; }\n",
              "    </style>\n",
              "<div class=\"wandb-row\"><div class=\"wandb-col\"><h3>Run history:</h3><br/><table class=\"wandb\"><tr><td>epoch/accuracy</td><td>▁▄▄▄▅▅▆▆▆▇▇▇▇▇▇▇▇██████████</td></tr><tr><td>epoch/epoch</td><td>▁▁▂▂▂▂▃▃▃▃▄▄▄▅▅▅▅▆▆▆▆▇▇▇▇██</td></tr><tr><td>epoch/learning_rate</td><td>▁▁▁▁▁▁▁▁▁▁▁▁▁▁▁▁▁▁▁▁▁▁▁▁▁▁▁</td></tr><tr><td>epoch/loss</td><td>█▅▄▄▄▃▃▃▃▂▂▂▂▂▂▂▂▂▁▁▁▁▁▁▁▁▁</td></tr><tr><td>epoch/val_accuracy</td><td>▄▁▁▄▄▄▄▆▇█▇▇▆█▇▆▇▇▇▆▇▆█▇█▅▆</td></tr><tr><td>epoch/val_loss</td><td>█▆▄▃▂▂▁▁▂▁▃▂▃▂▃▂▂▃▄▄▅▅▅▆▄▇█</td></tr></table><br/></div><div class=\"wandb-col\"><h3>Run summary:</h3><br/><table class=\"wandb\"><tr><td>epoch/accuracy</td><td>0.72533</td></tr><tr><td>epoch/epoch</td><td>26</td></tr><tr><td>epoch/learning_rate</td><td>0.0001</td></tr><tr><td>epoch/loss</td><td>0.16373</td></tr><tr><td>epoch/val_accuracy</td><td>0.61071</td></tr><tr><td>epoch/val_loss</td><td>0.35346</td></tr></table><br/></div></div>"
            ]
          },
          "metadata": {}
        },
        {
          "output_type": "display_data",
          "data": {
            "text/plain": [
              "<IPython.core.display.HTML object>"
            ],
            "text/html": [
              " View run <strong style=\"color:#cdcd00\">soft-disco-48</strong> at: <a href='https://wandb.ai/prasi/defence-force/runs/hgzb9zlg' target=\"_blank\">https://wandb.ai/prasi/defence-force/runs/hgzb9zlg</a><br/>Synced 5 W&B file(s), 0 media file(s), 0 artifact file(s) and 0 other file(s)"
            ]
          },
          "metadata": {}
        },
        {
          "output_type": "display_data",
          "data": {
            "text/plain": [
              "<IPython.core.display.HTML object>"
            ],
            "text/html": [
              "Find logs at: <code>./wandb/run-20231003_012359-hgzb9zlg/logs</code>"
            ]
          },
          "metadata": {}
        }
      ],
      "source": [
        "# Train the model on the specified datasets\n",
        "for datafile in datafiles:\n",
        "\n",
        "    model_save_path = f\"{datafile}_model.h5\"\n",
        "    log_dir = \"./logs\"\n",
        "\n",
        "    wandb.init(\n",
        "      entity=\"prasi\",\n",
        "      project=\"defence-force\",\n",
        "      config={\n",
        "          \"architecture\": \"Transformer Encoder Classification\",\n",
        "          \"num_classes\":len(all_classes),\n",
        "          \"slide_window_size\": 100,\n",
        "          \"head_size\": 100,\n",
        "          \"num_heads\": 5,\n",
        "          \"ff_dim\": 5,\n",
        "          \"num_transformer_blocks\": 5,\n",
        "          \"mlp_units\": [128,64,32,16],\n",
        "          \"dropout\": 0.1,\n",
        "          \"mlp_dropout\": 0.1,\n",
        "          \"optimizer\": \"Adam\",\n",
        "          \"loss\": \"binary_crossentropy\",\n",
        "          \"metric\": \"accuracy\",\n",
        "          \"learning_rate\": 1e-4,\n",
        "          \"epochs\": 1000,\n",
        "          \"batch_size\": 64,\n",
        "          \"validation_split\": 0.2,\n",
        "          \"dataset\": datafile,\n",
        "      },\n",
        "    )\n",
        "    config = wandb.config\n",
        "\n",
        "    train_ids, test_ids = get_dataset_ids(datafile)\n",
        "    features, labels, classes, mlb = load_datasets(train_ids, all_classes, config=config)\n",
        "    print(\"Train class Counts\")\n",
        "    print_class_counts(labels, classes)\n",
        "    # x_train, x_test, y_train, y_test = train_test_split(features, labels, test_size=0.2, random_state=42)\n",
        "    test_features, test_labels, test_classes, test_mlb = load_datasets(test_ids, all_classes, config=config)\n",
        "    print(\"\\nTest class Counts\")\n",
        "    # print_class_counts(test_labels, test_classes)\n",
        "\n",
        "    print(f\"train_ids {train_ids} train classes {classes} len features {len(features)}\")\n",
        "    # print(f\"test_ids {test_ids} test classes {test_classes} len features {len(test_features)}\")\n",
        "\n",
        "\n",
        "    model = create_model(features, config)\n",
        "\n",
        "    # model.load_weights('temp/checkpoint')\n",
        "\n",
        "    log_dir = \"logs/fit/\" + datetime.datetime.now().strftime(\"%Y%m%d-%H%M%S\")\n",
        "    checkpoint_filepath = \"temp/checkpoint\"\n",
        "    callbacks = [EarlyStopping(patience=20, monitor=\"val_loss\", mode=\"min\", restore_best_weights=True),\n",
        "                #  TensorBoard(log_dir=log_dir, histogram_freq=1),\n",
        "                 WandbMetricsLogger(),\n",
        "                #  WandbModelCheckpoint(filepath= \"/content/\" + datafile),  # \"_{epoch:02d}\",\n",
        "                #  ModelCheckpoint(\n",
        "                #     filepath=checkpoint_filepath,\n",
        "                #     save_weights_only=True,\n",
        "                #     monitor='accuracy',\n",
        "                #     mode='max',\n",
        "                #     save_best_only=True),\n",
        "                 tf.keras.callbacks.BackupAndRestore(backup_dir=checkpoint_filepath)\n",
        "                ]\n",
        "\n",
        "    history = model.fit(\n",
        "        features,\n",
        "        labels,\n",
        "        # validation_split=config.validation_split,\n",
        "        validation_data=(test_features, test_labels),\n",
        "        epochs=config.epochs,\n",
        "        batch_size=config.batch_size,\n",
        "        callbacks=callbacks,\n",
        "    )\n",
        "    model.save(\"./model_M4_test-1.keras\", overwrite=True)\n",
        "    # Mark the run as finished\n",
        "    wandb.finish()\n"
      ]
    },
    {
      "cell_type": "code",
      "source": [
        "  train_ids, test_ids = get_dataset_ids(datafiles[0])\n",
        "  features, labels, classes, mlb = load_datasets(train_ids, all_classes, config=None)\n",
        "  test_features, test_labels, test_classes, test_mlb = load_datasets(test_ids, all_classes, config=None)\n"
      ],
      "metadata": {
        "id": "1KjBJ-jreHMl"
      },
      "execution_count": null,
      "outputs": []
    },
    {
      "cell_type": "code",
      "execution_count": null,
      "metadata": {
        "id": "TMh0XlIXTOOZ",
        "colab": {
          "base_uri": "https://localhost:8080/",
          "height": 252
        },
        "outputId": "80ebb3b6-667e-4572-dfce-16b33282148f"
      },
      "outputs": [
        {
          "output_type": "error",
          "ename": "NameError",
          "evalue": "ignored",
          "traceback": [
            "\u001b[0;31m---------------------------------------------------------------------------\u001b[0m",
            "\u001b[0;31mNameError\u001b[0m                                 Traceback (most recent call last)",
            "\u001b[0;32m<ipython-input-1-7ec0005e86c4>\u001b[0m in \u001b[0;36m<cell line: 1>\u001b[0;34m()\u001b[0m\n\u001b[0;32m----> 1\u001b[0;31m \u001b[0mmlb\u001b[0m \u001b[0;34m=\u001b[0m \u001b[0mMultiLabelBinarizer\u001b[0m\u001b[0;34m(\u001b[0m\u001b[0mclasses\u001b[0m \u001b[0;34m=\u001b[0m \u001b[0mall_classes\u001b[0m\u001b[0;34m)\u001b[0m\u001b[0;34m\u001b[0m\u001b[0;34m\u001b[0m\u001b[0m\n\u001b[0m\u001b[1;32m      2\u001b[0m \u001b[0mmlb\u001b[0m\u001b[0;34m.\u001b[0m\u001b[0mfit\u001b[0m\u001b[0;34m(\u001b[0m\u001b[0mall_classes\u001b[0m\u001b[0;34m)\u001b[0m\u001b[0;34m\u001b[0m\u001b[0;34m\u001b[0m\u001b[0m\n\u001b[1;32m      3\u001b[0m \u001b[0mprint\u001b[0m\u001b[0;34m(\u001b[0m\u001b[0mmlb\u001b[0m\u001b[0;34m.\u001b[0m\u001b[0mclasses_\u001b[0m\u001b[0;34m)\u001b[0m\u001b[0;34m\u001b[0m\u001b[0;34m\u001b[0m\u001b[0m\n\u001b[1;32m      4\u001b[0m \u001b[0mi\u001b[0m \u001b[0;34m=\u001b[0m \u001b[0;36m5000\u001b[0m\u001b[0;34m\u001b[0m\u001b[0;34m\u001b[0m\u001b[0m\n\u001b[1;32m      5\u001b[0m \u001b[0mk\u001b[0m \u001b[0;34m=\u001b[0m \u001b[0;36m10\u001b[0m\u001b[0;34m\u001b[0m\u001b[0;34m\u001b[0m\u001b[0m\n",
            "\u001b[0;31mNameError\u001b[0m: name 'MultiLabelBinarizer' is not defined"
          ]
        }
      ],
      "source": [
        "mlb = MultiLabelBinarizer(classes = all_classes)\n",
        "mlb.fit(all_classes)\n",
        "print(mlb.classes_)\n",
        "i = 5000\n",
        "k = 10\n",
        "print(test_labels[i:i+k])\n",
        "predictions = model.predict(test_features[i:i+k])\n",
        "threshold = 0.5\n",
        "binary_pred = np.array(predictions > threshold).astype(int)\n",
        "print(binary_pred)\n",
        "\n",
        "ground_truth = mlb.inverse_transform(np.array(test_labels[i:i+k]))\n",
        "\n",
        "# Inverse transform the binary predictions to the original multilabel format\n",
        "original_predictions = mlb.inverse_transform(binary_pred)\n",
        "\n",
        "print(\"Ground Truth:\", ground_truth)\n",
        "print(\"Original Predictions:\", original_predictions)\n"
      ]
    },
    {
      "cell_type": "code",
      "source": [
        "model.evaluate(test_features, test_labels)"
      ],
      "metadata": {
        "colab": {
          "base_uri": "https://localhost:8080/"
        },
        "id": "uop0tCzylOZR",
        "outputId": "d5c1bbf6-ad16-4a7d-d29b-52985278714a"
      },
      "execution_count": null,
      "outputs": [
        {
          "output_type": "stream",
          "name": "stdout",
          "text": [
            "822/822 [==============================] - 4s 4ms/step - loss: 0.2829 - accuracy: 0.6896\n"
          ]
        },
        {
          "output_type": "execute_result",
          "data": {
            "text/plain": [
              "[0.28289365768432617, 0.6896066069602966]"
            ]
          },
          "metadata": {},
          "execution_count": 58
        }
      ]
    },
    {
      "cell_type": "code",
      "source": [
        "y_pred = model.predict(test_features)\n",
        "one_hot_encoded = np.zeros_like(y_pred)\n",
        "one_hot_encoded[np.arange(len(y_pred)), y_pred.argmax(1)] = 1\n",
        "binary_pred = one_hot_encoded"
      ],
      "metadata": {
        "colab": {
          "base_uri": "https://localhost:8080/"
        },
        "id": "vWbRrFaZvvkR",
        "outputId": "f078c682-a85c-4fe2-a040-fc128fdf7f5e"
      },
      "execution_count": null,
      "outputs": [
        {
          "output_type": "stream",
          "name": "stdout",
          "text": [
            "822/822 [==============================] - 3s 3ms/step\n"
          ]
        }
      ]
    },
    {
      "cell_type": "code",
      "source": [
        "from sklearn.metrics import precision_score\n",
        "y_pred = model.predict(test_features)\n",
        "threshold = 0.5\n",
        "y_pred = np.array(y_pred > threshold).astype(int)\n",
        "\n",
        "\n"
      ],
      "metadata": {
        "colab": {
          "base_uri": "https://localhost:8080/"
        },
        "id": "8dakxTZRlnAy",
        "outputId": "7a8b0222-6fb6-4172-ffc5-3575934d00fc"
      },
      "execution_count": null,
      "outputs": [
        {
          "output_type": "stream",
          "name": "stdout",
          "text": [
            "822/822 [==============================] - 3s 3ms/step\n"
          ]
        }
      ]
    },
    {
      "cell_type": "code",
      "source": [
        "class_index = 4\n",
        "print(mlb.classes_[class_index])\n",
        "precision = precision_score(test_labels[:, class_index], y_pred[:, class_index], average='binary')\n",
        "print(precision)"
      ],
      "metadata": {
        "colab": {
          "base_uri": "https://localhost:8080/"
        },
        "id": "flJyLMIJmQ0t",
        "outputId": "876114e9-90e2-445f-929d-d190c13c455e"
      },
      "execution_count": null,
      "outputs": [
        {
          "output_type": "stream",
          "name": "stdout",
          "text": [
            "high ready\n",
            "0.7273123909249564\n"
          ]
        }
      ]
    },
    {
      "cell_type": "code",
      "execution_count": null,
      "metadata": {
        "id": "hVLT1P61P7Vt",
        "colab": {
          "base_uri": "https://localhost:8080/",
          "height": 235
        },
        "outputId": "8514994c-c11a-47ec-cf72-ca0a98e36f37"
      },
      "outputs": [
        {
          "output_type": "display_data",
          "data": {
            "text/plain": [
              "<IPython.core.display.HTML object>"
            ],
            "text/html": [
              "Waiting for W&B process to finish... <strong style=\"color:green\">(success).</strong>"
            ]
          },
          "metadata": {}
        },
        {
          "output_type": "display_data",
          "data": {
            "text/plain": [
              "<IPython.core.display.HTML object>"
            ],
            "text/html": [
              "<style>\n",
              "    table.wandb td:nth-child(1) { padding: 0 10px; text-align: left ; width: auto;} td:nth-child(2) {text-align: left ; width: 100%}\n",
              "    .wandb-row { display: flex; flex-direction: row; flex-wrap: wrap; justify-content: flex-start; width: 100% }\n",
              "    .wandb-col { display: flex; flex-direction: column; flex-basis: 100%; flex: 1; padding: 10px; }\n",
              "    </style>\n",
              "<div class=\"wandb-row\"><div class=\"wandb-col\"><h3>Run history:</h3><br/><table class=\"wandb\"><tr><td>epoch/accuracy</td><td>▁▃▄▅▅▆▆▆▆▇▇▇▇▇▇▇▇▇▇▇▇███████████████████</td></tr><tr><td>epoch/epoch</td><td>▁▁▁▂▂▂▂▂▂▃▃▃▃▃▄▄▄▄▄▄▅▅▅▅▅▅▆▆▆▆▆▇▇▇▇▇▇███</td></tr><tr><td>epoch/learning_rate</td><td>▁▁▁▁▁▁▁▁▁▁▁▁▁▁▁▁▁▁▁▁▁▁▁▁▁▁▁▁▁▁▁▁▁▁▁▁▁▁▁▁</td></tr><tr><td>epoch/loss</td><td>█▆▅▄▄▃▃▃▃▃▂▂▂▂▂▂▂▂▂▂▂▂▁▁▁▁▁▁▁▁▁▁▁▁▁▁▁▁▁▁</td></tr></table><br/></div><div class=\"wandb-col\"><h3>Run summary:</h3><br/><table class=\"wandb\"><tr><td>epoch/accuracy</td><td>0.9599</td></tr><tr><td>epoch/epoch</td><td>157</td></tr><tr><td>epoch/learning_rate</td><td>0.0001</td></tr><tr><td>epoch/loss</td><td>0.11931</td></tr></table><br/></div></div>"
            ]
          },
          "metadata": {}
        },
        {
          "output_type": "display_data",
          "data": {
            "text/plain": [
              "<IPython.core.display.HTML object>"
            ],
            "text/html": [
              " View run <strong style=\"color:#cdcd00\">easy-plasma-38</strong> at: <a href='https://wandb.ai/prasi/defence-force/runs/fa7oc3gv' target=\"_blank\">https://wandb.ai/prasi/defence-force/runs/fa7oc3gv</a><br/>Synced 5 W&B file(s), 0 media file(s), 790 artifact file(s) and 0 other file(s)"
            ]
          },
          "metadata": {}
        },
        {
          "output_type": "display_data",
          "data": {
            "text/plain": [
              "<IPython.core.display.HTML object>"
            ],
            "text/html": [
              "Find logs at: <code>./wandb/run-20230822_014403-fa7oc3gv/logs</code>"
            ]
          },
          "metadata": {}
        }
      ],
      "source": [
        "wandb.finish()\n"
      ]
    },
    {
      "cell_type": "code",
      "source": [
        "    model.save(\"./model_label_M4_test_1.keras\", overwrite=True)\n"
      ],
      "metadata": {
        "id": "cDPT5BLaOhaV"
      },
      "execution_count": null,
      "outputs": []
    },
    {
      "cell_type": "markdown",
      "metadata": {
        "id": "ImgfvZES5PZ4"
      },
      "source": [
        "# Parameter Sweep"
      ]
    },
    {
      "cell_type": "code",
      "execution_count": null,
      "metadata": {
        "id": "JUlvDBoH5Qyx"
      },
      "outputs": [],
      "source": [
        "sweep_config = {\n",
        "    'method': 'random',\n",
        "    'metric': {\n",
        "        'name': 'val_f1_score',\n",
        "        'goal': 'maximize'\n",
        "    },\n",
        "    'parameters': {\n",
        "        'epochs': {\n",
        "            'value': 60\n",
        "         },\n",
        "        \"num_transformer_blocks\": {\n",
        "            'values': [2, 4, 6, 8, 10]\n",
        "        },\n",
        "        \"head_size\": {\n",
        "            'values': [32, 64, 128, 256],\n",
        "        },\n",
        "        \"num_heads\": {\n",
        "            'values': [4, 8, 16, 32]\n",
        "        },\n",
        "        \"ff_dim\": {\n",
        "            'values': [4, 16, 32, 64, 128]\n",
        "        },\n",
        "        \"mlp_units\": {\n",
        "            'values': [[128,64,32,16], [128, 64, 32], [64, 32, 16], [128, 64]]\n",
        "        },\n",
        "        \"dropout\": {\n",
        "            'values': [0.1, 0.3, 0.5]\n",
        "        },\n",
        "        \"mlp_dropout\": {\n",
        "            'values': [0.1, 0.3, 0.5]\n",
        "        },\n",
        "        'learning_rate': {\n",
        "            'values': [1e-3, 1e-4, 3e-5]\n",
        "        },\n",
        "    }\n",
        "}\n"
      ]
    },
    {
      "cell_type": "code",
      "execution_count": null,
      "metadata": {
        "id": "sdhIKGwqBrUh"
      },
      "outputs": [],
      "source": [
        "import datetime\n",
        "from sklearn.model_selection import train_test_split\n",
        "from tensorflow.keras.callbacks import EarlyStopping, ModelCheckpoint\n",
        "from wandb.keras import WandbCallback\n",
        "\n",
        "datafile = \"M4_test-4\"\n",
        "\n",
        "\n",
        "default_config={\n",
        "    \"architecture\": \"Transformer Encoder Classification\",\n",
        "    \"num_classes\":len(all_classes),\n",
        "    \"slide_window_size\": 25,\n",
        "    \"optimizer\": \"Adam\",\n",
        "    \"loss\": \"categorical_crossentropy\",\n",
        "    \"metric\": \"weighted_f1\",\n",
        "    \"batch_size\": 64,\n",
        "    \"validation_split\": 0.2,\n",
        "    \"dataset\": datafile,\n",
        "}\n",
        "\n",
        "def train():\n",
        "    model_save_path = f\"{datafile}_model.h5\"\n",
        "\n",
        "    # Merge default configuration with sweep configuration\n",
        "    wandb.init(\n",
        "        config={**default_config, **sweep_config},\n",
        "        project=\"defence-force\",\n",
        "    )\n",
        "\n",
        "    config = wandb.config\n",
        "\n",
        "    train_ids, test_ids = get_dataset_ids(config.dataset)\n",
        "    features, labels, classes = load_datasets(train_ids, all_classes, config=config)\n",
        "\n",
        "    test_features, test_labels, test_classes = load_datasets(test_ids, all_classes, config=config)\n",
        "\n",
        "    model = create_model(features, config)\n",
        "\n",
        "    log_dir = \"logs/fit/\" + datetime.datetime.now().strftime(\"%Y%m%d-%H%M%S\")\n",
        "    checkpoint_filepath = \"temp/checkpoint.\"\n",
        "    callbacks = [\n",
        "        EarlyStopping(patience=10, monitor=\"val_f1_score\", mode=\"max\", restore_best_weights=True),\n",
        "        WandbCallback(),\n",
        "        ModelCheckpoint(\n",
        "            filepath=checkpoint_filepath,\n",
        "            save_weights_only=True,\n",
        "            monitor='f1_score',\n",
        "            mode='max',\n",
        "            save_best_only=True\n",
        "        )\n",
        "    ]\n",
        "\n",
        "    history = model.fit(\n",
        "        features,\n",
        "        labels,\n",
        "        validation_data=(test_features, test_labels),\n",
        "        epochs=config.epochs,\n",
        "        batch_size=config.batch_size,\n",
        "        callbacks=callbacks,\n",
        "    )\n",
        "\n",
        "    # wandb.finish()\n",
        "\n"
      ]
    },
    {
      "cell_type": "code",
      "execution_count": null,
      "metadata": {
        "colab": {
          "background_save": true,
          "base_uri": "https://localhost:8080/",
          "height": 1000,
          "referenced_widgets": [
            "6ccacface7324031a1d6a3fb2c16edc8",
            "01f10736d244427ba048469bad0788bb",
            "8c203a8939104ca6acdebe36fade4c6b",
            "696bceef70c74f58ac9111f9bf86becf",
            "626b32c8551646a28b7aed85f2d5c6c5",
            "c244333cdcdc4837a95d6f145a4773fe",
            "29ac5bdb886b4663b56365e4acec34bf",
            "6f440d87a8264247b480298730418aba",
            "0bb04b1573ed4483aa2b7760f7d8879b",
            "2260ab9b9a0e4606b07c1000680c8f24",
            "023d8ce57f40469ea2ab4d8dc5a8ed57",
            "d5024eb8a406407587fe3cc8d93e5ce0",
            "2b38fdbeada84fdfb4b7ca26f2a21333",
            "4435499e33654a21b170434055187fd7",
            "7ce2d8f3d28f460480f720e2f0e81a07",
            "30b523d9de0a482dabcb480f61ae8d10"
          ]
        },
        "id": "zBKdwho_BrRF",
        "outputId": "54d18d00-3769-4646-8630-20ae83b494f0"
      },
      "outputs": [
        {
          "name": "stdout",
          "output_type": "stream",
          "text": [
            "Create sweep with ID: 7acj3zpx\n",
            "Sweep URL: https://wandb.ai/remchat/defence-force/sweeps/7acj3zpx\n"
          ]
        },
        {
          "name": "stderr",
          "output_type": "stream",
          "text": [
            "\u001b[34m\u001b[1mwandb\u001b[0m: Agent Starting Run: lfxhnl6w with config:\n",
            "\u001b[34m\u001b[1mwandb\u001b[0m: \tdropout: 0.5\n",
            "\u001b[34m\u001b[1mwandb\u001b[0m: \tepochs: 60\n",
            "\u001b[34m\u001b[1mwandb\u001b[0m: \tff_dim: 32\n",
            "\u001b[34m\u001b[1mwandb\u001b[0m: \thead_size: 128\n",
            "\u001b[34m\u001b[1mwandb\u001b[0m: \tlearning_rate: 0.001\n",
            "\u001b[34m\u001b[1mwandb\u001b[0m: \tmlp_dropout: 0.1\n",
            "\u001b[34m\u001b[1mwandb\u001b[0m: \tmlp_units: [64, 32, 16]\n",
            "\u001b[34m\u001b[1mwandb\u001b[0m: \tnum_heads: 32\n",
            "\u001b[34m\u001b[1mwandb\u001b[0m: \tnum_transformer_blocks: 10\n",
            "\u001b[34m\u001b[1mwandb\u001b[0m: \u001b[33mWARNING\u001b[0m Ignored wandb.init() arg project when running a sweep.\n"
          ]
        },
        {
          "data": {
            "text/html": [
              "Tracking run with wandb version 0.15.8"
            ],
            "text/plain": [
              "<IPython.core.display.HTML object>"
            ]
          },
          "metadata": {},
          "output_type": "display_data"
        },
        {
          "data": {
            "text/html": [
              "Run data is saved locally in <code>/content/gdrive/MyDrive/RifleAction/wandb/run-20230805_062607-lfxhnl6w</code>"
            ],
            "text/plain": [
              "<IPython.core.display.HTML object>"
            ]
          },
          "metadata": {},
          "output_type": "display_data"
        },
        {
          "data": {
            "text/html": [
              "Syncing run <strong><a href='https://wandb.ai/remchat/defence-force/runs/lfxhnl6w' target=\"_blank\">firm-sweep-626</a></strong> to <a href='https://wandb.ai/remchat/defence-force' target=\"_blank\">Weights & Biases</a> (<a href='https://wandb.me/run' target=\"_blank\">docs</a>)<br/>Sweep page: <a href='https://wandb.ai/remchat/defence-force/sweeps/k5lpmxhw' target=\"_blank\">https://wandb.ai/remchat/defence-force/sweeps/k5lpmxhw</a>"
            ],
            "text/plain": [
              "<IPython.core.display.HTML object>"
            ]
          },
          "metadata": {},
          "output_type": "display_data"
        },
        {
          "data": {
            "text/html": [
              " View project at <a href='https://wandb.ai/remchat/defence-force' target=\"_blank\">https://wandb.ai/remchat/defence-force</a>"
            ],
            "text/plain": [
              "<IPython.core.display.HTML object>"
            ]
          },
          "metadata": {},
          "output_type": "display_data"
        },
        {
          "data": {
            "text/html": [
              " View sweep at <a href='https://wandb.ai/remchat/defence-force/sweeps/k5lpmxhw' target=\"_blank\">https://wandb.ai/remchat/defence-force/sweeps/k5lpmxhw</a>"
            ],
            "text/plain": [
              "<IPython.core.display.HTML object>"
            ]
          },
          "metadata": {},
          "output_type": "display_data"
        },
        {
          "data": {
            "text/html": [
              " View run at <a href='https://wandb.ai/remchat/defence-force/runs/lfxhnl6w' target=\"_blank\">https://wandb.ai/remchat/defence-force/runs/lfxhnl6w</a>"
            ],
            "text/plain": [
              "<IPython.core.display.HTML object>"
            ]
          },
          "metadata": {},
          "output_type": "display_data"
        },
        {
          "name": "stderr",
          "output_type": "stream",
          "text": [
            "\u001b[34m\u001b[1mwandb\u001b[0m: \u001b[33mWARNING\u001b[0m The save_model argument by default saves the model in the HDF5 format that cannot save custom objects like subclassed models and custom layers. This behavior will be deprecated in a future release in favor of the SavedModel format. Meanwhile, the HDF5 model is saved as W&B files and the SavedModel as W&B Artifacts.\n"
          ]
        },
        {
          "name": "stdout",
          "output_type": "stream",
          "text": [
            "Epoch 1/60\n",
            "1818/1818 [==============================] - ETA: 0s - loss: 1.2910 - accuracy: 0.5090 - f1_score: 0.4704"
          ]
        },
        {
          "name": "stderr",
          "output_type": "stream",
          "text": [
            "WARNING:absl:Found untraced functions such as _jit_compiled_convolution_op, _jit_compiled_convolution_op, _jit_compiled_convolution_op, _jit_compiled_convolution_op, _jit_compiled_convolution_op while saving (showing 5 of 140). These functions will not be directly callable after loading.\n",
            "\u001b[34m\u001b[1mwandb\u001b[0m: Adding directory to artifact (/content/gdrive/MyDrive/RifleAction/wandb/run-20230805_062607-lfxhnl6w/files/model-best)... Done. 0.2s\n"
          ]
        },
        {
          "name": "stdout",
          "output_type": "stream",
          "text": [
            "1818/1818 [==============================] - 147s 74ms/step - loss: 1.2910 - accuracy: 0.5090 - f1_score: 0.4704 - val_loss: 1.0668 - val_accuracy: 0.5465 - val_f1_score: 0.4927\n",
            "Epoch 2/60\n",
            "1818/1818 [==============================] - ETA: 0s - loss: 1.0038 - accuracy: 0.6071 - f1_score: 0.5779"
          ]
        },
        {
          "name": "stderr",
          "output_type": "stream",
          "text": [
            "WARNING:absl:Found untraced functions such as _jit_compiled_convolution_op, _jit_compiled_convolution_op, _jit_compiled_convolution_op, _jit_compiled_convolution_op, _jit_compiled_convolution_op while saving (showing 5 of 140). These functions will not be directly callable after loading.\n",
            "\u001b[34m\u001b[1mwandb\u001b[0m: Adding directory to artifact (/content/gdrive/MyDrive/RifleAction/wandb/run-20230805_062607-lfxhnl6w/files/model-best)... Done. 0.2s\n"
          ]
        },
        {
          "name": "stdout",
          "output_type": "stream",
          "text": [
            "1818/1818 [==============================] - 133s 73ms/step - loss: 1.0038 - accuracy: 0.6071 - f1_score: 0.5779 - val_loss: 0.9821 - val_accuracy: 0.6078 - val_f1_score: 0.5868\n",
            "Epoch 3/60\n",
            "1818/1818 [==============================] - 110s 60ms/step - loss: 0.9253 - accuracy: 0.6378 - f1_score: 0.6158 - val_loss: 0.9872 - val_accuracy: 0.6178 - val_f1_score: 0.5993\n",
            "Epoch 4/60\n",
            "1818/1818 [==============================] - 111s 61ms/step - loss: 0.8757 - accuracy: 0.6575 - f1_score: 0.6406 - val_loss: 0.9932 - val_accuracy: 0.6115 - val_f1_score: 0.6076\n",
            "Epoch 5/60\n",
            "1817/1818 [============================>.] - ETA: 0s - loss: 0.8509 - accuracy: 0.6644 - f1_score: 0.6502"
          ]
        },
        {
          "name": "stderr",
          "output_type": "stream",
          "text": [
            "WARNING:absl:Found untraced functions such as _jit_compiled_convolution_op, _jit_compiled_convolution_op, _jit_compiled_convolution_op, _jit_compiled_convolution_op, _jit_compiled_convolution_op while saving (showing 5 of 140). These functions will not be directly callable after loading.\n",
            "\u001b[34m\u001b[1mwandb\u001b[0m: Adding directory to artifact (/content/gdrive/MyDrive/RifleAction/wandb/run-20230805_062607-lfxhnl6w/files/model-best)... Done. 0.2s\n"
          ]
        },
        {
          "name": "stdout",
          "output_type": "stream",
          "text": [
            "1818/1818 [==============================] - 132s 72ms/step - loss: 0.8509 - accuracy: 0.6644 - f1_score: 0.6502 - val_loss: 0.9497 - val_accuracy: 0.6486 - val_f1_score: 0.6396\n",
            "Epoch 6/60\n",
            "1818/1818 [==============================] - 110s 60ms/step - loss: 0.8273 - accuracy: 0.6731 - f1_score: 0.6621 - val_loss: 0.9885 - val_accuracy: 0.6346 - val_f1_score: 0.6359\n",
            "Epoch 7/60\n",
            "1818/1818 [==============================] - 110s 61ms/step - loss: 0.8156 - accuracy: 0.6798 - f1_score: 0.6708 - val_loss: 0.9780 - val_accuracy: 0.6370 - val_f1_score: 0.6374\n",
            "Epoch 8/60\n",
            "1818/1818 [==============================] - 110s 61ms/step - loss: 0.8114 - accuracy: 0.6813 - f1_score: 0.6722 - val_loss: 0.9834 - val_accuracy: 0.6435 - val_f1_score: 0.6398\n",
            "Epoch 9/60\n",
            "1818/1818 [==============================] - 111s 61ms/step - loss: 0.7996 - accuracy: 0.6868 - f1_score: 0.6789 - val_loss: 1.0636 - val_accuracy: 0.6101 - val_f1_score: 0.6120\n",
            "Epoch 10/60\n",
            "1818/1818 [==============================] - 109s 60ms/step - loss: 0.7923 - accuracy: 0.6907 - f1_score: 0.6831 - val_loss: 1.0369 - val_accuracy: 0.6218 - val_f1_score: 0.6127\n",
            "Epoch 11/60\n",
            "1818/1818 [==============================] - 108s 59ms/step - loss: 0.7858 - accuracy: 0.6926 - f1_score: 0.6852 - val_loss: 1.1715 - val_accuracy: 0.5783 - val_f1_score: 0.5809\n",
            "Epoch 12/60\n",
            "1818/1818 [==============================] - 109s 60ms/step - loss: 0.7768 - accuracy: 0.6974 - f1_score: 0.6905 - val_loss: 1.0386 - val_accuracy: 0.6271 - val_f1_score: 0.6265\n",
            "Epoch 13/60\n",
            "1818/1818 [==============================] - 109s 60ms/step - loss: 0.7690 - accuracy: 0.7001 - f1_score: 0.6936 - val_loss: 1.1194 - val_accuracy: 0.5838 - val_f1_score: 0.5853\n",
            "Epoch 14/60\n",
            "1818/1818 [==============================] - 110s 61ms/step - loss: 0.7628 - accuracy: 0.7034 - f1_score: 0.6970 - val_loss: 1.1067 - val_accuracy: 0.6021 - val_f1_score: 0.6037\n",
            "Epoch 15/60\n",
            "1818/1818 [==============================] - 111s 61ms/step - loss: 0.7565 - accuracy: 0.7056 - f1_score: 0.6992 - val_loss: 1.1321 - val_accuracy: 0.5897 - val_f1_score: 0.5900\n",
            "Epoch 16/60\n",
            "1818/1818 [==============================] - 110s 60ms/step - loss: 0.7484 - accuracy: 0.7074 - f1_score: 0.7014 - val_loss: 1.1304 - val_accuracy: 0.5999 - val_f1_score: 0.6003\n",
            "Epoch 17/60\n",
            "1818/1818 [==============================] - 108s 60ms/step - loss: 0.7424 - accuracy: 0.7106 - f1_score: 0.7045 - val_loss: 1.1376 - val_accuracy: 0.5936 - val_f1_score: 0.5897\n",
            "Epoch 18/60\n",
            "1818/1818 [==============================] - 110s 60ms/step - loss: 0.7409 - accuracy: 0.7107 - f1_score: 0.7050 - val_loss: 1.1427 - val_accuracy: 0.5948 - val_f1_score: 0.5939\n"
          ]
        },
        {
          "data": {
            "text/html": [
              "Waiting for W&B process to finish... <strong style=\"color:green\">(success).</strong>"
            ],
            "text/plain": [
              "<IPython.core.display.HTML object>"
            ]
          },
          "metadata": {},
          "output_type": "display_data"
        },
        {
          "data": {
            "application/vnd.jupyter.widget-view+json": {
              "model_id": "6ccacface7324031a1d6a3fb2c16edc8",
              "version_major": 2,
              "version_minor": 0
            },
            "text/plain": [
              "VBox(children=(Label(value='204.680 MB of 204.696 MB uploaded (0.458 MB deduped)\\r'), FloatProgress(value=0.99…"
            ]
          },
          "metadata": {},
          "output_type": "display_data"
        },
        {
          "data": {
            "text/html": [
              "<style>\n",
              "    table.wandb td:nth-child(1) { padding: 0 10px; text-align: left ; width: auto;} td:nth-child(2) {text-align: left ; width: 100%}\n",
              "    .wandb-row { display: flex; flex-direction: row; flex-wrap: wrap; justify-content: flex-start; width: 100% }\n",
              "    .wandb-col { display: flex; flex-direction: column; flex-basis: 100%; flex: 1; padding: 10px; }\n",
              "    </style>\n",
              "<div class=\"wandb-row\"><div class=\"wandb-col\"><h3>Run history:</h3><br/><table class=\"wandb\"><tr><td>accuracy</td><td>▁▄▅▆▆▇▇▇▇▇▇███████</td></tr><tr><td>epoch</td><td>▁▁▂▂▃▃▃▄▄▅▅▆▆▆▇▇██</td></tr><tr><td>f1_score</td><td>▁▄▅▆▆▇▇▇▇▇▇███████</td></tr><tr><td>loss</td><td>█▄▃▃▂▂▂▂▂▂▂▁▁▁▁▁▁▁</td></tr><tr><td>val_accuracy</td><td>▁▅▆▅█▇▇█▅▆▃▇▄▅▄▅▄▄</td></tr><tr><td>val_f1_score</td><td>▁▅▆▆████▇▇▅▇▅▆▆▆▆▆</td></tr><tr><td>val_loss</td><td>▅▂▂▂▁▂▂▂▅▄█▄▆▆▇▇▇▇</td></tr></table><br/></div><div class=\"wandb-col\"><h3>Run summary:</h3><br/><table class=\"wandb\"><tr><td>accuracy</td><td>0.71066</td></tr><tr><td>best_epoch</td><td>4</td></tr><tr><td>best_val_loss</td><td>0.94972</td></tr><tr><td>epoch</td><td>17</td></tr><tr><td>f1_score</td><td>0.70503</td></tr><tr><td>loss</td><td>0.74086</td></tr><tr><td>val_accuracy</td><td>0.59482</td></tr><tr><td>val_f1_score</td><td>0.59394</td></tr><tr><td>val_loss</td><td>1.14274</td></tr></table><br/></div></div>"
            ],
            "text/plain": [
              "<IPython.core.display.HTML object>"
            ]
          },
          "metadata": {},
          "output_type": "display_data"
        },
        {
          "data": {
            "text/html": [
              " View run <strong style=\"color:#cdcd00\">firm-sweep-626</strong> at: <a href='https://wandb.ai/remchat/defence-force/runs/lfxhnl6w' target=\"_blank\">https://wandb.ai/remchat/defence-force/runs/lfxhnl6w</a><br/> View job at <a href='https://wandb.ai/remchat/defence-force/jobs/QXJ0aWZhY3RDb2xsZWN0aW9uOjg3OTM1OTcx/version_details/v9' target=\"_blank\">https://wandb.ai/remchat/defence-force/jobs/QXJ0aWZhY3RDb2xsZWN0aW9uOjg3OTM1OTcx/version_details/v9</a><br/>Synced 5 W&B file(s), 1 media file(s), 15 artifact file(s) and 1 other file(s)"
            ],
            "text/plain": [
              "<IPython.core.display.HTML object>"
            ]
          },
          "metadata": {},
          "output_type": "display_data"
        },
        {
          "data": {
            "text/html": [
              "Find logs at: <code>./wandb/run-20230805_062607-lfxhnl6w/logs</code>"
            ],
            "text/plain": [
              "<IPython.core.display.HTML object>"
            ]
          },
          "metadata": {},
          "output_type": "display_data"
        },
        {
          "name": "stderr",
          "output_type": "stream",
          "text": [
            "\u001b[34m\u001b[1mwandb\u001b[0m: Agent Starting Run: xn61xvgi with config:\n",
            "\u001b[34m\u001b[1mwandb\u001b[0m: \tdropout: 0.3\n",
            "\u001b[34m\u001b[1mwandb\u001b[0m: \tepochs: 60\n",
            "\u001b[34m\u001b[1mwandb\u001b[0m: \tff_dim: 4\n",
            "\u001b[34m\u001b[1mwandb\u001b[0m: \thead_size: 64\n",
            "\u001b[34m\u001b[1mwandb\u001b[0m: \tlearning_rate: 0.0001\n",
            "\u001b[34m\u001b[1mwandb\u001b[0m: \tmlp_dropout: 0.1\n",
            "\u001b[34m\u001b[1mwandb\u001b[0m: \tmlp_units: [64, 32, 16]\n",
            "\u001b[34m\u001b[1mwandb\u001b[0m: \tnum_heads: 32\n",
            "\u001b[34m\u001b[1mwandb\u001b[0m: \tnum_transformer_blocks: 10\n",
            "\u001b[34m\u001b[1mwandb\u001b[0m: \u001b[33mWARNING\u001b[0m Ignored wandb.init() arg project when running a sweep.\n"
          ]
        },
        {
          "data": {
            "text/html": [
              "Tracking run with wandb version 0.15.8"
            ],
            "text/plain": [
              "<IPython.core.display.HTML object>"
            ]
          },
          "metadata": {},
          "output_type": "display_data"
        },
        {
          "data": {
            "text/html": [
              "Run data is saved locally in <code>/content/gdrive/MyDrive/RifleAction/wandb/run-20230805_070255-xn61xvgi</code>"
            ],
            "text/plain": [
              "<IPython.core.display.HTML object>"
            ]
          },
          "metadata": {},
          "output_type": "display_data"
        },
        {
          "data": {
            "text/html": [
              "Syncing run <strong><a href='https://wandb.ai/remchat/defence-force/runs/xn61xvgi' target=\"_blank\">zesty-sweep-19</a></strong> to <a href='https://wandb.ai/remchat/defence-force' target=\"_blank\">Weights & Biases</a> (<a href='https://wandb.me/run' target=\"_blank\">docs</a>)<br/>Sweep page: <a href='https://wandb.ai/remchat/defence-force/sweeps/k5lpmxhw' target=\"_blank\">https://wandb.ai/remchat/defence-force/sweeps/k5lpmxhw</a>"
            ],
            "text/plain": [
              "<IPython.core.display.HTML object>"
            ]
          },
          "metadata": {},
          "output_type": "display_data"
        },
        {
          "data": {
            "text/html": [
              " View project at <a href='https://wandb.ai/remchat/defence-force' target=\"_blank\">https://wandb.ai/remchat/defence-force</a>"
            ],
            "text/plain": [
              "<IPython.core.display.HTML object>"
            ]
          },
          "metadata": {},
          "output_type": "display_data"
        },
        {
          "data": {
            "text/html": [
              " View sweep at <a href='https://wandb.ai/remchat/defence-force/sweeps/k5lpmxhw' target=\"_blank\">https://wandb.ai/remchat/defence-force/sweeps/k5lpmxhw</a>"
            ],
            "text/plain": [
              "<IPython.core.display.HTML object>"
            ]
          },
          "metadata": {},
          "output_type": "display_data"
        },
        {
          "data": {
            "text/html": [
              " View run at <a href='https://wandb.ai/remchat/defence-force/runs/xn61xvgi' target=\"_blank\">https://wandb.ai/remchat/defence-force/runs/xn61xvgi</a>"
            ],
            "text/plain": [
              "<IPython.core.display.HTML object>"
            ]
          },
          "metadata": {},
          "output_type": "display_data"
        },
        {
          "name": "stdout",
          "output_type": "stream",
          "text": [
            "Epoch 1/60\n",
            "1818/1818 [==============================] - ETA: 0s - loss: 1.8832 - accuracy: 0.3472 - f1_score: 0.1935"
          ]
        },
        {
          "name": "stderr",
          "output_type": "stream",
          "text": [
            "WARNING:absl:Found untraced functions such as _jit_compiled_convolution_op, _jit_compiled_convolution_op, _jit_compiled_convolution_op, _jit_compiled_convolution_op, _jit_compiled_convolution_op while saving (showing 5 of 140). These functions will not be directly callable after loading.\n",
            "\u001b[34m\u001b[1mwandb\u001b[0m: Adding directory to artifact (/content/gdrive/MyDrive/RifleAction/wandb/run-20230805_070255-xn61xvgi/files/model-best)... Done. 0.2s\n"
          ]
        },
        {
          "name": "stdout",
          "output_type": "stream",
          "text": [
            "1818/1818 [==============================] - 111s 55ms/step - loss: 1.8832 - accuracy: 0.3472 - f1_score: 0.1935 - val_loss: 1.7136 - val_accuracy: 0.3759 - val_f1_score: 0.2123\n",
            "Epoch 2/60\n",
            "1817/1818 [============================>.] - ETA: 0s - loss: 1.5739 - accuracy: 0.4185 - f1_score: 0.3366"
          ]
        },
        {
          "name": "stderr",
          "output_type": "stream",
          "text": [
            "WARNING:absl:Found untraced functions such as _jit_compiled_convolution_op, _jit_compiled_convolution_op, _jit_compiled_convolution_op, _jit_compiled_convolution_op, _jit_compiled_convolution_op while saving (showing 5 of 140). These functions will not be directly callable after loading.\n",
            "\u001b[34m\u001b[1mwandb\u001b[0m: Adding directory to artifact (/content/gdrive/MyDrive/RifleAction/wandb/run-20230805_070255-xn61xvgi/files/model-best)... Done. 0.1s\n"
          ]
        },
        {
          "name": "stdout",
          "output_type": "stream",
          "text": [
            "1818/1818 [==============================] - 97s 53ms/step - loss: 1.5739 - accuracy: 0.4185 - f1_score: 0.3366 - val_loss: 1.3975 - val_accuracy: 0.4665 - val_f1_score: 0.3533\n",
            "Epoch 3/60\n",
            "1818/1818 [==============================] - ETA: 0s - loss: 1.4023 - accuracy: 0.4726 - f1_score: 0.4188"
          ]
        },
        {
          "name": "stderr",
          "output_type": "stream",
          "text": [
            "WARNING:absl:Found untraced functions such as _jit_compiled_convolution_op, _jit_compiled_convolution_op, _jit_compiled_convolution_op, _jit_compiled_convolution_op, _jit_compiled_convolution_op while saving (showing 5 of 140). These functions will not be directly callable after loading.\n",
            "\u001b[34m\u001b[1mwandb\u001b[0m: Adding directory to artifact (/content/gdrive/MyDrive/RifleAction/wandb/run-20230805_070255-xn61xvgi/files/model-best)... Done. 0.1s\n"
          ]
        },
        {
          "name": "stdout",
          "output_type": "stream",
          "text": [
            "1818/1818 [==============================] - 99s 54ms/step - loss: 1.4023 - accuracy: 0.4726 - f1_score: 0.4188 - val_loss: 1.2701 - val_accuracy: 0.4874 - val_f1_score: 0.3928\n",
            "Epoch 4/60\n",
            "1818/1818 [==============================] - ETA: 0s - loss: 1.3075 - accuracy: 0.4989 - f1_score: 0.4547"
          ]
        },
        {
          "name": "stderr",
          "output_type": "stream",
          "text": [
            "WARNING:absl:Found untraced functions such as _jit_compiled_convolution_op, _jit_compiled_convolution_op, _jit_compiled_convolution_op, _jit_compiled_convolution_op, _jit_compiled_convolution_op while saving (showing 5 of 140). These functions will not be directly callable after loading.\n",
            "\u001b[34m\u001b[1mwandb\u001b[0m: Adding directory to artifact (/content/gdrive/MyDrive/RifleAction/wandb/run-20230805_070255-xn61xvgi/files/model-best)... Done. 0.1s\n"
          ]
        },
        {
          "name": "stdout",
          "output_type": "stream",
          "text": [
            "1818/1818 [==============================] - 105s 58ms/step - loss: 1.3075 - accuracy: 0.4989 - f1_score: 0.4547 - val_loss: 1.2049 - val_accuracy: 0.4835 - val_f1_score: 0.4035\n",
            "Epoch 5/60\n",
            "1818/1818 [==============================] - ETA: 0s - loss: 1.2353 - accuracy: 0.5239 - f1_score: 0.4843"
          ]
        },
        {
          "name": "stderr",
          "output_type": "stream",
          "text": [
            "WARNING:absl:Found untraced functions such as _jit_compiled_convolution_op, _jit_compiled_convolution_op, _jit_compiled_convolution_op, _jit_compiled_convolution_op, _jit_compiled_convolution_op while saving (showing 5 of 140). These functions will not be directly callable after loading.\n",
            "\u001b[34m\u001b[1mwandb\u001b[0m: Adding directory to artifact (/content/gdrive/MyDrive/RifleAction/wandb/run-20230805_070255-xn61xvgi/files/model-best)... Done. 0.1s\n"
          ]
        },
        {
          "name": "stdout",
          "output_type": "stream",
          "text": [
            "1818/1818 [==============================] - 98s 54ms/step - loss: 1.2353 - accuracy: 0.5239 - f1_score: 0.4843 - val_loss: 1.1406 - val_accuracy: 0.4993 - val_f1_score: 0.4202\n",
            "Epoch 6/60\n",
            "1818/1818 [==============================] - 75s 41ms/step - loss: 1.1863 - accuracy: 0.5433 - f1_score: 0.5052 - val_loss: 1.1473 - val_accuracy: 0.5075 - val_f1_score: 0.4397\n",
            "Epoch 7/60\n",
            "1818/1818 [==============================] - ETA: 0s - loss: 1.1408 - accuracy: 0.5584 - f1_score: 0.5218"
          ]
        },
        {
          "name": "stderr",
          "output_type": "stream",
          "text": [
            "WARNING:absl:Found untraced functions such as _jit_compiled_convolution_op, _jit_compiled_convolution_op, _jit_compiled_convolution_op, _jit_compiled_convolution_op, _jit_compiled_convolution_op while saving (showing 5 of 140). These functions will not be directly callable after loading.\n",
            "\u001b[34m\u001b[1mwandb\u001b[0m: Adding directory to artifact (/content/gdrive/MyDrive/RifleAction/wandb/run-20230805_070255-xn61xvgi/files/model-best)... Done. 0.1s\n"
          ]
        },
        {
          "name": "stdout",
          "output_type": "stream",
          "text": [
            "1818/1818 [==============================] - 96s 53ms/step - loss: 1.1408 - accuracy: 0.5584 - f1_score: 0.5218 - val_loss: 1.0885 - val_accuracy: 0.5153 - val_f1_score: 0.4463\n",
            "Epoch 8/60\n",
            "1817/1818 [============================>.] - ETA: 0s - loss: 1.1108 - accuracy: 0.5700 - f1_score: 0.5341"
          ]
        },
        {
          "name": "stderr",
          "output_type": "stream",
          "text": [
            "WARNING:absl:Found untraced functions such as _jit_compiled_convolution_op, _jit_compiled_convolution_op, _jit_compiled_convolution_op, _jit_compiled_convolution_op, _jit_compiled_convolution_op while saving (showing 5 of 140). These functions will not be directly callable after loading.\n",
            "\u001b[34m\u001b[1mwandb\u001b[0m: Adding directory to artifact (/content/gdrive/MyDrive/RifleAction/wandb/run-20230805_070255-xn61xvgi/files/model-best)... Done. 0.2s\n"
          ]
        },
        {
          "name": "stdout",
          "output_type": "stream",
          "text": [
            "1818/1818 [==============================] - 95s 52ms/step - loss: 1.1107 - accuracy: 0.5700 - f1_score: 0.5341 - val_loss: 1.0798 - val_accuracy: 0.5298 - val_f1_score: 0.4609\n",
            "Epoch 9/60\n",
            "1818/1818 [==============================] - ETA: 0s - loss: 1.0839 - accuracy: 0.5821 - f1_score: 0.5466"
          ]
        },
        {
          "name": "stderr",
          "output_type": "stream",
          "text": [
            "WARNING:absl:Found untraced functions such as _jit_compiled_convolution_op, _jit_compiled_convolution_op, _jit_compiled_convolution_op, _jit_compiled_convolution_op, _jit_compiled_convolution_op while saving (showing 5 of 140). These functions will not be directly callable after loading.\n",
            "\u001b[34m\u001b[1mwandb\u001b[0m: Adding directory to artifact (/content/gdrive/MyDrive/RifleAction/wandb/run-20230805_070255-xn61xvgi/files/model-best)... Done. 0.1s\n"
          ]
        },
        {
          "name": "stdout",
          "output_type": "stream",
          "text": [
            "1818/1818 [==============================] - 99s 55ms/step - loss: 1.0839 - accuracy: 0.5821 - f1_score: 0.5466 - val_loss: 1.0686 - val_accuracy: 0.5181 - val_f1_score: 0.4540\n",
            "Epoch 10/60\n",
            "1817/1818 [============================>.] - ETA: 0s - loss: 1.0593 - accuracy: 0.5905 - f1_score: 0.5562"
          ]
        },
        {
          "name": "stderr",
          "output_type": "stream",
          "text": [
            "WARNING:absl:Found untraced functions such as _jit_compiled_convolution_op, _jit_compiled_convolution_op, _jit_compiled_convolution_op, _jit_compiled_convolution_op, _jit_compiled_convolution_op while saving (showing 5 of 140). These functions will not be directly callable after loading.\n",
            "\u001b[34m\u001b[1mwandb\u001b[0m: Adding directory to artifact (/content/gdrive/MyDrive/RifleAction/wandb/run-20230805_070255-xn61xvgi/files/model-best)... Done. 0.2s\n"
          ]
        },
        {
          "name": "stdout",
          "output_type": "stream",
          "text": [
            "1818/1818 [==============================] - 96s 53ms/step - loss: 1.0594 - accuracy: 0.5905 - f1_score: 0.5562 - val_loss: 1.0675 - val_accuracy: 0.5242 - val_f1_score: 0.4551\n",
            "Epoch 11/60\n",
            "1817/1818 [============================>.] - ETA: 0s - loss: 1.0387 - accuracy: 0.5998 - f1_score: 0.5658"
          ]
        },
        {
          "name": "stderr",
          "output_type": "stream",
          "text": [
            "WARNING:absl:Found untraced functions such as _jit_compiled_convolution_op, _jit_compiled_convolution_op, _jit_compiled_convolution_op, _jit_compiled_convolution_op, _jit_compiled_convolution_op while saving (showing 5 of 140). These functions will not be directly callable after loading.\n",
            "\u001b[34m\u001b[1mwandb\u001b[0m: Adding directory to artifact (/content/gdrive/MyDrive/RifleAction/wandb/run-20230805_070255-xn61xvgi/files/model-best)... Done. 0.1s\n"
          ]
        },
        {
          "name": "stdout",
          "output_type": "stream",
          "text": [
            "1818/1818 [==============================] - 94s 52ms/step - loss: 1.0387 - accuracy: 0.5998 - f1_score: 0.5657 - val_loss: 1.0551 - val_accuracy: 0.5270 - val_f1_score: 0.4606\n",
            "Epoch 12/60\n",
            "1818/1818 [==============================] - ETA: 0s - loss: 1.0179 - accuracy: 0.6073 - f1_score: 0.5735"
          ]
        },
        {
          "name": "stderr",
          "output_type": "stream",
          "text": [
            "WARNING:absl:Found untraced functions such as _jit_compiled_convolution_op, _jit_compiled_convolution_op, _jit_compiled_convolution_op, _jit_compiled_convolution_op, _jit_compiled_convolution_op while saving (showing 5 of 140). These functions will not be directly callable after loading.\n",
            "\u001b[34m\u001b[1mwandb\u001b[0m: Adding directory to artifact (/content/gdrive/MyDrive/RifleAction/wandb/run-20230805_070255-xn61xvgi/files/model-best)... Done. 0.1s\n"
          ]
        },
        {
          "name": "stdout",
          "output_type": "stream",
          "text": [
            "1818/1818 [==============================] - 100s 55ms/step - loss: 1.0179 - accuracy: 0.6073 - f1_score: 0.5735 - val_loss: 1.0432 - val_accuracy: 0.5306 - val_f1_score: 0.4776\n",
            "Epoch 13/60\n",
            "1818/1818 [==============================] - 75s 41ms/step - loss: 1.0044 - accuracy: 0.6107 - f1_score: 0.5777 - val_loss: 1.0490 - val_accuracy: 0.5195 - val_f1_score: 0.4589\n",
            "Epoch 14/60\n",
            "1817/1818 [============================>.] - ETA: 0s - loss: 0.9869 - accuracy: 0.6176 - f1_score: 0.5856"
          ]
        },
        {
          "name": "stderr",
          "output_type": "stream",
          "text": [
            "WARNING:absl:Found untraced functions such as _jit_compiled_convolution_op, _jit_compiled_convolution_op, _jit_compiled_convolution_op, _jit_compiled_convolution_op, _jit_compiled_convolution_op while saving (showing 5 of 140). These functions will not be directly callable after loading.\n",
            "\u001b[34m\u001b[1mwandb\u001b[0m: Adding directory to artifact (/content/gdrive/MyDrive/RifleAction/wandb/run-20230805_070255-xn61xvgi/files/model-best)... Done. 0.2s\n"
          ]
        },
        {
          "name": "stdout",
          "output_type": "stream",
          "text": [
            "1818/1818 [==============================] - 97s 53ms/step - loss: 0.9869 - accuracy: 0.6176 - f1_score: 0.5856 - val_loss: 1.0311 - val_accuracy: 0.5157 - val_f1_score: 0.4681\n",
            "Epoch 15/60\n",
            "1818/1818 [==============================] - 79s 43ms/step - loss: 0.9747 - accuracy: 0.6221 - f1_score: 0.5911 - val_loss: 1.0383 - val_accuracy: 0.5071 - val_f1_score: 0.4667\n",
            "Epoch 16/60\n",
            "1817/1818 [============================>.] - ETA: 0s - loss: 0.9601 - accuracy: 0.6259 - f1_score: 0.5964"
          ]
        },
        {
          "name": "stderr",
          "output_type": "stream",
          "text": [
            "WARNING:absl:Found untraced functions such as _jit_compiled_convolution_op, _jit_compiled_convolution_op, _jit_compiled_convolution_op, _jit_compiled_convolution_op, _jit_compiled_convolution_op while saving (showing 5 of 140). These functions will not be directly callable after loading.\n",
            "\u001b[34m\u001b[1mwandb\u001b[0m: Adding directory to artifact (/content/gdrive/MyDrive/RifleAction/wandb/run-20230805_070255-xn61xvgi/files/model-best)... Done. 0.1s\n"
          ]
        },
        {
          "name": "stdout",
          "output_type": "stream",
          "text": [
            "1818/1818 [==============================] - 94s 52ms/step - loss: 0.9601 - accuracy: 0.6260 - f1_score: 0.5965 - val_loss: 1.0125 - val_accuracy: 0.5251 - val_f1_score: 0.4873\n",
            "Epoch 17/60\n",
            "1818/1818 [==============================] - 75s 41ms/step - loss: 0.9506 - accuracy: 0.6297 - f1_score: 0.6012 - val_loss: 1.0226 - val_accuracy: 0.5216 - val_f1_score: 0.4826\n",
            "Epoch 18/60\n",
            "1818/1818 [==============================] - 76s 42ms/step - loss: 0.9365 - accuracy: 0.6338 - f1_score: 0.6058 - val_loss: 1.0289 - val_accuracy: 0.5128 - val_f1_score: 0.4761\n",
            "Epoch 19/60\n",
            "1818/1818 [==============================] - 76s 42ms/step - loss: 0.9248 - accuracy: 0.6382 - f1_score: 0.6119 - val_loss: 1.0255 - val_accuracy: 0.5271 - val_f1_score: 0.4993\n",
            "Epoch 20/60\n",
            "1818/1818 [==============================] - 79s 44ms/step - loss: 0.9124 - accuracy: 0.6415 - f1_score: 0.6165 - val_loss: 1.0266 - val_accuracy: 0.5188 - val_f1_score: 0.4827\n",
            "Epoch 21/60\n",
            "1818/1818 [==============================] - 76s 42ms/step - loss: 0.9029 - accuracy: 0.6442 - f1_score: 0.6199 - val_loss: 1.0186 - val_accuracy: 0.5341 - val_f1_score: 0.5057\n",
            "Epoch 22/60\n",
            "1818/1818 [==============================] - 74s 41ms/step - loss: 0.8943 - accuracy: 0.6469 - f1_score: 0.6233 - val_loss: 1.0282 - val_accuracy: 0.5200 - val_f1_score: 0.4865\n",
            "Epoch 23/60\n",
            "1818/1818 [==============================] - 76s 42ms/step - loss: 0.8893 - accuracy: 0.6487 - f1_score: 0.6266 - val_loss: 1.0389 - val_accuracy: 0.5227 - val_f1_score: 0.4992\n",
            "Epoch 24/60\n",
            "1818/1818 [==============================] - 74s 41ms/step - loss: 0.8800 - accuracy: 0.6537 - f1_score: 0.6334 - val_loss: 1.0341 - val_accuracy: 0.5285 - val_f1_score: 0.5007\n",
            "Epoch 25/60\n",
            "1818/1818 [==============================] - 76s 42ms/step - loss: 0.8703 - accuracy: 0.6565 - f1_score: 0.6370 - val_loss: 1.0326 - val_accuracy: 0.5320 - val_f1_score: 0.5111\n",
            "Epoch 26/60\n",
            "1818/1818 [==============================] - 74s 41ms/step - loss: 0.8632 - accuracy: 0.6590 - f1_score: 0.6410 - val_loss: 1.0233 - val_accuracy: 0.5569 - val_f1_score: 0.5297\n",
            "Epoch 27/60\n",
            "1818/1818 [==============================] - 75s 41ms/step - loss: 0.8536 - accuracy: 0.6613 - f1_score: 0.6441 - val_loss: 1.0173 - val_accuracy: 0.5569 - val_f1_score: 0.5324\n",
            "Epoch 28/60\n",
            "1817/1818 [============================>.] - ETA: 0s - loss: 0.8491 - accuracy: 0.6648 - f1_score: 0.6493"
          ]
        },
        {
          "name": "stderr",
          "output_type": "stream",
          "text": [
            "WARNING:absl:Found untraced functions such as _jit_compiled_convolution_op, _jit_compiled_convolution_op, _jit_compiled_convolution_op, _jit_compiled_convolution_op, _jit_compiled_convolution_op while saving (showing 5 of 140). These functions will not be directly callable after loading.\n",
            "\u001b[34m\u001b[1mwandb\u001b[0m: Adding directory to artifact (/content/gdrive/MyDrive/RifleAction/wandb/run-20230805_070255-xn61xvgi/files/model-best)... Done. 0.1s\n"
          ]
        },
        {
          "name": "stdout",
          "output_type": "stream",
          "text": [
            "1818/1818 [==============================] - 92s 51ms/step - loss: 0.8490 - accuracy: 0.6649 - f1_score: 0.6493 - val_loss: 1.0057 - val_accuracy: 0.5788 - val_f1_score: 0.5652\n",
            "Epoch 29/60\n",
            "1818/1818 [==============================] - ETA: 0s - loss: 0.8393 - accuracy: 0.6680 - f1_score: 0.6532"
          ]
        },
        {
          "name": "stderr",
          "output_type": "stream",
          "text": [
            "WARNING:absl:Found untraced functions such as _jit_compiled_convolution_op, _jit_compiled_convolution_op, _jit_compiled_convolution_op, _jit_compiled_convolution_op, _jit_compiled_convolution_op while saving (showing 5 of 140). These functions will not be directly callable after loading.\n",
            "\u001b[34m\u001b[1mwandb\u001b[0m: Adding directory to artifact (/content/gdrive/MyDrive/RifleAction/wandb/run-20230805_070255-xn61xvgi/files/model-best)... Done. 0.2s\n"
          ]
        },
        {
          "name": "stdout",
          "output_type": "stream",
          "text": [
            "1818/1818 [==============================] - 96s 53ms/step - loss: 0.8393 - accuracy: 0.6680 - f1_score: 0.6532 - val_loss: 0.9979 - val_accuracy: 0.5822 - val_f1_score: 0.5672\n",
            "Epoch 30/60\n",
            "1818/1818 [==============================] - 72s 40ms/step - loss: 0.8348 - accuracy: 0.6702 - f1_score: 0.6568 - val_loss: 1.0084 - val_accuracy: 0.5811 - val_f1_score: 0.5643\n",
            "Epoch 31/60\n",
            "1818/1818 [==============================] - 73s 40ms/step - loss: 0.8316 - accuracy: 0.6728 - f1_score: 0.6592 - val_loss: 1.0069 - val_accuracy: 0.5727 - val_f1_score: 0.5544\n",
            "Epoch 32/60\n",
            "1818/1818 [==============================] - ETA: 0s - loss: 0.8218 - accuracy: 0.6745 - f1_score: 0.6626"
          ]
        },
        {
          "name": "stderr",
          "output_type": "stream",
          "text": [
            "WARNING:absl:Found untraced functions such as _jit_compiled_convolution_op, _jit_compiled_convolution_op, _jit_compiled_convolution_op, _jit_compiled_convolution_op, _jit_compiled_convolution_op while saving (showing 5 of 140). These functions will not be directly callable after loading.\n",
            "\u001b[34m\u001b[1mwandb\u001b[0m: Adding directory to artifact (/content/gdrive/MyDrive/RifleAction/wandb/run-20230805_070255-xn61xvgi/files/model-best)... Done. 0.2s\n"
          ]
        },
        {
          "name": "stdout",
          "output_type": "stream",
          "text": [
            "1818/1818 [==============================] - 93s 51ms/step - loss: 0.8218 - accuracy: 0.6745 - f1_score: 0.6626 - val_loss: 0.9919 - val_accuracy: 0.6107 - val_f1_score: 0.5975\n",
            "Epoch 33/60\n",
            "1817/1818 [============================>.] - ETA: 0s - loss: 0.8162 - accuracy: 0.6777 - f1_score: 0.6664"
          ]
        },
        {
          "name": "stderr",
          "output_type": "stream",
          "text": [
            "WARNING:absl:Found untraced functions such as _jit_compiled_convolution_op, _jit_compiled_convolution_op, _jit_compiled_convolution_op, _jit_compiled_convolution_op, _jit_compiled_convolution_op while saving (showing 5 of 140). These functions will not be directly callable after loading.\n",
            "\u001b[34m\u001b[1mwandb\u001b[0m: Adding directory to artifact (/content/gdrive/MyDrive/RifleAction/wandb/run-20230805_070255-xn61xvgi/files/model-best)... Done. 0.1s\n"
          ]
        },
        {
          "name": "stdout",
          "output_type": "stream",
          "text": [
            "1818/1818 [==============================] - 93s 51ms/step - loss: 0.8162 - accuracy: 0.6777 - f1_score: 0.6665 - val_loss: 0.9885 - val_accuracy: 0.6031 - val_f1_score: 0.5900\n",
            "Epoch 34/60\n",
            "1817/1818 [============================>.] - ETA: 0s - loss: 0.8107 - accuracy: 0.6813 - f1_score: 0.6706"
          ]
        },
        {
          "name": "stderr",
          "output_type": "stream",
          "text": [
            "WARNING:absl:Found untraced functions such as _jit_compiled_convolution_op, _jit_compiled_convolution_op, _jit_compiled_convolution_op, _jit_compiled_convolution_op, _jit_compiled_convolution_op while saving (showing 5 of 140). These functions will not be directly callable after loading.\n",
            "\u001b[34m\u001b[1mwandb\u001b[0m: Adding directory to artifact (/content/gdrive/MyDrive/RifleAction/wandb/run-20230805_070255-xn61xvgi/files/model-best)... Done. 0.1s\n"
          ]
        },
        {
          "name": "stdout",
          "output_type": "stream",
          "text": [
            "1818/1818 [==============================] - 95s 52ms/step - loss: 0.8106 - accuracy: 0.6813 - f1_score: 0.6706 - val_loss: 0.9693 - val_accuracy: 0.6237 - val_f1_score: 0.6106\n",
            "Epoch 35/60\n",
            "1818/1818 [==============================] - 74s 41ms/step - loss: 0.8029 - accuracy: 0.6831 - f1_score: 0.6731 - val_loss: 0.9772 - val_accuracy: 0.6162 - val_f1_score: 0.6032\n",
            "Epoch 36/60\n",
            "1818/1818 [==============================] - 73s 40ms/step - loss: 0.8003 - accuracy: 0.6856 - f1_score: 0.6759 - val_loss: 0.9733 - val_accuracy: 0.6206 - val_f1_score: 0.6118\n",
            "Epoch 37/60\n",
            "1818/1818 [==============================] - 75s 41ms/step - loss: 0.7956 - accuracy: 0.6880 - f1_score: 0.6790 - val_loss: 0.9864 - val_accuracy: 0.6007 - val_f1_score: 0.5861\n",
            "Epoch 38/60\n",
            "1818/1818 [==============================] - 77s 42ms/step - loss: 0.7883 - accuracy: 0.6894 - f1_score: 0.6805 - val_loss: 0.9909 - val_accuracy: 0.5980 - val_f1_score: 0.5841\n",
            "Epoch 39/60\n",
            "1818/1818 [==============================] - 77s 42ms/step - loss: 0.7844 - accuracy: 0.6910 - f1_score: 0.6832 - val_loss: 0.9829 - val_accuracy: 0.5926 - val_f1_score: 0.5819\n",
            "Epoch 40/60\n",
            "1818/1818 [==============================] - ETA: 0s - loss: 0.7809 - accuracy: 0.6945 - f1_score: 0.6869"
          ]
        },
        {
          "name": "stderr",
          "output_type": "stream",
          "text": [
            "WARNING:absl:Found untraced functions such as _jit_compiled_convolution_op, _jit_compiled_convolution_op, _jit_compiled_convolution_op, _jit_compiled_convolution_op, _jit_compiled_convolution_op while saving (showing 5 of 140). These functions will not be directly callable after loading.\n",
            "\u001b[34m\u001b[1mwandb\u001b[0m: Adding directory to artifact (/content/gdrive/MyDrive/RifleAction/wandb/run-20230805_070255-xn61xvgi/files/model-best)... Done. 0.1s\n"
          ]
        },
        {
          "name": "stdout",
          "output_type": "stream",
          "text": [
            "1818/1818 [==============================] - 92s 51ms/step - loss: 0.7809 - accuracy: 0.6945 - f1_score: 0.6869 - val_loss: 0.9466 - val_accuracy: 0.6291 - val_f1_score: 0.6175\n",
            "Epoch 41/60\n",
            "1818/1818 [==============================] - 73s 40ms/step - loss: 0.7748 - accuracy: 0.6970 - f1_score: 0.6895 - val_loss: 0.9541 - val_accuracy: 0.6199 - val_f1_score: 0.6072\n",
            "Epoch 42/60\n",
            "1817/1818 [============================>.] - ETA: 0s - loss: 0.7737 - accuracy: 0.6974 - f1_score: 0.6903"
          ]
        },
        {
          "name": "stderr",
          "output_type": "stream",
          "text": [
            "WARNING:absl:Found untraced functions such as _jit_compiled_convolution_op, _jit_compiled_convolution_op, _jit_compiled_convolution_op, _jit_compiled_convolution_op, _jit_compiled_convolution_op while saving (showing 5 of 140). These functions will not be directly callable after loading.\n",
            "\u001b[34m\u001b[1mwandb\u001b[0m: Adding directory to artifact (/content/gdrive/MyDrive/RifleAction/wandb/run-20230805_070255-xn61xvgi/files/model-best)... Done. 0.2s\n"
          ]
        },
        {
          "name": "stdout",
          "output_type": "stream",
          "text": [
            "1818/1818 [==============================] - 92s 51ms/step - loss: 0.7737 - accuracy: 0.6975 - f1_score: 0.6903 - val_loss: 0.9389 - val_accuracy: 0.6268 - val_f1_score: 0.6155\n",
            "Epoch 43/60\n",
            "1818/1818 [==============================] - 73s 40ms/step - loss: 0.7665 - accuracy: 0.6996 - f1_score: 0.6928 - val_loss: 0.9393 - val_accuracy: 0.6319 - val_f1_score: 0.6224\n",
            "Epoch 44/60\n",
            "1817/1818 [============================>.] - ETA: 0s - loss: 0.7636 - accuracy: 0.7010 - f1_score: 0.6946"
          ]
        },
        {
          "name": "stderr",
          "output_type": "stream",
          "text": [
            "WARNING:absl:Found untraced functions such as _jit_compiled_convolution_op, _jit_compiled_convolution_op, _jit_compiled_convolution_op, _jit_compiled_convolution_op, _jit_compiled_convolution_op while saving (showing 5 of 140). These functions will not be directly callable after loading.\n",
            "\u001b[34m\u001b[1mwandb\u001b[0m: Adding directory to artifact (/content/gdrive/MyDrive/RifleAction/wandb/run-20230805_070255-xn61xvgi/files/model-best)... Done. 0.2s\n"
          ]
        },
        {
          "name": "stdout",
          "output_type": "stream",
          "text": [
            "1818/1818 [==============================] - 94s 52ms/step - loss: 0.7636 - accuracy: 0.7010 - f1_score: 0.6945 - val_loss: 0.9252 - val_accuracy: 0.6331 - val_f1_score: 0.6230\n",
            "Epoch 45/60\n",
            "1818/1818 [==============================] - 77s 42ms/step - loss: 0.7582 - accuracy: 0.7023 - f1_score: 0.6960 - val_loss: 0.9403 - val_accuracy: 0.6279 - val_f1_score: 0.6196\n",
            "Epoch 46/60\n",
            "1818/1818 [==============================] - 72s 40ms/step - loss: 0.7539 - accuracy: 0.7041 - f1_score: 0.6980 - val_loss: 0.9617 - val_accuracy: 0.6162 - val_f1_score: 0.6060\n",
            "Epoch 47/60\n",
            "1818/1818 [==============================] - 72s 39ms/step - loss: 0.7525 - accuracy: 0.7068 - f1_score: 0.7008 - val_loss: 0.9512 - val_accuracy: 0.6154 - val_f1_score: 0.6067\n",
            "Epoch 48/60\n",
            "1818/1818 [==============================] - 74s 41ms/step - loss: 0.7456 - accuracy: 0.7092 - f1_score: 0.7036 - val_loss: 0.9436 - val_accuracy: 0.6280 - val_f1_score: 0.6213\n",
            "Epoch 49/60\n",
            "1818/1818 [==============================] - 72s 40ms/step - loss: 0.7446 - accuracy: 0.7088 - f1_score: 0.7032 - val_loss: 0.9360 - val_accuracy: 0.6288 - val_f1_score: 0.6236\n",
            "Epoch 50/60\n",
            "1818/1818 [==============================] - 74s 41ms/step - loss: 0.7388 - accuracy: 0.7124 - f1_score: 0.7070 - val_loss: 0.9282 - val_accuracy: 0.6439 - val_f1_score: 0.6409\n",
            "Epoch 51/60\n",
            "1818/1818 [==============================] - ETA: 0s - loss: 0.7359 - accuracy: 0.7127 - f1_score: 0.7078"
          ]
        },
        {
          "name": "stderr",
          "output_type": "stream",
          "text": [
            "WARNING:absl:Found untraced functions such as _jit_compiled_convolution_op, _jit_compiled_convolution_op, _jit_compiled_convolution_op, _jit_compiled_convolution_op, _jit_compiled_convolution_op while saving (showing 5 of 140). These functions will not be directly callable after loading.\n",
            "\u001b[34m\u001b[1mwandb\u001b[0m: Adding directory to artifact (/content/gdrive/MyDrive/RifleAction/wandb/run-20230805_070255-xn61xvgi/files/model-best)... Done. 0.1s\n"
          ]
        },
        {
          "name": "stdout",
          "output_type": "stream",
          "text": [
            "1818/1818 [==============================] - 90s 50ms/step - loss: 0.7359 - accuracy: 0.7127 - f1_score: 0.7078 - val_loss: 0.9225 - val_accuracy: 0.6438 - val_f1_score: 0.6396\n",
            "Epoch 52/60\n",
            "1818/1818 [==============================] - 74s 41ms/step - loss: 0.7315 - accuracy: 0.7142 - f1_score: 0.7096 - val_loss: 0.9539 - val_accuracy: 0.6298 - val_f1_score: 0.6306\n",
            "Epoch 53/60\n",
            "1818/1818 [==============================] - 73s 40ms/step - loss: 0.7305 - accuracy: 0.7148 - f1_score: 0.7100 - val_loss: 0.9553 - val_accuracy: 0.6316 - val_f1_score: 0.6273\n",
            "Epoch 54/60\n",
            "1818/1818 [==============================] - 74s 41ms/step - loss: 0.7265 - accuracy: 0.7165 - f1_score: 0.7116 - val_loss: 0.9340 - val_accuracy: 0.6327 - val_f1_score: 0.6319\n",
            "Epoch 55/60\n",
            "1818/1818 [==============================] - 72s 40ms/step - loss: 0.7237 - accuracy: 0.7163 - f1_score: 0.7116 - val_loss: 0.9290 - val_accuracy: 0.6394 - val_f1_score: 0.6361\n",
            "Epoch 56/60\n",
            "1818/1818 [==============================] - 72s 39ms/step - loss: 0.7218 - accuracy: 0.7188 - f1_score: 0.7143 - val_loss: 0.9454 - val_accuracy: 0.6348 - val_f1_score: 0.6352\n",
            "Epoch 57/60\n",
            "1818/1818 [==============================] - 79s 43ms/step - loss: 0.7134 - accuracy: 0.7214 - f1_score: 0.7171 - val_loss: 0.9441 - val_accuracy: 0.6420 - val_f1_score: 0.6429\n",
            "Epoch 58/60\n",
            "1818/1818 [==============================] - 77s 42ms/step - loss: 0.7140 - accuracy: 0.7206 - f1_score: 0.7167 - val_loss: 0.9269 - val_accuracy: 0.6419 - val_f1_score: 0.6449\n",
            "Epoch 59/60\n",
            "1818/1818 [==============================] - 74s 41ms/step - loss: 0.7122 - accuracy: 0.7208 - f1_score: 0.7166 - val_loss: 0.9397 - val_accuracy: 0.6381 - val_f1_score: 0.6392\n",
            "Epoch 60/60\n",
            "1818/1818 [==============================] - 72s 40ms/step - loss: 0.7087 - accuracy: 0.7226 - f1_score: 0.7186 - val_loss: 0.9405 - val_accuracy: 0.6475 - val_f1_score: 0.6454\n"
          ]
        },
        {
          "data": {
            "text/html": [
              "Waiting for W&B process to finish... <strong style=\"color:green\">(success).</strong>"
            ],
            "text/plain": [
              "<IPython.core.display.HTML object>"
            ]
          },
          "metadata": {},
          "output_type": "display_data"
        },
        {
          "data": {
            "application/vnd.jupyter.widget-view+json": {
              "model_id": "0bb04b1573ed4483aa2b7760f7d8879b",
              "version_major": 2,
              "version_minor": 0
            },
            "text/plain": [
              "VBox(children=(Label(value='630.217 MB of 630.217 MB uploaded (4.806 MB deduped)\\r'), FloatProgress(value=1.0,…"
            ]
          },
          "metadata": {},
          "output_type": "display_data"
        },
        {
          "data": {
            "text/html": [
              "<style>\n",
              "    table.wandb td:nth-child(1) { padding: 0 10px; text-align: left ; width: auto;} td:nth-child(2) {text-align: left ; width: 100%}\n",
              "    .wandb-row { display: flex; flex-direction: row; flex-wrap: wrap; justify-content: flex-start; width: 100% }\n",
              "    .wandb-col { display: flex; flex-direction: column; flex-basis: 100%; flex: 1; padding: 10px; }\n",
              "    </style>\n",
              "<div class=\"wandb-row\"><div class=\"wandb-col\"><h3>Run history:</h3><br/><table class=\"wandb\"><tr><td>accuracy</td><td>▁▂▄▄▅▅▆▆▆▆▆▆▆▆▇▇▇▇▇▇▇▇▇▇▇▇▇█████████████</td></tr><tr><td>epoch</td><td>▁▁▁▁▂▂▂▂▂▃▃▃▃▃▃▄▄▄▄▄▅▅▅▅▅▅▆▆▆▆▆▆▇▇▇▇▇███</td></tr><tr><td>f1_score</td><td>▁▃▄▅▅▆▆▆▆▆▆▆▇▇▇▇▇▇▇▇▇▇▇▇▇▇██████████████</td></tr><tr><td>loss</td><td>█▆▅▄▄▃▃▃▃▃▂▂▂▂▂▂▂▂▂▂▂▂▂▂▂▁▁▁▁▁▁▁▁▁▁▁▁▁▁▁</td></tr><tr><td>val_accuracy</td><td>▁▃▄▄▅▅▅▅▅▅▅▅▅▅▅▅▅▆▆▆▆▇▇▇▇▇█▇██▇▇████████</td></tr><tr><td>val_f1_score</td><td>▁▃▄▄▅▅▅▅▅▅▅▅▆▅▅▆▆▆▇▇▇▇▇▇▇▇█▇██▇▇████████</td></tr><tr><td>val_loss</td><td>█▅▃▃▂▂▂▂▂▂▂▂▂▂▂▂▂▂▂▂▂▂▁▁▂▂▁▁▁▁▁▁▁▁▁▁▁▁▁▁</td></tr></table><br/></div><div class=\"wandb-col\"><h3>Run summary:</h3><br/><table class=\"wandb\"><tr><td>accuracy</td><td>0.72258</td></tr><tr><td>best_epoch</td><td>50</td></tr><tr><td>best_val_loss</td><td>0.92251</td></tr><tr><td>epoch</td><td>59</td></tr><tr><td>f1_score</td><td>0.71862</td></tr><tr><td>loss</td><td>0.70871</td></tr><tr><td>val_accuracy</td><td>0.64749</td></tr><tr><td>val_f1_score</td><td>0.6454</td></tr><tr><td>val_loss</td><td>0.94051</td></tr></table><br/></div></div>"
            ],
            "text/plain": [
              "<IPython.core.display.HTML object>"
            ]
          },
          "metadata": {},
          "output_type": "display_data"
        },
        {
          "data": {
            "text/html": [
              " View run <strong style=\"color:#cdcd00\">zesty-sweep-19</strong> at: <a href='https://wandb.ai/remchat/defence-force/runs/xn61xvgi' target=\"_blank\">https://wandb.ai/remchat/defence-force/runs/xn61xvgi</a><br/> View job at <a href='https://wandb.ai/remchat/defence-force/jobs/QXJ0aWZhY3RDb2xsZWN0aW9uOjg3OTM1OTcx/version_details/v9' target=\"_blank\">https://wandb.ai/remchat/defence-force/jobs/QXJ0aWZhY3RDb2xsZWN0aW9uOjg3OTM1OTcx/version_details/v9</a><br/>Synced 5 W&B file(s), 1 media file(s), 110 artifact file(s) and 1 other file(s)"
            ],
            "text/plain": [
              "<IPython.core.display.HTML object>"
            ]
          },
          "metadata": {},
          "output_type": "display_data"
        },
        {
          "data": {
            "text/html": [
              "Find logs at: <code>./wandb/run-20230805_070255-xn61xvgi/logs</code>"
            ],
            "text/plain": [
              "<IPython.core.display.HTML object>"
            ]
          },
          "metadata": {},
          "output_type": "display_data"
        },
        {
          "name": "stderr",
          "output_type": "stream",
          "text": [
            "\u001b[34m\u001b[1mwandb\u001b[0m: Agent Starting Run: 3xqqrp3k with config:\n",
            "\u001b[34m\u001b[1mwandb\u001b[0m: \tdropout: 0.5\n",
            "\u001b[34m\u001b[1mwandb\u001b[0m: \tepochs: 60\n",
            "\u001b[34m\u001b[1mwandb\u001b[0m: \tff_dim: 16\n",
            "\u001b[34m\u001b[1mwandb\u001b[0m: \thead_size: 32\n",
            "\u001b[34m\u001b[1mwandb\u001b[0m: \tlearning_rate: 0.001\n",
            "\u001b[34m\u001b[1mwandb\u001b[0m: \tmlp_dropout: 0.5\n",
            "\u001b[34m\u001b[1mwandb\u001b[0m: \tmlp_units: [128, 64, 32]\n",
            "\u001b[34m\u001b[1mwandb\u001b[0m: \tnum_heads: 32\n",
            "\u001b[34m\u001b[1mwandb\u001b[0m: \tnum_transformer_blocks: 2\n",
            "\u001b[34m\u001b[1mwandb\u001b[0m: \u001b[33mWARNING\u001b[0m Ignored wandb.init() arg project when running a sweep.\n"
          ]
        },
        {
          "data": {
            "text/html": [
              "Tracking run with wandb version 0.15.8"
            ],
            "text/plain": [
              "<IPython.core.display.HTML object>"
            ]
          },
          "metadata": {},
          "output_type": "display_data"
        },
        {
          "data": {
            "text/html": [
              "Run data is saved locally in <code>/content/gdrive/MyDrive/RifleAction/wandb/run-20230805_082750-3xqqrp3k</code>"
            ],
            "text/plain": [
              "<IPython.core.display.HTML object>"
            ]
          },
          "metadata": {},
          "output_type": "display_data"
        },
        {
          "data": {
            "text/html": [
              "Syncing run <strong><a href='https://wandb.ai/remchat/defence-force/runs/3xqqrp3k' target=\"_blank\">olive-sweep-21</a></strong> to <a href='https://wandb.ai/remchat/defence-force' target=\"_blank\">Weights & Biases</a> (<a href='https://wandb.me/run' target=\"_blank\">docs</a>)<br/>Sweep page: <a href='https://wandb.ai/remchat/defence-force/sweeps/k5lpmxhw' target=\"_blank\">https://wandb.ai/remchat/defence-force/sweeps/k5lpmxhw</a>"
            ],
            "text/plain": [
              "<IPython.core.display.HTML object>"
            ]
          },
          "metadata": {},
          "output_type": "display_data"
        },
        {
          "data": {
            "text/html": [
              " View project at <a href='https://wandb.ai/remchat/defence-force' target=\"_blank\">https://wandb.ai/remchat/defence-force</a>"
            ],
            "text/plain": [
              "<IPython.core.display.HTML object>"
            ]
          },
          "metadata": {},
          "output_type": "display_data"
        },
        {
          "data": {
            "text/html": [
              " View sweep at <a href='https://wandb.ai/remchat/defence-force/sweeps/k5lpmxhw' target=\"_blank\">https://wandb.ai/remchat/defence-force/sweeps/k5lpmxhw</a>"
            ],
            "text/plain": [
              "<IPython.core.display.HTML object>"
            ]
          },
          "metadata": {},
          "output_type": "display_data"
        },
        {
          "data": {
            "text/html": [
              " View run at <a href='https://wandb.ai/remchat/defence-force/runs/3xqqrp3k' target=\"_blank\">https://wandb.ai/remchat/defence-force/runs/3xqqrp3k</a>"
            ],
            "text/plain": [
              "<IPython.core.display.HTML object>"
            ]
          },
          "metadata": {},
          "output_type": "display_data"
        },
        {
          "name": "stdout",
          "output_type": "stream",
          "text": [
            "Epoch 1/60\n",
            "1818/1818 [==============================] - ETA: 0s - loss: 1.5202 - accuracy: 0.4351 - f1_score: 0.3764"
          ]
        },
        {
          "name": "stderr",
          "output_type": "stream",
          "text": [
            "WARNING:absl:Found untraced functions such as _jit_compiled_convolution_op, _jit_compiled_convolution_op, _jit_compiled_convolution_op, _jit_compiled_convolution_op, query_layer_call_fn while saving (showing 5 of 28). These functions will not be directly callable after loading.\n",
            "\u001b[34m\u001b[1mwandb\u001b[0m: Adding directory to artifact (/content/gdrive/MyDrive/RifleAction/wandb/run-20230805_082750-3xqqrp3k/files/model-best)... Done. 0.0s\n"
          ]
        },
        {
          "name": "stdout",
          "output_type": "stream",
          "text": [
            "1818/1818 [==============================] - 31s 15ms/step - loss: 1.5202 - accuracy: 0.4351 - f1_score: 0.3764 - val_loss: 1.1493 - val_accuracy: 0.4943 - val_f1_score: 0.3986\n",
            "Epoch 2/60\n",
            "1818/1818 [==============================] - ETA: 0s - loss: 1.1943 - accuracy: 0.5374 - f1_score: 0.4930"
          ]
        },
        {
          "name": "stderr",
          "output_type": "stream",
          "text": [
            "WARNING:absl:Found untraced functions such as _jit_compiled_convolution_op, _jit_compiled_convolution_op, _jit_compiled_convolution_op, _jit_compiled_convolution_op, query_layer_call_fn while saving (showing 5 of 28). These functions will not be directly callable after loading.\n",
            "\u001b[34m\u001b[1mwandb\u001b[0m: Adding directory to artifact (/content/gdrive/MyDrive/RifleAction/wandb/run-20230805_082750-3xqqrp3k/files/model-best)... Done. 0.0s\n"
          ]
        },
        {
          "name": "stdout",
          "output_type": "stream",
          "text": [
            "1818/1818 [==============================] - 28s 16ms/step - loss: 1.1943 - accuracy: 0.5374 - f1_score: 0.4930 - val_loss: 1.0958 - val_accuracy: 0.5328 - val_f1_score: 0.4481\n",
            "Epoch 3/60\n",
            "1814/1818 [============================>.] - ETA: 0s - loss: 1.1183 - accuracy: 0.5668 - f1_score: 0.5253"
          ]
        },
        {
          "name": "stderr",
          "output_type": "stream",
          "text": [
            "WARNING:absl:Found untraced functions such as _jit_compiled_convolution_op, _jit_compiled_convolution_op, _jit_compiled_convolution_op, _jit_compiled_convolution_op, query_layer_call_fn while saving (showing 5 of 28). These functions will not be directly callable after loading.\n",
            "\u001b[34m\u001b[1mwandb\u001b[0m: Adding directory to artifact (/content/gdrive/MyDrive/RifleAction/wandb/run-20230805_082750-3xqqrp3k/files/model-best)... Done. 0.0s\n"
          ]
        },
        {
          "name": "stdout",
          "output_type": "stream",
          "text": [
            "1818/1818 [==============================] - 30s 16ms/step - loss: 1.1185 - accuracy: 0.5668 - f1_score: 0.5253 - val_loss: 1.0588 - val_accuracy: 0.5385 - val_f1_score: 0.4678\n",
            "Epoch 4/60\n",
            "1813/1818 [============================>.] - ETA: 0s - loss: 1.0695 - accuracy: 0.5889 - f1_score: 0.5486"
          ]
        },
        {
          "name": "stderr",
          "output_type": "stream",
          "text": [
            "WARNING:absl:Found untraced functions such as _jit_compiled_convolution_op, _jit_compiled_convolution_op, _jit_compiled_convolution_op, _jit_compiled_convolution_op, query_layer_call_fn while saving (showing 5 of 28). These functions will not be directly callable after loading.\n",
            "\u001b[34m\u001b[1mwandb\u001b[0m: Adding directory to artifact (/content/gdrive/MyDrive/RifleAction/wandb/run-20230805_082750-3xqqrp3k/files/model-best)... Done. 0.0s\n"
          ]
        },
        {
          "name": "stdout",
          "output_type": "stream",
          "text": [
            "1818/1818 [==============================] - 27s 15ms/step - loss: 1.0693 - accuracy: 0.5890 - f1_score: 0.5487 - val_loss: 1.0573 - val_accuracy: 0.5364 - val_f1_score: 0.4647\n",
            "Epoch 5/60\n",
            "1818/1818 [==============================] - ETA: 0s - loss: 1.0413 - accuracy: 0.6018 - f1_score: 0.5616"
          ]
        },
        {
          "name": "stderr",
          "output_type": "stream",
          "text": [
            "WARNING:absl:Found untraced functions such as _jit_compiled_convolution_op, _jit_compiled_convolution_op, _jit_compiled_convolution_op, _jit_compiled_convolution_op, query_layer_call_fn while saving (showing 5 of 28). These functions will not be directly callable after loading.\n",
            "\u001b[34m\u001b[1mwandb\u001b[0m: Adding directory to artifact (/content/gdrive/MyDrive/RifleAction/wandb/run-20230805_082750-3xqqrp3k/files/model-best)... Done. 0.0s\n"
          ]
        },
        {
          "name": "stdout",
          "output_type": "stream",
          "text": [
            "1818/1818 [==============================] - 28s 15ms/step - loss: 1.0413 - accuracy: 0.6018 - f1_score: 0.5616 - val_loss: 1.0189 - val_accuracy: 0.5447 - val_f1_score: 0.4721\n",
            "Epoch 6/60\n",
            "1818/1818 [==============================] - 22s 12ms/step - loss: 1.0179 - accuracy: 0.6106 - f1_score: 0.5710 - val_loss: 1.0483 - val_accuracy: 0.5373 - val_f1_score: 0.4697\n",
            "Epoch 7/60\n",
            "1818/1818 [==============================] - 20s 11ms/step - loss: 1.0016 - accuracy: 0.6164 - f1_score: 0.5766 - val_loss: 1.0496 - val_accuracy: 0.5621 - val_f1_score: 0.5039\n",
            "Epoch 8/60\n",
            "1818/1818 [==============================] - 20s 11ms/step - loss: 0.9864 - accuracy: 0.6216 - f1_score: 0.5824 - val_loss: 1.0625 - val_accuracy: 0.5340 - val_f1_score: 0.4590\n",
            "Epoch 9/60\n",
            "1818/1818 [==============================] - 23s 12ms/step - loss: 0.9763 - accuracy: 0.6285 - f1_score: 0.5884 - val_loss: 1.0223 - val_accuracy: 0.5436 - val_f1_score: 0.4688\n",
            "Epoch 10/60\n",
            "1818/1818 [==============================] - 23s 13ms/step - loss: 0.9692 - accuracy: 0.6305 - f1_score: 0.5912 - val_loss: 1.0395 - val_accuracy: 0.5683 - val_f1_score: 0.5044\n",
            "Epoch 11/60\n",
            "1818/1818 [==============================] - ETA: 0s - loss: 0.9652 - accuracy: 0.6316 - f1_score: 0.5927"
          ]
        },
        {
          "name": "stderr",
          "output_type": "stream",
          "text": [
            "WARNING:absl:Found untraced functions such as _jit_compiled_convolution_op, _jit_compiled_convolution_op, _jit_compiled_convolution_op, _jit_compiled_convolution_op, query_layer_call_fn while saving (showing 5 of 28). These functions will not be directly callable after loading.\n",
            "\u001b[34m\u001b[1mwandb\u001b[0m: Adding directory to artifact (/content/gdrive/MyDrive/RifleAction/wandb/run-20230805_082750-3xqqrp3k/files/model-best)... Done. 0.0s\n"
          ]
        },
        {
          "name": "stdout",
          "output_type": "stream",
          "text": [
            "1818/1818 [==============================] - 26s 14ms/step - loss: 0.9652 - accuracy: 0.6316 - f1_score: 0.5927 - val_loss: 1.0148 - val_accuracy: 0.5817 - val_f1_score: 0.5191\n",
            "Epoch 12/60\n",
            "1818/1818 [==============================] - 21s 11ms/step - loss: 0.9569 - accuracy: 0.6359 - f1_score: 0.5978 - val_loss: 1.0592 - val_accuracy: 0.5417 - val_f1_score: 0.4737\n",
            "Epoch 13/60\n",
            "1817/1818 [============================>.] - ETA: 0s - loss: 0.9498 - accuracy: 0.6396 - f1_score: 0.6013"
          ]
        },
        {
          "name": "stderr",
          "output_type": "stream",
          "text": [
            "WARNING:absl:Found untraced functions such as _jit_compiled_convolution_op, _jit_compiled_convolution_op, _jit_compiled_convolution_op, _jit_compiled_convolution_op, query_layer_call_fn while saving (showing 5 of 28). These functions will not be directly callable after loading.\n",
            "\u001b[34m\u001b[1mwandb\u001b[0m: Adding directory to artifact (/content/gdrive/MyDrive/RifleAction/wandb/run-20230805_082750-3xqqrp3k/files/model-best)... Done. 0.0s\n"
          ]
        },
        {
          "name": "stdout",
          "output_type": "stream",
          "text": [
            "1818/1818 [==============================] - 26s 15ms/step - loss: 0.9498 - accuracy: 0.6396 - f1_score: 0.6012 - val_loss: 0.9904 - val_accuracy: 0.6018 - val_f1_score: 0.5385\n",
            "Epoch 14/60\n",
            "1818/1818 [==============================] - 22s 12ms/step - loss: 0.9468 - accuracy: 0.6397 - f1_score: 0.6019 - val_loss: 1.0278 - val_accuracy: 0.5828 - val_f1_score: 0.5213\n",
            "Epoch 15/60\n",
            "1818/1818 [==============================] - 22s 12ms/step - loss: 0.9388 - accuracy: 0.6423 - f1_score: 0.6067 - val_loss: 1.0340 - val_accuracy: 0.5749 - val_f1_score: 0.5134\n",
            "Epoch 16/60\n",
            "1818/1818 [==============================] - 21s 12ms/step - loss: 0.9377 - accuracy: 0.6438 - f1_score: 0.6098 - val_loss: 1.0158 - val_accuracy: 0.5775 - val_f1_score: 0.5155\n",
            "Epoch 17/60\n",
            "1818/1818 [==============================] - 25s 14ms/step - loss: 0.9338 - accuracy: 0.6443 - f1_score: 0.6092 - val_loss: 1.0871 - val_accuracy: 0.5482 - val_f1_score: 0.4791\n",
            "Epoch 18/60\n",
            "1818/1818 [==============================] - 20s 11ms/step - loss: 0.9298 - accuracy: 0.6448 - f1_score: 0.6105 - val_loss: 1.0858 - val_accuracy: 0.5494 - val_f1_score: 0.4858\n",
            "Epoch 19/60\n",
            "1818/1818 [==============================] - 22s 12ms/step - loss: 0.9247 - accuracy: 0.6492 - f1_score: 0.6169 - val_loss: 1.0552 - val_accuracy: 0.5415 - val_f1_score: 0.4684\n",
            "Epoch 20/60\n",
            "1818/1818 [==============================] - 20s 11ms/step - loss: 0.9248 - accuracy: 0.6482 - f1_score: 0.6158 - val_loss: 1.1082 - val_accuracy: 0.5633 - val_f1_score: 0.5036\n",
            "Epoch 21/60\n",
            "1818/1818 [==============================] - 20s 11ms/step - loss: 0.9205 - accuracy: 0.6482 - f1_score: 0.6167 - val_loss: 1.0993 - val_accuracy: 0.5789 - val_f1_score: 0.5561\n",
            "Epoch 22/60\n",
            "1818/1818 [==============================] - 23s 13ms/step - loss: 0.9204 - accuracy: 0.6502 - f1_score: 0.6183 - val_loss: 1.0935 - val_accuracy: 0.5849 - val_f1_score: 0.5602\n",
            "Epoch 23/60\n",
            "1818/1818 [==============================] - 21s 11ms/step - loss: 0.9145 - accuracy: 0.6506 - f1_score: 0.6199 - val_loss: 1.0756 - val_accuracy: 0.5395 - val_f1_score: 0.4728\n",
            "Epoch 24/60\n",
            "1818/1818 [==============================] - 22s 12ms/step - loss: 0.9177 - accuracy: 0.6490 - f1_score: 0.6175 - val_loss: 1.0753 - val_accuracy: 0.6147 - val_f1_score: 0.5942\n",
            "Epoch 25/60\n",
            "1818/1818 [==============================] - 23s 13ms/step - loss: 0.9139 - accuracy: 0.6517 - f1_score: 0.6211 - val_loss: 1.0089 - val_accuracy: 0.6141 - val_f1_score: 0.5788\n",
            "Epoch 26/60\n",
            "1818/1818 [==============================] - 22s 12ms/step - loss: 0.9090 - accuracy: 0.6547 - f1_score: 0.6242 - val_loss: 1.0940 - val_accuracy: 0.6007 - val_f1_score: 0.5823\n",
            "Epoch 27/60\n",
            "1818/1818 [==============================] - 21s 12ms/step - loss: 0.9102 - accuracy: 0.6535 - f1_score: 0.6239 - val_loss: 1.0951 - val_accuracy: 0.5648 - val_f1_score: 0.5056\n",
            "Epoch 28/60\n",
            "1818/1818 [==============================] - 21s 11ms/step - loss: 0.9045 - accuracy: 0.6537 - f1_score: 0.6245 - val_loss: 1.0872 - val_accuracy: 0.5787 - val_f1_score: 0.5512\n",
            "Epoch 29/60\n",
            "1818/1818 [==============================] - 23s 12ms/step - loss: 0.9031 - accuracy: 0.6552 - f1_score: 0.6261 - val_loss: 1.0535 - val_accuracy: 0.5926 - val_f1_score: 0.5666\n",
            "Epoch 30/60\n",
            "1818/1818 [==============================] - 21s 12ms/step - loss: 0.9025 - accuracy: 0.6533 - f1_score: 0.6241 - val_loss: 1.0942 - val_accuracy: 0.5995 - val_f1_score: 0.5805\n",
            "Epoch 31/60\n",
            "1818/1818 [==============================] - 22s 12ms/step - loss: 0.9064 - accuracy: 0.6540 - f1_score: 0.6244 - val_loss: 1.0138 - val_accuracy: 0.6493 - val_f1_score: 0.6301\n",
            "Epoch 32/60\n",
            "1818/1818 [==============================] - 20s 11ms/step - loss: 0.8986 - accuracy: 0.6569 - f1_score: 0.6281 - val_loss: 1.0696 - val_accuracy: 0.6038 - val_f1_score: 0.5834\n",
            "Epoch 33/60\n",
            "1818/1818 [==============================] - 24s 13ms/step - loss: 0.8991 - accuracy: 0.6571 - f1_score: 0.6288 - val_loss: 1.0737 - val_accuracy: 0.5925 - val_f1_score: 0.5589\n",
            "Epoch 34/60\n",
            "1818/1818 [==============================] - 21s 12ms/step - loss: 0.9028 - accuracy: 0.6552 - f1_score: 0.6264 - val_loss: 1.1147 - val_accuracy: 0.5933 - val_f1_score: 0.5749\n",
            "Epoch 35/60\n",
            "1818/1818 [==============================] - 21s 12ms/step - loss: 0.8935 - accuracy: 0.6580 - f1_score: 0.6298 - val_loss: 1.0643 - val_accuracy: 0.6382 - val_f1_score: 0.6212\n",
            "Epoch 36/60\n",
            "1818/1818 [==============================] - 22s 12ms/step - loss: 0.8942 - accuracy: 0.6571 - f1_score: 0.6292 - val_loss: 1.0448 - val_accuracy: 0.6359 - val_f1_score: 0.6198\n",
            "Epoch 37/60\n",
            "1818/1818 [==============================] - 20s 11ms/step - loss: 0.8977 - accuracy: 0.6567 - f1_score: 0.6291 - val_loss: 1.0963 - val_accuracy: 0.5435 - val_f1_score: 0.4775\n",
            "Epoch 38/60\n",
            "1818/1818 [==============================] - 22s 12ms/step - loss: 0.8943 - accuracy: 0.6583 - f1_score: 0.6315 - val_loss: 1.0958 - val_accuracy: 0.5572 - val_f1_score: 0.5046\n",
            "Epoch 39/60\n",
            "1818/1818 [==============================] - 20s 11ms/step - loss: 0.8950 - accuracy: 0.6591 - f1_score: 0.6316 - val_loss: 1.0474 - val_accuracy: 0.6013 - val_f1_score: 0.5796\n",
            "Epoch 40/60\n",
            "1818/1818 [==============================] - 23s 12ms/step - loss: 0.8943 - accuracy: 0.6603 - f1_score: 0.6332 - val_loss: 1.0353 - val_accuracy: 0.6405 - val_f1_score: 0.6236\n",
            "Epoch 41/60\n",
            "1818/1818 [==============================] - 21s 12ms/step - loss: 0.8924 - accuracy: 0.6604 - f1_score: 0.6329 - val_loss: 1.0246 - val_accuracy: 0.6364 - val_f1_score: 0.6210\n"
          ]
        },
        {
          "data": {
            "text/html": [
              "Waiting for W&B process to finish... <strong style=\"color:green\">(success).</strong>"
            ],
            "text/plain": [
              "<IPython.core.display.HTML object>"
            ]
          },
          "metadata": {},
          "output_type": "display_data"
        },
        {
          "data": {
            "text/html": [
              "<style>\n",
              "    table.wandb td:nth-child(1) { padding: 0 10px; text-align: left ; width: auto;} td:nth-child(2) {text-align: left ; width: 100%}\n",
              "    .wandb-row { display: flex; flex-direction: row; flex-wrap: wrap; justify-content: flex-start; width: 100% }\n",
              "    .wandb-col { display: flex; flex-direction: column; flex-basis: 100%; flex: 1; padding: 10px; }\n",
              "    </style>\n",
              "<div class=\"wandb-row\"><div class=\"wandb-col\"><h3>Run history:</h3><br/><table class=\"wandb\"><tr><td>accuracy</td><td>▁▄▅▆▆▆▇▇▇▇▇▇▇▇▇▇▇███████████████████████</td></tr><tr><td>epoch</td><td>▁▁▁▂▂▂▂▂▂▃▃▃▃▃▃▄▄▄▄▄▅▅▅▅▅▅▆▆▆▆▆▆▇▇▇▇▇▇██</td></tr><tr><td>f1_score</td><td>▁▄▅▆▆▆▆▇▇▇▇▇▇▇▇▇▇▇██████████████████████</td></tr><tr><td>loss</td><td>█▄▄▃▃▂▂▂▂▂▂▂▂▂▂▂▁▁▁▁▁▁▁▁▁▁▁▁▁▁▁▁▁▁▁▁▁▁▁▁</td></tr><tr><td>val_accuracy</td><td>▁▃▃▃▃▃▄▃▃▄▅▃▆▅▅▅▃▃▃▄▅▅▃▆▆▆▄▅▅▆█▆▅▅▇▇▃▄▆▇</td></tr><tr><td>val_f1_score</td><td>▁▂▃▃▃▃▄▃▃▄▅▃▅▅▄▅▃▄▃▄▆▆▃▇▆▇▄▆▆▆█▇▆▆██▃▄▆█</td></tr><tr><td>val_loss</td><td>█▆▄▄▂▄▄▄▂▃▂▄▁▃▃▂▅▅▄▆▆▆▅▅▂▆▆▅▄▆▂▄▅▆▄▃▆▆▄▃</td></tr></table><br/></div><div class=\"wandb-col\"><h3>Run summary:</h3><br/><table class=\"wandb\"><tr><td>accuracy</td><td>0.66038</td></tr><tr><td>best_epoch</td><td>12</td></tr><tr><td>best_val_loss</td><td>0.99045</td></tr><tr><td>epoch</td><td>40</td></tr><tr><td>f1_score</td><td>0.63291</td></tr><tr><td>loss</td><td>0.89241</td></tr><tr><td>val_accuracy</td><td>0.63644</td></tr><tr><td>val_f1_score</td><td>0.62099</td></tr><tr><td>val_loss</td><td>1.02457</td></tr></table><br/></div></div>"
            ],
            "text/plain": [
              "<IPython.core.display.HTML object>"
            ]
          },
          "metadata": {},
          "output_type": "display_data"
        },
        {
          "data": {
            "text/html": [
              " View run <strong style=\"color:#cdcd00\">olive-sweep-21</strong> at: <a href='https://wandb.ai/remchat/defence-force/runs/3xqqrp3k' target=\"_blank\">https://wandb.ai/remchat/defence-force/runs/3xqqrp3k</a><br/> View job at <a href='https://wandb.ai/remchat/defence-force/jobs/QXJ0aWZhY3RDb2xsZWN0aW9uOjg3OTM1OTcx/version_details/v9' target=\"_blank\">https://wandb.ai/remchat/defence-force/jobs/QXJ0aWZhY3RDb2xsZWN0aW9uOjg3OTM1OTcx/version_details/v9</a><br/>Synced 5 W&B file(s), 1 media file(s), 35 artifact file(s) and 1 other file(s)"
            ],
            "text/plain": [
              "<IPython.core.display.HTML object>"
            ]
          },
          "metadata": {},
          "output_type": "display_data"
        },
        {
          "data": {
            "text/html": [
              "Find logs at: <code>./wandb/run-20230805_082750-3xqqrp3k/logs</code>"
            ],
            "text/plain": [
              "<IPython.core.display.HTML object>"
            ]
          },
          "metadata": {},
          "output_type": "display_data"
        },
        {
          "name": "stderr",
          "output_type": "stream",
          "text": [
            "\u001b[34m\u001b[1mwandb\u001b[0m: Agent Starting Run: lg874y30 with config:\n",
            "\u001b[34m\u001b[1mwandb\u001b[0m: \tdropout: 0.3\n",
            "\u001b[34m\u001b[1mwandb\u001b[0m: \tepochs: 60\n",
            "\u001b[34m\u001b[1mwandb\u001b[0m: \tff_dim: 16\n",
            "\u001b[34m\u001b[1mwandb\u001b[0m: \thead_size: 32\n",
            "\u001b[34m\u001b[1mwandb\u001b[0m: \tlearning_rate: 0.001\n",
            "\u001b[34m\u001b[1mwandb\u001b[0m: \tmlp_dropout: 0.1\n",
            "\u001b[34m\u001b[1mwandb\u001b[0m: \tmlp_units: [128, 64, 32]\n",
            "\u001b[34m\u001b[1mwandb\u001b[0m: \tnum_heads: 4\n",
            "\u001b[34m\u001b[1mwandb\u001b[0m: \tnum_transformer_blocks: 2\n",
            "\u001b[34m\u001b[1mwandb\u001b[0m: \u001b[33mWARNING\u001b[0m Ignored wandb.init() arg project when running a sweep.\n"
          ]
        },
        {
          "data": {
            "text/html": [
              "Tracking run with wandb version 0.15.8"
            ],
            "text/plain": [
              "<IPython.core.display.HTML object>"
            ]
          },
          "metadata": {},
          "output_type": "display_data"
        },
        {
          "data": {
            "text/html": [
              "Run data is saved locally in <code>/content/gdrive/MyDrive/RifleAction/wandb/run-20230805_084543-lg874y30</code>"
            ],
            "text/plain": [
              "<IPython.core.display.HTML object>"
            ]
          },
          "metadata": {},
          "output_type": "display_data"
        },
        {
          "data": {
            "text/html": [
              "Syncing run <strong><a href='https://wandb.ai/remchat/defence-force/runs/lg874y30' target=\"_blank\">sweepy-sweep-23</a></strong> to <a href='https://wandb.ai/remchat/defence-force' target=\"_blank\">Weights & Biases</a> (<a href='https://wandb.me/run' target=\"_blank\">docs</a>)<br/>Sweep page: <a href='https://wandb.ai/remchat/defence-force/sweeps/k5lpmxhw' target=\"_blank\">https://wandb.ai/remchat/defence-force/sweeps/k5lpmxhw</a>"
            ],
            "text/plain": [
              "<IPython.core.display.HTML object>"
            ]
          },
          "metadata": {},
          "output_type": "display_data"
        },
        {
          "data": {
            "text/html": [
              " View project at <a href='https://wandb.ai/remchat/defence-force' target=\"_blank\">https://wandb.ai/remchat/defence-force</a>"
            ],
            "text/plain": [
              "<IPython.core.display.HTML object>"
            ]
          },
          "metadata": {},
          "output_type": "display_data"
        },
        {
          "data": {
            "text/html": [
              " View sweep at <a href='https://wandb.ai/remchat/defence-force/sweeps/k5lpmxhw' target=\"_blank\">https://wandb.ai/remchat/defence-force/sweeps/k5lpmxhw</a>"
            ],
            "text/plain": [
              "<IPython.core.display.HTML object>"
            ]
          },
          "metadata": {},
          "output_type": "display_data"
        },
        {
          "data": {
            "text/html": [
              " View run at <a href='https://wandb.ai/remchat/defence-force/runs/lg874y30' target=\"_blank\">https://wandb.ai/remchat/defence-force/runs/lg874y30</a>"
            ],
            "text/plain": [
              "<IPython.core.display.HTML object>"
            ]
          },
          "metadata": {},
          "output_type": "display_data"
        },
        {
          "name": "stdout",
          "output_type": "stream",
          "text": [
            "Epoch 1/60\n",
            "1816/1818 [============================>.] - ETA: 0s - loss: 1.1106 - accuracy: 0.5809 - f1_score: 0.5572"
          ]
        },
        {
          "name": "stderr",
          "output_type": "stream",
          "text": [
            "WARNING:absl:Found untraced functions such as _jit_compiled_convolution_op, _jit_compiled_convolution_op, _jit_compiled_convolution_op, _jit_compiled_convolution_op, query_layer_call_fn while saving (showing 5 of 28). These functions will not be directly callable after loading.\n",
            "\u001b[34m\u001b[1mwandb\u001b[0m: Adding directory to artifact (/content/gdrive/MyDrive/RifleAction/wandb/run-20230805_084543-lg874y30/files/model-best)... Done. 0.0s\n"
          ]
        },
        {
          "name": "stdout",
          "output_type": "stream",
          "text": [
            "1818/1818 [==============================] - 31s 16ms/step - loss: 1.1105 - accuracy: 0.5810 - f1_score: 0.5573 - val_loss: 1.0194 - val_accuracy: 0.5931 - val_f1_score: 0.5912\n",
            "Epoch 2/60\n",
            "1818/1818 [==============================] - 20s 11ms/step - loss: 0.8366 - accuracy: 0.6756 - f1_score: 0.6641 - val_loss: 1.1278 - val_accuracy: 0.5548 - val_f1_score: 0.5537\n",
            "Epoch 3/60\n",
            "1818/1818 [==============================] - 21s 12ms/step - loss: 0.7590 - accuracy: 0.7071 - f1_score: 0.6988 - val_loss: 1.1723 - val_accuracy: 0.5665 - val_f1_score: 0.5678\n",
            "Epoch 4/60\n",
            "1818/1818 [==============================] - 20s 11ms/step - loss: 0.7117 - accuracy: 0.7249 - f1_score: 0.7187 - val_loss: 1.1688 - val_accuracy: 0.5846 - val_f1_score: 0.5887\n",
            "Epoch 5/60\n",
            "1818/1818 [==============================] - 20s 11ms/step - loss: 0.6752 - accuracy: 0.7404 - f1_score: 0.7354 - val_loss: 1.2907 - val_accuracy: 0.5438 - val_f1_score: 0.5517\n",
            "Epoch 6/60\n",
            "1818/1818 [==============================] - 21s 12ms/step - loss: 0.6485 - accuracy: 0.7488 - f1_score: 0.7448 - val_loss: 1.2766 - val_accuracy: 0.5595 - val_f1_score: 0.5649\n",
            "Epoch 7/60\n",
            "1818/1818 [==============================] - 20s 11ms/step - loss: 0.6261 - accuracy: 0.7584 - f1_score: 0.7551 - val_loss: 1.3258 - val_accuracy: 0.5605 - val_f1_score: 0.5728\n",
            "Epoch 8/60\n",
            "1818/1818 [==============================] - 22s 12ms/step - loss: 0.6068 - accuracy: 0.7652 - f1_score: 0.7624 - val_loss: 1.3950 - val_accuracy: 0.5432 - val_f1_score: 0.5511\n",
            "Epoch 9/60\n",
            "1818/1818 [==============================] - 22s 12ms/step - loss: 0.5927 - accuracy: 0.7699 - f1_score: 0.7673 - val_loss: 1.4670 - val_accuracy: 0.5317 - val_f1_score: 0.5443\n",
            "Epoch 10/60\n",
            "1818/1818 [==============================] - 21s 12ms/step - loss: 0.5778 - accuracy: 0.7766 - f1_score: 0.7742 - val_loss: 1.3584 - val_accuracy: 0.5617 - val_f1_score: 0.5688\n",
            "Epoch 11/60\n",
            "1818/1818 [==============================] - 21s 12ms/step - loss: 0.5643 - accuracy: 0.7807 - f1_score: 0.7786 - val_loss: 1.5856 - val_accuracy: 0.5365 - val_f1_score: 0.5468\n"
          ]
        },
        {
          "data": {
            "text/html": [
              "Waiting for W&B process to finish... <strong style=\"color:green\">(success).</strong>"
            ],
            "text/plain": [
              "<IPython.core.display.HTML object>"
            ]
          },
          "metadata": {},
          "output_type": "display_data"
        },
        {
          "data": {
            "text/html": [
              "<style>\n",
              "    table.wandb td:nth-child(1) { padding: 0 10px; text-align: left ; width: auto;} td:nth-child(2) {text-align: left ; width: 100%}\n",
              "    .wandb-row { display: flex; flex-direction: row; flex-wrap: wrap; justify-content: flex-start; width: 100% }\n",
              "    .wandb-col { display: flex; flex-direction: column; flex-basis: 100%; flex: 1; padding: 10px; }\n",
              "    </style>\n",
              "<div class=\"wandb-row\"><div class=\"wandb-col\"><h3>Run history:</h3><br/><table class=\"wandb\"><tr><td>accuracy</td><td>▁▄▅▆▇▇▇▇███</td></tr><tr><td>epoch</td><td>▁▂▂▃▄▅▅▆▇▇█</td></tr><tr><td>f1_score</td><td>▁▄▅▆▇▇▇▇███</td></tr><tr><td>loss</td><td>█▄▃▃▂▂▂▂▁▁▁</td></tr><tr><td>val_accuracy</td><td>█▄▅▇▂▄▄▂▁▄▂</td></tr><tr><td>val_f1_score</td><td>█▂▅█▂▄▅▂▁▅▁</td></tr><tr><td>val_loss</td><td>▁▂▃▃▄▄▅▆▇▅█</td></tr></table><br/></div><div class=\"wandb-col\"><h3>Run summary:</h3><br/><table class=\"wandb\"><tr><td>accuracy</td><td>0.78072</td></tr><tr><td>best_epoch</td><td>0</td></tr><tr><td>best_val_loss</td><td>1.01941</td></tr><tr><td>epoch</td><td>10</td></tr><tr><td>f1_score</td><td>0.77858</td></tr><tr><td>loss</td><td>0.56434</td></tr><tr><td>val_accuracy</td><td>0.5365</td></tr><tr><td>val_f1_score</td><td>0.54684</td></tr><tr><td>val_loss</td><td>1.58557</td></tr></table><br/></div></div>"
            ],
            "text/plain": [
              "<IPython.core.display.HTML object>"
            ]
          },
          "metadata": {},
          "output_type": "display_data"
        },
        {
          "data": {
            "text/html": [
              " View run <strong style=\"color:#cdcd00\">sweepy-sweep-23</strong> at: <a href='https://wandb.ai/remchat/defence-force/runs/lg874y30' target=\"_blank\">https://wandb.ai/remchat/defence-force/runs/lg874y30</a><br/> View job at <a href='https://wandb.ai/remchat/defence-force/jobs/QXJ0aWZhY3RDb2xsZWN0aW9uOjg3OTM1OTcx/version_details/v9' target=\"_blank\">https://wandb.ai/remchat/defence-force/jobs/QXJ0aWZhY3RDb2xsZWN0aW9uOjg3OTM1OTcx/version_details/v9</a><br/>Synced 5 W&B file(s), 1 media file(s), 5 artifact file(s) and 1 other file(s)"
            ],
            "text/plain": [
              "<IPython.core.display.HTML object>"
            ]
          },
          "metadata": {},
          "output_type": "display_data"
        },
        {
          "data": {
            "text/html": [
              "Find logs at: <code>./wandb/run-20230805_084543-lg874y30/logs</code>"
            ],
            "text/plain": [
              "<IPython.core.display.HTML object>"
            ]
          },
          "metadata": {},
          "output_type": "display_data"
        },
        {
          "name": "stderr",
          "output_type": "stream",
          "text": [
            "\u001b[34m\u001b[1mwandb\u001b[0m: Agent Starting Run: whozdtex with config:\n",
            "\u001b[34m\u001b[1mwandb\u001b[0m: \tdropout: 0.1\n",
            "\u001b[34m\u001b[1mwandb\u001b[0m: \tepochs: 60\n",
            "\u001b[34m\u001b[1mwandb\u001b[0m: \tff_dim: 4\n",
            "\u001b[34m\u001b[1mwandb\u001b[0m: \thead_size: 32\n",
            "\u001b[34m\u001b[1mwandb\u001b[0m: \tlearning_rate: 0.001\n",
            "\u001b[34m\u001b[1mwandb\u001b[0m: \tmlp_dropout: 0.1\n",
            "\u001b[34m\u001b[1mwandb\u001b[0m: \tmlp_units: [128, 64, 32]\n",
            "\u001b[34m\u001b[1mwandb\u001b[0m: \tnum_heads: 8\n",
            "\u001b[34m\u001b[1mwandb\u001b[0m: \tnum_transformer_blocks: 8\n",
            "\u001b[34m\u001b[1mwandb\u001b[0m: \u001b[33mWARNING\u001b[0m Ignored wandb.init() arg project when running a sweep.\n"
          ]
        },
        {
          "data": {
            "text/html": [
              "Tracking run with wandb version 0.15.8"
            ],
            "text/plain": [
              "<IPython.core.display.HTML object>"
            ]
          },
          "metadata": {},
          "output_type": "display_data"
        },
        {
          "data": {
            "text/html": [
              "Run data is saved locally in <code>/content/gdrive/MyDrive/RifleAction/wandb/run-20230805_085211-whozdtex</code>"
            ],
            "text/plain": [
              "<IPython.core.display.HTML object>"
            ]
          },
          "metadata": {},
          "output_type": "display_data"
        },
        {
          "data": {
            "text/html": [
              "Syncing run <strong><a href='https://wandb.ai/remchat/defence-force/runs/whozdtex' target=\"_blank\">azure-sweep-24</a></strong> to <a href='https://wandb.ai/remchat/defence-force' target=\"_blank\">Weights & Biases</a> (<a href='https://wandb.me/run' target=\"_blank\">docs</a>)<br/>Sweep page: <a href='https://wandb.ai/remchat/defence-force/sweeps/k5lpmxhw' target=\"_blank\">https://wandb.ai/remchat/defence-force/sweeps/k5lpmxhw</a>"
            ],
            "text/plain": [
              "<IPython.core.display.HTML object>"
            ]
          },
          "metadata": {},
          "output_type": "display_data"
        },
        {
          "data": {
            "text/html": [
              " View project at <a href='https://wandb.ai/remchat/defence-force' target=\"_blank\">https://wandb.ai/remchat/defence-force</a>"
            ],
            "text/plain": [
              "<IPython.core.display.HTML object>"
            ]
          },
          "metadata": {},
          "output_type": "display_data"
        },
        {
          "data": {
            "text/html": [
              " View sweep at <a href='https://wandb.ai/remchat/defence-force/sweeps/k5lpmxhw' target=\"_blank\">https://wandb.ai/remchat/defence-force/sweeps/k5lpmxhw</a>"
            ],
            "text/plain": [
              "<IPython.core.display.HTML object>"
            ]
          },
          "metadata": {},
          "output_type": "display_data"
        },
        {
          "data": {
            "text/html": [
              " View run at <a href='https://wandb.ai/remchat/defence-force/runs/whozdtex' target=\"_blank\">https://wandb.ai/remchat/defence-force/runs/whozdtex</a>"
            ],
            "text/plain": [
              "<IPython.core.display.HTML object>"
            ]
          },
          "metadata": {},
          "output_type": "display_data"
        },
        {
          "name": "stdout",
          "output_type": "stream",
          "text": [
            "Epoch 1/60\n",
            "1816/1818 [============================>.] - ETA: 0s - loss: 1.1199 - accuracy: 0.5736 - f1_score: 0.5505"
          ]
        },
        {
          "name": "stderr",
          "output_type": "stream",
          "text": [
            "WARNING:absl:Found untraced functions such as _jit_compiled_convolution_op, _jit_compiled_convolution_op, _jit_compiled_convolution_op, _jit_compiled_convolution_op, _jit_compiled_convolution_op while saving (showing 5 of 112). These functions will not be directly callable after loading.\n",
            "\u001b[34m\u001b[1mwandb\u001b[0m: Adding directory to artifact (/content/gdrive/MyDrive/RifleAction/wandb/run-20230805_085211-whozdtex/files/model-best)... Done. 0.0s\n"
          ]
        },
        {
          "name": "stdout",
          "output_type": "stream",
          "text": [
            "1818/1818 [==============================] - 77s 38ms/step - loss: 1.1198 - accuracy: 0.5736 - f1_score: 0.5505 - val_loss: 1.0006 - val_accuracy: 0.5821 - val_f1_score: 0.5535\n",
            "Epoch 2/60\n",
            "1818/1818 [==============================] - 56s 31ms/step - loss: 0.8373 - accuracy: 0.6751 - f1_score: 0.6620 - val_loss: 1.0267 - val_accuracy: 0.5971 - val_f1_score: 0.5949\n",
            "Epoch 3/60\n",
            "1818/1818 [==============================] - 53s 29ms/step - loss: 0.7464 - accuracy: 0.7059 - f1_score: 0.6987 - val_loss: 1.0083 - val_accuracy: 0.6112 - val_f1_score: 0.6105\n",
            "Epoch 4/60\n",
            "1818/1818 [==============================] - 54s 30ms/step - loss: 0.6937 - accuracy: 0.7267 - f1_score: 0.7221 - val_loss: 1.0033 - val_accuracy: 0.6073 - val_f1_score: 0.6135\n",
            "Epoch 5/60\n",
            "1818/1818 [==============================] - 57s 31ms/step - loss: 0.6572 - accuracy: 0.7406 - f1_score: 0.7375 - val_loss: 1.0340 - val_accuracy: 0.6307 - val_f1_score: 0.6362\n",
            "Epoch 6/60\n",
            "1818/1818 [==============================] - 54s 29ms/step - loss: 0.6302 - accuracy: 0.7518 - f1_score: 0.7493 - val_loss: 1.1737 - val_accuracy: 0.5640 - val_f1_score: 0.5746\n",
            "Epoch 7/60\n",
            "1818/1818 [==============================] - 54s 30ms/step - loss: 0.6082 - accuracy: 0.7607 - f1_score: 0.7588 - val_loss: 1.1643 - val_accuracy: 0.5772 - val_f1_score: 0.5871\n",
            "Epoch 8/60\n",
            "1818/1818 [==============================] - 58s 32ms/step - loss: 0.5902 - accuracy: 0.7679 - f1_score: 0.7662 - val_loss: 1.0605 - val_accuracy: 0.6385 - val_f1_score: 0.6481\n",
            "Epoch 9/60\n",
            "1818/1818 [==============================] - 57s 31ms/step - loss: 0.5793 - accuracy: 0.7717 - f1_score: 0.7703 - val_loss: 1.1399 - val_accuracy: 0.6059 - val_f1_score: 0.6165\n",
            "Epoch 10/60\n",
            "1818/1818 [==============================] - 54s 30ms/step - loss: 0.5680 - accuracy: 0.7759 - f1_score: 0.7745 - val_loss: 1.1148 - val_accuracy: 0.6362 - val_f1_score: 0.6339\n",
            "Epoch 11/60\n",
            "1818/1818 [==============================] - 56s 31ms/step - loss: 0.5564 - accuracy: 0.7797 - f1_score: 0.7786 - val_loss: 1.1838 - val_accuracy: 0.5978 - val_f1_score: 0.6067\n",
            "Epoch 12/60\n",
            "1818/1818 [==============================] - 54s 30ms/step - loss: 0.5497 - accuracy: 0.7833 - f1_score: 0.7823 - val_loss: 1.1621 - val_accuracy: 0.6145 - val_f1_score: 0.6195\n",
            "Epoch 13/60\n",
            "1818/1818 [==============================] - 54s 30ms/step - loss: 0.5393 - accuracy: 0.7857 - f1_score: 0.7848 - val_loss: 1.2511 - val_accuracy: 0.5833 - val_f1_score: 0.5949\n",
            "Epoch 14/60\n",
            "1818/1818 [==============================] - 58s 32ms/step - loss: 0.5273 - accuracy: 0.7919 - f1_score: 0.7911 - val_loss: 1.2543 - val_accuracy: 0.5882 - val_f1_score: 0.5991\n",
            "Epoch 15/60\n",
            "1818/1818 [==============================] - 54s 30ms/step - loss: 0.5221 - accuracy: 0.7936 - f1_score: 0.7928 - val_loss: 1.3477 - val_accuracy: 0.5370 - val_f1_score: 0.5523\n",
            "Epoch 16/60\n",
            "1818/1818 [==============================] - 57s 31ms/step - loss: 0.5174 - accuracy: 0.7949 - f1_score: 0.7941 - val_loss: 1.2907 - val_accuracy: 0.6003 - val_f1_score: 0.6028\n",
            "Epoch 17/60\n",
            "1818/1818 [==============================] - 57s 32ms/step - loss: 0.5096 - accuracy: 0.7980 - f1_score: 0.7972 - val_loss: 1.2581 - val_accuracy: 0.6063 - val_f1_score: 0.6151\n",
            "Epoch 18/60\n",
            "1818/1818 [==============================] - 56s 31ms/step - loss: 0.5047 - accuracy: 0.8000 - f1_score: 0.7993 - val_loss: 1.3228 - val_accuracy: 0.5882 - val_f1_score: 0.5904\n"
          ]
        },
        {
          "data": {
            "text/html": [
              "Waiting for W&B process to finish... <strong style=\"color:green\">(success).</strong>"
            ],
            "text/plain": [
              "<IPython.core.display.HTML object>"
            ]
          },
          "metadata": {},
          "output_type": "display_data"
        },
        {
          "data": {
            "text/html": [
              "<style>\n",
              "    table.wandb td:nth-child(1) { padding: 0 10px; text-align: left ; width: auto;} td:nth-child(2) {text-align: left ; width: 100%}\n",
              "    .wandb-row { display: flex; flex-direction: row; flex-wrap: wrap; justify-content: flex-start; width: 100% }\n",
              "    .wandb-col { display: flex; flex-direction: column; flex-basis: 100%; flex: 1; padding: 10px; }\n",
              "    </style>\n",
              "<div class=\"wandb-row\"><div class=\"wandb-col\"><h3>Run history:</h3><br/><table class=\"wandb\"><tr><td>accuracy</td><td>▁▄▅▆▆▇▇▇▇▇▇▇██████</td></tr><tr><td>epoch</td><td>▁▁▂▂▃▃▃▄▄▅▅▆▆▆▇▇██</td></tr><tr><td>f1_score</td><td>▁▄▅▆▆▇▇▇▇▇▇███████</td></tr><tr><td>loss</td><td>█▅▄▃▃▂▂▂▂▂▂▂▁▁▁▁▁▁</td></tr><tr><td>val_accuracy</td><td>▄▅▆▆▇▃▄█▆█▅▆▄▅▁▅▆▅</td></tr><tr><td>val_f1_score</td><td>▁▄▅▅▇▃▄█▆▇▅▆▄▄▁▅▆▄</td></tr><tr><td>val_loss</td><td>▁▂▁▁▂▄▄▂▄▃▅▄▆▆█▇▆▇</td></tr></table><br/></div><div class=\"wandb-col\"><h3>Run summary:</h3><br/><table class=\"wandb\"><tr><td>accuracy</td><td>0.80003</td></tr><tr><td>best_epoch</td><td>0</td></tr><tr><td>best_val_loss</td><td>1.00058</td></tr><tr><td>epoch</td><td>17</td></tr><tr><td>f1_score</td><td>0.7993</td></tr><tr><td>loss</td><td>0.5047</td></tr><tr><td>val_accuracy</td><td>0.58819</td></tr><tr><td>val_f1_score</td><td>0.59036</td></tr><tr><td>val_loss</td><td>1.32277</td></tr></table><br/></div></div>"
            ],
            "text/plain": [
              "<IPython.core.display.HTML object>"
            ]
          },
          "metadata": {},
          "output_type": "display_data"
        },
        {
          "data": {
            "text/html": [
              " View run <strong style=\"color:#cdcd00\">azure-sweep-24</strong> at: <a href='https://wandb.ai/remchat/defence-force/runs/whozdtex' target=\"_blank\">https://wandb.ai/remchat/defence-force/runs/whozdtex</a><br/> View job at <a href='https://wandb.ai/remchat/defence-force/jobs/QXJ0aWZhY3RDb2xsZWN0aW9uOjg3OTM1OTcx/version_details/v9' target=\"_blank\">https://wandb.ai/remchat/defence-force/jobs/QXJ0aWZhY3RDb2xsZWN0aW9uOjg3OTM1OTcx/version_details/v9</a><br/>Synced 5 W&B file(s), 1 media file(s), 5 artifact file(s) and 1 other file(s)"
            ],
            "text/plain": [
              "<IPython.core.display.HTML object>"
            ]
          },
          "metadata": {},
          "output_type": "display_data"
        },
        {
          "data": {
            "text/html": [
              "Find logs at: <code>./wandb/run-20230805_085211-whozdtex/logs</code>"
            ],
            "text/plain": [
              "<IPython.core.display.HTML object>"
            ]
          },
          "metadata": {},
          "output_type": "display_data"
        },
        {
          "name": "stderr",
          "output_type": "stream",
          "text": [
            "\u001b[34m\u001b[1mwandb\u001b[0m: Agent Starting Run: cegxday5 with config:\n",
            "\u001b[34m\u001b[1mwandb\u001b[0m: \tdropout: 0.1\n",
            "\u001b[34m\u001b[1mwandb\u001b[0m: \tepochs: 60\n",
            "\u001b[34m\u001b[1mwandb\u001b[0m: \tff_dim: 4\n",
            "\u001b[34m\u001b[1mwandb\u001b[0m: \thead_size: 32\n",
            "\u001b[34m\u001b[1mwandb\u001b[0m: \tlearning_rate: 0.0001\n",
            "\u001b[34m\u001b[1mwandb\u001b[0m: \tmlp_dropout: 0.3\n",
            "\u001b[34m\u001b[1mwandb\u001b[0m: \tmlp_units: [128, 64]\n",
            "\u001b[34m\u001b[1mwandb\u001b[0m: \tnum_heads: 8\n",
            "\u001b[34m\u001b[1mwandb\u001b[0m: \tnum_transformer_blocks: 2\n",
            "\u001b[34m\u001b[1mwandb\u001b[0m: \u001b[33mWARNING\u001b[0m Ignored wandb.init() arg project when running a sweep.\n"
          ]
        },
        {
          "data": {
            "text/html": [
              "Tracking run with wandb version 0.15.8"
            ],
            "text/plain": [
              "<IPython.core.display.HTML object>"
            ]
          },
          "metadata": {},
          "output_type": "display_data"
        },
        {
          "data": {
            "text/html": [
              "Run data is saved locally in <code>/content/gdrive/MyDrive/RifleAction/wandb/run-20230805_091127-cegxday5</code>"
            ],
            "text/plain": [
              "<IPython.core.display.HTML object>"
            ]
          },
          "metadata": {},
          "output_type": "display_data"
        },
        {
          "data": {
            "text/html": [
              "Syncing run <strong><a href='https://wandb.ai/remchat/defence-force/runs/cegxday5' target=\"_blank\">whole-sweep-26</a></strong> to <a href='https://wandb.ai/remchat/defence-force' target=\"_blank\">Weights & Biases</a> (<a href='https://wandb.me/run' target=\"_blank\">docs</a>)<br/>Sweep page: <a href='https://wandb.ai/remchat/defence-force/sweeps/k5lpmxhw' target=\"_blank\">https://wandb.ai/remchat/defence-force/sweeps/k5lpmxhw</a>"
            ],
            "text/plain": [
              "<IPython.core.display.HTML object>"
            ]
          },
          "metadata": {},
          "output_type": "display_data"
        },
        {
          "data": {
            "text/html": [
              " View project at <a href='https://wandb.ai/remchat/defence-force' target=\"_blank\">https://wandb.ai/remchat/defence-force</a>"
            ],
            "text/plain": [
              "<IPython.core.display.HTML object>"
            ]
          },
          "metadata": {},
          "output_type": "display_data"
        },
        {
          "data": {
            "text/html": [
              " View sweep at <a href='https://wandb.ai/remchat/defence-force/sweeps/k5lpmxhw' target=\"_blank\">https://wandb.ai/remchat/defence-force/sweeps/k5lpmxhw</a>"
            ],
            "text/plain": [
              "<IPython.core.display.HTML object>"
            ]
          },
          "metadata": {},
          "output_type": "display_data"
        },
        {
          "data": {
            "text/html": [
              " View run at <a href='https://wandb.ai/remchat/defence-force/runs/cegxday5' target=\"_blank\">https://wandb.ai/remchat/defence-force/runs/cegxday5</a>"
            ],
            "text/plain": [
              "<IPython.core.display.HTML object>"
            ]
          },
          "metadata": {},
          "output_type": "display_data"
        },
        {
          "name": "stdout",
          "output_type": "stream",
          "text": [
            "Epoch 1/60\n",
            "1813/1818 [============================>.] - ETA: 0s - loss: 1.7848 - accuracy: 0.3687 - f1_score: 0.2798"
          ]
        },
        {
          "name": "stderr",
          "output_type": "stream",
          "text": [
            "WARNING:absl:Found untraced functions such as _jit_compiled_convolution_op, _jit_compiled_convolution_op, _jit_compiled_convolution_op, _jit_compiled_convolution_op, query_layer_call_fn while saving (showing 5 of 28). These functions will not be directly callable after loading.\n",
            "\u001b[34m\u001b[1mwandb\u001b[0m: Adding directory to artifact (/content/gdrive/MyDrive/RifleAction/wandb/run-20230805_091127-cegxday5/files/model-best)... Done. 0.0s\n"
          ]
        },
        {
          "name": "stdout",
          "output_type": "stream",
          "text": [
            "1818/1818 [==============================] - 28s 14ms/step - loss: 1.7838 - accuracy: 0.3690 - f1_score: 0.2803 - val_loss: 1.4105 - val_accuracy: 0.4409 - val_f1_score: 0.3385\n",
            "Epoch 2/60\n",
            "1814/1818 [============================>.] - ETA: 0s - loss: 1.4121 - accuracy: 0.4733 - f1_score: 0.4314"
          ]
        },
        {
          "name": "stderr",
          "output_type": "stream",
          "text": [
            "WARNING:absl:Found untraced functions such as _jit_compiled_convolution_op, _jit_compiled_convolution_op, _jit_compiled_convolution_op, _jit_compiled_convolution_op, query_layer_call_fn while saving (showing 5 of 28). These functions will not be directly callable after loading.\n",
            "\u001b[34m\u001b[1mwandb\u001b[0m: Adding directory to artifact (/content/gdrive/MyDrive/RifleAction/wandb/run-20230805_091127-cegxday5/files/model-best)... Done. 0.0s\n"
          ]
        },
        {
          "name": "stdout",
          "output_type": "stream",
          "text": [
            "1818/1818 [==============================] - 27s 15ms/step - loss: 1.4120 - accuracy: 0.4733 - f1_score: 0.4314 - val_loss: 1.2604 - val_accuracy: 0.4769 - val_f1_score: 0.3902\n",
            "Epoch 3/60\n",
            "1818/1818 [==============================] - ETA: 0s - loss: 1.2835 - accuracy: 0.5169 - f1_score: 0.4813"
          ]
        },
        {
          "name": "stderr",
          "output_type": "stream",
          "text": [
            "WARNING:absl:Found untraced functions such as _jit_compiled_convolution_op, _jit_compiled_convolution_op, _jit_compiled_convolution_op, _jit_compiled_convolution_op, query_layer_call_fn while saving (showing 5 of 28). These functions will not be directly callable after loading.\n",
            "\u001b[34m\u001b[1mwandb\u001b[0m: Adding directory to artifact (/content/gdrive/MyDrive/RifleAction/wandb/run-20230805_091127-cegxday5/files/model-best)... Done. 0.0s\n"
          ]
        },
        {
          "name": "stdout",
          "output_type": "stream",
          "text": [
            "1818/1818 [==============================] - 26s 14ms/step - loss: 1.2835 - accuracy: 0.5169 - f1_score: 0.4813 - val_loss: 1.1856 - val_accuracy: 0.4901 - val_f1_score: 0.4063\n",
            "Epoch 4/60\n",
            "1816/1818 [============================>.] - ETA: 0s - loss: 1.1983 - accuracy: 0.5464 - f1_score: 0.5122"
          ]
        },
        {
          "name": "stderr",
          "output_type": "stream",
          "text": [
            "WARNING:absl:Found untraced functions such as _jit_compiled_convolution_op, _jit_compiled_convolution_op, _jit_compiled_convolution_op, _jit_compiled_convolution_op, query_layer_call_fn while saving (showing 5 of 28). These functions will not be directly callable after loading.\n",
            "\u001b[34m\u001b[1mwandb\u001b[0m: Adding directory to artifact (/content/gdrive/MyDrive/RifleAction/wandb/run-20230805_091127-cegxday5/files/model-best)... Done. 0.0s\n"
          ]
        },
        {
          "name": "stdout",
          "output_type": "stream",
          "text": [
            "1818/1818 [==============================] - 27s 15ms/step - loss: 1.1982 - accuracy: 0.5464 - f1_score: 0.5123 - val_loss: 1.1263 - val_accuracy: 0.5332 - val_f1_score: 0.4648\n",
            "Epoch 5/60\n",
            "1818/1818 [==============================] - ETA: 0s - loss: 1.1370 - accuracy: 0.5675 - f1_score: 0.5343"
          ]
        },
        {
          "name": "stderr",
          "output_type": "stream",
          "text": [
            "WARNING:absl:Found untraced functions such as _jit_compiled_convolution_op, _jit_compiled_convolution_op, _jit_compiled_convolution_op, _jit_compiled_convolution_op, query_layer_call_fn while saving (showing 5 of 28). These functions will not be directly callable after loading.\n",
            "\u001b[34m\u001b[1mwandb\u001b[0m: Adding directory to artifact (/content/gdrive/MyDrive/RifleAction/wandb/run-20230805_091127-cegxday5/files/model-best)... Done. 0.0s\n"
          ]
        },
        {
          "name": "stdout",
          "output_type": "stream",
          "text": [
            "1818/1818 [==============================] - 27s 15ms/step - loss: 1.1370 - accuracy: 0.5675 - f1_score: 0.5343 - val_loss: 1.0674 - val_accuracy: 0.5702 - val_f1_score: 0.5174\n",
            "Epoch 6/60\n",
            "1813/1818 [============================>.] - ETA: 0s - loss: 1.0895 - accuracy: 0.5852 - f1_score: 0.5537"
          ]
        },
        {
          "name": "stderr",
          "output_type": "stream",
          "text": [
            "WARNING:absl:Found untraced functions such as _jit_compiled_convolution_op, _jit_compiled_convolution_op, _jit_compiled_convolution_op, _jit_compiled_convolution_op, query_layer_call_fn while saving (showing 5 of 28). These functions will not be directly callable after loading.\n",
            "\u001b[34m\u001b[1mwandb\u001b[0m: Adding directory to artifact (/content/gdrive/MyDrive/RifleAction/wandb/run-20230805_091127-cegxday5/files/model-best)... Done. 0.0s\n"
          ]
        },
        {
          "name": "stdout",
          "output_type": "stream",
          "text": [
            "1818/1818 [==============================] - 25s 14ms/step - loss: 1.0895 - accuracy: 0.5852 - f1_score: 0.5537 - val_loss: 1.0616 - val_accuracy: 0.5461 - val_f1_score: 0.4978\n",
            "Epoch 7/60\n",
            "1818/1818 [==============================] - ETA: 0s - loss: 1.0532 - accuracy: 0.5976 - f1_score: 0.5670"
          ]
        },
        {
          "name": "stderr",
          "output_type": "stream",
          "text": [
            "WARNING:absl:Found untraced functions such as _jit_compiled_convolution_op, _jit_compiled_convolution_op, _jit_compiled_convolution_op, _jit_compiled_convolution_op, query_layer_call_fn while saving (showing 5 of 28). These functions will not be directly callable after loading.\n",
            "\u001b[34m\u001b[1mwandb\u001b[0m: Adding directory to artifact (/content/gdrive/MyDrive/RifleAction/wandb/run-20230805_091127-cegxday5/files/model-best)... Done. 0.0s\n"
          ]
        },
        {
          "name": "stdout",
          "output_type": "stream",
          "text": [
            "1818/1818 [==============================] - 26s 14ms/step - loss: 1.0532 - accuracy: 0.5976 - f1_score: 0.5670 - val_loss: 1.0486 - val_accuracy: 0.5568 - val_f1_score: 0.5245\n",
            "Epoch 8/60\n",
            "1813/1818 [============================>.] - ETA: 0s - loss: 1.0241 - accuracy: 0.6073 - f1_score: 0.5787"
          ]
        },
        {
          "name": "stderr",
          "output_type": "stream",
          "text": [
            "WARNING:absl:Found untraced functions such as _jit_compiled_convolution_op, _jit_compiled_convolution_op, _jit_compiled_convolution_op, _jit_compiled_convolution_op, query_layer_call_fn while saving (showing 5 of 28). These functions will not be directly callable after loading.\n",
            "\u001b[34m\u001b[1mwandb\u001b[0m: Adding directory to artifact (/content/gdrive/MyDrive/RifleAction/wandb/run-20230805_091127-cegxday5/files/model-best)... Done. 0.0s\n"
          ]
        },
        {
          "name": "stdout",
          "output_type": "stream",
          "text": [
            "1818/1818 [==============================] - 25s 14ms/step - loss: 1.0244 - accuracy: 0.6072 - f1_score: 0.5785 - val_loss: 1.0471 - val_accuracy: 0.5482 - val_f1_score: 0.5092\n",
            "Epoch 9/60\n",
            "1818/1818 [==============================] - ETA: 0s - loss: 1.0012 - accuracy: 0.6162 - f1_score: 0.5880"
          ]
        },
        {
          "name": "stderr",
          "output_type": "stream",
          "text": [
            "WARNING:absl:Found untraced functions such as _jit_compiled_convolution_op, _jit_compiled_convolution_op, _jit_compiled_convolution_op, _jit_compiled_convolution_op, query_layer_call_fn while saving (showing 5 of 28). These functions will not be directly callable after loading.\n",
            "\u001b[34m\u001b[1mwandb\u001b[0m: Adding directory to artifact (/content/gdrive/MyDrive/RifleAction/wandb/run-20230805_091127-cegxday5/files/model-best)... Done. 0.0s\n"
          ]
        },
        {
          "name": "stdout",
          "output_type": "stream",
          "text": [
            "1818/1818 [==============================] - 25s 14ms/step - loss: 1.0012 - accuracy: 0.6162 - f1_score: 0.5880 - val_loss: 1.0343 - val_accuracy: 0.5600 - val_f1_score: 0.5225\n",
            "Epoch 10/60\n",
            "1818/1818 [==============================] - 22s 12ms/step - loss: 0.9783 - accuracy: 0.6245 - f1_score: 0.5972 - val_loss: 1.0351 - val_accuracy: 0.5637 - val_f1_score: 0.5350\n",
            "Epoch 11/60\n",
            "1814/1818 [============================>.] - ETA: 0s - loss: 0.9627 - accuracy: 0.6289 - f1_score: 0.6026"
          ]
        },
        {
          "name": "stderr",
          "output_type": "stream",
          "text": [
            "WARNING:absl:Found untraced functions such as _jit_compiled_convolution_op, _jit_compiled_convolution_op, _jit_compiled_convolution_op, _jit_compiled_convolution_op, query_layer_call_fn while saving (showing 5 of 28). These functions will not be directly callable after loading.\n",
            "\u001b[34m\u001b[1mwandb\u001b[0m: Adding directory to artifact (/content/gdrive/MyDrive/RifleAction/wandb/run-20230805_091127-cegxday5/files/model-best)... Done. 0.0s\n"
          ]
        },
        {
          "name": "stdout",
          "output_type": "stream",
          "text": [
            "1818/1818 [==============================] - 24s 13ms/step - loss: 0.9625 - accuracy: 0.6290 - f1_score: 0.6027 - val_loss: 1.0165 - val_accuracy: 0.5693 - val_f1_score: 0.5450\n",
            "Epoch 12/60\n",
            "1817/1818 [============================>.] - ETA: 0s - loss: 0.9440 - accuracy: 0.6354 - f1_score: 0.6100"
          ]
        },
        {
          "name": "stderr",
          "output_type": "stream",
          "text": [
            "WARNING:absl:Found untraced functions such as _jit_compiled_convolution_op, _jit_compiled_convolution_op, _jit_compiled_convolution_op, _jit_compiled_convolution_op, query_layer_call_fn while saving (showing 5 of 28). These functions will not be directly callable after loading.\n",
            "\u001b[34m\u001b[1mwandb\u001b[0m: Adding directory to artifact (/content/gdrive/MyDrive/RifleAction/wandb/run-20230805_091127-cegxday5/files/model-best)... Done. 0.0s\n"
          ]
        },
        {
          "name": "stdout",
          "output_type": "stream",
          "text": [
            "1818/1818 [==============================] - 28s 16ms/step - loss: 0.9441 - accuracy: 0.6354 - f1_score: 0.6100 - val_loss: 1.0067 - val_accuracy: 0.5602 - val_f1_score: 0.5353\n",
            "Epoch 13/60\n",
            "1816/1818 [============================>.] - ETA: 0s - loss: 0.9304 - accuracy: 0.6399 - f1_score: 0.6156"
          ]
        },
        {
          "name": "stderr",
          "output_type": "stream",
          "text": [
            "WARNING:absl:Found untraced functions such as _jit_compiled_convolution_op, _jit_compiled_convolution_op, _jit_compiled_convolution_op, _jit_compiled_convolution_op, query_layer_call_fn while saving (showing 5 of 28). These functions will not be directly callable after loading.\n",
            "\u001b[34m\u001b[1mwandb\u001b[0m: Adding directory to artifact (/content/gdrive/MyDrive/RifleAction/wandb/run-20230805_091127-cegxday5/files/model-best)... Done. 0.0s\n"
          ]
        },
        {
          "name": "stdout",
          "output_type": "stream",
          "text": [
            "1818/1818 [==============================] - 26s 14ms/step - loss: 0.9303 - accuracy: 0.6400 - f1_score: 0.6157 - val_loss: 1.0024 - val_accuracy: 0.5795 - val_f1_score: 0.5636\n",
            "Epoch 14/60\n",
            "1818/1818 [==============================] - 20s 11ms/step - loss: 0.9172 - accuracy: 0.6442 - f1_score: 0.6211 - val_loss: 1.0037 - val_accuracy: 0.5814 - val_f1_score: 0.5697\n",
            "Epoch 15/60\n",
            "1817/1818 [============================>.] - ETA: 0s - loss: 0.9062 - accuracy: 0.6485 - f1_score: 0.6261"
          ]
        },
        {
          "name": "stderr",
          "output_type": "stream",
          "text": [
            "WARNING:absl:Found untraced functions such as _jit_compiled_convolution_op, _jit_compiled_convolution_op, _jit_compiled_convolution_op, _jit_compiled_convolution_op, query_layer_call_fn while saving (showing 5 of 28). These functions will not be directly callable after loading.\n",
            "\u001b[34m\u001b[1mwandb\u001b[0m: Adding directory to artifact (/content/gdrive/MyDrive/RifleAction/wandb/run-20230805_091127-cegxday5/files/model-best)... Done. 0.0s\n"
          ]
        },
        {
          "name": "stdout",
          "output_type": "stream",
          "text": [
            "1818/1818 [==============================] - 26s 14ms/step - loss: 0.9062 - accuracy: 0.6485 - f1_score: 0.6261 - val_loss: 0.9891 - val_accuracy: 0.5792 - val_f1_score: 0.5602\n",
            "Epoch 16/60\n",
            "1818/1818 [==============================] - 20s 11ms/step - loss: 0.8911 - accuracy: 0.6535 - f1_score: 0.6326 - val_loss: 0.9983 - val_accuracy: 0.5879 - val_f1_score: 0.5816\n",
            "Epoch 17/60\n",
            "1816/1818 [============================>.] - ETA: 0s - loss: 0.8793 - accuracy: 0.6563 - f1_score: 0.6372"
          ]
        },
        {
          "name": "stderr",
          "output_type": "stream",
          "text": [
            "WARNING:absl:Found untraced functions such as _jit_compiled_convolution_op, _jit_compiled_convolution_op, _jit_compiled_convolution_op, _jit_compiled_convolution_op, query_layer_call_fn while saving (showing 5 of 28). These functions will not be directly callable after loading.\n",
            "\u001b[34m\u001b[1mwandb\u001b[0m: Adding directory to artifact (/content/gdrive/MyDrive/RifleAction/wandb/run-20230805_091127-cegxday5/files/model-best)... Done. 0.0s\n"
          ]
        },
        {
          "name": "stdout",
          "output_type": "stream",
          "text": [
            "1818/1818 [==============================] - 26s 14ms/step - loss: 0.8791 - accuracy: 0.6564 - f1_score: 0.6372 - val_loss: 0.9708 - val_accuracy: 0.5973 - val_f1_score: 0.5897\n",
            "Epoch 18/60\n",
            "1818/1818 [==============================] - 21s 12ms/step - loss: 0.8714 - accuracy: 0.6602 - f1_score: 0.6419 - val_loss: 1.0007 - val_accuracy: 0.5894 - val_f1_score: 0.5849\n",
            "Epoch 19/60\n",
            "1818/1818 [==============================] - 24s 13ms/step - loss: 0.8609 - accuracy: 0.6641 - f1_score: 0.6479 - val_loss: 0.9816 - val_accuracy: 0.5881 - val_f1_score: 0.5808\n",
            "Epoch 20/60\n",
            "1818/1818 [==============================] - 21s 11ms/step - loss: 0.8502 - accuracy: 0.6690 - f1_score: 0.6538 - val_loss: 0.9740 - val_accuracy: 0.6016 - val_f1_score: 0.6000\n",
            "Epoch 21/60\n",
            "1818/1818 [==============================] - 20s 11ms/step - loss: 0.8427 - accuracy: 0.6718 - f1_score: 0.6581 - val_loss: 0.9796 - val_accuracy: 0.5879 - val_f1_score: 0.5815\n",
            "Epoch 22/60\n",
            "1816/1818 [============================>.] - ETA: 0s - loss: 0.8335 - accuracy: 0.6758 - f1_score: 0.6631"
          ]
        },
        {
          "name": "stderr",
          "output_type": "stream",
          "text": [
            "WARNING:absl:Found untraced functions such as _jit_compiled_convolution_op, _jit_compiled_convolution_op, _jit_compiled_convolution_op, _jit_compiled_convolution_op, query_layer_call_fn while saving (showing 5 of 28). These functions will not be directly callable after loading.\n",
            "\u001b[34m\u001b[1mwandb\u001b[0m: Adding directory to artifact (/content/gdrive/MyDrive/RifleAction/wandb/run-20230805_091127-cegxday5/files/model-best)... Done. 0.0s\n"
          ]
        },
        {
          "name": "stdout",
          "output_type": "stream",
          "text": [
            "1818/1818 [==============================] - 27s 15ms/step - loss: 0.8335 - accuracy: 0.6758 - f1_score: 0.6631 - val_loss: 0.9590 - val_accuracy: 0.5994 - val_f1_score: 0.5953\n",
            "Epoch 23/60\n",
            "1817/1818 [============================>.] - ETA: 0s - loss: 0.8221 - accuracy: 0.6803 - f1_score: 0.6691"
          ]
        },
        {
          "name": "stderr",
          "output_type": "stream",
          "text": [
            "WARNING:absl:Found untraced functions such as _jit_compiled_convolution_op, _jit_compiled_convolution_op, _jit_compiled_convolution_op, _jit_compiled_convolution_op, query_layer_call_fn while saving (showing 5 of 28). These functions will not be directly callable after loading.\n",
            "\u001b[34m\u001b[1mwandb\u001b[0m: Adding directory to artifact (/content/gdrive/MyDrive/RifleAction/wandb/run-20230805_091127-cegxday5/files/model-best)... Done. 0.0s\n"
          ]
        },
        {
          "name": "stdout",
          "output_type": "stream",
          "text": [
            "1818/1818 [==============================] - 26s 14ms/step - loss: 0.8221 - accuracy: 0.6803 - f1_score: 0.6691 - val_loss: 0.9503 - val_accuracy: 0.6147 - val_f1_score: 0.6135\n",
            "Epoch 24/60\n",
            "1818/1818 [==============================] - 20s 11ms/step - loss: 0.8140 - accuracy: 0.6837 - f1_score: 0.6728 - val_loss: 0.9673 - val_accuracy: 0.6063 - val_f1_score: 0.6068\n",
            "Epoch 25/60\n",
            "1818/1818 [==============================] - 22s 12ms/step - loss: 0.8080 - accuracy: 0.6861 - f1_score: 0.6767 - val_loss: 0.9724 - val_accuracy: 0.5890 - val_f1_score: 0.5842\n",
            "Epoch 26/60\n",
            "1818/1818 [==============================] - ETA: 0s - loss: 0.8010 - accuracy: 0.6902 - f1_score: 0.6812"
          ]
        },
        {
          "name": "stderr",
          "output_type": "stream",
          "text": [
            "WARNING:absl:Found untraced functions such as _jit_compiled_convolution_op, _jit_compiled_convolution_op, _jit_compiled_convolution_op, _jit_compiled_convolution_op, query_layer_call_fn while saving (showing 5 of 28). These functions will not be directly callable after loading.\n",
            "\u001b[34m\u001b[1mwandb\u001b[0m: Adding directory to artifact (/content/gdrive/MyDrive/RifleAction/wandb/run-20230805_091127-cegxday5/files/model-best)... Done. 0.0s\n"
          ]
        },
        {
          "name": "stdout",
          "output_type": "stream",
          "text": [
            "1818/1818 [==============================] - 28s 15ms/step - loss: 0.8010 - accuracy: 0.6902 - f1_score: 0.6812 - val_loss: 0.9416 - val_accuracy: 0.6153 - val_f1_score: 0.6119\n",
            "Epoch 27/60\n",
            "1818/1818 [==============================] - 22s 12ms/step - loss: 0.7948 - accuracy: 0.6920 - f1_score: 0.6838 - val_loss: 0.9432 - val_accuracy: 0.6269 - val_f1_score: 0.6275\n",
            "Epoch 28/60\n",
            "1818/1818 [==============================] - 21s 12ms/step - loss: 0.7860 - accuracy: 0.6945 - f1_score: 0.6869 - val_loss: 0.9425 - val_accuracy: 0.6294 - val_f1_score: 0.6278\n",
            "Epoch 29/60\n",
            "1817/1818 [============================>.] - ETA: 0s - loss: 0.7782 - accuracy: 0.6976 - f1_score: 0.6903"
          ]
        },
        {
          "name": "stderr",
          "output_type": "stream",
          "text": [
            "WARNING:absl:Found untraced functions such as _jit_compiled_convolution_op, _jit_compiled_convolution_op, _jit_compiled_convolution_op, _jit_compiled_convolution_op, query_layer_call_fn while saving (showing 5 of 28). These functions will not be directly callable after loading.\n",
            "\u001b[34m\u001b[1mwandb\u001b[0m: Adding directory to artifact (/content/gdrive/MyDrive/RifleAction/wandb/run-20230805_091127-cegxday5/files/model-best)... Done. 0.0s\n"
          ]
        },
        {
          "name": "stdout",
          "output_type": "stream",
          "text": [
            "1818/1818 [==============================] - 26s 14ms/step - loss: 0.7783 - accuracy: 0.6976 - f1_score: 0.6903 - val_loss: 0.9307 - val_accuracy: 0.6299 - val_f1_score: 0.6291\n",
            "Epoch 30/60\n",
            "1818/1818 [==============================] - 20s 11ms/step - loss: 0.7755 - accuracy: 0.6993 - f1_score: 0.6924 - val_loss: 0.9542 - val_accuracy: 0.6280 - val_f1_score: 0.6307\n",
            "Epoch 31/60\n",
            "1815/1818 [============================>.] - ETA: 0s - loss: 0.7688 - accuracy: 0.7006 - f1_score: 0.6940"
          ]
        },
        {
          "name": "stderr",
          "output_type": "stream",
          "text": [
            "WARNING:absl:Found untraced functions such as _jit_compiled_convolution_op, _jit_compiled_convolution_op, _jit_compiled_convolution_op, _jit_compiled_convolution_op, query_layer_call_fn while saving (showing 5 of 28). These functions will not be directly callable after loading.\n",
            "\u001b[34m\u001b[1mwandb\u001b[0m: Adding directory to artifact (/content/gdrive/MyDrive/RifleAction/wandb/run-20230805_091127-cegxday5/files/model-best)... Done. 0.0s\n"
          ]
        },
        {
          "name": "stdout",
          "output_type": "stream",
          "text": [
            "1818/1818 [==============================] - 27s 15ms/step - loss: 0.7687 - accuracy: 0.7007 - f1_score: 0.6941 - val_loss: 0.9283 - val_accuracy: 0.6348 - val_f1_score: 0.6357\n",
            "Epoch 32/60\n",
            "1818/1818 [==============================] - 22s 12ms/step - loss: 0.7643 - accuracy: 0.7033 - f1_score: 0.6970 - val_loss: 0.9290 - val_accuracy: 0.6358 - val_f1_score: 0.6371\n",
            "Epoch 33/60\n",
            "1817/1818 [============================>.] - ETA: 0s - loss: 0.7590 - accuracy: 0.7051 - f1_score: 0.6989"
          ]
        },
        {
          "name": "stderr",
          "output_type": "stream",
          "text": [
            "WARNING:absl:Found untraced functions such as _jit_compiled_convolution_op, _jit_compiled_convolution_op, _jit_compiled_convolution_op, _jit_compiled_convolution_op, query_layer_call_fn while saving (showing 5 of 28). These functions will not be directly callable after loading.\n",
            "\u001b[34m\u001b[1mwandb\u001b[0m: Adding directory to artifact (/content/gdrive/MyDrive/RifleAction/wandb/run-20230805_091127-cegxday5/files/model-best)... Done. 0.0s\n"
          ]
        },
        {
          "name": "stdout",
          "output_type": "stream",
          "text": [
            "1818/1818 [==============================] - 26s 14ms/step - loss: 0.7590 - accuracy: 0.7050 - f1_score: 0.6989 - val_loss: 0.9186 - val_accuracy: 0.6396 - val_f1_score: 0.6422\n",
            "Epoch 34/60\n",
            "1817/1818 [============================>.] - ETA: 0s - loss: 0.7569 - accuracy: 0.7063 - f1_score: 0.7006"
          ]
        },
        {
          "name": "stderr",
          "output_type": "stream",
          "text": [
            "WARNING:absl:Found untraced functions such as _jit_compiled_convolution_op, _jit_compiled_convolution_op, _jit_compiled_convolution_op, _jit_compiled_convolution_op, query_layer_call_fn while saving (showing 5 of 28). These functions will not be directly callable after loading.\n",
            "\u001b[34m\u001b[1mwandb\u001b[0m: Adding directory to artifact (/content/gdrive/MyDrive/RifleAction/wandb/run-20230805_091127-cegxday5/files/model-best)... Done. 0.0s\n"
          ]
        },
        {
          "name": "stdout",
          "output_type": "stream",
          "text": [
            "1818/1818 [==============================] - 26s 15ms/step - loss: 0.7568 - accuracy: 0.7063 - f1_score: 0.7006 - val_loss: 0.9183 - val_accuracy: 0.6356 - val_f1_score: 0.6370\n",
            "Epoch 35/60\n",
            "1818/1818 [==============================] - 20s 11ms/step - loss: 0.7509 - accuracy: 0.7084 - f1_score: 0.7027 - val_loss: 0.9258 - val_accuracy: 0.6370 - val_f1_score: 0.6391\n",
            "Epoch 36/60\n",
            "1815/1818 [============================>.] - ETA: 0s - loss: 0.7470 - accuracy: 0.7089 - f1_score: 0.7034"
          ]
        },
        {
          "name": "stderr",
          "output_type": "stream",
          "text": [
            "WARNING:absl:Found untraced functions such as _jit_compiled_convolution_op, _jit_compiled_convolution_op, _jit_compiled_convolution_op, _jit_compiled_convolution_op, query_layer_call_fn while saving (showing 5 of 28). These functions will not be directly callable after loading.\n",
            "\u001b[34m\u001b[1mwandb\u001b[0m: Adding directory to artifact (/content/gdrive/MyDrive/RifleAction/wandb/run-20230805_091127-cegxday5/files/model-best)... Done. 0.0s\n"
          ]
        },
        {
          "name": "stdout",
          "output_type": "stream",
          "text": [
            "1818/1818 [==============================] - 26s 14ms/step - loss: 0.7470 - accuracy: 0.7089 - f1_score: 0.7035 - val_loss: 0.9108 - val_accuracy: 0.6437 - val_f1_score: 0.6460\n",
            "Epoch 37/60\n",
            "1818/1818 [==============================] - 21s 11ms/step - loss: 0.7404 - accuracy: 0.7119 - f1_score: 0.7067 - val_loss: 0.9170 - val_accuracy: 0.6422 - val_f1_score: 0.6463\n",
            "Epoch 38/60\n",
            "1818/1818 [==============================] - 22s 12ms/step - loss: 0.7382 - accuracy: 0.7137 - f1_score: 0.7085 - val_loss: 0.9153 - val_accuracy: 0.6478 - val_f1_score: 0.6524\n",
            "Epoch 39/60\n",
            "1818/1818 [==============================] - 20s 11ms/step - loss: 0.7330 - accuracy: 0.7155 - f1_score: 0.7107 - val_loss: 0.9231 - val_accuracy: 0.6343 - val_f1_score: 0.6362\n",
            "Epoch 40/60\n",
            "1818/1818 [==============================] - 23s 13ms/step - loss: 0.7259 - accuracy: 0.7173 - f1_score: 0.7124 - val_loss: 0.9192 - val_accuracy: 0.6409 - val_f1_score: 0.6472\n",
            "Epoch 41/60\n",
            "1817/1818 [============================>.] - ETA: 0s - loss: 0.7254 - accuracy: 0.7181 - f1_score: 0.7133"
          ]
        },
        {
          "name": "stderr",
          "output_type": "stream",
          "text": [
            "WARNING:absl:Found untraced functions such as _jit_compiled_convolution_op, _jit_compiled_convolution_op, _jit_compiled_convolution_op, _jit_compiled_convolution_op, query_layer_call_fn while saving (showing 5 of 28). These functions will not be directly callable after loading.\n",
            "\u001b[34m\u001b[1mwandb\u001b[0m: Adding directory to artifact (/content/gdrive/MyDrive/RifleAction/wandb/run-20230805_091127-cegxday5/files/model-best)... Done. 0.0s\n"
          ]
        },
        {
          "name": "stdout",
          "output_type": "stream",
          "text": [
            "1818/1818 [==============================] - 25s 14ms/step - loss: 0.7254 - accuracy: 0.7181 - f1_score: 0.7132 - val_loss: 0.9104 - val_accuracy: 0.6484 - val_f1_score: 0.6522\n",
            "Epoch 42/60\n",
            "1818/1818 [==============================] - 23s 13ms/step - loss: 0.7210 - accuracy: 0.7192 - f1_score: 0.7146 - val_loss: 0.9239 - val_accuracy: 0.6355 - val_f1_score: 0.6419\n",
            "Epoch 43/60\n",
            "1818/1818 [==============================] - 20s 11ms/step - loss: 0.7213 - accuracy: 0.7202 - f1_score: 0.7155 - val_loss: 0.9441 - val_accuracy: 0.6304 - val_f1_score: 0.6384\n",
            "Epoch 44/60\n",
            "1815/1818 [============================>.] - ETA: 0s - loss: 0.7177 - accuracy: 0.7224 - f1_score: 0.7179"
          ]
        },
        {
          "name": "stderr",
          "output_type": "stream",
          "text": [
            "WARNING:absl:Found untraced functions such as _jit_compiled_convolution_op, _jit_compiled_convolution_op, _jit_compiled_convolution_op, _jit_compiled_convolution_op, query_layer_call_fn while saving (showing 5 of 28). These functions will not be directly callable after loading.\n",
            "\u001b[34m\u001b[1mwandb\u001b[0m: Adding directory to artifact (/content/gdrive/MyDrive/RifleAction/wandb/run-20230805_091127-cegxday5/files/model-best)... Done. 0.0s\n"
          ]
        },
        {
          "name": "stdout",
          "output_type": "stream",
          "text": [
            "1818/1818 [==============================] - 26s 14ms/step - loss: 0.7179 - accuracy: 0.7224 - f1_score: 0.7179 - val_loss: 0.9046 - val_accuracy: 0.6468 - val_f1_score: 0.6476\n",
            "Epoch 45/60\n",
            "1818/1818 [==============================] - 20s 11ms/step - loss: 0.7139 - accuracy: 0.7237 - f1_score: 0.7192 - val_loss: 0.9105 - val_accuracy: 0.6490 - val_f1_score: 0.6554\n",
            "Epoch 46/60\n",
            "1818/1818 [==============================] - 21s 12ms/step - loss: 0.7129 - accuracy: 0.7244 - f1_score: 0.7200 - val_loss: 0.9211 - val_accuracy: 0.6371 - val_f1_score: 0.6405\n",
            "Epoch 47/60\n",
            "1818/1818 [==============================] - 22s 12ms/step - loss: 0.7096 - accuracy: 0.7247 - f1_score: 0.7205 - val_loss: 0.9162 - val_accuracy: 0.6439 - val_f1_score: 0.6491\n",
            "Epoch 48/60\n",
            "1818/1818 [==============================] - 21s 12ms/step - loss: 0.7045 - accuracy: 0.7259 - f1_score: 0.7215 - val_loss: 0.9283 - val_accuracy: 0.6367 - val_f1_score: 0.6441\n",
            "Epoch 49/60\n",
            "1818/1818 [==============================] - 21s 11ms/step - loss: 0.7022 - accuracy: 0.7271 - f1_score: 0.7230 - val_loss: 0.9466 - val_accuracy: 0.6232 - val_f1_score: 0.6238\n",
            "Epoch 50/60\n",
            "1818/1818 [==============================] - 21s 12ms/step - loss: 0.7004 - accuracy: 0.7270 - f1_score: 0.7227 - val_loss: 0.9540 - val_accuracy: 0.6280 - val_f1_score: 0.6363\n",
            "Epoch 51/60\n",
            "1818/1818 [==============================] - 21s 12ms/step - loss: 0.6990 - accuracy: 0.7285 - f1_score: 0.7244 - val_loss: 0.9307 - val_accuracy: 0.6324 - val_f1_score: 0.6391\n",
            "Epoch 52/60\n",
            "1818/1818 [==============================] - 20s 11ms/step - loss: 0.6947 - accuracy: 0.7300 - f1_score: 0.7258 - val_loss: 0.9385 - val_accuracy: 0.6285 - val_f1_score: 0.6324\n",
            "Epoch 53/60\n",
            "1818/1818 [==============================] - 20s 11ms/step - loss: 0.6936 - accuracy: 0.7310 - f1_score: 0.7271 - val_loss: 0.9214 - val_accuracy: 0.6389 - val_f1_score: 0.6448\n",
            "Epoch 54/60\n",
            "1818/1818 [==============================] - 21s 12ms/step - loss: 0.6901 - accuracy: 0.7318 - f1_score: 0.7280 - val_loss: 0.9123 - val_accuracy: 0.6430 - val_f1_score: 0.6480\n",
            "Epoch 55/60\n",
            "1818/1818 [==============================] - 24s 13ms/step - loss: 0.6881 - accuracy: 0.7327 - f1_score: 0.7287 - val_loss: 0.9320 - val_accuracy: 0.6330 - val_f1_score: 0.6378\n"
          ]
        },
        {
          "data": {
            "text/html": [
              "Waiting for W&B process to finish... <strong style=\"color:green\">(success).</strong>"
            ],
            "text/plain": [
              "<IPython.core.display.HTML object>"
            ]
          },
          "metadata": {},
          "output_type": "display_data"
        },
        {
          "data": {
            "text/html": [
              "<style>\n",
              "    table.wandb td:nth-child(1) { padding: 0 10px; text-align: left ; width: auto;} td:nth-child(2) {text-align: left ; width: 100%}\n",
              "    .wandb-row { display: flex; flex-direction: row; flex-wrap: wrap; justify-content: flex-start; width: 100% }\n",
              "    .wandb-col { display: flex; flex-direction: column; flex-basis: 100%; flex: 1; padding: 10px; }\n",
              "    </style>\n",
              "<div class=\"wandb-row\"><div class=\"wandb-col\"><h3>Run history:</h3><br/><table class=\"wandb\"><tr><td>accuracy</td><td>▁▃▄▅▅▅▆▆▆▆▆▆▇▇▇▇▇▇▇▇▇▇▇▇▇███████████████</td></tr><tr><td>epoch</td><td>▁▁▁▂▂▂▂▂▂▃▃▃▃▃▃▄▄▄▄▄▅▅▅▅▅▅▆▆▆▆▆▆▇▇▇▇▇███</td></tr><tr><td>f1_score</td><td>▁▃▄▅▅▅▆▆▆▆▆▆▇▇▇▇▇▇▇▇▇▇▇█████████████████</td></tr><tr><td>loss</td><td>█▆▅▄▄▃▃▃▃▃▂▂▂▂▂▂▂▂▂▂▂▂▂▁▁▁▁▁▁▁▁▁▁▁▁▁▁▁▁▁</td></tr><tr><td>val_accuracy</td><td>▁▂▃▅▅▅▅▅▅▆▆▆▆▆▆▆▇▇▆▇▇▇█████████▇███▇▇▇█▇</td></tr><tr><td>val_f1_score</td><td>▁▂▂▅▅▅▅▅▅▆▆▆▇▆▇▆▇▇▆▇▇▇█████████████▇█▇██</td></tr><tr><td>val_loss</td><td>█▆▅▃▃▃▃▃▂▂▂▂▂▂▂▂▂▂▂▁▁▂▁▁▁▁▁▁▁▁▁▁▁▁▁▂▂▁▁▁</td></tr></table><br/></div><div class=\"wandb-col\"><h3>Run summary:</h3><br/><table class=\"wandb\"><tr><td>accuracy</td><td>0.73275</td></tr><tr><td>best_epoch</td><td>43</td></tr><tr><td>best_val_loss</td><td>0.90461</td></tr><tr><td>epoch</td><td>54</td></tr><tr><td>f1_score</td><td>0.72872</td></tr><tr><td>loss</td><td>0.68805</td></tr><tr><td>val_accuracy</td><td>0.63296</td></tr><tr><td>val_f1_score</td><td>0.63779</td></tr><tr><td>val_loss</td><td>0.93204</td></tr></table><br/></div></div>"
            ],
            "text/plain": [
              "<IPython.core.display.HTML object>"
            ]
          },
          "metadata": {},
          "output_type": "display_data"
        },
        {
          "data": {
            "text/html": [
              " View run <strong style=\"color:#cdcd00\">whole-sweep-26</strong> at: <a href='https://wandb.ai/remchat/defence-force/runs/cegxday5' target=\"_blank\">https://wandb.ai/remchat/defence-force/runs/cegxday5</a><br/> View job at <a href='https://wandb.ai/remchat/defence-force/jobs/QXJ0aWZhY3RDb2xsZWN0aW9uOjg3OTM1OTcx/version_details/v8' target=\"_blank\">https://wandb.ai/remchat/defence-force/jobs/QXJ0aWZhY3RDb2xsZWN0aW9uOjg3OTM1OTcx/version_details/v8</a><br/>Synced 5 W&B file(s), 1 media file(s), 120 artifact file(s) and 1 other file(s)"
            ],
            "text/plain": [
              "<IPython.core.display.HTML object>"
            ]
          },
          "metadata": {},
          "output_type": "display_data"
        },
        {
          "data": {
            "text/html": [
              "Find logs at: <code>./wandb/run-20230805_091127-cegxday5/logs</code>"
            ],
            "text/plain": [
              "<IPython.core.display.HTML object>"
            ]
          },
          "metadata": {},
          "output_type": "display_data"
        },
        {
          "name": "stderr",
          "output_type": "stream",
          "text": [
            "\u001b[34m\u001b[1mwandb\u001b[0m: Agent Starting Run: 5m6b1d42 with config:\n",
            "\u001b[34m\u001b[1mwandb\u001b[0m: \tdropout: 0.1\n",
            "\u001b[34m\u001b[1mwandb\u001b[0m: \tepochs: 60\n",
            "\u001b[34m\u001b[1mwandb\u001b[0m: \tff_dim: 64\n",
            "\u001b[34m\u001b[1mwandb\u001b[0m: \thead_size: 128\n",
            "\u001b[34m\u001b[1mwandb\u001b[0m: \tlearning_rate: 3e-05\n",
            "\u001b[34m\u001b[1mwandb\u001b[0m: \tmlp_dropout: 0.1\n",
            "\u001b[34m\u001b[1mwandb\u001b[0m: \tmlp_units: [128, 64]\n",
            "\u001b[34m\u001b[1mwandb\u001b[0m: \tnum_heads: 4\n",
            "\u001b[34m\u001b[1mwandb\u001b[0m: \tnum_transformer_blocks: 10\n",
            "\u001b[34m\u001b[1mwandb\u001b[0m: \u001b[33mWARNING\u001b[0m Ignored wandb.init() arg project when running a sweep.\n"
          ]
        },
        {
          "data": {
            "text/html": [
              "Tracking run with wandb version 0.15.8"
            ],
            "text/plain": [
              "<IPython.core.display.HTML object>"
            ]
          },
          "metadata": {},
          "output_type": "display_data"
        },
        {
          "data": {
            "text/html": [
              "Run data is saved locally in <code>/content/gdrive/MyDrive/RifleAction/wandb/run-20230805_093514-5m6b1d42</code>"
            ],
            "text/plain": [
              "<IPython.core.display.HTML object>"
            ]
          },
          "metadata": {},
          "output_type": "display_data"
        },
        {
          "data": {
            "text/html": [
              "Syncing run <strong><a href='https://wandb.ai/remchat/defence-force/runs/5m6b1d42' target=\"_blank\">fresh-sweep-28</a></strong> to <a href='https://wandb.ai/remchat/defence-force' target=\"_blank\">Weights & Biases</a> (<a href='https://wandb.me/run' target=\"_blank\">docs</a>)<br/>Sweep page: <a href='https://wandb.ai/remchat/defence-force/sweeps/k5lpmxhw' target=\"_blank\">https://wandb.ai/remchat/defence-force/sweeps/k5lpmxhw</a>"
            ],
            "text/plain": [
              "<IPython.core.display.HTML object>"
            ]
          },
          "metadata": {},
          "output_type": "display_data"
        },
        {
          "data": {
            "text/html": [
              " View project at <a href='https://wandb.ai/remchat/defence-force' target=\"_blank\">https://wandb.ai/remchat/defence-force</a>"
            ],
            "text/plain": [
              "<IPython.core.display.HTML object>"
            ]
          },
          "metadata": {},
          "output_type": "display_data"
        },
        {
          "data": {
            "text/html": [
              " View sweep at <a href='https://wandb.ai/remchat/defence-force/sweeps/k5lpmxhw' target=\"_blank\">https://wandb.ai/remchat/defence-force/sweeps/k5lpmxhw</a>"
            ],
            "text/plain": [
              "<IPython.core.display.HTML object>"
            ]
          },
          "metadata": {},
          "output_type": "display_data"
        },
        {
          "data": {
            "text/html": [
              " View run at <a href='https://wandb.ai/remchat/defence-force/runs/5m6b1d42' target=\"_blank\">https://wandb.ai/remchat/defence-force/runs/5m6b1d42</a>"
            ],
            "text/plain": [
              "<IPython.core.display.HTML object>"
            ]
          },
          "metadata": {},
          "output_type": "display_data"
        },
        {
          "name": "stdout",
          "output_type": "stream",
          "text": [
            "Epoch 1/60\n",
            "1818/1818 [==============================] - ETA: 0s - loss: 1.9235 - accuracy: 0.3379 - f1_score: 0.2150"
          ]
        },
        {
          "name": "stderr",
          "output_type": "stream",
          "text": [
            "WARNING:absl:Found untraced functions such as _jit_compiled_convolution_op, _jit_compiled_convolution_op, _jit_compiled_convolution_op, _jit_compiled_convolution_op, _jit_compiled_convolution_op while saving (showing 5 of 140). These functions will not be directly callable after loading.\n",
            "\u001b[34m\u001b[1mwandb\u001b[0m: Adding directory to artifact (/content/gdrive/MyDrive/RifleAction/wandb/run-20230805_093514-5m6b1d42/files/model-best)... Done. 0.1s\n"
          ]
        },
        {
          "name": "stdout",
          "output_type": "stream",
          "text": [
            "1818/1818 [==============================] - 98s 48ms/step - loss: 1.9235 - accuracy: 0.3379 - f1_score: 0.2150 - val_loss: 1.7610 - val_accuracy: 0.3892 - val_f1_score: 0.2243\n",
            "Epoch 2/60\n",
            "1817/1818 [============================>.] - ETA: 0s - loss: 1.5735 - accuracy: 0.4299 - f1_score: 0.3367"
          ]
        },
        {
          "name": "stderr",
          "output_type": "stream",
          "text": [
            "WARNING:absl:Found untraced functions such as _jit_compiled_convolution_op, _jit_compiled_convolution_op, _jit_compiled_convolution_op, _jit_compiled_convolution_op, _jit_compiled_convolution_op while saving (showing 5 of 140). These functions will not be directly callable after loading.\n",
            "\u001b[34m\u001b[1mwandb\u001b[0m: Adding directory to artifact (/content/gdrive/MyDrive/RifleAction/wandb/run-20230805_093514-5m6b1d42/files/model-best)... Done. 0.1s\n"
          ]
        },
        {
          "name": "stdout",
          "output_type": "stream",
          "text": [
            "1818/1818 [==============================] - 87s 48ms/step - loss: 1.5735 - accuracy: 0.4299 - f1_score: 0.3367 - val_loss: 1.4456 - val_accuracy: 0.4505 - val_f1_score: 0.3368\n",
            "Epoch 3/60\n",
            "1818/1818 [==============================] - ETA: 0s - loss: 1.3702 - accuracy: 0.4983 - f1_score: 0.4495"
          ]
        },
        {
          "name": "stderr",
          "output_type": "stream",
          "text": [
            "WARNING:absl:Found untraced functions such as _jit_compiled_convolution_op, _jit_compiled_convolution_op, _jit_compiled_convolution_op, _jit_compiled_convolution_op, _jit_compiled_convolution_op while saving (showing 5 of 140). These functions will not be directly callable after loading.\n",
            "\u001b[34m\u001b[1mwandb\u001b[0m: Adding directory to artifact (/content/gdrive/MyDrive/RifleAction/wandb/run-20230805_093514-5m6b1d42/files/model-best)... Done. 0.1s\n"
          ]
        },
        {
          "name": "stdout",
          "output_type": "stream",
          "text": [
            "1818/1818 [==============================] - 89s 49ms/step - loss: 1.3702 - accuracy: 0.4983 - f1_score: 0.4495 - val_loss: 1.3103 - val_accuracy: 0.4765 - val_f1_score: 0.3891\n",
            "Epoch 4/60\n",
            "1818/1818 [==============================] - ETA: 0s - loss: 1.2542 - accuracy: 0.5355 - f1_score: 0.4998"
          ]
        },
        {
          "name": "stderr",
          "output_type": "stream",
          "text": [
            "WARNING:absl:Found untraced functions such as _jit_compiled_convolution_op, _jit_compiled_convolution_op, _jit_compiled_convolution_op, _jit_compiled_convolution_op, _jit_compiled_convolution_op while saving (showing 5 of 140). These functions will not be directly callable after loading.\n",
            "\u001b[34m\u001b[1mwandb\u001b[0m: Adding directory to artifact (/content/gdrive/MyDrive/RifleAction/wandb/run-20230805_093514-5m6b1d42/files/model-best)... Done. 0.1s\n"
          ]
        },
        {
          "name": "stdout",
          "output_type": "stream",
          "text": [
            "1818/1818 [==============================] - 91s 50ms/step - loss: 1.2542 - accuracy: 0.5355 - f1_score: 0.4998 - val_loss: 1.2084 - val_accuracy: 0.5094 - val_f1_score: 0.4305\n",
            "Epoch 5/60\n",
            "1817/1818 [============================>.] - ETA: 0s - loss: 1.1752 - accuracy: 0.5619 - f1_score: 0.5311"
          ]
        },
        {
          "name": "stderr",
          "output_type": "stream",
          "text": [
            "WARNING:absl:Found untraced functions such as _jit_compiled_convolution_op, _jit_compiled_convolution_op, _jit_compiled_convolution_op, _jit_compiled_convolution_op, _jit_compiled_convolution_op while saving (showing 5 of 140). These functions will not be directly callable after loading.\n",
            "\u001b[34m\u001b[1mwandb\u001b[0m: Adding directory to artifact (/content/gdrive/MyDrive/RifleAction/wandb/run-20230805_093514-5m6b1d42/files/model-best)... Done. 0.1s\n"
          ]
        },
        {
          "name": "stdout",
          "output_type": "stream",
          "text": [
            "1818/1818 [==============================] - 84s 46ms/step - loss: 1.1752 - accuracy: 0.5619 - f1_score: 0.5311 - val_loss: 1.1465 - val_accuracy: 0.5359 - val_f1_score: 0.4720\n",
            "Epoch 6/60\n",
            "1817/1818 [============================>.] - ETA: 0s - loss: 1.1157 - accuracy: 0.5790 - f1_score: 0.5506"
          ]
        },
        {
          "name": "stderr",
          "output_type": "stream",
          "text": [
            "WARNING:absl:Found untraced functions such as _jit_compiled_convolution_op, _jit_compiled_convolution_op, _jit_compiled_convolution_op, _jit_compiled_convolution_op, _jit_compiled_convolution_op while saving (showing 5 of 140). These functions will not be directly callable after loading.\n",
            "\u001b[34m\u001b[1mwandb\u001b[0m: Adding directory to artifact (/content/gdrive/MyDrive/RifleAction/wandb/run-20230805_093514-5m6b1d42/files/model-best)... Done. 0.1s\n"
          ]
        },
        {
          "name": "stdout",
          "output_type": "stream",
          "text": [
            "1818/1818 [==============================] - 88s 48ms/step - loss: 1.1157 - accuracy: 0.5790 - f1_score: 0.5506 - val_loss: 1.1146 - val_accuracy: 0.5434 - val_f1_score: 0.4982\n",
            "Epoch 7/60\n",
            "1818/1818 [==============================] - ETA: 0s - loss: 1.0690 - accuracy: 0.5965 - f1_score: 0.5697"
          ]
        },
        {
          "name": "stderr",
          "output_type": "stream",
          "text": [
            "WARNING:absl:Found untraced functions such as _jit_compiled_convolution_op, _jit_compiled_convolution_op, _jit_compiled_convolution_op, _jit_compiled_convolution_op, _jit_compiled_convolution_op while saving (showing 5 of 140). These functions will not be directly callable after loading.\n",
            "\u001b[34m\u001b[1mwandb\u001b[0m: Adding directory to artifact (/content/gdrive/MyDrive/RifleAction/wandb/run-20230805_093514-5m6b1d42/files/model-best)... Done. 0.1s\n"
          ]
        },
        {
          "name": "stdout",
          "output_type": "stream",
          "text": [
            "1818/1818 [==============================] - 85s 47ms/step - loss: 1.0690 - accuracy: 0.5965 - f1_score: 0.5697 - val_loss: 1.0703 - val_accuracy: 0.5741 - val_f1_score: 0.5367\n",
            "Epoch 8/60\n",
            "1818/1818 [==============================] - ETA: 0s - loss: 1.0287 - accuracy: 0.6067 - f1_score: 0.5806"
          ]
        },
        {
          "name": "stderr",
          "output_type": "stream",
          "text": [
            "WARNING:absl:Found untraced functions such as _jit_compiled_convolution_op, _jit_compiled_convolution_op, _jit_compiled_convolution_op, _jit_compiled_convolution_op, _jit_compiled_convolution_op while saving (showing 5 of 140). These functions will not be directly callable after loading.\n",
            "\u001b[34m\u001b[1mwandb\u001b[0m: Adding directory to artifact (/content/gdrive/MyDrive/RifleAction/wandb/run-20230805_093514-5m6b1d42/files/model-best)... Done. 0.1s\n"
          ]
        },
        {
          "name": "stdout",
          "output_type": "stream",
          "text": [
            "1818/1818 [==============================] - 85s 47ms/step - loss: 1.0287 - accuracy: 0.6067 - f1_score: 0.5806 - val_loss: 1.0483 - val_accuracy: 0.5804 - val_f1_score: 0.5481\n",
            "Epoch 9/60\n",
            "1818/1818 [==============================] - 67s 37ms/step - loss: 0.9957 - accuracy: 0.6184 - f1_score: 0.5946 - val_loss: 1.0611 - val_accuracy: 0.5527 - val_f1_score: 0.5282\n",
            "Epoch 10/60\n",
            "1818/1818 [==============================] - 69s 38ms/step - loss: 0.9675 - accuracy: 0.6275 - f1_score: 0.6051 - val_loss: 1.0644 - val_accuracy: 0.5449 - val_f1_score: 0.5165\n",
            "Epoch 11/60\n",
            "1817/1818 [============================>.] - ETA: 0s - loss: 0.9424 - accuracy: 0.6372 - f1_score: 0.6172"
          ]
        },
        {
          "name": "stderr",
          "output_type": "stream",
          "text": [
            "WARNING:absl:Found untraced functions such as _jit_compiled_convolution_op, _jit_compiled_convolution_op, _jit_compiled_convolution_op, _jit_compiled_convolution_op, _jit_compiled_convolution_op while saving (showing 5 of 140). These functions will not be directly callable after loading.\n",
            "\u001b[34m\u001b[1mwandb\u001b[0m: Adding directory to artifact (/content/gdrive/MyDrive/RifleAction/wandb/run-20230805_093514-5m6b1d42/files/model-best)... Done. 0.1s\n"
          ]
        },
        {
          "name": "stdout",
          "output_type": "stream",
          "text": [
            "1818/1818 [==============================] - 86s 47ms/step - loss: 0.9424 - accuracy: 0.6373 - f1_score: 0.6172 - val_loss: 1.0358 - val_accuracy: 0.5580 - val_f1_score: 0.5388\n",
            "Epoch 12/60\n",
            "1818/1818 [==============================] - ETA: 0s - loss: 0.9207 - accuracy: 0.6444 - f1_score: 0.6253"
          ]
        },
        {
          "name": "stderr",
          "output_type": "stream",
          "text": [
            "WARNING:absl:Found untraced functions such as _jit_compiled_convolution_op, _jit_compiled_convolution_op, _jit_compiled_convolution_op, _jit_compiled_convolution_op, _jit_compiled_convolution_op while saving (showing 5 of 140). These functions will not be directly callable after loading.\n",
            "\u001b[34m\u001b[1mwandb\u001b[0m: Adding directory to artifact (/content/gdrive/MyDrive/RifleAction/wandb/run-20230805_093514-5m6b1d42/files/model-best)... Done. 0.1s\n"
          ]
        },
        {
          "name": "stdout",
          "output_type": "stream",
          "text": [
            "1818/1818 [==============================] - 87s 48ms/step - loss: 0.9207 - accuracy: 0.6444 - f1_score: 0.6253 - val_loss: 1.0238 - val_accuracy: 0.5729 - val_f1_score: 0.5584\n",
            "Epoch 13/60\n",
            "1818/1818 [==============================] - ETA: 0s - loss: 0.8986 - accuracy: 0.6528 - f1_score: 0.6350"
          ]
        },
        {
          "name": "stderr",
          "output_type": "stream",
          "text": [
            "WARNING:absl:Found untraced functions such as _jit_compiled_convolution_op, _jit_compiled_convolution_op, _jit_compiled_convolution_op, _jit_compiled_convolution_op, _jit_compiled_convolution_op while saving (showing 5 of 140). These functions will not be directly callable after loading.\n",
            "\u001b[34m\u001b[1mwandb\u001b[0m: Adding directory to artifact (/content/gdrive/MyDrive/RifleAction/wandb/run-20230805_093514-5m6b1d42/files/model-best)... Done. 0.1s\n"
          ]
        },
        {
          "name": "stdout",
          "output_type": "stream",
          "text": [
            "1818/1818 [==============================] - 85s 47ms/step - loss: 0.8986 - accuracy: 0.6528 - f1_score: 0.6350 - val_loss: 1.0146 - val_accuracy: 0.5730 - val_f1_score: 0.5581\n",
            "Epoch 14/60\n",
            "1818/1818 [==============================] - 67s 37ms/step - loss: 0.8834 - accuracy: 0.6580 - f1_score: 0.6415 - val_loss: 1.0147 - val_accuracy: 0.5649 - val_f1_score: 0.5516\n",
            "Epoch 15/60\n",
            "1817/1818 [============================>.] - ETA: 0s - loss: 0.8696 - accuracy: 0.6617 - f1_score: 0.6459"
          ]
        },
        {
          "name": "stderr",
          "output_type": "stream",
          "text": [
            "WARNING:absl:Found untraced functions such as _jit_compiled_convolution_op, _jit_compiled_convolution_op, _jit_compiled_convolution_op, _jit_compiled_convolution_op, _jit_compiled_convolution_op while saving (showing 5 of 140). These functions will not be directly callable after loading.\n",
            "\u001b[34m\u001b[1mwandb\u001b[0m: Adding directory to artifact (/content/gdrive/MyDrive/RifleAction/wandb/run-20230805_093514-5m6b1d42/files/model-best)... Done. 0.1s\n"
          ]
        },
        {
          "name": "stdout",
          "output_type": "stream",
          "text": [
            "1818/1818 [==============================] - 84s 46ms/step - loss: 0.8696 - accuracy: 0.6617 - f1_score: 0.6459 - val_loss: 0.9977 - val_accuracy: 0.5760 - val_f1_score: 0.5626\n",
            "Epoch 16/60\n",
            "1817/1818 [============================>.] - ETA: 0s - loss: 0.8523 - accuracy: 0.6687 - f1_score: 0.6539"
          ]
        },
        {
          "name": "stderr",
          "output_type": "stream",
          "text": [
            "WARNING:absl:Found untraced functions such as _jit_compiled_convolution_op, _jit_compiled_convolution_op, _jit_compiled_convolution_op, _jit_compiled_convolution_op, _jit_compiled_convolution_op while saving (showing 5 of 140). These functions will not be directly callable after loading.\n",
            "\u001b[34m\u001b[1mwandb\u001b[0m: Adding directory to artifact (/content/gdrive/MyDrive/RifleAction/wandb/run-20230805_093514-5m6b1d42/files/model-best)... Done. 0.1s\n"
          ]
        },
        {
          "name": "stdout",
          "output_type": "stream",
          "text": [
            "1818/1818 [==============================] - 87s 48ms/step - loss: 0.8523 - accuracy: 0.6686 - f1_score: 0.6538 - val_loss: 0.9976 - val_accuracy: 0.5757 - val_f1_score: 0.5651\n",
            "Epoch 17/60\n",
            "1817/1818 [============================>.] - ETA: 0s - loss: 0.8370 - accuracy: 0.6736 - f1_score: 0.6601"
          ]
        },
        {
          "name": "stderr",
          "output_type": "stream",
          "text": [
            "WARNING:absl:Found untraced functions such as _jit_compiled_convolution_op, _jit_compiled_convolution_op, _jit_compiled_convolution_op, _jit_compiled_convolution_op, _jit_compiled_convolution_op while saving (showing 5 of 140). These functions will not be directly callable after loading.\n",
            "\u001b[34m\u001b[1mwandb\u001b[0m: Adding directory to artifact (/content/gdrive/MyDrive/RifleAction/wandb/run-20230805_093514-5m6b1d42/files/model-best)... Done. 0.1s\n"
          ]
        },
        {
          "name": "stdout",
          "output_type": "stream",
          "text": [
            "1818/1818 [==============================] - 86s 47ms/step - loss: 0.8371 - accuracy: 0.6736 - f1_score: 0.6601 - val_loss: 0.9913 - val_accuracy: 0.5728 - val_f1_score: 0.5596\n",
            "Epoch 18/60\n",
            "1817/1818 [============================>.] - ETA: 0s - loss: 0.8256 - accuracy: 0.6790 - f1_score: 0.6662"
          ]
        },
        {
          "name": "stderr",
          "output_type": "stream",
          "text": [
            "WARNING:absl:Found untraced functions such as _jit_compiled_convolution_op, _jit_compiled_convolution_op, _jit_compiled_convolution_op, _jit_compiled_convolution_op, _jit_compiled_convolution_op while saving (showing 5 of 140). These functions will not be directly callable after loading.\n",
            "\u001b[34m\u001b[1mwandb\u001b[0m: Adding directory to artifact (/content/gdrive/MyDrive/RifleAction/wandb/run-20230805_093514-5m6b1d42/files/model-best)... Done. 0.1s\n"
          ]
        },
        {
          "name": "stdout",
          "output_type": "stream",
          "text": [
            "1818/1818 [==============================] - 88s 48ms/step - loss: 0.8258 - accuracy: 0.6789 - f1_score: 0.6661 - val_loss: 0.9866 - val_accuracy: 0.5804 - val_f1_score: 0.5699\n",
            "Epoch 19/60\n",
            "1818/1818 [==============================] - ETA: 0s - loss: 0.8144 - accuracy: 0.6826 - f1_score: 0.6703"
          ]
        },
        {
          "name": "stderr",
          "output_type": "stream",
          "text": [
            "WARNING:absl:Found untraced functions such as _jit_compiled_convolution_op, _jit_compiled_convolution_op, _jit_compiled_convolution_op, _jit_compiled_convolution_op, _jit_compiled_convolution_op while saving (showing 5 of 140). These functions will not be directly callable after loading.\n",
            "\u001b[34m\u001b[1mwandb\u001b[0m: Adding directory to artifact (/content/gdrive/MyDrive/RifleAction/wandb/run-20230805_093514-5m6b1d42/files/model-best)... Done. 0.1s\n"
          ]
        },
        {
          "name": "stdout",
          "output_type": "stream",
          "text": [
            "1818/1818 [==============================] - 84s 46ms/step - loss: 0.8144 - accuracy: 0.6826 - f1_score: 0.6703 - val_loss: 0.9652 - val_accuracy: 0.5831 - val_f1_score: 0.5744\n",
            "Epoch 20/60\n",
            "1818/1818 [==============================] - 71s 39ms/step - loss: 0.8059 - accuracy: 0.6868 - f1_score: 0.6754 - val_loss: 0.9720 - val_accuracy: 0.5897 - val_f1_score: 0.5817\n",
            "Epoch 21/60\n",
            "1818/1818 [==============================] - 66s 36ms/step - loss: 0.7932 - accuracy: 0.6919 - f1_score: 0.6814 - val_loss: 0.9797 - val_accuracy: 0.5709 - val_f1_score: 0.5583\n",
            "Epoch 22/60\n",
            "1818/1818 [==============================] - 69s 38ms/step - loss: 0.7834 - accuracy: 0.6949 - f1_score: 0.6848 - val_loss: 0.9739 - val_accuracy: 0.5884 - val_f1_score: 0.5843\n",
            "Epoch 23/60\n",
            "1818/1818 [==============================] - 67s 37ms/step - loss: 0.7749 - accuracy: 0.6974 - f1_score: 0.6881 - val_loss: 0.9798 - val_accuracy: 0.5855 - val_f1_score: 0.5759\n",
            "Epoch 24/60\n",
            "1817/1818 [============================>.] - ETA: 0s - loss: 0.7638 - accuracy: 0.7031 - f1_score: 0.6945"
          ]
        },
        {
          "name": "stderr",
          "output_type": "stream",
          "text": [
            "WARNING:absl:Found untraced functions such as _jit_compiled_convolution_op, _jit_compiled_convolution_op, _jit_compiled_convolution_op, _jit_compiled_convolution_op, _jit_compiled_convolution_op while saving (showing 5 of 140). These functions will not be directly callable after loading.\n",
            "\u001b[34m\u001b[1mwandb\u001b[0m: Adding directory to artifact (/content/gdrive/MyDrive/RifleAction/wandb/run-20230805_093514-5m6b1d42/files/model-best)... Done. 0.1s\n"
          ]
        },
        {
          "name": "stdout",
          "output_type": "stream",
          "text": [
            "1818/1818 [==============================] - 86s 47ms/step - loss: 0.7638 - accuracy: 0.7030 - f1_score: 0.6945 - val_loss: 0.9590 - val_accuracy: 0.5995 - val_f1_score: 0.5936\n",
            "Epoch 25/60\n",
            "1818/1818 [==============================] - 69s 38ms/step - loss: 0.7586 - accuracy: 0.7053 - f1_score: 0.6970 - val_loss: 0.9670 - val_accuracy: 0.5971 - val_f1_score: 0.5903\n",
            "Epoch 26/60\n",
            "1818/1818 [==============================] - 66s 36ms/step - loss: 0.7485 - accuracy: 0.7089 - f1_score: 0.7010 - val_loss: 0.9594 - val_accuracy: 0.5879 - val_f1_score: 0.5814\n",
            "Epoch 27/60\n",
            "1818/1818 [==============================] - 70s 38ms/step - loss: 0.7419 - accuracy: 0.7133 - f1_score: 0.7061 - val_loss: 0.9726 - val_accuracy: 0.5859 - val_f1_score: 0.5754\n",
            "Epoch 28/60\n",
            "1817/1818 [============================>.] - ETA: 0s - loss: 0.7329 - accuracy: 0.7149 - f1_score: 0.7081"
          ]
        },
        {
          "name": "stderr",
          "output_type": "stream",
          "text": [
            "WARNING:absl:Found untraced functions such as _jit_compiled_convolution_op, _jit_compiled_convolution_op, _jit_compiled_convolution_op, _jit_compiled_convolution_op, _jit_compiled_convolution_op while saving (showing 5 of 140). These functions will not be directly callable after loading.\n",
            "\u001b[34m\u001b[1mwandb\u001b[0m: Adding directory to artifact (/content/gdrive/MyDrive/RifleAction/wandb/run-20230805_093514-5m6b1d42/files/model-best)... Done. 0.1s\n"
          ]
        },
        {
          "name": "stdout",
          "output_type": "stream",
          "text": [
            "1818/1818 [==============================] - 84s 46ms/step - loss: 0.7328 - accuracy: 0.7149 - f1_score: 0.7081 - val_loss: 0.9544 - val_accuracy: 0.6000 - val_f1_score: 0.5912\n",
            "Epoch 29/60\n",
            "1817/1818 [============================>.] - ETA: 0s - loss: 0.7257 - accuracy: 0.7190 - f1_score: 0.7123"
          ]
        },
        {
          "name": "stderr",
          "output_type": "stream",
          "text": [
            "WARNING:absl:Found untraced functions such as _jit_compiled_convolution_op, _jit_compiled_convolution_op, _jit_compiled_convolution_op, _jit_compiled_convolution_op, _jit_compiled_convolution_op while saving (showing 5 of 140). These functions will not be directly callable after loading.\n",
            "\u001b[34m\u001b[1mwandb\u001b[0m: Adding directory to artifact (/content/gdrive/MyDrive/RifleAction/wandb/run-20230805_093514-5m6b1d42/files/model-best)... Done. 0.1s\n"
          ]
        },
        {
          "name": "stdout",
          "output_type": "stream",
          "text": [
            "1818/1818 [==============================] - 89s 49ms/step - loss: 0.7257 - accuracy: 0.7190 - f1_score: 0.7123 - val_loss: 0.9513 - val_accuracy: 0.6020 - val_f1_score: 0.5952\n",
            "Epoch 30/60\n",
            "1818/1818 [==============================] - 68s 37ms/step - loss: 0.7171 - accuracy: 0.7215 - f1_score: 0.7150 - val_loss: 0.9690 - val_accuracy: 0.5850 - val_f1_score: 0.5781\n",
            "Epoch 31/60\n",
            "1818/1818 [==============================] - 70s 39ms/step - loss: 0.7094 - accuracy: 0.7244 - f1_score: 0.7186 - val_loss: 0.9525 - val_accuracy: 0.6046 - val_f1_score: 0.5984\n",
            "Epoch 32/60\n",
            "1818/1818 [==============================] - ETA: 0s - loss: 0.7054 - accuracy: 0.7268 - f1_score: 0.7211"
          ]
        },
        {
          "name": "stderr",
          "output_type": "stream",
          "text": [
            "WARNING:absl:Found untraced functions such as _jit_compiled_convolution_op, _jit_compiled_convolution_op, _jit_compiled_convolution_op, _jit_compiled_convolution_op, _jit_compiled_convolution_op while saving (showing 5 of 140). These functions will not be directly callable after loading.\n",
            "\u001b[34m\u001b[1mwandb\u001b[0m: Adding directory to artifact (/content/gdrive/MyDrive/RifleAction/wandb/run-20230805_093514-5m6b1d42/files/model-best)... Done. 0.1s\n"
          ]
        },
        {
          "name": "stdout",
          "output_type": "stream",
          "text": [
            "1818/1818 [==============================] - 86s 47ms/step - loss: 0.7054 - accuracy: 0.7268 - f1_score: 0.7211 - val_loss: 0.9512 - val_accuracy: 0.6015 - val_f1_score: 0.5978\n",
            "Epoch 33/60\n",
            "1818/1818 [==============================] - ETA: 0s - loss: 0.6982 - accuracy: 0.7288 - f1_score: 0.7235"
          ]
        },
        {
          "name": "stderr",
          "output_type": "stream",
          "text": [
            "WARNING:absl:Found untraced functions such as _jit_compiled_convolution_op, _jit_compiled_convolution_op, _jit_compiled_convolution_op, _jit_compiled_convolution_op, _jit_compiled_convolution_op while saving (showing 5 of 140). These functions will not be directly callable after loading.\n",
            "\u001b[34m\u001b[1mwandb\u001b[0m: Adding directory to artifact (/content/gdrive/MyDrive/RifleAction/wandb/run-20230805_093514-5m6b1d42/files/model-best)... Done. 0.1s\n"
          ]
        },
        {
          "name": "stdout",
          "output_type": "stream",
          "text": [
            "1818/1818 [==============================] - 87s 48ms/step - loss: 0.6982 - accuracy: 0.7288 - f1_score: 0.7235 - val_loss: 0.9485 - val_accuracy: 0.6061 - val_f1_score: 0.6024\n",
            "Epoch 34/60\n",
            "1818/1818 [==============================] - ETA: 0s - loss: 0.6922 - accuracy: 0.7316 - f1_score: 0.7264"
          ]
        },
        {
          "name": "stderr",
          "output_type": "stream",
          "text": [
            "WARNING:absl:Found untraced functions such as _jit_compiled_convolution_op, _jit_compiled_convolution_op, _jit_compiled_convolution_op, _jit_compiled_convolution_op, _jit_compiled_convolution_op while saving (showing 5 of 140). These functions will not be directly callable after loading.\n",
            "\u001b[34m\u001b[1mwandb\u001b[0m: Adding directory to artifact (/content/gdrive/MyDrive/RifleAction/wandb/run-20230805_093514-5m6b1d42/files/model-best)... Done. 0.1s\n"
          ]
        },
        {
          "name": "stdout",
          "output_type": "stream",
          "text": [
            "1818/1818 [==============================] - 87s 48ms/step - loss: 0.6922 - accuracy: 0.7316 - f1_score: 0.7264 - val_loss: 0.9434 - val_accuracy: 0.5966 - val_f1_score: 0.5944\n",
            "Epoch 35/60\n",
            "1818/1818 [==============================] - 69s 38ms/step - loss: 0.6856 - accuracy: 0.7342 - f1_score: 0.7292 - val_loss: 0.9444 - val_accuracy: 0.6054 - val_f1_score: 0.6040\n",
            "Epoch 36/60\n",
            "1818/1818 [==============================] - 68s 37ms/step - loss: 0.6808 - accuracy: 0.7350 - f1_score: 0.7305 - val_loss: 0.9579 - val_accuracy: 0.5948 - val_f1_score: 0.5918\n",
            "Epoch 37/60\n",
            "1818/1818 [==============================] - 71s 39ms/step - loss: 0.6747 - accuracy: 0.7390 - f1_score: 0.7345 - val_loss: 0.9529 - val_accuracy: 0.6021 - val_f1_score: 0.6019\n",
            "Epoch 38/60\n",
            "1818/1818 [==============================] - 67s 37ms/step - loss: 0.6709 - accuracy: 0.7393 - f1_score: 0.7350 - val_loss: 0.9754 - val_accuracy: 0.5836 - val_f1_score: 0.5800\n",
            "Epoch 39/60\n",
            "1818/1818 [==============================] - 67s 37ms/step - loss: 0.6633 - accuracy: 0.7437 - f1_score: 0.7397 - val_loss: 0.9523 - val_accuracy: 0.6016 - val_f1_score: 0.6004\n",
            "Epoch 40/60\n",
            "1818/1818 [==============================] - 72s 39ms/step - loss: 0.6593 - accuracy: 0.7448 - f1_score: 0.7409 - val_loss: 0.9475 - val_accuracy: 0.6071 - val_f1_score: 0.6072\n",
            "Epoch 41/60\n",
            "1818/1818 [==============================] - ETA: 0s - loss: 0.6536 - accuracy: 0.7461 - f1_score: 0.7425"
          ]
        },
        {
          "name": "stderr",
          "output_type": "stream",
          "text": [
            "WARNING:absl:Found untraced functions such as _jit_compiled_convolution_op, _jit_compiled_convolution_op, _jit_compiled_convolution_op, _jit_compiled_convolution_op, _jit_compiled_convolution_op while saving (showing 5 of 140). These functions will not be directly callable after loading.\n",
            "\u001b[34m\u001b[1mwandb\u001b[0m: Adding directory to artifact (/content/gdrive/MyDrive/RifleAction/wandb/run-20230805_093514-5m6b1d42/files/model-best)... Done. 0.1s\n"
          ]
        },
        {
          "name": "stdout",
          "output_type": "stream",
          "text": [
            "1818/1818 [==============================] - 86s 47ms/step - loss: 0.6536 - accuracy: 0.7461 - f1_score: 0.7425 - val_loss: 0.9386 - val_accuracy: 0.6140 - val_f1_score: 0.6180\n",
            "Epoch 42/60\n",
            "1818/1818 [==============================] - 73s 40ms/step - loss: 0.6488 - accuracy: 0.7487 - f1_score: 0.7451 - val_loss: 0.9407 - val_accuracy: 0.6172 - val_f1_score: 0.6185\n",
            "Epoch 43/60\n",
            "1817/1818 [============================>.] - ETA: 0s - loss: 0.6463 - accuracy: 0.7484 - f1_score: 0.7450"
          ]
        },
        {
          "name": "stderr",
          "output_type": "stream",
          "text": [
            "WARNING:absl:Found untraced functions such as _jit_compiled_convolution_op, _jit_compiled_convolution_op, _jit_compiled_convolution_op, _jit_compiled_convolution_op, _jit_compiled_convolution_op while saving (showing 5 of 140). These functions will not be directly callable after loading.\n",
            "\u001b[34m\u001b[1mwandb\u001b[0m: Adding directory to artifact (/content/gdrive/MyDrive/RifleAction/wandb/run-20230805_093514-5m6b1d42/files/model-best)... Done. 0.1s\n"
          ]
        },
        {
          "name": "stdout",
          "output_type": "stream",
          "text": [
            "1818/1818 [==============================] - 85s 47ms/step - loss: 0.6464 - accuracy: 0.7483 - f1_score: 0.7449 - val_loss: 0.9347 - val_accuracy: 0.6195 - val_f1_score: 0.6242\n",
            "Epoch 44/60\n",
            "1818/1818 [==============================] - 70s 38ms/step - loss: 0.6416 - accuracy: 0.7510 - f1_score: 0.7479 - val_loss: 0.9608 - val_accuracy: 0.6022 - val_f1_score: 0.6050\n",
            "Epoch 45/60\n",
            "1818/1818 [==============================] - 69s 38ms/step - loss: 0.6351 - accuracy: 0.7535 - f1_score: 0.7503 - val_loss: 0.9833 - val_accuracy: 0.6043 - val_f1_score: 0.6084\n",
            "Epoch 46/60\n",
            "1818/1818 [==============================] - 69s 38ms/step - loss: 0.6342 - accuracy: 0.7537 - f1_score: 0.7509 - val_loss: 0.9659 - val_accuracy: 0.6072 - val_f1_score: 0.6094\n",
            "Epoch 47/60\n",
            "1818/1818 [==============================] - 67s 37ms/step - loss: 0.6287 - accuracy: 0.7554 - f1_score: 0.7526 - val_loss: 0.9477 - val_accuracy: 0.6112 - val_f1_score: 0.6139\n",
            "Epoch 48/60\n",
            "1818/1818 [==============================] - 70s 38ms/step - loss: 0.6251 - accuracy: 0.7578 - f1_score: 0.7550 - val_loss: 0.9483 - val_accuracy: 0.6220 - val_f1_score: 0.6270\n",
            "Epoch 49/60\n",
            "1818/1818 [==============================] - 69s 38ms/step - loss: 0.6183 - accuracy: 0.7614 - f1_score: 0.7588 - val_loss: 0.9532 - val_accuracy: 0.6199 - val_f1_score: 0.6266\n",
            "Epoch 50/60\n",
            "1818/1818 [==============================] - 67s 37ms/step - loss: 0.6160 - accuracy: 0.7610 - f1_score: 0.7583 - val_loss: 0.9415 - val_accuracy: 0.6262 - val_f1_score: 0.6292\n",
            "Epoch 51/60\n",
            "1818/1818 [==============================] - 69s 38ms/step - loss: 0.6123 - accuracy: 0.7629 - f1_score: 0.7604 - val_loss: 0.9474 - val_accuracy: 0.6205 - val_f1_score: 0.6255\n",
            "Epoch 52/60\n",
            "1818/1818 [==============================] - 68s 37ms/step - loss: 0.6098 - accuracy: 0.7623 - f1_score: 0.7598 - val_loss: 0.9518 - val_accuracy: 0.6267 - val_f1_score: 0.6337\n",
            "Epoch 53/60\n",
            "1818/1818 [==============================] - 68s 38ms/step - loss: 0.6097 - accuracy: 0.7642 - f1_score: 0.7618 - val_loss: 0.9492 - val_accuracy: 0.6221 - val_f1_score: 0.6293\n",
            "Epoch 54/60\n",
            "1818/1818 [==============================] - 70s 38ms/step - loss: 0.6030 - accuracy: 0.7655 - f1_score: 0.7632 - val_loss: 0.9448 - val_accuracy: 0.6308 - val_f1_score: 0.6371\n",
            "Epoch 55/60\n",
            "1818/1818 [==============================] - 69s 38ms/step - loss: 0.5995 - accuracy: 0.7672 - f1_score: 0.7650 - val_loss: 0.9411 - val_accuracy: 0.6258 - val_f1_score: 0.6317\n",
            "Epoch 56/60\n",
            "1818/1818 [==============================] - 68s 37ms/step - loss: 0.5973 - accuracy: 0.7695 - f1_score: 0.7674 - val_loss: 0.9559 - val_accuracy: 0.6254 - val_f1_score: 0.6319\n",
            "Epoch 57/60\n",
            "1818/1818 [==============================] - 66s 36ms/step - loss: 0.5928 - accuracy: 0.7701 - f1_score: 0.7680 - val_loss: 0.9476 - val_accuracy: 0.6322 - val_f1_score: 0.6381\n",
            "Epoch 58/60\n",
            "1818/1818 [==============================] - 69s 38ms/step - loss: 0.5899 - accuracy: 0.7729 - f1_score: 0.7710 - val_loss: 0.9668 - val_accuracy: 0.6164 - val_f1_score: 0.6273\n",
            "Epoch 59/60\n",
            "1818/1818 [==============================] - 68s 38ms/step - loss: 0.5865 - accuracy: 0.7732 - f1_score: 0.7711 - val_loss: 0.9420 - val_accuracy: 0.6310 - val_f1_score: 0.6372\n",
            "Epoch 60/60\n",
            "1818/1818 [==============================] - 71s 39ms/step - loss: 0.5843 - accuracy: 0.7731 - f1_score: 0.7713 - val_loss: 0.9468 - val_accuracy: 0.6317 - val_f1_score: 0.6391\n"
          ]
        },
        {
          "data": {
            "text/html": [
              "Waiting for W&B process to finish... <strong style=\"color:green\">(success).</strong>"
            ],
            "text/plain": [
              "<IPython.core.display.HTML object>"
            ]
          },
          "metadata": {},
          "output_type": "display_data"
        },
        {
          "data": {
            "text/html": [
              "<style>\n",
              "    table.wandb td:nth-child(1) { padding: 0 10px; text-align: left ; width: auto;} td:nth-child(2) {text-align: left ; width: 100%}\n",
              "    .wandb-row { display: flex; flex-direction: row; flex-wrap: wrap; justify-content: flex-start; width: 100% }\n",
              "    .wandb-col { display: flex; flex-direction: column; flex-basis: 100%; flex: 1; padding: 10px; }\n",
              "    </style>\n",
              "<div class=\"wandb-row\"><div class=\"wandb-col\"><h3>Run history:</h3><br/><table class=\"wandb\"><tr><td>accuracy</td><td>▁▂▄▅▅▅▆▆▆▆▆▆▇▇▇▇▇▇▇▇▇▇▇▇▇▇██████████████</td></tr><tr><td>epoch</td><td>▁▁▁▁▂▂▂▂▂▃▃▃▃▃▃▄▄▄▄▄▅▅▅▅▅▅▆▆▆▆▆▆▇▇▇▇▇███</td></tr><tr><td>f1_score</td><td>▁▃▅▅▅▆▆▆▆▆▇▇▇▇▇▇▇▇▇▇▇▇▇▇████████████████</td></tr><tr><td>loss</td><td>█▆▅▄▄▃▃▃▃▃▂▂▂▂▂▂▂▂▂▂▂▂▂▂▁▁▁▁▁▁▁▁▁▁▁▁▁▁▁▁</td></tr><tr><td>val_accuracy</td><td>▁▃▄▅▆▇▅▆▆▆▆▆▇▇▇▇▇▇▇▇▇▇▇▇▇▇▇▇█▇▇▇████████</td></tr><tr><td>val_f1_score</td><td>▁▃▄▅▆▆▆▆▇▇▇▇▇▇▇▇▇▇▇▇▇▇▇▇▇▇▇██▇▇█████████</td></tr><tr><td>val_loss</td><td>█▅▃▃▂▂▂▂▂▂▂▁▁▁▁▁▁▁▁▁▁▁▁▁▁▁▁▁▁▁▁▁▁▁▁▁▁▁▁▁</td></tr></table><br/></div><div class=\"wandb-col\"><h3>Run summary:</h3><br/><table class=\"wandb\"><tr><td>accuracy</td><td>0.7731</td></tr><tr><td>best_epoch</td><td>42</td></tr><tr><td>best_val_loss</td><td>0.93469</td></tr><tr><td>epoch</td><td>59</td></tr><tr><td>f1_score</td><td>0.77134</td></tr><tr><td>loss</td><td>0.58433</td></tr><tr><td>val_accuracy</td><td>0.63172</td></tr><tr><td>val_f1_score</td><td>0.63909</td></tr><tr><td>val_loss</td><td>0.94678</td></tr></table><br/></div></div>"
            ],
            "text/plain": [
              "<IPython.core.display.HTML object>"
            ]
          },
          "metadata": {},
          "output_type": "display_data"
        },
        {
          "data": {
            "text/html": [
              " View run <strong style=\"color:#cdcd00\">fresh-sweep-28</strong> at: <a href='https://wandb.ai/remchat/defence-force/runs/5m6b1d42' target=\"_blank\">https://wandb.ai/remchat/defence-force/runs/5m6b1d42</a><br/> View job at <a href='https://wandb.ai/remchat/defence-force/jobs/QXJ0aWZhY3RDb2xsZWN0aW9uOjg3OTM1OTcx/version_details/v8' target=\"_blank\">https://wandb.ai/remchat/defence-force/jobs/QXJ0aWZhY3RDb2xsZWN0aW9uOjg3OTM1OTcx/version_details/v8</a><br/>Synced 5 W&B file(s), 1 media file(s), 120 artifact file(s) and 1 other file(s)"
            ],
            "text/plain": [
              "<IPython.core.display.HTML object>"
            ]
          },
          "metadata": {},
          "output_type": "display_data"
        },
        {
          "data": {
            "text/html": [
              "Find logs at: <code>./wandb/run-20230805_093514-5m6b1d42/logs</code>"
            ],
            "text/plain": [
              "<IPython.core.display.HTML object>"
            ]
          },
          "metadata": {},
          "output_type": "display_data"
        },
        {
          "name": "stderr",
          "output_type": "stream",
          "text": [
            "\u001b[34m\u001b[1mwandb\u001b[0m: Agent Starting Run: osqk3avu with config:\n",
            "\u001b[34m\u001b[1mwandb\u001b[0m: \tdropout: 0.1\n",
            "\u001b[34m\u001b[1mwandb\u001b[0m: \tepochs: 60\n",
            "\u001b[34m\u001b[1mwandb\u001b[0m: \tff_dim: 32\n",
            "\u001b[34m\u001b[1mwandb\u001b[0m: \thead_size: 32\n",
            "\u001b[34m\u001b[1mwandb\u001b[0m: \tlearning_rate: 3e-05\n",
            "\u001b[34m\u001b[1mwandb\u001b[0m: \tmlp_dropout: 0.3\n",
            "\u001b[34m\u001b[1mwandb\u001b[0m: \tmlp_units: [128, 64, 32]\n",
            "\u001b[34m\u001b[1mwandb\u001b[0m: \tnum_heads: 32\n",
            "\u001b[34m\u001b[1mwandb\u001b[0m: \tnum_transformer_blocks: 8\n",
            "\u001b[34m\u001b[1mwandb\u001b[0m: \u001b[33mWARNING\u001b[0m Ignored wandb.init() arg project when running a sweep.\n"
          ]
        },
        {
          "data": {
            "text/html": [
              "Tracking run with wandb version 0.15.8"
            ],
            "text/plain": [
              "<IPython.core.display.HTML object>"
            ]
          },
          "metadata": {},
          "output_type": "display_data"
        },
        {
          "data": {
            "text/html": [
              "Run data is saved locally in <code>/content/gdrive/MyDrive/RifleAction/wandb/run-20230805_105325-osqk3avu</code>"
            ],
            "text/plain": [
              "<IPython.core.display.HTML object>"
            ]
          },
          "metadata": {},
          "output_type": "display_data"
        },
        {
          "data": {
            "text/html": [
              "Syncing run <strong><a href='https://wandb.ai/remchat/defence-force/runs/osqk3avu' target=\"_blank\">serene-sweep-29</a></strong> to <a href='https://wandb.ai/remchat/defence-force' target=\"_blank\">Weights & Biases</a> (<a href='https://wandb.me/run' target=\"_blank\">docs</a>)<br/>Sweep page: <a href='https://wandb.ai/remchat/defence-force/sweeps/k5lpmxhw' target=\"_blank\">https://wandb.ai/remchat/defence-force/sweeps/k5lpmxhw</a>"
            ],
            "text/plain": [
              "<IPython.core.display.HTML object>"
            ]
          },
          "metadata": {},
          "output_type": "display_data"
        },
        {
          "data": {
            "text/html": [
              " View project at <a href='https://wandb.ai/remchat/defence-force' target=\"_blank\">https://wandb.ai/remchat/defence-force</a>"
            ],
            "text/plain": [
              "<IPython.core.display.HTML object>"
            ]
          },
          "metadata": {},
          "output_type": "display_data"
        },
        {
          "data": {
            "text/html": [
              " View sweep at <a href='https://wandb.ai/remchat/defence-force/sweeps/k5lpmxhw' target=\"_blank\">https://wandb.ai/remchat/defence-force/sweeps/k5lpmxhw</a>"
            ],
            "text/plain": [
              "<IPython.core.display.HTML object>"
            ]
          },
          "metadata": {},
          "output_type": "display_data"
        },
        {
          "data": {
            "text/html": [
              " View run at <a href='https://wandb.ai/remchat/defence-force/runs/osqk3avu' target=\"_blank\">https://wandb.ai/remchat/defence-force/runs/osqk3avu</a>"
            ],
            "text/plain": [
              "<IPython.core.display.HTML object>"
            ]
          },
          "metadata": {},
          "output_type": "display_data"
        },
        {
          "name": "stdout",
          "output_type": "stream",
          "text": [
            "Epoch 1/60\n",
            "1817/1818 [============================>.] - ETA: 0s - loss: 2.0609 - accuracy: 0.3078 - f1_score: 0.1875"
          ]
        },
        {
          "name": "stderr",
          "output_type": "stream",
          "text": [
            "WARNING:absl:Found untraced functions such as _jit_compiled_convolution_op, _jit_compiled_convolution_op, _jit_compiled_convolution_op, _jit_compiled_convolution_op, _jit_compiled_convolution_op while saving (showing 5 of 112). These functions will not be directly callable after loading.\n",
            "\u001b[34m\u001b[1mwandb\u001b[0m: Adding directory to artifact (/content/gdrive/MyDrive/RifleAction/wandb/run-20230805_105325-osqk3avu/files/model-best)... Done. 0.1s\n"
          ]
        },
        {
          "name": "stdout",
          "output_type": "stream",
          "text": [
            "1818/1818 [==============================] - 80s 40ms/step - loss: 2.0609 - accuracy: 0.3078 - f1_score: 0.1874 - val_loss: 1.8416 - val_accuracy: 0.3744 - val_f1_score: 0.2040\n",
            "Epoch 2/60\n",
            "1817/1818 [============================>.] - ETA: 0s - loss: 1.8221 - accuracy: 0.3503 - f1_score: 0.2170"
          ]
        },
        {
          "name": "stderr",
          "output_type": "stream",
          "text": [
            "WARNING:absl:Found untraced functions such as _jit_compiled_convolution_op, _jit_compiled_convolution_op, _jit_compiled_convolution_op, _jit_compiled_convolution_op, _jit_compiled_convolution_op while saving (showing 5 of 112). These functions will not be directly callable after loading.\n",
            "\u001b[34m\u001b[1mwandb\u001b[0m: Adding directory to artifact (/content/gdrive/MyDrive/RifleAction/wandb/run-20230805_105325-osqk3avu/files/model-best)... Done. 0.1s\n"
          ]
        },
        {
          "name": "stdout",
          "output_type": "stream",
          "text": [
            "1818/1818 [==============================] - 71s 39ms/step - loss: 1.8221 - accuracy: 0.3503 - f1_score: 0.2170 - val_loss: 1.6496 - val_accuracy: 0.3441 - val_f1_score: 0.2290\n",
            "Epoch 3/60\n",
            "1818/1818 [==============================] - ETA: 0s - loss: 1.6620 - accuracy: 0.3741 - f1_score: 0.2878"
          ]
        },
        {
          "name": "stderr",
          "output_type": "stream",
          "text": [
            "WARNING:absl:Found untraced functions such as _jit_compiled_convolution_op, _jit_compiled_convolution_op, _jit_compiled_convolution_op, _jit_compiled_convolution_op, _jit_compiled_convolution_op while saving (showing 5 of 112). These functions will not be directly callable after loading.\n",
            "\u001b[34m\u001b[1mwandb\u001b[0m: Adding directory to artifact (/content/gdrive/MyDrive/RifleAction/wandb/run-20230805_105325-osqk3avu/files/model-best)... Done. 0.1s\n"
          ]
        },
        {
          "name": "stdout",
          "output_type": "stream",
          "text": [
            "1818/1818 [==============================] - 72s 39ms/step - loss: 1.6620 - accuracy: 0.3741 - f1_score: 0.2878 - val_loss: 1.5581 - val_accuracy: 0.3786 - val_f1_score: 0.2764\n",
            "Epoch 4/60\n",
            "1817/1818 [============================>.] - ETA: 0s - loss: 1.5616 - accuracy: 0.4056 - f1_score: 0.3467"
          ]
        },
        {
          "name": "stderr",
          "output_type": "stream",
          "text": [
            "WARNING:absl:Found untraced functions such as _jit_compiled_convolution_op, _jit_compiled_convolution_op, _jit_compiled_convolution_op, _jit_compiled_convolution_op, _jit_compiled_convolution_op while saving (showing 5 of 112). These functions will not be directly callable after loading.\n",
            "\u001b[34m\u001b[1mwandb\u001b[0m: Adding directory to artifact (/content/gdrive/MyDrive/RifleAction/wandb/run-20230805_105325-osqk3avu/files/model-best)... Done. 0.1s\n"
          ]
        },
        {
          "name": "stdout",
          "output_type": "stream",
          "text": [
            "1818/1818 [==============================] - 76s 42ms/step - loss: 1.5617 - accuracy: 0.4056 - f1_score: 0.3467 - val_loss: 1.4646 - val_accuracy: 0.4200 - val_f1_score: 0.3318\n",
            "Epoch 5/60\n",
            "1817/1818 [============================>.] - ETA: 0s - loss: 1.4825 - accuracy: 0.4288 - f1_score: 0.3809"
          ]
        },
        {
          "name": "stderr",
          "output_type": "stream",
          "text": [
            "WARNING:absl:Found untraced functions such as _jit_compiled_convolution_op, _jit_compiled_convolution_op, _jit_compiled_convolution_op, _jit_compiled_convolution_op, _jit_compiled_convolution_op while saving (showing 5 of 112). These functions will not be directly callable after loading.\n",
            "\u001b[34m\u001b[1mwandb\u001b[0m: Adding directory to artifact (/content/gdrive/MyDrive/RifleAction/wandb/run-20230805_105325-osqk3avu/files/model-best)... Done. 0.1s\n"
          ]
        },
        {
          "name": "stdout",
          "output_type": "stream",
          "text": [
            "1818/1818 [==============================] - 74s 40ms/step - loss: 1.4826 - accuracy: 0.4287 - f1_score: 0.3809 - val_loss: 1.3654 - val_accuracy: 0.4332 - val_f1_score: 0.3501\n",
            "Epoch 6/60\n",
            "1818/1818 [==============================] - ETA: 0s - loss: 1.4138 - accuracy: 0.4540 - f1_score: 0.4118"
          ]
        },
        {
          "name": "stderr",
          "output_type": "stream",
          "text": [
            "WARNING:absl:Found untraced functions such as _jit_compiled_convolution_op, _jit_compiled_convolution_op, _jit_compiled_convolution_op, _jit_compiled_convolution_op, _jit_compiled_convolution_op while saving (showing 5 of 112). These functions will not be directly callable after loading.\n",
            "\u001b[34m\u001b[1mwandb\u001b[0m: Adding directory to artifact (/content/gdrive/MyDrive/RifleAction/wandb/run-20230805_105325-osqk3avu/files/model-best)... Done. 0.1s\n"
          ]
        },
        {
          "name": "stdout",
          "output_type": "stream",
          "text": [
            "1818/1818 [==============================] - 74s 41ms/step - loss: 1.4138 - accuracy: 0.4540 - f1_score: 0.4118 - val_loss: 1.2831 - val_accuracy: 0.4557 - val_f1_score: 0.3733\n",
            "Epoch 7/60\n",
            "1817/1818 [============================>.] - ETA: 0s - loss: 1.3568 - accuracy: 0.4727 - f1_score: 0.4333"
          ]
        },
        {
          "name": "stderr",
          "output_type": "stream",
          "text": [
            "WARNING:absl:Found untraced functions such as _jit_compiled_convolution_op, _jit_compiled_convolution_op, _jit_compiled_convolution_op, _jit_compiled_convolution_op, _jit_compiled_convolution_op while saving (showing 5 of 112). These functions will not be directly callable after loading.\n",
            "\u001b[34m\u001b[1mwandb\u001b[0m: Adding directory to artifact (/content/gdrive/MyDrive/RifleAction/wandb/run-20230805_105325-osqk3avu/files/model-best)... Done. 0.1s\n"
          ]
        },
        {
          "name": "stdout",
          "output_type": "stream",
          "text": [
            "1818/1818 [==============================] - 74s 41ms/step - loss: 1.3568 - accuracy: 0.4727 - f1_score: 0.4333 - val_loss: 1.2331 - val_accuracy: 0.4597 - val_f1_score: 0.3885\n",
            "Epoch 8/60\n",
            "1816/1818 [============================>.] - ETA: 0s - loss: 1.3063 - accuracy: 0.4902 - f1_score: 0.4528"
          ]
        },
        {
          "name": "stderr",
          "output_type": "stream",
          "text": [
            "WARNING:absl:Found untraced functions such as _jit_compiled_convolution_op, _jit_compiled_convolution_op, _jit_compiled_convolution_op, _jit_compiled_convolution_op, _jit_compiled_convolution_op while saving (showing 5 of 112). These functions will not be directly callable after loading.\n",
            "\u001b[34m\u001b[1mwandb\u001b[0m: Adding directory to artifact (/content/gdrive/MyDrive/RifleAction/wandb/run-20230805_105325-osqk3avu/files/model-best)... Done. 0.1s\n"
          ]
        },
        {
          "name": "stdout",
          "output_type": "stream",
          "text": [
            "1818/1818 [==============================] - 73s 40ms/step - loss: 1.3063 - accuracy: 0.4902 - f1_score: 0.4527 - val_loss: 1.1826 - val_accuracy: 0.4570 - val_f1_score: 0.3879\n",
            "Epoch 9/60\n",
            "1816/1818 [============================>.] - ETA: 0s - loss: 1.2629 - accuracy: 0.5089 - f1_score: 0.4718"
          ]
        },
        {
          "name": "stderr",
          "output_type": "stream",
          "text": [
            "WARNING:absl:Found untraced functions such as _jit_compiled_convolution_op, _jit_compiled_convolution_op, _jit_compiled_convolution_op, _jit_compiled_convolution_op, _jit_compiled_convolution_op while saving (showing 5 of 112). These functions will not be directly callable after loading.\n",
            "\u001b[34m\u001b[1mwandb\u001b[0m: Adding directory to artifact (/content/gdrive/MyDrive/RifleAction/wandb/run-20230805_105325-osqk3avu/files/model-best)... Done. 0.1s\n"
          ]
        },
        {
          "name": "stdout",
          "output_type": "stream",
          "text": [
            "1818/1818 [==============================] - 73s 40ms/step - loss: 1.2630 - accuracy: 0.5088 - f1_score: 0.4717 - val_loss: 1.1485 - val_accuracy: 0.4640 - val_f1_score: 0.3999\n",
            "Epoch 10/60\n",
            "1817/1818 [============================>.] - ETA: 0s - loss: 1.2255 - accuracy: 0.5209 - f1_score: 0.4845"
          ]
        },
        {
          "name": "stderr",
          "output_type": "stream",
          "text": [
            "WARNING:absl:Found untraced functions such as _jit_compiled_convolution_op, _jit_compiled_convolution_op, _jit_compiled_convolution_op, _jit_compiled_convolution_op, _jit_compiled_convolution_op while saving (showing 5 of 112). These functions will not be directly callable after loading.\n",
            "\u001b[34m\u001b[1mwandb\u001b[0m: Adding directory to artifact (/content/gdrive/MyDrive/RifleAction/wandb/run-20230805_105325-osqk3avu/files/model-best)... Done. 0.1s\n"
          ]
        },
        {
          "name": "stdout",
          "output_type": "stream",
          "text": [
            "1818/1818 [==============================] - 75s 41ms/step - loss: 1.2254 - accuracy: 0.5210 - f1_score: 0.4845 - val_loss: 1.1249 - val_accuracy: 0.4856 - val_f1_score: 0.4164\n",
            "Epoch 11/60\n",
            "1818/1818 [==============================] - ETA: 0s - loss: 1.1919 - accuracy: 0.5328 - f1_score: 0.4955"
          ]
        },
        {
          "name": "stderr",
          "output_type": "stream",
          "text": [
            "WARNING:absl:Found untraced functions such as _jit_compiled_convolution_op, _jit_compiled_convolution_op, _jit_compiled_convolution_op, _jit_compiled_convolution_op, _jit_compiled_convolution_op while saving (showing 5 of 112). These functions will not be directly callable after loading.\n",
            "\u001b[34m\u001b[1mwandb\u001b[0m: Adding directory to artifact (/content/gdrive/MyDrive/RifleAction/wandb/run-20230805_105325-osqk3avu/files/model-best)... Done. 0.1s\n"
          ]
        },
        {
          "name": "stdout",
          "output_type": "stream",
          "text": [
            "1818/1818 [==============================] - 82s 45ms/step - loss: 1.1919 - accuracy: 0.5328 - f1_score: 0.4955 - val_loss: 1.1137 - val_accuracy: 0.4908 - val_f1_score: 0.4228\n",
            "Epoch 12/60\n",
            "1817/1818 [============================>.] - ETA: 0s - loss: 1.1659 - accuracy: 0.5426 - f1_score: 0.5054"
          ]
        },
        {
          "name": "stderr",
          "output_type": "stream",
          "text": [
            "WARNING:absl:Found untraced functions such as _jit_compiled_convolution_op, _jit_compiled_convolution_op, _jit_compiled_convolution_op, _jit_compiled_convolution_op, _jit_compiled_convolution_op while saving (showing 5 of 112). These functions will not be directly callable after loading.\n",
            "\u001b[34m\u001b[1mwandb\u001b[0m: Adding directory to artifact (/content/gdrive/MyDrive/RifleAction/wandb/run-20230805_105325-osqk3avu/files/model-best)... Done. 0.1s\n"
          ]
        },
        {
          "name": "stdout",
          "output_type": "stream",
          "text": [
            "1818/1818 [==============================] - 73s 40ms/step - loss: 1.1660 - accuracy: 0.5426 - f1_score: 0.5054 - val_loss: 1.0942 - val_accuracy: 0.4957 - val_f1_score: 0.4274\n",
            "Epoch 13/60\n",
            "1817/1818 [============================>.] - ETA: 0s - loss: 1.1389 - accuracy: 0.5532 - f1_score: 0.5147"
          ]
        },
        {
          "name": "stderr",
          "output_type": "stream",
          "text": [
            "WARNING:absl:Found untraced functions such as _jit_compiled_convolution_op, _jit_compiled_convolution_op, _jit_compiled_convolution_op, _jit_compiled_convolution_op, _jit_compiled_convolution_op while saving (showing 5 of 112). These functions will not be directly callable after loading.\n",
            "\u001b[34m\u001b[1mwandb\u001b[0m: Adding directory to artifact (/content/gdrive/MyDrive/RifleAction/wandb/run-20230805_105325-osqk3avu/files/model-best)... Done. 0.1s\n"
          ]
        },
        {
          "name": "stdout",
          "output_type": "stream",
          "text": [
            "1818/1818 [==============================] - 74s 41ms/step - loss: 1.1389 - accuracy: 0.5531 - f1_score: 0.5147 - val_loss: 1.0845 - val_accuracy: 0.4968 - val_f1_score: 0.4233\n",
            "Epoch 14/60\n",
            "1818/1818 [==============================] - ETA: 0s - loss: 1.1168 - accuracy: 0.5614 - f1_score: 0.5230"
          ]
        },
        {
          "name": "stderr",
          "output_type": "stream",
          "text": [
            "WARNING:absl:Found untraced functions such as _jit_compiled_convolution_op, _jit_compiled_convolution_op, _jit_compiled_convolution_op, _jit_compiled_convolution_op, _jit_compiled_convolution_op while saving (showing 5 of 112). These functions will not be directly callable after loading.\n",
            "\u001b[34m\u001b[1mwandb\u001b[0m: Adding directory to artifact (/content/gdrive/MyDrive/RifleAction/wandb/run-20230805_105325-osqk3avu/files/model-best)... Done. 0.1s\n"
          ]
        },
        {
          "name": "stdout",
          "output_type": "stream",
          "text": [
            "1818/1818 [==============================] - 75s 41ms/step - loss: 1.1168 - accuracy: 0.5614 - f1_score: 0.5230 - val_loss: 1.0703 - val_accuracy: 0.5022 - val_f1_score: 0.4295\n",
            "Epoch 15/60\n",
            "1818/1818 [==============================] - ETA: 0s - loss: 1.0962 - accuracy: 0.5689 - f1_score: 0.5301"
          ]
        },
        {
          "name": "stderr",
          "output_type": "stream",
          "text": [
            "WARNING:absl:Found untraced functions such as _jit_compiled_convolution_op, _jit_compiled_convolution_op, _jit_compiled_convolution_op, _jit_compiled_convolution_op, _jit_compiled_convolution_op while saving (showing 5 of 112). These functions will not be directly callable after loading.\n",
            "\u001b[34m\u001b[1mwandb\u001b[0m: Adding directory to artifact (/content/gdrive/MyDrive/RifleAction/wandb/run-20230805_105325-osqk3avu/files/model-best)... Done. 0.1s\n"
          ]
        },
        {
          "name": "stdout",
          "output_type": "stream",
          "text": [
            "1818/1818 [==============================] - 75s 41ms/step - loss: 1.0962 - accuracy: 0.5689 - f1_score: 0.5301 - val_loss: 1.0621 - val_accuracy: 0.5007 - val_f1_score: 0.4295\n",
            "Epoch 16/60\n",
            "1817/1818 [============================>.] - ETA: 0s - loss: 1.0774 - accuracy: 0.5763 - f1_score: 0.5379"
          ]
        },
        {
          "name": "stderr",
          "output_type": "stream",
          "text": [
            "WARNING:absl:Found untraced functions such as _jit_compiled_convolution_op, _jit_compiled_convolution_op, _jit_compiled_convolution_op, _jit_compiled_convolution_op, _jit_compiled_convolution_op while saving (showing 5 of 112). These functions will not be directly callable after loading.\n",
            "\u001b[34m\u001b[1mwandb\u001b[0m: Adding directory to artifact (/content/gdrive/MyDrive/RifleAction/wandb/run-20230805_105325-osqk3avu/files/model-best)... Done. 0.1s\n"
          ]
        },
        {
          "name": "stdout",
          "output_type": "stream",
          "text": [
            "1818/1818 [==============================] - 74s 40ms/step - loss: 1.0774 - accuracy: 0.5763 - f1_score: 0.5379 - val_loss: 1.0529 - val_accuracy: 0.5026 - val_f1_score: 0.4329\n",
            "Epoch 17/60\n",
            "1817/1818 [============================>.] - ETA: 0s - loss: 1.0605 - accuracy: 0.5824 - f1_score: 0.5448"
          ]
        },
        {
          "name": "stderr",
          "output_type": "stream",
          "text": [
            "WARNING:absl:Found untraced functions such as _jit_compiled_convolution_op, _jit_compiled_convolution_op, _jit_compiled_convolution_op, _jit_compiled_convolution_op, _jit_compiled_convolution_op while saving (showing 5 of 112). These functions will not be directly callable after loading.\n",
            "\u001b[34m\u001b[1mwandb\u001b[0m: Adding directory to artifact (/content/gdrive/MyDrive/RifleAction/wandb/run-20230805_105325-osqk3avu/files/model-best)... Done. 0.1s\n"
          ]
        },
        {
          "name": "stdout",
          "output_type": "stream",
          "text": [
            "1818/1818 [==============================] - 73s 40ms/step - loss: 1.0605 - accuracy: 0.5824 - f1_score: 0.5447 - val_loss: 1.0435 - val_accuracy: 0.5085 - val_f1_score: 0.4365\n",
            "Epoch 18/60\n",
            "1817/1818 [============================>.] - ETA: 0s - loss: 1.0437 - accuracy: 0.5885 - f1_score: 0.5506"
          ]
        },
        {
          "name": "stderr",
          "output_type": "stream",
          "text": [
            "WARNING:absl:Found untraced functions such as _jit_compiled_convolution_op, _jit_compiled_convolution_op, _jit_compiled_convolution_op, _jit_compiled_convolution_op, _jit_compiled_convolution_op while saving (showing 5 of 112). These functions will not be directly callable after loading.\n",
            "\u001b[34m\u001b[1mwandb\u001b[0m: Adding directory to artifact (/content/gdrive/MyDrive/RifleAction/wandb/run-20230805_105325-osqk3avu/files/model-best)... Done. 0.1s\n"
          ]
        },
        {
          "name": "stdout",
          "output_type": "stream",
          "text": [
            "1818/1818 [==============================] - 70s 39ms/step - loss: 1.0438 - accuracy: 0.5885 - f1_score: 0.5506 - val_loss: 1.0400 - val_accuracy: 0.5108 - val_f1_score: 0.4427\n",
            "Epoch 19/60\n",
            "1817/1818 [============================>.] - ETA: 0s - loss: 1.0320 - accuracy: 0.5939 - f1_score: 0.5564"
          ]
        },
        {
          "name": "stderr",
          "output_type": "stream",
          "text": [
            "WARNING:absl:Found untraced functions such as _jit_compiled_convolution_op, _jit_compiled_convolution_op, _jit_compiled_convolution_op, _jit_compiled_convolution_op, _jit_compiled_convolution_op while saving (showing 5 of 112). These functions will not be directly callable after loading.\n",
            "\u001b[34m\u001b[1mwandb\u001b[0m: Adding directory to artifact (/content/gdrive/MyDrive/RifleAction/wandb/run-20230805_105325-osqk3avu/files/model-best)... Done. 0.1s\n"
          ]
        },
        {
          "name": "stdout",
          "output_type": "stream",
          "text": [
            "1818/1818 [==============================] - 74s 41ms/step - loss: 1.0320 - accuracy: 0.5939 - f1_score: 0.5564 - val_loss: 1.0290 - val_accuracy: 0.5151 - val_f1_score: 0.4497\n",
            "Epoch 20/60\n",
            "1818/1818 [==============================] - 61s 34ms/step - loss: 1.0146 - accuracy: 0.6025 - f1_score: 0.5653 - val_loss: 1.0315 - val_accuracy: 0.5195 - val_f1_score: 0.4625\n",
            "Epoch 21/60\n",
            "1818/1818 [==============================] - ETA: 0s - loss: 1.0051 - accuracy: 0.6062 - f1_score: 0.5698"
          ]
        },
        {
          "name": "stderr",
          "output_type": "stream",
          "text": [
            "WARNING:absl:Found untraced functions such as _jit_compiled_convolution_op, _jit_compiled_convolution_op, _jit_compiled_convolution_op, _jit_compiled_convolution_op, _jit_compiled_convolution_op while saving (showing 5 of 112). These functions will not be directly callable after loading.\n",
            "\u001b[34m\u001b[1mwandb\u001b[0m: Adding directory to artifact (/content/gdrive/MyDrive/RifleAction/wandb/run-20230805_105325-osqk3avu/files/model-best)... Done. 0.1s\n"
          ]
        },
        {
          "name": "stdout",
          "output_type": "stream",
          "text": [
            "1818/1818 [==============================] - 72s 39ms/step - loss: 1.0051 - accuracy: 0.6062 - f1_score: 0.5698 - val_loss: 1.0242 - val_accuracy: 0.5220 - val_f1_score: 0.4623\n",
            "Epoch 22/60\n",
            "1818/1818 [==============================] - ETA: 0s - loss: 0.9894 - accuracy: 0.6119 - f1_score: 0.5761"
          ]
        },
        {
          "name": "stderr",
          "output_type": "stream",
          "text": [
            "WARNING:absl:Found untraced functions such as _jit_compiled_convolution_op, _jit_compiled_convolution_op, _jit_compiled_convolution_op, _jit_compiled_convolution_op, _jit_compiled_convolution_op while saving (showing 5 of 112). These functions will not be directly callable after loading.\n",
            "\u001b[34m\u001b[1mwandb\u001b[0m: Adding directory to artifact (/content/gdrive/MyDrive/RifleAction/wandb/run-20230805_105325-osqk3avu/files/model-best)... Done. 0.1s\n"
          ]
        },
        {
          "name": "stdout",
          "output_type": "stream",
          "text": [
            "1818/1818 [==============================] - 75s 41ms/step - loss: 0.9894 - accuracy: 0.6119 - f1_score: 0.5761 - val_loss: 1.0140 - val_accuracy: 0.5252 - val_f1_score: 0.4682\n",
            "Epoch 23/60\n",
            "1818/1818 [==============================] - 57s 31ms/step - loss: 0.9785 - accuracy: 0.6147 - f1_score: 0.5795 - val_loss: 1.0157 - val_accuracy: 0.5277 - val_f1_score: 0.4806\n",
            "Epoch 24/60\n",
            "1818/1818 [==============================] - 58s 32ms/step - loss: 0.9677 - accuracy: 0.6188 - f1_score: 0.5843 - val_loss: 1.0157 - val_accuracy: 0.5328 - val_f1_score: 0.4890\n",
            "Epoch 25/60\n",
            "1817/1818 [============================>.] - ETA: 0s - loss: 0.9577 - accuracy: 0.6224 - f1_score: 0.5889"
          ]
        },
        {
          "name": "stderr",
          "output_type": "stream",
          "text": [
            "WARNING:absl:Found untraced functions such as _jit_compiled_convolution_op, _jit_compiled_convolution_op, _jit_compiled_convolution_op, _jit_compiled_convolution_op, _jit_compiled_convolution_op while saving (showing 5 of 112). These functions will not be directly callable after loading.\n",
            "\u001b[34m\u001b[1mwandb\u001b[0m: Adding directory to artifact (/content/gdrive/MyDrive/RifleAction/wandb/run-20230805_105325-osqk3avu/files/model-best)... Done. 0.1s\n"
          ]
        },
        {
          "name": "stdout",
          "output_type": "stream",
          "text": [
            "1818/1818 [==============================] - 73s 40ms/step - loss: 0.9576 - accuracy: 0.6225 - f1_score: 0.5889 - val_loss: 1.0062 - val_accuracy: 0.5441 - val_f1_score: 0.5029\n",
            "Epoch 26/60\n",
            "1818/1818 [==============================] - 55s 30ms/step - loss: 0.9457 - accuracy: 0.6282 - f1_score: 0.5964 - val_loss: 1.0119 - val_accuracy: 0.5405 - val_f1_score: 0.5002\n",
            "Epoch 27/60\n",
            "1817/1818 [============================>.] - ETA: 0s - loss: 0.9355 - accuracy: 0.6331 - f1_score: 0.6012"
          ]
        },
        {
          "name": "stderr",
          "output_type": "stream",
          "text": [
            "WARNING:absl:Found untraced functions such as _jit_compiled_convolution_op, _jit_compiled_convolution_op, _jit_compiled_convolution_op, _jit_compiled_convolution_op, _jit_compiled_convolution_op while saving (showing 5 of 112). These functions will not be directly callable after loading.\n",
            "\u001b[34m\u001b[1mwandb\u001b[0m: Adding directory to artifact (/content/gdrive/MyDrive/RifleAction/wandb/run-20230805_105325-osqk3avu/files/model-best)... Done. 0.1s\n"
          ]
        },
        {
          "name": "stdout",
          "output_type": "stream",
          "text": [
            "1818/1818 [==============================] - 74s 41ms/step - loss: 0.9355 - accuracy: 0.6331 - f1_score: 0.6012 - val_loss: 1.0024 - val_accuracy: 0.5488 - val_f1_score: 0.5128\n",
            "Epoch 28/60\n",
            "1818/1818 [==============================] - 57s 31ms/step - loss: 0.9285 - accuracy: 0.6349 - f1_score: 0.6041 - val_loss: 1.0056 - val_accuracy: 0.5519 - val_f1_score: 0.5190\n",
            "Epoch 29/60\n",
            "1818/1818 [==============================] - ETA: 0s - loss: 0.9204 - accuracy: 0.6377 - f1_score: 0.6076"
          ]
        },
        {
          "name": "stderr",
          "output_type": "stream",
          "text": [
            "WARNING:absl:Found untraced functions such as _jit_compiled_convolution_op, _jit_compiled_convolution_op, _jit_compiled_convolution_op, _jit_compiled_convolution_op, _jit_compiled_convolution_op while saving (showing 5 of 112). These functions will not be directly callable after loading.\n",
            "\u001b[34m\u001b[1mwandb\u001b[0m: Adding directory to artifact (/content/gdrive/MyDrive/RifleAction/wandb/run-20230805_105325-osqk3avu/files/model-best)... Done. 0.1s\n"
          ]
        },
        {
          "name": "stdout",
          "output_type": "stream",
          "text": [
            "1818/1818 [==============================] - 72s 40ms/step - loss: 0.9204 - accuracy: 0.6377 - f1_score: 0.6076 - val_loss: 0.9968 - val_accuracy: 0.5596 - val_f1_score: 0.5301\n",
            "Epoch 30/60\n",
            "1818/1818 [==============================] - 58s 32ms/step - loss: 0.9127 - accuracy: 0.6422 - f1_score: 0.6127 - val_loss: 0.9992 - val_accuracy: 0.5560 - val_f1_score: 0.5254\n",
            "Epoch 31/60\n",
            "1817/1818 [============================>.] - ETA: 0s - loss: 0.9046 - accuracy: 0.6463 - f1_score: 0.6174"
          ]
        },
        {
          "name": "stderr",
          "output_type": "stream",
          "text": [
            "WARNING:absl:Found untraced functions such as _jit_compiled_convolution_op, _jit_compiled_convolution_op, _jit_compiled_convolution_op, _jit_compiled_convolution_op, _jit_compiled_convolution_op while saving (showing 5 of 112). These functions will not be directly callable after loading.\n",
            "\u001b[34m\u001b[1mwandb\u001b[0m: Adding directory to artifact (/content/gdrive/MyDrive/RifleAction/wandb/run-20230805_105325-osqk3avu/files/model-best)... Done. 0.1s\n"
          ]
        },
        {
          "name": "stdout",
          "output_type": "stream",
          "text": [
            "1818/1818 [==============================] - 72s 40ms/step - loss: 0.9045 - accuracy: 0.6463 - f1_score: 0.6174 - val_loss: 0.9921 - val_accuracy: 0.5562 - val_f1_score: 0.5234\n",
            "Epoch 32/60\n",
            "1818/1818 [==============================] - 56s 31ms/step - loss: 0.8981 - accuracy: 0.6478 - f1_score: 0.6196 - val_loss: 0.9964 - val_accuracy: 0.5558 - val_f1_score: 0.5262\n",
            "Epoch 33/60\n",
            "1817/1818 [============================>.] - ETA: 0s - loss: 0.8864 - accuracy: 0.6507 - f1_score: 0.6232"
          ]
        },
        {
          "name": "stderr",
          "output_type": "stream",
          "text": [
            "WARNING:absl:Found untraced functions such as _jit_compiled_convolution_op, _jit_compiled_convolution_op, _jit_compiled_convolution_op, _jit_compiled_convolution_op, _jit_compiled_convolution_op while saving (showing 5 of 112). These functions will not be directly callable after loading.\n",
            "\u001b[34m\u001b[1mwandb\u001b[0m: Adding directory to artifact (/content/gdrive/MyDrive/RifleAction/wandb/run-20230805_105325-osqk3avu/files/model-best)... Done. 0.1s\n"
          ]
        },
        {
          "name": "stdout",
          "output_type": "stream",
          "text": [
            "1818/1818 [==============================] - 71s 39ms/step - loss: 0.8864 - accuracy: 0.6507 - f1_score: 0.6232 - val_loss: 0.9836 - val_accuracy: 0.5619 - val_f1_score: 0.5328\n",
            "Epoch 34/60\n",
            "1818/1818 [==============================] - 57s 31ms/step - loss: 0.8768 - accuracy: 0.6569 - f1_score: 0.6301 - val_loss: 0.9877 - val_accuracy: 0.5622 - val_f1_score: 0.5350\n",
            "Epoch 35/60\n",
            "1818/1818 [==============================] - 55s 30ms/step - loss: 0.8756 - accuracy: 0.6571 - f1_score: 0.6303 - val_loss: 0.9881 - val_accuracy: 0.5610 - val_f1_score: 0.5342\n",
            "Epoch 36/60\n",
            "1818/1818 [==============================] - 59s 32ms/step - loss: 0.8649 - accuracy: 0.6605 - f1_score: 0.6341 - val_loss: 0.9857 - val_accuracy: 0.5530 - val_f1_score: 0.5239\n",
            "Epoch 37/60\n",
            "1818/1818 [==============================] - ETA: 0s - loss: 0.8543 - accuracy: 0.6650 - f1_score: 0.6393"
          ]
        },
        {
          "name": "stderr",
          "output_type": "stream",
          "text": [
            "WARNING:absl:Found untraced functions such as _jit_compiled_convolution_op, _jit_compiled_convolution_op, _jit_compiled_convolution_op, _jit_compiled_convolution_op, _jit_compiled_convolution_op while saving (showing 5 of 112). These functions will not be directly callable after loading.\n",
            "\u001b[34m\u001b[1mwandb\u001b[0m: Adding directory to artifact (/content/gdrive/MyDrive/RifleAction/wandb/run-20230805_105325-osqk3avu/files/model-best)... Done. 0.1s\n"
          ]
        },
        {
          "name": "stdout",
          "output_type": "stream",
          "text": [
            "1818/1818 [==============================] - 72s 39ms/step - loss: 0.8543 - accuracy: 0.6650 - f1_score: 0.6393 - val_loss: 0.9722 - val_accuracy: 0.5822 - val_f1_score: 0.5593\n",
            "Epoch 38/60\n",
            "1818/1818 [==============================] - 56s 31ms/step - loss: 0.8499 - accuracy: 0.6662 - f1_score: 0.6404 - val_loss: 0.9742 - val_accuracy: 0.5821 - val_f1_score: 0.5620\n",
            "Epoch 39/60\n",
            "1817/1818 [============================>.] - ETA: 0s - loss: 0.8439 - accuracy: 0.6679 - f1_score: 0.6429"
          ]
        },
        {
          "name": "stderr",
          "output_type": "stream",
          "text": [
            "WARNING:absl:Found untraced functions such as _jit_compiled_convolution_op, _jit_compiled_convolution_op, _jit_compiled_convolution_op, _jit_compiled_convolution_op, _jit_compiled_convolution_op while saving (showing 5 of 112). These functions will not be directly callable after loading.\n",
            "\u001b[34m\u001b[1mwandb\u001b[0m: Adding directory to artifact (/content/gdrive/MyDrive/RifleAction/wandb/run-20230805_105325-osqk3avu/files/model-best)... Done. 0.1s\n"
          ]
        },
        {
          "name": "stdout",
          "output_type": "stream",
          "text": [
            "1818/1818 [==============================] - 73s 40ms/step - loss: 0.8438 - accuracy: 0.6679 - f1_score: 0.6429 - val_loss: 0.9678 - val_accuracy: 0.5740 - val_f1_score: 0.5505\n",
            "Epoch 40/60\n",
            "1818/1818 [==============================] - 58s 32ms/step - loss: 0.8365 - accuracy: 0.6714 - f1_score: 0.6464 - val_loss: 0.9713 - val_accuracy: 0.5738 - val_f1_score: 0.5493\n",
            "Epoch 41/60\n",
            "1817/1818 [============================>.] - ETA: 0s - loss: 0.8328 - accuracy: 0.6722 - f1_score: 0.6476"
          ]
        },
        {
          "name": "stderr",
          "output_type": "stream",
          "text": [
            "WARNING:absl:Found untraced functions such as _jit_compiled_convolution_op, _jit_compiled_convolution_op, _jit_compiled_convolution_op, _jit_compiled_convolution_op, _jit_compiled_convolution_op while saving (showing 5 of 112). These functions will not be directly callable after loading.\n",
            "\u001b[34m\u001b[1mwandb\u001b[0m: Adding directory to artifact (/content/gdrive/MyDrive/RifleAction/wandb/run-20230805_105325-osqk3avu/files/model-best)... Done. 0.1s\n"
          ]
        },
        {
          "name": "stdout",
          "output_type": "stream",
          "text": [
            "1818/1818 [==============================] - 71s 39ms/step - loss: 0.8327 - accuracy: 0.6722 - f1_score: 0.6476 - val_loss: 0.9591 - val_accuracy: 0.5850 - val_f1_score: 0.5652\n",
            "Epoch 42/60\n",
            "1818/1818 [==============================] - 59s 32ms/step - loss: 0.8230 - accuracy: 0.6765 - f1_score: 0.6525 - val_loss: 0.9637 - val_accuracy: 0.5978 - val_f1_score: 0.5785\n",
            "Epoch 43/60\n",
            "1818/1818 [==============================] - 59s 32ms/step - loss: 0.8200 - accuracy: 0.6775 - f1_score: 0.6541 - val_loss: 0.9679 - val_accuracy: 0.5814 - val_f1_score: 0.5624\n",
            "Epoch 44/60\n",
            "1818/1818 [==============================] - 58s 32ms/step - loss: 0.8147 - accuracy: 0.6797 - f1_score: 0.6565 - val_loss: 0.9638 - val_accuracy: 0.5839 - val_f1_score: 0.5633\n",
            "Epoch 45/60\n",
            "1818/1818 [==============================] - 56s 31ms/step - loss: 0.8048 - accuracy: 0.6823 - f1_score: 0.6591 - val_loss: 0.9598 - val_accuracy: 0.5889 - val_f1_score: 0.5687\n",
            "Epoch 46/60\n",
            "1818/1818 [==============================] - 55s 30ms/step - loss: 0.8013 - accuracy: 0.6854 - f1_score: 0.6633 - val_loss: 0.9706 - val_accuracy: 0.5789 - val_f1_score: 0.5565\n",
            "Epoch 47/60\n",
            "1817/1818 [============================>.] - ETA: 0s - loss: 0.7955 - accuracy: 0.6858 - f1_score: 0.6641"
          ]
        },
        {
          "name": "stderr",
          "output_type": "stream",
          "text": [
            "WARNING:absl:Found untraced functions such as _jit_compiled_convolution_op, _jit_compiled_convolution_op, _jit_compiled_convolution_op, _jit_compiled_convolution_op, _jit_compiled_convolution_op while saving (showing 5 of 112). These functions will not be directly callable after loading.\n",
            "\u001b[34m\u001b[1mwandb\u001b[0m: Adding directory to artifact (/content/gdrive/MyDrive/RifleAction/wandb/run-20230805_105325-osqk3avu/files/model-best)... Done. 0.1s\n"
          ]
        },
        {
          "name": "stdout",
          "output_type": "stream",
          "text": [
            "1818/1818 [==============================] - 73s 40ms/step - loss: 0.7955 - accuracy: 0.6859 - f1_score: 0.6641 - val_loss: 0.9560 - val_accuracy: 0.5946 - val_f1_score: 0.5755\n",
            "Epoch 48/60\n",
            "1818/1818 [==============================] - 56s 31ms/step - loss: 0.7896 - accuracy: 0.6888 - f1_score: 0.6670 - val_loss: 0.9591 - val_accuracy: 0.5896 - val_f1_score: 0.5732\n",
            "Epoch 49/60\n",
            "1818/1818 [==============================] - 57s 31ms/step - loss: 0.7832 - accuracy: 0.6914 - f1_score: 0.6703 - val_loss: 0.9681 - val_accuracy: 0.5823 - val_f1_score: 0.5660\n",
            "Epoch 50/60\n",
            "1818/1818 [==============================] - 57s 31ms/step - loss: 0.7792 - accuracy: 0.6939 - f1_score: 0.6734 - val_loss: 0.9570 - val_accuracy: 0.5884 - val_f1_score: 0.5715\n",
            "Epoch 51/60\n",
            "1818/1818 [==============================] - ETA: 0s - loss: 0.7765 - accuracy: 0.6953 - f1_score: 0.6752"
          ]
        },
        {
          "name": "stderr",
          "output_type": "stream",
          "text": [
            "WARNING:absl:Found untraced functions such as _jit_compiled_convolution_op, _jit_compiled_convolution_op, _jit_compiled_convolution_op, _jit_compiled_convolution_op, _jit_compiled_convolution_op while saving (showing 5 of 112). These functions will not be directly callable after loading.\n",
            "\u001b[34m\u001b[1mwandb\u001b[0m: Adding directory to artifact (/content/gdrive/MyDrive/RifleAction/wandb/run-20230805_105325-osqk3avu/files/model-best)... Done. 0.1s\n"
          ]
        },
        {
          "name": "stdout",
          "output_type": "stream",
          "text": [
            "1818/1818 [==============================] - 70s 38ms/step - loss: 0.7765 - accuracy: 0.6953 - f1_score: 0.6752 - val_loss: 0.9548 - val_accuracy: 0.6002 - val_f1_score: 0.5844\n",
            "Epoch 52/60\n",
            "1818/1818 [==============================] - 56s 31ms/step - loss: 0.7735 - accuracy: 0.6955 - f1_score: 0.6760 - val_loss: 0.9559 - val_accuracy: 0.5957 - val_f1_score: 0.5820\n",
            "Epoch 53/60\n",
            "1818/1818 [==============================] - 57s 31ms/step - loss: 0.7639 - accuracy: 0.6991 - f1_score: 0.6802 - val_loss: 0.9753 - val_accuracy: 0.5721 - val_f1_score: 0.5564\n",
            "Epoch 54/60\n",
            "1818/1818 [==============================] - 54s 30ms/step - loss: 0.7583 - accuracy: 0.7016 - f1_score: 0.6830 - val_loss: 0.9647 - val_accuracy: 0.5890 - val_f1_score: 0.5759\n",
            "Epoch 55/60\n",
            "1818/1818 [==============================] - 58s 32ms/step - loss: 0.7566 - accuracy: 0.7030 - f1_score: 0.6847 - val_loss: 0.9718 - val_accuracy: 0.5773 - val_f1_score: 0.5605\n",
            "Epoch 56/60\n",
            "1818/1818 [==============================] - 56s 31ms/step - loss: 0.7518 - accuracy: 0.7046 - f1_score: 0.6871 - val_loss: 0.9560 - val_accuracy: 0.5998 - val_f1_score: 0.5886\n",
            "Epoch 57/60\n",
            "1818/1818 [==============================] - 56s 31ms/step - loss: 0.7462 - accuracy: 0.7072 - f1_score: 0.6898 - val_loss: 0.9574 - val_accuracy: 0.6029 - val_f1_score: 0.5910\n",
            "Epoch 58/60\n",
            "1818/1818 [==============================] - 57s 32ms/step - loss: 0.7421 - accuracy: 0.7103 - f1_score: 0.6935 - val_loss: 0.9683 - val_accuracy: 0.5832 - val_f1_score: 0.5702\n",
            "Epoch 59/60\n",
            "1818/1818 [==============================] - 55s 30ms/step - loss: 0.7344 - accuracy: 0.7108 - f1_score: 0.6942 - val_loss: 0.9642 - val_accuracy: 0.5975 - val_f1_score: 0.5889\n",
            "Epoch 60/60\n",
            "1818/1818 [==============================] - 58s 32ms/step - loss: 0.7323 - accuracy: 0.7138 - f1_score: 0.6979 - val_loss: 0.9574 - val_accuracy: 0.6004 - val_f1_score: 0.5929\n"
          ]
        },
        {
          "data": {
            "text/html": [
              "Waiting for W&B process to finish... <strong style=\"color:green\">(success).</strong>"
            ],
            "text/plain": [
              "<IPython.core.display.HTML object>"
            ]
          },
          "metadata": {},
          "output_type": "display_data"
        },
        {
          "data": {
            "text/html": [
              "<style>\n",
              "    table.wandb td:nth-child(1) { padding: 0 10px; text-align: left ; width: auto;} td:nth-child(2) {text-align: left ; width: 100%}\n",
              "    .wandb-row { display: flex; flex-direction: row; flex-wrap: wrap; justify-content: flex-start; width: 100% }\n",
              "    .wandb-col { display: flex; flex-direction: column; flex-basis: 100%; flex: 1; padding: 10px; }\n",
              "    </style>\n",
              "<div class=\"wandb-row\"><div class=\"wandb-col\"><h3>Run history:</h3><br/><table class=\"wandb\"><tr><td>accuracy</td><td>▁▂▃▃▄▄▅▅▅▅▆▆▆▆▆▆▆▇▇▇▇▇▇▇▇▇▇▇▇▇██████████</td></tr><tr><td>epoch</td><td>▁▁▁▁▂▂▂▂▂▃▃▃▃▃▃▄▄▄▄▄▅▅▅▅▅▅▆▆▆▆▆▆▇▇▇▇▇███</td></tr><tr><td>f1_score</td><td>▁▁▃▄▄▅▅▅▅▆▆▆▆▆▆▆▇▇▇▇▇▇▇▇▇▇▇▇▇▇██████████</td></tr><tr><td>loss</td><td>█▇▅▅▄▄▄▃▃▃▃▃▃▂▂▂▂▂▂▂▂▂▂▂▂▂▂▂▁▁▁▁▁▁▁▁▁▁▁▁</td></tr><tr><td>val_accuracy</td><td>▂▁▃▃▄▄▅▅▅▅▅▅▆▆▆▆▆▆▇▇▇▇▇▇██▇█▇█▇████▇▇███</td></tr><tr><td>val_f1_score</td><td>▁▁▃▄▄▄▅▅▅▅▅▅▅▆▆▆▆▆▇▇▇▇▇▇▇▇▇█▇▇▇████▇▇███</td></tr><tr><td>val_loss</td><td>█▆▅▄▃▃▂▂▂▂▂▂▂▂▁▁▁▁▁▁▁▁▁▁▁▁▁▁▁▁▁▁▁▁▁▁▁▁▁▁</td></tr></table><br/></div><div class=\"wandb-col\"><h3>Run summary:</h3><br/><table class=\"wandb\"><tr><td>accuracy</td><td>0.71376</td></tr><tr><td>best_epoch</td><td>50</td></tr><tr><td>best_val_loss</td><td>0.95476</td></tr><tr><td>epoch</td><td>59</td></tr><tr><td>f1_score</td><td>0.69786</td></tr><tr><td>loss</td><td>0.73226</td></tr><tr><td>val_accuracy</td><td>0.60037</td></tr><tr><td>val_f1_score</td><td>0.59293</td></tr><tr><td>val_loss</td><td>0.95743</td></tr></table><br/></div></div>"
            ],
            "text/plain": [
              "<IPython.core.display.HTML object>"
            ]
          },
          "metadata": {},
          "output_type": "display_data"
        },
        {
          "data": {
            "text/html": [
              " View run <strong style=\"color:#cdcd00\">serene-sweep-29</strong> at: <a href='https://wandb.ai/remchat/defence-force/runs/osqk3avu' target=\"_blank\">https://wandb.ai/remchat/defence-force/runs/osqk3avu</a><br/> View job at <a href='https://wandb.ai/remchat/defence-force/jobs/QXJ0aWZhY3RDb2xsZWN0aW9uOjg3OTM1OTcx/version_details/v9' target=\"_blank\">https://wandb.ai/remchat/defence-force/jobs/QXJ0aWZhY3RDb2xsZWN0aW9uOjg3OTM1OTcx/version_details/v9</a><br/>Synced 5 W&B file(s), 1 media file(s), 155 artifact file(s) and 1 other file(s)"
            ],
            "text/plain": [
              "<IPython.core.display.HTML object>"
            ]
          },
          "metadata": {},
          "output_type": "display_data"
        },
        {
          "data": {
            "text/html": [
              "Find logs at: <code>./wandb/run-20230805_105325-osqk3avu/logs</code>"
            ],
            "text/plain": [
              "<IPython.core.display.HTML object>"
            ]
          },
          "metadata": {},
          "output_type": "display_data"
        },
        {
          "name": "stderr",
          "output_type": "stream",
          "text": [
            "\u001b[34m\u001b[1mwandb\u001b[0m: Agent Starting Run: fqpqgshr with config:\n",
            "\u001b[34m\u001b[1mwandb\u001b[0m: \tdropout: 0.3\n",
            "\u001b[34m\u001b[1mwandb\u001b[0m: \tepochs: 60\n",
            "\u001b[34m\u001b[1mwandb\u001b[0m: \tff_dim: 128\n",
            "\u001b[34m\u001b[1mwandb\u001b[0m: \thead_size: 128\n",
            "\u001b[34m\u001b[1mwandb\u001b[0m: \tlearning_rate: 0.001\n",
            "\u001b[34m\u001b[1mwandb\u001b[0m: \tmlp_dropout: 0.1\n",
            "\u001b[34m\u001b[1mwandb\u001b[0m: \tmlp_units: [128, 64]\n",
            "\u001b[34m\u001b[1mwandb\u001b[0m: \tnum_heads: 16\n",
            "\u001b[34m\u001b[1mwandb\u001b[0m: \tnum_transformer_blocks: 6\n",
            "\u001b[34m\u001b[1mwandb\u001b[0m: \u001b[33mWARNING\u001b[0m Ignored wandb.init() arg project when running a sweep.\n"
          ]
        },
        {
          "data": {
            "text/html": [
              "Tracking run with wandb version 0.15.8"
            ],
            "text/plain": [
              "<IPython.core.display.HTML object>"
            ]
          },
          "metadata": {},
          "output_type": "display_data"
        },
        {
          "data": {
            "text/html": [
              "Run data is saved locally in <code>/content/gdrive/MyDrive/RifleAction/wandb/run-20230805_120114-fqpqgshr</code>"
            ],
            "text/plain": [
              "<IPython.core.display.HTML object>"
            ]
          },
          "metadata": {},
          "output_type": "display_data"
        },
        {
          "data": {
            "text/html": [
              "Syncing run <strong><a href='https://wandb.ai/remchat/defence-force/runs/fqpqgshr' target=\"_blank\">brisk-sweep-30</a></strong> to <a href='https://wandb.ai/remchat/defence-force' target=\"_blank\">Weights & Biases</a> (<a href='https://wandb.me/run' target=\"_blank\">docs</a>)<br/>Sweep page: <a href='https://wandb.ai/remchat/defence-force/sweeps/k5lpmxhw' target=\"_blank\">https://wandb.ai/remchat/defence-force/sweeps/k5lpmxhw</a>"
            ],
            "text/plain": [
              "<IPython.core.display.HTML object>"
            ]
          },
          "metadata": {},
          "output_type": "display_data"
        },
        {
          "data": {
            "text/html": [
              " View project at <a href='https://wandb.ai/remchat/defence-force' target=\"_blank\">https://wandb.ai/remchat/defence-force</a>"
            ],
            "text/plain": [
              "<IPython.core.display.HTML object>"
            ]
          },
          "metadata": {},
          "output_type": "display_data"
        },
        {
          "data": {
            "text/html": [
              " View sweep at <a href='https://wandb.ai/remchat/defence-force/sweeps/k5lpmxhw' target=\"_blank\">https://wandb.ai/remchat/defence-force/sweeps/k5lpmxhw</a>"
            ],
            "text/plain": [
              "<IPython.core.display.HTML object>"
            ]
          },
          "metadata": {},
          "output_type": "display_data"
        },
        {
          "data": {
            "text/html": [
              " View run at <a href='https://wandb.ai/remchat/defence-force/runs/fqpqgshr' target=\"_blank\">https://wandb.ai/remchat/defence-force/runs/fqpqgshr</a>"
            ],
            "text/plain": [
              "<IPython.core.display.HTML object>"
            ]
          },
          "metadata": {},
          "output_type": "display_data"
        },
        {
          "name": "stdout",
          "output_type": "stream",
          "text": [
            "Epoch 1/60\n",
            "1818/1818 [==============================] - ETA: 0s - loss: 1.0343 - accuracy: 0.6071 - f1_score: 0.5880"
          ]
        },
        {
          "name": "stderr",
          "output_type": "stream",
          "text": [
            "WARNING:absl:Found untraced functions such as _jit_compiled_convolution_op, _jit_compiled_convolution_op, _jit_compiled_convolution_op, _jit_compiled_convolution_op, _jit_compiled_convolution_op while saving (showing 5 of 84). These functions will not be directly callable after loading.\n",
            "\u001b[34m\u001b[1mwandb\u001b[0m: Adding directory to artifact (/content/gdrive/MyDrive/RifleAction/wandb/run-20230805_120114-fqpqgshr/files/model-best)... Done. 0.1s\n"
          ]
        },
        {
          "name": "stdout",
          "output_type": "stream",
          "text": [
            "1818/1818 [==============================] - 73s 36ms/step - loss: 1.0343 - accuracy: 0.6071 - f1_score: 0.5880 - val_loss: 1.0217 - val_accuracy: 0.5745 - val_f1_score: 0.5675\n",
            "Epoch 2/60\n",
            "1818/1818 [==============================] - 54s 30ms/step - loss: 0.7640 - accuracy: 0.6989 - f1_score: 0.6904 - val_loss: 1.0465 - val_accuracy: 0.6106 - val_f1_score: 0.6049\n",
            "Epoch 3/60\n",
            "1818/1818 [==============================] - 65s 36ms/step - loss: 0.6852 - accuracy: 0.7279 - f1_score: 0.7237 - val_loss: 1.0378 - val_accuracy: 0.6077 - val_f1_score: 0.6099\n",
            "Epoch 4/60\n",
            "1817/1818 [============================>.] - ETA: 0s - loss: 0.6391 - accuracy: 0.7461 - f1_score: 0.7434"
          ]
        },
        {
          "name": "stderr",
          "output_type": "stream",
          "text": [
            "WARNING:absl:Found untraced functions such as _jit_compiled_convolution_op, _jit_compiled_convolution_op, _jit_compiled_convolution_op, _jit_compiled_convolution_op, _jit_compiled_convolution_op while saving (showing 5 of 84). These functions will not be directly callable after loading.\n",
            "\u001b[34m\u001b[1mwandb\u001b[0m: Adding directory to artifact (/content/gdrive/MyDrive/RifleAction/wandb/run-20230805_120114-fqpqgshr/files/model-best)... Done. 0.1s\n"
          ]
        },
        {
          "name": "stdout",
          "output_type": "stream",
          "text": [
            "1818/1818 [==============================] - 77s 43ms/step - loss: 0.6392 - accuracy: 0.7461 - f1_score: 0.7434 - val_loss: 1.0054 - val_accuracy: 0.6404 - val_f1_score: 0.6414\n",
            "Epoch 5/60\n",
            "1818/1818 [==============================] - 63s 34ms/step - loss: 0.6038 - accuracy: 0.7622 - f1_score: 0.7606 - val_loss: 1.0471 - val_accuracy: 0.6558 - val_f1_score: 0.6583\n",
            "Epoch 6/60\n",
            "1818/1818 [==============================] - 58s 32ms/step - loss: 0.5805 - accuracy: 0.7696 - f1_score: 0.7682 - val_loss: 1.0717 - val_accuracy: 0.6634 - val_f1_score: 0.6641\n",
            "Epoch 7/60\n",
            "1818/1818 [==============================] - 63s 35ms/step - loss: 0.5668 - accuracy: 0.7745 - f1_score: 0.7733 - val_loss: 1.1155 - val_accuracy: 0.6372 - val_f1_score: 0.6393\n",
            "Epoch 8/60\n",
            "1818/1818 [==============================] - 64s 35ms/step - loss: 0.5493 - accuracy: 0.7824 - f1_score: 0.7815 - val_loss: 1.0989 - val_accuracy: 0.6385 - val_f1_score: 0.6405\n",
            "Epoch 9/60\n",
            "1818/1818 [==============================] - 63s 35ms/step - loss: 0.5382 - accuracy: 0.7867 - f1_score: 0.7859 - val_loss: 1.2535 - val_accuracy: 0.6202 - val_f1_score: 0.6268\n",
            "Epoch 10/60\n",
            "1818/1818 [==============================] - 64s 35ms/step - loss: 0.5253 - accuracy: 0.7913 - f1_score: 0.7906 - val_loss: 1.2702 - val_accuracy: 0.6259 - val_f1_score: 0.6316\n",
            "Epoch 11/60\n",
            "1818/1818 [==============================] - 63s 35ms/step - loss: 0.5144 - accuracy: 0.7967 - f1_score: 0.7960 - val_loss: 1.2278 - val_accuracy: 0.6260 - val_f1_score: 0.6343\n",
            "Epoch 12/60\n",
            "1818/1818 [==============================] - 64s 35ms/step - loss: 0.5093 - accuracy: 0.7976 - f1_score: 0.7969 - val_loss: 1.2366 - val_accuracy: 0.6106 - val_f1_score: 0.6151\n",
            "Epoch 13/60\n",
            "1818/1818 [==============================] - 63s 35ms/step - loss: 0.5007 - accuracy: 0.8012 - f1_score: 0.8005 - val_loss: 1.3984 - val_accuracy: 0.5837 - val_f1_score: 0.5903\n",
            "Epoch 14/60\n",
            "1818/1818 [==============================] - 64s 35ms/step - loss: 0.4946 - accuracy: 0.8036 - f1_score: 0.8030 - val_loss: 1.3272 - val_accuracy: 0.6051 - val_f1_score: 0.6062\n",
            "Epoch 15/60\n",
            "1818/1818 [==============================] - 62s 34ms/step - loss: 0.4908 - accuracy: 0.8046 - f1_score: 0.8040 - val_loss: 1.3377 - val_accuracy: 0.6360 - val_f1_score: 0.6403\n",
            "Epoch 16/60\n",
            "1818/1818 [==============================] - 64s 35ms/step - loss: 0.4835 - accuracy: 0.8070 - f1_score: 0.8064 - val_loss: 1.3822 - val_accuracy: 0.6076 - val_f1_score: 0.6091\n"
          ]
        },
        {
          "data": {
            "text/html": [
              "Waiting for W&B process to finish... <strong style=\"color:green\">(success).</strong>"
            ],
            "text/plain": [
              "<IPython.core.display.HTML object>"
            ]
          },
          "metadata": {},
          "output_type": "display_data"
        },
        {
          "data": {
            "text/html": [
              "<style>\n",
              "    table.wandb td:nth-child(1) { padding: 0 10px; text-align: left ; width: auto;} td:nth-child(2) {text-align: left ; width: 100%}\n",
              "    .wandb-row { display: flex; flex-direction: row; flex-wrap: wrap; justify-content: flex-start; width: 100% }\n",
              "    .wandb-col { display: flex; flex-direction: column; flex-basis: 100%; flex: 1; padding: 10px; }\n",
              "    </style>\n",
              "<div class=\"wandb-row\"><div class=\"wandb-col\"><h3>Run history:</h3><br/><table class=\"wandb\"><tr><td>accuracy</td><td>▁▄▅▆▆▇▇▇▇▇██████</td></tr><tr><td>epoch</td><td>▁▁▂▂▃▃▄▄▅▅▆▆▇▇██</td></tr><tr><td>f1_score</td><td>▁▄▅▆▇▇▇▇▇▇██████</td></tr><tr><td>loss</td><td>█▅▄▃▃▂▂▂▂▂▁▁▁▁▁▁</td></tr><tr><td>val_accuracy</td><td>▁▄▄▆▇█▆▆▅▅▅▄▂▃▆▄</td></tr><tr><td>val_f1_score</td><td>▁▄▄▆██▆▆▅▆▆▄▃▄▆▄</td></tr><tr><td>val_loss</td><td>▁▂▂▁▂▂▃▃▅▆▅▅█▇▇█</td></tr></table><br/></div><div class=\"wandb-col\"><h3>Run summary:</h3><br/><table class=\"wandb\"><tr><td>accuracy</td><td>0.80697</td></tr><tr><td>best_epoch</td><td>3</td></tr><tr><td>best_val_loss</td><td>1.00544</td></tr><tr><td>epoch</td><td>15</td></tr><tr><td>f1_score</td><td>0.80638</td></tr><tr><td>loss</td><td>0.48348</td></tr><tr><td>val_accuracy</td><td>0.60762</td></tr><tr><td>val_f1_score</td><td>0.60911</td></tr><tr><td>val_loss</td><td>1.3822</td></tr></table><br/></div></div>"
            ],
            "text/plain": [
              "<IPython.core.display.HTML object>"
            ]
          },
          "metadata": {},
          "output_type": "display_data"
        },
        {
          "data": {
            "text/html": [
              " View run <strong style=\"color:#cdcd00\">brisk-sweep-30</strong> at: <a href='https://wandb.ai/remchat/defence-force/runs/fqpqgshr' target=\"_blank\">https://wandb.ai/remchat/defence-force/runs/fqpqgshr</a><br/> View job at <a href='https://wandb.ai/remchat/defence-force/jobs/QXJ0aWZhY3RDb2xsZWN0aW9uOjg3OTM1OTcx/version_details/v8' target=\"_blank\">https://wandb.ai/remchat/defence-force/jobs/QXJ0aWZhY3RDb2xsZWN0aW9uOjg3OTM1OTcx/version_details/v8</a><br/>Synced 5 W&B file(s), 1 media file(s), 10 artifact file(s) and 1 other file(s)"
            ],
            "text/plain": [
              "<IPython.core.display.HTML object>"
            ]
          },
          "metadata": {},
          "output_type": "display_data"
        },
        {
          "data": {
            "text/html": [
              "Find logs at: <code>./wandb/run-20230805_120114-fqpqgshr/logs</code>"
            ],
            "text/plain": [
              "<IPython.core.display.HTML object>"
            ]
          },
          "metadata": {},
          "output_type": "display_data"
        },
        {
          "name": "stderr",
          "output_type": "stream",
          "text": [
            "\u001b[34m\u001b[1mwandb\u001b[0m: Agent Starting Run: 11vw0nrg with config:\n",
            "\u001b[34m\u001b[1mwandb\u001b[0m: \tdropout: 0.3\n",
            "\u001b[34m\u001b[1mwandb\u001b[0m: \tepochs: 60\n",
            "\u001b[34m\u001b[1mwandb\u001b[0m: \tff_dim: 16\n",
            "\u001b[34m\u001b[1mwandb\u001b[0m: \thead_size: 32\n",
            "\u001b[34m\u001b[1mwandb\u001b[0m: \tlearning_rate: 0.001\n",
            "\u001b[34m\u001b[1mwandb\u001b[0m: \tmlp_dropout: 0.3\n",
            "\u001b[34m\u001b[1mwandb\u001b[0m: \tmlp_units: [128, 64, 32, 16]\n",
            "\u001b[34m\u001b[1mwandb\u001b[0m: \tnum_heads: 32\n",
            "\u001b[34m\u001b[1mwandb\u001b[0m: \tnum_transformer_blocks: 4\n",
            "\u001b[34m\u001b[1mwandb\u001b[0m: \u001b[33mWARNING\u001b[0m Ignored wandb.init() arg project when running a sweep.\n"
          ]
        },
        {
          "data": {
            "text/html": [
              "Tracking run with wandb version 0.15.8"
            ],
            "text/plain": [
              "<IPython.core.display.HTML object>"
            ]
          },
          "metadata": {},
          "output_type": "display_data"
        },
        {
          "data": {
            "text/html": [
              "Run data is saved locally in <code>/content/gdrive/MyDrive/RifleAction/wandb/run-20230805_122036-11vw0nrg</code>"
            ],
            "text/plain": [
              "<IPython.core.display.HTML object>"
            ]
          },
          "metadata": {},
          "output_type": "display_data"
        },
        {
          "data": {
            "text/html": [
              "Syncing run <strong><a href='https://wandb.ai/remchat/defence-force/runs/11vw0nrg' target=\"_blank\">easy-sweep-31</a></strong> to <a href='https://wandb.ai/remchat/defence-force' target=\"_blank\">Weights & Biases</a> (<a href='https://wandb.me/run' target=\"_blank\">docs</a>)<br/>Sweep page: <a href='https://wandb.ai/remchat/defence-force/sweeps/k5lpmxhw' target=\"_blank\">https://wandb.ai/remchat/defence-force/sweeps/k5lpmxhw</a>"
            ],
            "text/plain": [
              "<IPython.core.display.HTML object>"
            ]
          },
          "metadata": {},
          "output_type": "display_data"
        },
        {
          "data": {
            "text/html": [
              " View project at <a href='https://wandb.ai/remchat/defence-force' target=\"_blank\">https://wandb.ai/remchat/defence-force</a>"
            ],
            "text/plain": [
              "<IPython.core.display.HTML object>"
            ]
          },
          "metadata": {},
          "output_type": "display_data"
        },
        {
          "data": {
            "text/html": [
              " View sweep at <a href='https://wandb.ai/remchat/defence-force/sweeps/k5lpmxhw' target=\"_blank\">https://wandb.ai/remchat/defence-force/sweeps/k5lpmxhw</a>"
            ],
            "text/plain": [
              "<IPython.core.display.HTML object>"
            ]
          },
          "metadata": {},
          "output_type": "display_data"
        },
        {
          "data": {
            "text/html": [
              " View run at <a href='https://wandb.ai/remchat/defence-force/runs/11vw0nrg' target=\"_blank\">https://wandb.ai/remchat/defence-force/runs/11vw0nrg</a>"
            ],
            "text/plain": [
              "<IPython.core.display.HTML object>"
            ]
          },
          "metadata": {},
          "output_type": "display_data"
        },
        {
          "name": "stdout",
          "output_type": "stream",
          "text": [
            "Epoch 1/60\n",
            "1817/1818 [============================>.] - ETA: 0s - loss: 1.4608 - accuracy: 0.4585 - f1_score: 0.4039"
          ]
        },
        {
          "name": "stderr",
          "output_type": "stream",
          "text": [
            "WARNING:absl:Found untraced functions such as _jit_compiled_convolution_op, _jit_compiled_convolution_op, _jit_compiled_convolution_op, _jit_compiled_convolution_op, _jit_compiled_convolution_op while saving (showing 5 of 56). These functions will not be directly callable after loading.\n",
            "\u001b[34m\u001b[1mwandb\u001b[0m: Adding directory to artifact (/content/gdrive/MyDrive/RifleAction/wandb/run-20230805_122036-11vw0nrg/files/model-best)... Done. 0.0s\n"
          ]
        },
        {
          "name": "stdout",
          "output_type": "stream",
          "text": [
            "1818/1818 [==============================] - 64s 32ms/step - loss: 1.4608 - accuracy: 0.4585 - f1_score: 0.4040 - val_loss: 1.1058 - val_accuracy: 0.4906 - val_f1_score: 0.3989\n",
            "Epoch 2/60\n",
            "1817/1818 [============================>.] - ETA: 0s - loss: 1.1218 - accuracy: 0.5676 - f1_score: 0.5251"
          ]
        },
        {
          "name": "stderr",
          "output_type": "stream",
          "text": [
            "WARNING:absl:Found untraced functions such as _jit_compiled_convolution_op, _jit_compiled_convolution_op, _jit_compiled_convolution_op, _jit_compiled_convolution_op, _jit_compiled_convolution_op while saving (showing 5 of 56). These functions will not be directly callable after loading.\n",
            "\u001b[34m\u001b[1mwandb\u001b[0m: Adding directory to artifact (/content/gdrive/MyDrive/RifleAction/wandb/run-20230805_122036-11vw0nrg/files/model-best)... Done. 0.1s\n"
          ]
        },
        {
          "name": "stdout",
          "output_type": "stream",
          "text": [
            "1818/1818 [==============================] - 58s 32ms/step - loss: 1.1218 - accuracy: 0.5676 - f1_score: 0.5251 - val_loss: 1.0472 - val_accuracy: 0.5100 - val_f1_score: 0.4306\n",
            "Epoch 3/60\n",
            "1816/1818 [============================>.] - ETA: 0s - loss: 1.0335 - accuracy: 0.6023 - f1_score: 0.5615"
          ]
        },
        {
          "name": "stderr",
          "output_type": "stream",
          "text": [
            "WARNING:absl:Found untraced functions such as _jit_compiled_convolution_op, _jit_compiled_convolution_op, _jit_compiled_convolution_op, _jit_compiled_convolution_op, _jit_compiled_convolution_op while saving (showing 5 of 56). These functions will not be directly callable after loading.\n",
            "\u001b[34m\u001b[1mwandb\u001b[0m: Adding directory to artifact (/content/gdrive/MyDrive/RifleAction/wandb/run-20230805_122036-11vw0nrg/files/model-best)... Done. 0.1s\n"
          ]
        },
        {
          "name": "stdout",
          "output_type": "stream",
          "text": [
            "1818/1818 [==============================] - 59s 32ms/step - loss: 1.0335 - accuracy: 0.6023 - f1_score: 0.5615 - val_loss: 1.0375 - val_accuracy: 0.5613 - val_f1_score: 0.4948\n",
            "Epoch 4/60\n",
            "1817/1818 [============================>.] - ETA: 0s - loss: 0.9865 - accuracy: 0.6218 - f1_score: 0.5821"
          ]
        },
        {
          "name": "stderr",
          "output_type": "stream",
          "text": [
            "WARNING:absl:Found untraced functions such as _jit_compiled_convolution_op, _jit_compiled_convolution_op, _jit_compiled_convolution_op, _jit_compiled_convolution_op, _jit_compiled_convolution_op while saving (showing 5 of 56). These functions will not be directly callable after loading.\n",
            "\u001b[34m\u001b[1mwandb\u001b[0m: Adding directory to artifact (/content/gdrive/MyDrive/RifleAction/wandb/run-20230805_122036-11vw0nrg/files/model-best)... Done. 0.1s\n"
          ]
        },
        {
          "name": "stdout",
          "output_type": "stream",
          "text": [
            "1818/1818 [==============================] - 51s 28ms/step - loss: 0.9866 - accuracy: 0.6218 - f1_score: 0.5821 - val_loss: 1.0348 - val_accuracy: 0.5279 - val_f1_score: 0.4614\n",
            "Epoch 5/60\n",
            "1818/1818 [==============================] - ETA: 0s - loss: 0.9529 - accuracy: 0.6355 - f1_score: 0.5971"
          ]
        },
        {
          "name": "stderr",
          "output_type": "stream",
          "text": [
            "WARNING:absl:Found untraced functions such as _jit_compiled_convolution_op, _jit_compiled_convolution_op, _jit_compiled_convolution_op, _jit_compiled_convolution_op, _jit_compiled_convolution_op while saving (showing 5 of 56). These functions will not be directly callable after loading.\n",
            "\u001b[34m\u001b[1mwandb\u001b[0m: Adding directory to artifact (/content/gdrive/MyDrive/RifleAction/wandb/run-20230805_122036-11vw0nrg/files/model-best)... Done. 0.0s\n"
          ]
        },
        {
          "name": "stdout",
          "output_type": "stream",
          "text": [
            "1818/1818 [==============================] - 47s 26ms/step - loss: 0.9529 - accuracy: 0.6355 - f1_score: 0.5971 - val_loss: 0.9973 - val_accuracy: 0.5366 - val_f1_score: 0.4852\n",
            "Epoch 6/60\n",
            "1818/1818 [==============================] - ETA: 0s - loss: 0.9354 - accuracy: 0.6425 - f1_score: 0.6063"
          ]
        },
        {
          "name": "stderr",
          "output_type": "stream",
          "text": [
            "WARNING:absl:Found untraced functions such as _jit_compiled_convolution_op, _jit_compiled_convolution_op, _jit_compiled_convolution_op, _jit_compiled_convolution_op, _jit_compiled_convolution_op while saving (showing 5 of 56). These functions will not be directly callable after loading.\n",
            "\u001b[34m\u001b[1mwandb\u001b[0m: Adding directory to artifact (/content/gdrive/MyDrive/RifleAction/wandb/run-20230805_122036-11vw0nrg/files/model-best)... Done. 0.0s\n"
          ]
        },
        {
          "name": "stdout",
          "output_type": "stream",
          "text": [
            "1818/1818 [==============================] - 45s 24ms/step - loss: 0.9354 - accuracy: 0.6425 - f1_score: 0.6063 - val_loss: 0.9754 - val_accuracy: 0.5846 - val_f1_score: 0.5258\n",
            "Epoch 7/60\n",
            "1815/1818 [============================>.] - ETA: 0s - loss: 0.9169 - accuracy: 0.6494 - f1_score: 0.6154"
          ]
        },
        {
          "name": "stderr",
          "output_type": "stream",
          "text": [
            "WARNING:absl:Found untraced functions such as _jit_compiled_convolution_op, _jit_compiled_convolution_op, _jit_compiled_convolution_op, _jit_compiled_convolution_op, _jit_compiled_convolution_op while saving (showing 5 of 56). These functions will not be directly callable after loading.\n",
            "\u001b[34m\u001b[1mwandb\u001b[0m: Adding directory to artifact (/content/gdrive/MyDrive/RifleAction/wandb/run-20230805_122036-11vw0nrg/files/model-best)... Done. 0.0s\n"
          ]
        },
        {
          "name": "stdout",
          "output_type": "stream",
          "text": [
            "1818/1818 [==============================] - 44s 24ms/step - loss: 0.9169 - accuracy: 0.6494 - f1_score: 0.6155 - val_loss: 0.9737 - val_accuracy: 0.5648 - val_f1_score: 0.5050\n",
            "Epoch 8/60\n",
            "1816/1818 [============================>.] - ETA: 0s - loss: 0.8998 - accuracy: 0.6551 - f1_score: 0.6244"
          ]
        },
        {
          "name": "stderr",
          "output_type": "stream",
          "text": [
            "WARNING:absl:Found untraced functions such as _jit_compiled_convolution_op, _jit_compiled_convolution_op, _jit_compiled_convolution_op, _jit_compiled_convolution_op, _jit_compiled_convolution_op while saving (showing 5 of 56). These functions will not be directly callable after loading.\n",
            "\u001b[34m\u001b[1mwandb\u001b[0m: Adding directory to artifact (/content/gdrive/MyDrive/RifleAction/wandb/run-20230805_122036-11vw0nrg/files/model-best)... Done. 0.0s\n"
          ]
        },
        {
          "name": "stdout",
          "output_type": "stream",
          "text": [
            "1818/1818 [==============================] - 43s 24ms/step - loss: 0.8998 - accuracy: 0.6552 - f1_score: 0.6244 - val_loss: 0.9622 - val_accuracy: 0.6031 - val_f1_score: 0.5696\n",
            "Epoch 9/60\n",
            "1816/1818 [============================>.] - ETA: 0s - loss: 0.8855 - accuracy: 0.6615 - f1_score: 0.6339"
          ]
        },
        {
          "name": "stderr",
          "output_type": "stream",
          "text": [
            "WARNING:absl:Found untraced functions such as _jit_compiled_convolution_op, _jit_compiled_convolution_op, _jit_compiled_convolution_op, _jit_compiled_convolution_op, _jit_compiled_convolution_op while saving (showing 5 of 56). These functions will not be directly callable after loading.\n",
            "\u001b[34m\u001b[1mwandb\u001b[0m: Adding directory to artifact (/content/gdrive/MyDrive/RifleAction/wandb/run-20230805_122036-11vw0nrg/files/model-best)... Done. 0.0s\n"
          ]
        },
        {
          "name": "stdout",
          "output_type": "stream",
          "text": [
            "1818/1818 [==============================] - 45s 25ms/step - loss: 0.8855 - accuracy: 0.6615 - f1_score: 0.6339 - val_loss: 0.9590 - val_accuracy: 0.6091 - val_f1_score: 0.5751\n",
            "Epoch 10/60\n",
            "1818/1818 [==============================] - ETA: 0s - loss: 0.8797 - accuracy: 0.6625 - f1_score: 0.6362"
          ]
        },
        {
          "name": "stderr",
          "output_type": "stream",
          "text": [
            "WARNING:absl:Found untraced functions such as _jit_compiled_convolution_op, _jit_compiled_convolution_op, _jit_compiled_convolution_op, _jit_compiled_convolution_op, _jit_compiled_convolution_op while saving (showing 5 of 56). These functions will not be directly callable after loading.\n",
            "\u001b[34m\u001b[1mwandb\u001b[0m: Adding directory to artifact (/content/gdrive/MyDrive/RifleAction/wandb/run-20230805_122036-11vw0nrg/files/model-best)... Done. 0.0s\n"
          ]
        },
        {
          "name": "stdout",
          "output_type": "stream",
          "text": [
            "1818/1818 [==============================] - 44s 24ms/step - loss: 0.8797 - accuracy: 0.6625 - f1_score: 0.6362 - val_loss: 0.9546 - val_accuracy: 0.6115 - val_f1_score: 0.5937\n",
            "Epoch 11/60\n",
            "1818/1818 [==============================] - 33s 18ms/step - loss: 0.8708 - accuracy: 0.6671 - f1_score: 0.6418 - val_loss: 0.9815 - val_accuracy: 0.6017 - val_f1_score: 0.5856\n",
            "Epoch 12/60\n",
            "1818/1818 [==============================] - 33s 18ms/step - loss: 0.8606 - accuracy: 0.6723 - f1_score: 0.6478 - val_loss: 0.9888 - val_accuracy: 0.5969 - val_f1_score: 0.5844\n",
            "Epoch 13/60\n",
            "1818/1818 [==============================] - 33s 18ms/step - loss: 0.8542 - accuracy: 0.6731 - f1_score: 0.6505 - val_loss: 0.9843 - val_accuracy: 0.5926 - val_f1_score: 0.5720\n",
            "Epoch 14/60\n",
            "1818/1818 [==============================] - 34s 19ms/step - loss: 0.8481 - accuracy: 0.6758 - f1_score: 0.6542 - val_loss: 0.9838 - val_accuracy: 0.5966 - val_f1_score: 0.5777\n",
            "Epoch 15/60\n",
            "1818/1818 [==============================] - 34s 19ms/step - loss: 0.8376 - accuracy: 0.6811 - f1_score: 0.6602 - val_loss: 0.9999 - val_accuracy: 0.6091 - val_f1_score: 0.5893\n",
            "Epoch 16/60\n",
            "1818/1818 [==============================] - 34s 19ms/step - loss: 0.8354 - accuracy: 0.6815 - f1_score: 0.6623 - val_loss: 0.9659 - val_accuracy: 0.6060 - val_f1_score: 0.5856\n",
            "Epoch 17/60\n",
            "1818/1818 [==============================] - 34s 19ms/step - loss: 0.8338 - accuracy: 0.6796 - f1_score: 0.6610 - val_loss: 0.9662 - val_accuracy: 0.6117 - val_f1_score: 0.5891\n",
            "Epoch 18/60\n",
            "1818/1818 [==============================] - 33s 18ms/step - loss: 0.8265 - accuracy: 0.6853 - f1_score: 0.6671 - val_loss: 0.9797 - val_accuracy: 0.6055 - val_f1_score: 0.5878\n",
            "Epoch 19/60\n",
            "1818/1818 [==============================] - ETA: 0s - loss: 0.8242 - accuracy: 0.6858 - f1_score: 0.6684"
          ]
        },
        {
          "name": "stderr",
          "output_type": "stream",
          "text": [
            "WARNING:absl:Found untraced functions such as _jit_compiled_convolution_op, _jit_compiled_convolution_op, _jit_compiled_convolution_op, _jit_compiled_convolution_op, _jit_compiled_convolution_op while saving (showing 5 of 56). These functions will not be directly callable after loading.\n",
            "\u001b[34m\u001b[1mwandb\u001b[0m: Adding directory to artifact (/content/gdrive/MyDrive/RifleAction/wandb/run-20230805_122036-11vw0nrg/files/model-best)... Done. 0.0s\n"
          ]
        },
        {
          "name": "stdout",
          "output_type": "stream",
          "text": [
            "1818/1818 [==============================] - 46s 25ms/step - loss: 0.8242 - accuracy: 0.6858 - f1_score: 0.6684 - val_loss: 0.9519 - val_accuracy: 0.6223 - val_f1_score: 0.6076\n",
            "Epoch 20/60\n",
            "1818/1818 [==============================] - 37s 20ms/step - loss: 0.8228 - accuracy: 0.6871 - f1_score: 0.6710 - val_loss: 0.9622 - val_accuracy: 0.6148 - val_f1_score: 0.5990\n",
            "Epoch 21/60\n",
            "1818/1818 [==============================] - 33s 18ms/step - loss: 0.8137 - accuracy: 0.6905 - f1_score: 0.6750 - val_loss: 0.9950 - val_accuracy: 0.6031 - val_f1_score: 0.5864\n",
            "Epoch 22/60\n",
            "1818/1818 [==============================] - 34s 19ms/step - loss: 0.8140 - accuracy: 0.6897 - f1_score: 0.6747 - val_loss: 0.9557 - val_accuracy: 0.6186 - val_f1_score: 0.6013\n",
            "Epoch 23/60\n",
            "1818/1818 [==============================] - 33s 18ms/step - loss: 0.8124 - accuracy: 0.6904 - f1_score: 0.6762 - val_loss: 0.9947 - val_accuracy: 0.5920 - val_f1_score: 0.5867\n",
            "Epoch 24/60\n",
            "1818/1818 [==============================] - 36s 20ms/step - loss: 0.8072 - accuracy: 0.6948 - f1_score: 0.6811 - val_loss: 0.9844 - val_accuracy: 0.6024 - val_f1_score: 0.5982\n",
            "Epoch 25/60\n",
            "1818/1818 [==============================] - 33s 18ms/step - loss: 0.8062 - accuracy: 0.6943 - f1_score: 0.6818 - val_loss: 1.0249 - val_accuracy: 0.5963 - val_f1_score: 0.5893\n",
            "Epoch 26/60\n",
            "1818/1818 [==============================] - 34s 18ms/step - loss: 0.8017 - accuracy: 0.6940 - f1_score: 0.6811 - val_loss: 0.9858 - val_accuracy: 0.6053 - val_f1_score: 0.5887\n",
            "Epoch 27/60\n",
            "1818/1818 [==============================] - 33s 18ms/step - loss: 0.7962 - accuracy: 0.6983 - f1_score: 0.6863 - val_loss: 0.9913 - val_accuracy: 0.5940 - val_f1_score: 0.5805\n",
            "Epoch 28/60\n",
            "1818/1818 [==============================] - 34s 19ms/step - loss: 0.7938 - accuracy: 0.6976 - f1_score: 0.6863 - val_loss: 0.9990 - val_accuracy: 0.5929 - val_f1_score: 0.5961\n",
            "Epoch 29/60\n",
            "1818/1818 [==============================] - 34s 19ms/step - loss: 0.7936 - accuracy: 0.6987 - f1_score: 0.6873 - val_loss: 1.0083 - val_accuracy: 0.5704 - val_f1_score: 0.5579\n"
          ]
        },
        {
          "data": {
            "text/html": [
              "Waiting for W&B process to finish... <strong style=\"color:green\">(success).</strong>"
            ],
            "text/plain": [
              "<IPython.core.display.HTML object>"
            ]
          },
          "metadata": {},
          "output_type": "display_data"
        },
        {
          "data": {
            "text/html": [
              "<style>\n",
              "    table.wandb td:nth-child(1) { padding: 0 10px; text-align: left ; width: auto;} td:nth-child(2) {text-align: left ; width: 100%}\n",
              "    .wandb-row { display: flex; flex-direction: row; flex-wrap: wrap; justify-content: flex-start; width: 100% }\n",
              "    .wandb-col { display: flex; flex-direction: column; flex-basis: 100%; flex: 1; padding: 10px; }\n",
              "    </style>\n",
              "<div class=\"wandb-row\"><div class=\"wandb-col\"><h3>Run history:</h3><br/><table class=\"wandb\"><tr><td>accuracy</td><td>▁▄▅▆▆▆▇▇▇▇▇▇▇▇▇▇▇████████████</td></tr><tr><td>epoch</td><td>▁▁▁▂▂▂▃▃▃▃▃▄▄▄▅▅▅▅▅▆▆▆▇▇▇▇▇██</td></tr><tr><td>f1_score</td><td>▁▄▅▅▆▆▆▆▇▇▇▇▇▇▇▇▇████████████</td></tr><tr><td>loss</td><td>█▄▄▃▃▂▂▂▂▂▂▂▂▂▁▁▁▁▁▁▁▁▁▁▁▁▁▁▁</td></tr><tr><td>val_accuracy</td><td>▁▂▅▃▃▆▅▇▇▇▇▇▆▇▇▇▇▇██▇█▆▇▇▇▆▆▅</td></tr><tr><td>val_f1_score</td><td>▁▂▄▃▄▅▅▇▇█▇▇▇▇▇▇▇▇██▇█▇█▇▇▇█▆</td></tr><tr><td>val_loss</td><td>█▅▅▅▃▂▂▁▁▁▂▃▂▂▃▂▂▂▁▁▃▁▃▂▄▃▃▃▄</td></tr></table><br/></div><div class=\"wandb-col\"><h3>Run summary:</h3><br/><table class=\"wandb\"><tr><td>accuracy</td><td>0.6987</td></tr><tr><td>best_epoch</td><td>18</td></tr><tr><td>best_val_loss</td><td>0.95192</td></tr><tr><td>epoch</td><td>28</td></tr><tr><td>f1_score</td><td>0.68731</td></tr><tr><td>loss</td><td>0.79361</td></tr><tr><td>val_accuracy</td><td>0.57039</td></tr><tr><td>val_f1_score</td><td>0.5579</td></tr><tr><td>val_loss</td><td>1.00825</td></tr></table><br/></div></div>"
            ],
            "text/plain": [
              "<IPython.core.display.HTML object>"
            ]
          },
          "metadata": {},
          "output_type": "display_data"
        },
        {
          "data": {
            "text/html": [
              " View run <strong style=\"color:#cdcd00\">easy-sweep-31</strong> at: <a href='https://wandb.ai/remchat/defence-force/runs/11vw0nrg' target=\"_blank\">https://wandb.ai/remchat/defence-force/runs/11vw0nrg</a><br/> View job at <a href='https://wandb.ai/remchat/defence-force/jobs/QXJ0aWZhY3RDb2xsZWN0aW9uOjg3OTM1OTcx/version_details/v9' target=\"_blank\">https://wandb.ai/remchat/defence-force/jobs/QXJ0aWZhY3RDb2xsZWN0aW9uOjg3OTM1OTcx/version_details/v9</a><br/>Synced 5 W&B file(s), 1 media file(s), 55 artifact file(s) and 1 other file(s)"
            ],
            "text/plain": [
              "<IPython.core.display.HTML object>"
            ]
          },
          "metadata": {},
          "output_type": "display_data"
        },
        {
          "data": {
            "text/html": [
              "Find logs at: <code>./wandb/run-20230805_122036-11vw0nrg/logs</code>"
            ],
            "text/plain": [
              "<IPython.core.display.HTML object>"
            ]
          },
          "metadata": {},
          "output_type": "display_data"
        },
        {
          "name": "stderr",
          "output_type": "stream",
          "text": [
            "\u001b[34m\u001b[1mwandb\u001b[0m: Agent Starting Run: atvikilv with config:\n",
            "\u001b[34m\u001b[1mwandb\u001b[0m: \tdropout: 0.3\n",
            "\u001b[34m\u001b[1mwandb\u001b[0m: \tepochs: 60\n",
            "\u001b[34m\u001b[1mwandb\u001b[0m: \tff_dim: 16\n",
            "\u001b[34m\u001b[1mwandb\u001b[0m: \thead_size: 128\n",
            "\u001b[34m\u001b[1mwandb\u001b[0m: \tlearning_rate: 0.001\n",
            "\u001b[34m\u001b[1mwandb\u001b[0m: \tmlp_dropout: 0.3\n",
            "\u001b[34m\u001b[1mwandb\u001b[0m: \tmlp_units: [64, 32, 16]\n",
            "\u001b[34m\u001b[1mwandb\u001b[0m: \tnum_heads: 4\n",
            "\u001b[34m\u001b[1mwandb\u001b[0m: \tnum_transformer_blocks: 4\n",
            "\u001b[34m\u001b[1mwandb\u001b[0m: \u001b[33mWARNING\u001b[0m Ignored wandb.init() arg project when running a sweep.\n"
          ]
        },
        {
          "data": {
            "text/html": [
              "Tracking run with wandb version 0.15.8"
            ],
            "text/plain": [
              "<IPython.core.display.HTML object>"
            ]
          },
          "metadata": {},
          "output_type": "display_data"
        },
        {
          "data": {
            "text/html": [
              "Run data is saved locally in <code>/content/gdrive/MyDrive/RifleAction/wandb/run-20230805_124231-atvikilv</code>"
            ],
            "text/plain": [
              "<IPython.core.display.HTML object>"
            ]
          },
          "metadata": {},
          "output_type": "display_data"
        },
        {
          "data": {
            "text/html": [
              "Syncing run <strong><a href='https://wandb.ai/remchat/defence-force/runs/atvikilv' target=\"_blank\">leafy-sweep-32</a></strong> to <a href='https://wandb.ai/remchat/defence-force' target=\"_blank\">Weights & Biases</a> (<a href='https://wandb.me/run' target=\"_blank\">docs</a>)<br/>Sweep page: <a href='https://wandb.ai/remchat/defence-force/sweeps/k5lpmxhw' target=\"_blank\">https://wandb.ai/remchat/defence-force/sweeps/k5lpmxhw</a>"
            ],
            "text/plain": [
              "<IPython.core.display.HTML object>"
            ]
          },
          "metadata": {},
          "output_type": "display_data"
        },
        {
          "data": {
            "text/html": [
              " View project at <a href='https://wandb.ai/remchat/defence-force' target=\"_blank\">https://wandb.ai/remchat/defence-force</a>"
            ],
            "text/plain": [
              "<IPython.core.display.HTML object>"
            ]
          },
          "metadata": {},
          "output_type": "display_data"
        },
        {
          "data": {
            "text/html": [
              " View sweep at <a href='https://wandb.ai/remchat/defence-force/sweeps/k5lpmxhw' target=\"_blank\">https://wandb.ai/remchat/defence-force/sweeps/k5lpmxhw</a>"
            ],
            "text/plain": [
              "<IPython.core.display.HTML object>"
            ]
          },
          "metadata": {},
          "output_type": "display_data"
        },
        {
          "data": {
            "text/html": [
              " View run at <a href='https://wandb.ai/remchat/defence-force/runs/atvikilv' target=\"_blank\">https://wandb.ai/remchat/defence-force/runs/atvikilv</a>"
            ],
            "text/plain": [
              "<IPython.core.display.HTML object>"
            ]
          },
          "metadata": {},
          "output_type": "display_data"
        },
        {
          "name": "stdout",
          "output_type": "stream",
          "text": [
            "Epoch 1/60\n",
            "1818/1818 [==============================] - ETA: 0s - loss: 1.5157 - accuracy: 0.4353 - f1_score: 0.3740"
          ]
        },
        {
          "name": "stderr",
          "output_type": "stream",
          "text": [
            "WARNING:absl:Found untraced functions such as _jit_compiled_convolution_op, _jit_compiled_convolution_op, _jit_compiled_convolution_op, _jit_compiled_convolution_op, _jit_compiled_convolution_op while saving (showing 5 of 56). These functions will not be directly callable after loading.\n",
            "\u001b[34m\u001b[1mwandb\u001b[0m: Adding directory to artifact (/content/gdrive/MyDrive/RifleAction/wandb/run-20230805_124231-atvikilv/files/model-best)... Done. 0.0s\n"
          ]
        },
        {
          "name": "stdout",
          "output_type": "stream",
          "text": [
            "1818/1818 [==============================] - 46s 23ms/step - loss: 1.5157 - accuracy: 0.4353 - f1_score: 0.3740 - val_loss: 1.1729 - val_accuracy: 0.4673 - val_f1_score: 0.3894\n",
            "Epoch 2/60\n",
            "1816/1818 [============================>.] - ETA: 0s - loss: 1.2066 - accuracy: 0.5271 - f1_score: 0.4799"
          ]
        },
        {
          "name": "stderr",
          "output_type": "stream",
          "text": [
            "WARNING:absl:Found untraced functions such as _jit_compiled_convolution_op, _jit_compiled_convolution_op, _jit_compiled_convolution_op, _jit_compiled_convolution_op, _jit_compiled_convolution_op while saving (showing 5 of 56). These functions will not be directly callable after loading.\n",
            "\u001b[34m\u001b[1mwandb\u001b[0m: Adding directory to artifact (/content/gdrive/MyDrive/RifleAction/wandb/run-20230805_124231-atvikilv/files/model-best)... Done. 0.0s\n"
          ]
        },
        {
          "name": "stdout",
          "output_type": "stream",
          "text": [
            "1818/1818 [==============================] - 43s 24ms/step - loss: 1.2065 - accuracy: 0.5272 - f1_score: 0.4799 - val_loss: 1.1191 - val_accuracy: 0.5071 - val_f1_score: 0.4091\n",
            "Epoch 3/60\n",
            "1817/1818 [============================>.] - ETA: 0s - loss: 1.1231 - accuracy: 0.5628 - f1_score: 0.5192"
          ]
        },
        {
          "name": "stderr",
          "output_type": "stream",
          "text": [
            "WARNING:absl:Found untraced functions such as _jit_compiled_convolution_op, _jit_compiled_convolution_op, _jit_compiled_convolution_op, _jit_compiled_convolution_op, _jit_compiled_convolution_op while saving (showing 5 of 56). These functions will not be directly callable after loading.\n",
            "\u001b[34m\u001b[1mwandb\u001b[0m: Adding directory to artifact (/content/gdrive/MyDrive/RifleAction/wandb/run-20230805_124231-atvikilv/files/model-best)... Done. 0.0s\n"
          ]
        },
        {
          "name": "stdout",
          "output_type": "stream",
          "text": [
            "1818/1818 [==============================] - 42s 23ms/step - loss: 1.1231 - accuracy: 0.5627 - f1_score: 0.5191 - val_loss: 1.0805 - val_accuracy: 0.5173 - val_f1_score: 0.4320\n",
            "Epoch 4/60\n",
            "1818/1818 [==============================] - ETA: 0s - loss: 1.0811 - accuracy: 0.5785 - f1_score: 0.5375"
          ]
        },
        {
          "name": "stderr",
          "output_type": "stream",
          "text": [
            "WARNING:absl:Found untraced functions such as _jit_compiled_convolution_op, _jit_compiled_convolution_op, _jit_compiled_convolution_op, _jit_compiled_convolution_op, _jit_compiled_convolution_op while saving (showing 5 of 56). These functions will not be directly callable after loading.\n",
            "\u001b[34m\u001b[1mwandb\u001b[0m: Adding directory to artifact (/content/gdrive/MyDrive/RifleAction/wandb/run-20230805_124231-atvikilv/files/model-best)... Done. 0.0s\n"
          ]
        },
        {
          "name": "stdout",
          "output_type": "stream",
          "text": [
            "1818/1818 [==============================] - 41s 23ms/step - loss: 1.0811 - accuracy: 0.5785 - f1_score: 0.5375 - val_loss: 1.0577 - val_accuracy: 0.5268 - val_f1_score: 0.4557\n",
            "Epoch 5/60\n",
            "1818/1818 [==============================] - ETA: 0s - loss: 1.0487 - accuracy: 0.5911 - f1_score: 0.5510"
          ]
        },
        {
          "name": "stderr",
          "output_type": "stream",
          "text": [
            "WARNING:absl:Found untraced functions such as _jit_compiled_convolution_op, _jit_compiled_convolution_op, _jit_compiled_convolution_op, _jit_compiled_convolution_op, _jit_compiled_convolution_op while saving (showing 5 of 56). These functions will not be directly callable after loading.\n",
            "\u001b[34m\u001b[1mwandb\u001b[0m: Adding directory to artifact (/content/gdrive/MyDrive/RifleAction/wandb/run-20230805_124231-atvikilv/files/model-best)... Done. 0.0s\n"
          ]
        },
        {
          "name": "stdout",
          "output_type": "stream",
          "text": [
            "1818/1818 [==============================] - 41s 23ms/step - loss: 1.0487 - accuracy: 0.5911 - f1_score: 0.5510 - val_loss: 1.0470 - val_accuracy: 0.5438 - val_f1_score: 0.4735\n",
            "Epoch 6/60\n",
            "1815/1818 [============================>.] - ETA: 0s - loss: 1.0291 - accuracy: 0.6003 - f1_score: 0.5634"
          ]
        },
        {
          "name": "stderr",
          "output_type": "stream",
          "text": [
            "WARNING:absl:Found untraced functions such as _jit_compiled_convolution_op, _jit_compiled_convolution_op, _jit_compiled_convolution_op, _jit_compiled_convolution_op, _jit_compiled_convolution_op while saving (showing 5 of 56). These functions will not be directly callable after loading.\n",
            "\u001b[34m\u001b[1mwandb\u001b[0m: Adding directory to artifact (/content/gdrive/MyDrive/RifleAction/wandb/run-20230805_124231-atvikilv/files/model-best)... Done. 0.0s\n"
          ]
        },
        {
          "name": "stdout",
          "output_type": "stream",
          "text": [
            "1818/1818 [==============================] - 42s 23ms/step - loss: 1.0292 - accuracy: 0.6003 - f1_score: 0.5634 - val_loss: 1.0337 - val_accuracy: 0.5361 - val_f1_score: 0.4671\n",
            "Epoch 7/60\n",
            "1818/1818 [==============================] - 33s 18ms/step - loss: 1.0154 - accuracy: 0.6070 - f1_score: 0.5712 - val_loss: 1.0386 - val_accuracy: 0.5323 - val_f1_score: 0.4502\n",
            "Epoch 8/60\n",
            "1815/1818 [============================>.] - ETA: 0s - loss: 1.0011 - accuracy: 0.6123 - f1_score: 0.5777"
          ]
        },
        {
          "name": "stderr",
          "output_type": "stream",
          "text": [
            "WARNING:absl:Found untraced functions such as _jit_compiled_convolution_op, _jit_compiled_convolution_op, _jit_compiled_convolution_op, _jit_compiled_convolution_op, _jit_compiled_convolution_op while saving (showing 5 of 56). These functions will not be directly callable after loading.\n",
            "\u001b[34m\u001b[1mwandb\u001b[0m: Adding directory to artifact (/content/gdrive/MyDrive/RifleAction/wandb/run-20230805_124231-atvikilv/files/model-best)... Done. 0.0s\n"
          ]
        },
        {
          "name": "stdout",
          "output_type": "stream",
          "text": [
            "1818/1818 [==============================] - 42s 23ms/step - loss: 1.0012 - accuracy: 0.6122 - f1_score: 0.5777 - val_loss: 1.0116 - val_accuracy: 0.5582 - val_f1_score: 0.4926\n",
            "Epoch 9/60\n",
            "1818/1818 [==============================] - ETA: 0s - loss: 0.9924 - accuracy: 0.6140 - f1_score: 0.5814"
          ]
        },
        {
          "name": "stderr",
          "output_type": "stream",
          "text": [
            "WARNING:absl:Found untraced functions such as _jit_compiled_convolution_op, _jit_compiled_convolution_op, _jit_compiled_convolution_op, _jit_compiled_convolution_op, _jit_compiled_convolution_op while saving (showing 5 of 56). These functions will not be directly callable after loading.\n",
            "\u001b[34m\u001b[1mwandb\u001b[0m: Adding directory to artifact (/content/gdrive/MyDrive/RifleAction/wandb/run-20230805_124231-atvikilv/files/model-best)... Done. 0.0s\n"
          ]
        },
        {
          "name": "stdout",
          "output_type": "stream",
          "text": [
            "1818/1818 [==============================] - 43s 23ms/step - loss: 0.9924 - accuracy: 0.6140 - f1_score: 0.5814 - val_loss: 0.9905 - val_accuracy: 0.6145 - val_f1_score: 0.5527\n",
            "Epoch 10/60\n",
            "1818/1818 [==============================] - 33s 18ms/step - loss: 0.9792 - accuracy: 0.6213 - f1_score: 0.5891 - val_loss: 1.0118 - val_accuracy: 0.5964 - val_f1_score: 0.5305\n",
            "Epoch 11/60\n",
            "1818/1818 [==============================] - 32s 18ms/step - loss: 0.9761 - accuracy: 0.6204 - f1_score: 0.5905 - val_loss: 1.0263 - val_accuracy: 0.6148 - val_f1_score: 0.5778\n",
            "Epoch 12/60\n",
            "1818/1818 [==============================] - 33s 18ms/step - loss: 0.9656 - accuracy: 0.6263 - f1_score: 0.5972 - val_loss: 1.0054 - val_accuracy: 0.6240 - val_f1_score: 0.5905\n",
            "Epoch 13/60\n",
            "1818/1818 [==============================] - 33s 18ms/step - loss: 0.9625 - accuracy: 0.6274 - f1_score: 0.5994 - val_loss: 1.0240 - val_accuracy: 0.5570 - val_f1_score: 0.5209\n",
            "Epoch 14/60\n",
            "1818/1818 [==============================] - 34s 19ms/step - loss: 0.9611 - accuracy: 0.6302 - f1_score: 0.6021 - val_loss: 1.0373 - val_accuracy: 0.5657 - val_f1_score: 0.5360\n",
            "Epoch 15/60\n",
            "1818/1818 [==============================] - 33s 18ms/step - loss: 0.9574 - accuracy: 0.6313 - f1_score: 0.6043 - val_loss: 0.9908 - val_accuracy: 0.5647 - val_f1_score: 0.5331\n",
            "Epoch 16/60\n",
            "1818/1818 [==============================] - ETA: 0s - loss: 0.9531 - accuracy: 0.6313 - f1_score: 0.6052"
          ]
        },
        {
          "name": "stderr",
          "output_type": "stream",
          "text": [
            "WARNING:absl:Found untraced functions such as _jit_compiled_convolution_op, _jit_compiled_convolution_op, _jit_compiled_convolution_op, _jit_compiled_convolution_op, _jit_compiled_convolution_op while saving (showing 5 of 56). These functions will not be directly callable after loading.\n",
            "\u001b[34m\u001b[1mwandb\u001b[0m: Adding directory to artifact (/content/gdrive/MyDrive/RifleAction/wandb/run-20230805_124231-atvikilv/files/model-best)... Done. 0.0s\n"
          ]
        },
        {
          "name": "stdout",
          "output_type": "stream",
          "text": [
            "1818/1818 [==============================] - 40s 22ms/step - loss: 0.9531 - accuracy: 0.6313 - f1_score: 0.6052 - val_loss: 0.9862 - val_accuracy: 0.6016 - val_f1_score: 0.5649\n",
            "Epoch 17/60\n",
            "1818/1818 [==============================] - 34s 19ms/step - loss: 0.9488 - accuracy: 0.6329 - f1_score: 0.6060 - val_loss: 1.0243 - val_accuracy: 0.5676 - val_f1_score: 0.5415\n",
            "Epoch 18/60\n",
            "1818/1818 [==============================] - 33s 18ms/step - loss: 0.9449 - accuracy: 0.6348 - f1_score: 0.6094 - val_loss: 1.0147 - val_accuracy: 0.5734 - val_f1_score: 0.5508\n",
            "Epoch 19/60\n",
            "1818/1818 [==============================] - 32s 18ms/step - loss: 0.9412 - accuracy: 0.6372 - f1_score: 0.6119 - val_loss: 1.0008 - val_accuracy: 0.6259 - val_f1_score: 0.5969\n",
            "Epoch 20/60\n",
            "1818/1818 [==============================] - 33s 18ms/step - loss: 0.9392 - accuracy: 0.6382 - f1_score: 0.6127 - val_loss: 1.0529 - val_accuracy: 0.5526 - val_f1_score: 0.5229\n",
            "Epoch 21/60\n",
            "1818/1818 [==============================] - 33s 18ms/step - loss: 0.9405 - accuracy: 0.6366 - f1_score: 0.6117 - val_loss: 0.9864 - val_accuracy: 0.6245 - val_f1_score: 0.5999\n",
            "Epoch 22/60\n",
            "1818/1818 [==============================] - 33s 18ms/step - loss: 0.9353 - accuracy: 0.6401 - f1_score: 0.6155 - val_loss: 1.0293 - val_accuracy: 0.5511 - val_f1_score: 0.5010\n",
            "Epoch 23/60\n",
            "1818/1818 [==============================] - 33s 18ms/step - loss: 0.9387 - accuracy: 0.6372 - f1_score: 0.6126 - val_loss: 1.0183 - val_accuracy: 0.6144 - val_f1_score: 0.5884\n",
            "Epoch 24/60\n",
            "1818/1818 [==============================] - 32s 18ms/step - loss: 0.9344 - accuracy: 0.6404 - f1_score: 0.6160 - val_loss: 1.0052 - val_accuracy: 0.6205 - val_f1_score: 0.5897\n",
            "Epoch 25/60\n",
            "1818/1818 [==============================] - 34s 19ms/step - loss: 0.9302 - accuracy: 0.6429 - f1_score: 0.6185 - val_loss: 0.9912 - val_accuracy: 0.6204 - val_f1_score: 0.5963\n",
            "Epoch 26/60\n",
            "1818/1818 [==============================] - 33s 18ms/step - loss: 0.9294 - accuracy: 0.6427 - f1_score: 0.6185 - val_loss: 1.0611 - val_accuracy: 0.5621 - val_f1_score: 0.5404\n",
            "Epoch 27/60\n",
            "1818/1818 [==============================] - 33s 18ms/step - loss: 0.9300 - accuracy: 0.6421 - f1_score: 0.6175 - val_loss: 1.0162 - val_accuracy: 0.6173 - val_f1_score: 0.5969\n",
            "Epoch 28/60\n",
            "1818/1818 [==============================] - 34s 19ms/step - loss: 0.9257 - accuracy: 0.6449 - f1_score: 0.6206 - val_loss: 1.0020 - val_accuracy: 0.6335 - val_f1_score: 0.6115\n",
            "Epoch 29/60\n",
            "1818/1818 [==============================] - 33s 18ms/step - loss: 0.9250 - accuracy: 0.6439 - f1_score: 0.6197 - val_loss: 1.0425 - val_accuracy: 0.5893 - val_f1_score: 0.5592\n",
            "Epoch 30/60\n",
            "1818/1818 [==============================] - 34s 19ms/step - loss: 0.9197 - accuracy: 0.6455 - f1_score: 0.6211 - val_loss: 1.0623 - val_accuracy: 0.5555 - val_f1_score: 0.5212\n",
            "Epoch 31/60\n",
            "1818/1818 [==============================] - 33s 18ms/step - loss: 0.9239 - accuracy: 0.6444 - f1_score: 0.6200 - val_loss: 1.0552 - val_accuracy: 0.5831 - val_f1_score: 0.5595\n",
            "Epoch 32/60\n",
            "1818/1818 [==============================] - 32s 18ms/step - loss: 0.9217 - accuracy: 0.6434 - f1_score: 0.6193 - val_loss: 1.0358 - val_accuracy: 0.6053 - val_f1_score: 0.5773\n",
            "Epoch 33/60\n",
            "1818/1818 [==============================] - 34s 19ms/step - loss: 0.9195 - accuracy: 0.6473 - f1_score: 0.6232 - val_loss: 1.0307 - val_accuracy: 0.6176 - val_f1_score: 0.5913\n",
            "Epoch 34/60\n",
            "1818/1818 [==============================] - 33s 18ms/step - loss: 0.9153 - accuracy: 0.6485 - f1_score: 0.6247 - val_loss: 1.0169 - val_accuracy: 0.6120 - val_f1_score: 0.5901\n",
            "Epoch 35/60\n",
            "1818/1818 [==============================] - 36s 20ms/step - loss: 0.9182 - accuracy: 0.6455 - f1_score: 0.6215 - val_loss: 1.0333 - val_accuracy: 0.6064 - val_f1_score: 0.5807\n",
            "Epoch 36/60\n",
            "1818/1818 [==============================] - 33s 18ms/step - loss: 0.9207 - accuracy: 0.6441 - f1_score: 0.6197 - val_loss: 1.0427 - val_accuracy: 0.5439 - val_f1_score: 0.5088\n",
            "Epoch 37/60\n",
            "1818/1818 [==============================] - 33s 18ms/step - loss: 0.9142 - accuracy: 0.6465 - f1_score: 0.6219 - val_loss: 1.0223 - val_accuracy: 0.6004 - val_f1_score: 0.5720\n",
            "Epoch 38/60\n",
            "1818/1818 [==============================] - 33s 18ms/step - loss: 0.9173 - accuracy: 0.6469 - f1_score: 0.6225 - val_loss: 1.0112 - val_accuracy: 0.6361 - val_f1_score: 0.6167\n",
            "Epoch 39/60\n",
            "1818/1818 [==============================] - 33s 18ms/step - loss: 0.9118 - accuracy: 0.6487 - f1_score: 0.6243 - val_loss: 1.0479 - val_accuracy: 0.5811 - val_f1_score: 0.5429\n",
            "Epoch 40/60\n",
            "1818/1818 [==============================] - 36s 20ms/step - loss: 0.9104 - accuracy: 0.6479 - f1_score: 0.6241 - val_loss: 1.0239 - val_accuracy: 0.6257 - val_f1_score: 0.5995\n",
            "Epoch 41/60\n",
            "1818/1818 [==============================] - 33s 18ms/step - loss: 0.9132 - accuracy: 0.6488 - f1_score: 0.6248 - val_loss: 1.0342 - val_accuracy: 0.5954 - val_f1_score: 0.5768\n",
            "Epoch 42/60\n",
            "1818/1818 [==============================] - 34s 18ms/step - loss: 0.9079 - accuracy: 0.6494 - f1_score: 0.6259 - val_loss: 1.0112 - val_accuracy: 0.6042 - val_f1_score: 0.5827\n",
            "Epoch 43/60\n",
            "1818/1818 [==============================] - 33s 18ms/step - loss: 0.9111 - accuracy: 0.6468 - f1_score: 0.6229 - val_loss: 1.0397 - val_accuracy: 0.5936 - val_f1_score: 0.5676\n",
            "Epoch 44/60\n",
            "1818/1818 [==============================] - 33s 18ms/step - loss: 0.9136 - accuracy: 0.6478 - f1_score: 0.6241 - val_loss: 1.0528 - val_accuracy: 0.5967 - val_f1_score: 0.5705\n",
            "Epoch 45/60\n",
            "1818/1818 [==============================] - 36s 20ms/step - loss: 0.9084 - accuracy: 0.6498 - f1_score: 0.6265 - val_loss: 1.0871 - val_accuracy: 0.5878 - val_f1_score: 0.5502\n",
            "Epoch 46/60\n",
            "1818/1818 [==============================] - 32s 18ms/step - loss: 0.9047 - accuracy: 0.6494 - f1_score: 0.6257 - val_loss: 1.0440 - val_accuracy: 0.5797 - val_f1_score: 0.5589\n",
            "Epoch 47/60\n",
            "1818/1818 [==============================] - 34s 19ms/step - loss: 0.9067 - accuracy: 0.6500 - f1_score: 0.6264 - val_loss: 1.0518 - val_accuracy: 0.5825 - val_f1_score: 0.5531\n",
            "Epoch 48/60\n",
            "1818/1818 [==============================] - 33s 18ms/step - loss: 0.9087 - accuracy: 0.6491 - f1_score: 0.6252 - val_loss: 1.0242 - val_accuracy: 0.6077 - val_f1_score: 0.5742\n"
          ]
        },
        {
          "data": {
            "text/html": [
              "Waiting for W&B process to finish... <strong style=\"color:green\">(success).</strong>"
            ],
            "text/plain": [
              "<IPython.core.display.HTML object>"
            ]
          },
          "metadata": {},
          "output_type": "display_data"
        },
        {
          "data": {
            "text/html": [
              "<style>\n",
              "    table.wandb td:nth-child(1) { padding: 0 10px; text-align: left ; width: auto;} td:nth-child(2) {text-align: left ; width: 100%}\n",
              "    .wandb-row { display: flex; flex-direction: row; flex-wrap: wrap; justify-content: flex-start; width: 100% }\n",
              "    .wandb-col { display: flex; flex-direction: column; flex-basis: 100%; flex: 1; padding: 10px; }\n",
              "    </style>\n",
              "<div class=\"wandb-row\"><div class=\"wandb-col\"><h3>Run history:</h3><br/><table class=\"wandb\"><tr><td>accuracy</td><td>▁▄▅▆▆▇▇▇▇▇▇▇▇▇▇█████████████████████████</td></tr><tr><td>epoch</td><td>▁▁▁▁▂▂▂▂▂▂▃▃▃▃▃▄▄▄▄▄▅▅▅▅▅▅▆▆▆▆▆▇▇▇▇▇▇███</td></tr><tr><td>f1_score</td><td>▁▄▅▆▆▆▇▇▇▇▇▇▇▇▇█████████████████████████</td></tr><tr><td>loss</td><td>█▄▄▃▃▂▂▂▂▂▂▂▂▂▂▁▁▁▁▁▁▁▁▁▁▁▁▁▁▁▁▁▁▁▁▁▁▁▁▁</td></tr><tr><td>val_accuracy</td><td>▁▃▃▃▄▄▅▇▆▇▅▅▅▇▅█▅█▄▇▇▅▇█▆▆▇▇▇▇▇█▆█▆▆▆▆▆▇</td></tr><tr><td>val_f1_score</td><td>▁▂▂▃▄▃▄▆▅▇▅▆▅▆▆▇▅▇▄▇▇▆▇█▆▆▇▇▇▇▇█▆▇▇▆▇▆▆▇</td></tr><tr><td>val_loss</td><td>█▆▅▄▃▃▂▁▂▃▂▃▁▁▂▂▄▁▃▂▁▄▂▂▃▄▃▃▂▃▂▂▃▂▃▃▃▅▃▂</td></tr></table><br/></div><div class=\"wandb-col\"><h3>Run summary:</h3><br/><table class=\"wandb\"><tr><td>accuracy</td><td>0.64906</td></tr><tr><td>best_epoch</td><td>15</td></tr><tr><td>best_val_loss</td><td>0.98617</td></tr><tr><td>epoch</td><td>47</td></tr><tr><td>f1_score</td><td>0.6252</td></tr><tr><td>loss</td><td>0.9087</td></tr><tr><td>val_accuracy</td><td>0.60769</td></tr><tr><td>val_f1_score</td><td>0.57418</td></tr><tr><td>val_loss</td><td>1.02423</td></tr></table><br/></div></div>"
            ],
            "text/plain": [
              "<IPython.core.display.HTML object>"
            ]
          },
          "metadata": {},
          "output_type": "display_data"
        },
        {
          "data": {
            "text/html": [
              " View run <strong style=\"color:#cdcd00\">leafy-sweep-32</strong> at: <a href='https://wandb.ai/remchat/defence-force/runs/atvikilv' target=\"_blank\">https://wandb.ai/remchat/defence-force/runs/atvikilv</a><br/> View job at <a href='https://wandb.ai/remchat/defence-force/jobs/QXJ0aWZhY3RDb2xsZWN0aW9uOjg3OTM1OTcx/version_details/v9' target=\"_blank\">https://wandb.ai/remchat/defence-force/jobs/QXJ0aWZhY3RDb2xsZWN0aW9uOjg3OTM1OTcx/version_details/v9</a><br/>Synced 5 W&B file(s), 1 media file(s), 45 artifact file(s) and 1 other file(s)"
            ],
            "text/plain": [
              "<IPython.core.display.HTML object>"
            ]
          },
          "metadata": {},
          "output_type": "display_data"
        },
        {
          "data": {
            "text/html": [
              "Find logs at: <code>./wandb/run-20230805_124231-atvikilv/logs</code>"
            ],
            "text/plain": [
              "<IPython.core.display.HTML object>"
            ]
          },
          "metadata": {},
          "output_type": "display_data"
        },
        {
          "name": "stderr",
          "output_type": "stream",
          "text": [
            "\u001b[34m\u001b[1mwandb\u001b[0m: Agent Starting Run: 57lo747k with config:\n",
            "\u001b[34m\u001b[1mwandb\u001b[0m: \tdropout: 0.3\n",
            "\u001b[34m\u001b[1mwandb\u001b[0m: \tepochs: 60\n",
            "\u001b[34m\u001b[1mwandb\u001b[0m: \tff_dim: 4\n",
            "\u001b[34m\u001b[1mwandb\u001b[0m: \thead_size: 256\n",
            "\u001b[34m\u001b[1mwandb\u001b[0m: \tlearning_rate: 3e-05\n",
            "\u001b[34m\u001b[1mwandb\u001b[0m: \tmlp_dropout: 0.3\n",
            "\u001b[34m\u001b[1mwandb\u001b[0m: \tmlp_units: [64, 32, 16]\n",
            "\u001b[34m\u001b[1mwandb\u001b[0m: \tnum_heads: 16\n",
            "\u001b[34m\u001b[1mwandb\u001b[0m: \tnum_transformer_blocks: 6\n",
            "\u001b[34m\u001b[1mwandb\u001b[0m: \u001b[33mWARNING\u001b[0m Ignored wandb.init() arg project when running a sweep.\n"
          ]
        },
        {
          "data": {
            "text/html": [
              "Tracking run with wandb version 0.15.8"
            ],
            "text/plain": [
              "<IPython.core.display.HTML object>"
            ]
          },
          "metadata": {},
          "output_type": "display_data"
        },
        {
          "data": {
            "text/html": [
              "Run data is saved locally in <code>/content/gdrive/MyDrive/RifleAction/wandb/run-20230805_131247-57lo747k</code>"
            ],
            "text/plain": [
              "<IPython.core.display.HTML object>"
            ]
          },
          "metadata": {},
          "output_type": "display_data"
        },
        {
          "data": {
            "text/html": [
              "Syncing run <strong><a href='https://wandb.ai/remchat/defence-force/runs/57lo747k' target=\"_blank\">lunar-sweep-33</a></strong> to <a href='https://wandb.ai/remchat/defence-force' target=\"_blank\">Weights & Biases</a> (<a href='https://wandb.me/run' target=\"_blank\">docs</a>)<br/>Sweep page: <a href='https://wandb.ai/remchat/defence-force/sweeps/k5lpmxhw' target=\"_blank\">https://wandb.ai/remchat/defence-force/sweeps/k5lpmxhw</a>"
            ],
            "text/plain": [
              "<IPython.core.display.HTML object>"
            ]
          },
          "metadata": {},
          "output_type": "display_data"
        },
        {
          "data": {
            "text/html": [
              " View project at <a href='https://wandb.ai/remchat/defence-force' target=\"_blank\">https://wandb.ai/remchat/defence-force</a>"
            ],
            "text/plain": [
              "<IPython.core.display.HTML object>"
            ]
          },
          "metadata": {},
          "output_type": "display_data"
        },
        {
          "data": {
            "text/html": [
              " View sweep at <a href='https://wandb.ai/remchat/defence-force/sweeps/k5lpmxhw' target=\"_blank\">https://wandb.ai/remchat/defence-force/sweeps/k5lpmxhw</a>"
            ],
            "text/plain": [
              "<IPython.core.display.HTML object>"
            ]
          },
          "metadata": {},
          "output_type": "display_data"
        },
        {
          "data": {
            "text/html": [
              " View run at <a href='https://wandb.ai/remchat/defence-force/runs/57lo747k' target=\"_blank\">https://wandb.ai/remchat/defence-force/runs/57lo747k</a>"
            ],
            "text/plain": [
              "<IPython.core.display.HTML object>"
            ]
          },
          "metadata": {},
          "output_type": "display_data"
        },
        {
          "name": "stdout",
          "output_type": "stream",
          "text": [
            "Epoch 1/60\n",
            "1818/1818 [==============================] - ETA: 0s - loss: 2.1796 - accuracy: 0.2296 - f1_score: 0.1924"
          ]
        },
        {
          "name": "stderr",
          "output_type": "stream",
          "text": [
            "WARNING:absl:Found untraced functions such as _jit_compiled_convolution_op, _jit_compiled_convolution_op, _jit_compiled_convolution_op, _jit_compiled_convolution_op, _jit_compiled_convolution_op while saving (showing 5 of 84). These functions will not be directly callable after loading.\n",
            "\u001b[34m\u001b[1mwandb\u001b[0m: Adding directory to artifact (/content/gdrive/MyDrive/RifleAction/wandb/run-20230805_131247-57lo747k/files/model-best)... Done. 0.1s\n"
          ]
        },
        {
          "name": "stdout",
          "output_type": "stream",
          "text": [
            "1818/1818 [==============================] - 91s 47ms/step - loss: 2.1796 - accuracy: 0.2296 - f1_score: 0.1924 - val_loss: 2.0327 - val_accuracy: 0.3744 - val_f1_score: 0.2040\n",
            "Epoch 2/60\n",
            "1818/1818 [==============================] - ETA: 0s - loss: 2.0148 - accuracy: 0.3349 - f1_score: 0.2146"
          ]
        },
        {
          "name": "stderr",
          "output_type": "stream",
          "text": [
            "WARNING:absl:Found untraced functions such as _jit_compiled_convolution_op, _jit_compiled_convolution_op, _jit_compiled_convolution_op, _jit_compiled_convolution_op, _jit_compiled_convolution_op while saving (showing 5 of 84). These functions will not be directly callable after loading.\n",
            "\u001b[34m\u001b[1mwandb\u001b[0m: Adding directory to artifact (/content/gdrive/MyDrive/RifleAction/wandb/run-20230805_131247-57lo747k/files/model-best)... Done. 0.2s\n"
          ]
        },
        {
          "name": "stdout",
          "output_type": "stream",
          "text": [
            "1818/1818 [==============================] - 86s 47ms/step - loss: 2.0148 - accuracy: 0.3349 - f1_score: 0.2146 - val_loss: 1.8909 - val_accuracy: 0.3744 - val_f1_score: 0.2040\n",
            "Epoch 3/60\n",
            "1817/1818 [============================>.] - ETA: 0s - loss: 1.9323 - accuracy: 0.3448 - f1_score: 0.2292"
          ]
        },
        {
          "name": "stderr",
          "output_type": "stream",
          "text": [
            "WARNING:absl:Found untraced functions such as _jit_compiled_convolution_op, _jit_compiled_convolution_op, _jit_compiled_convolution_op, _jit_compiled_convolution_op, _jit_compiled_convolution_op while saving (showing 5 of 84). These functions will not be directly callable after loading.\n",
            "\u001b[34m\u001b[1mwandb\u001b[0m: Adding directory to artifact (/content/gdrive/MyDrive/RifleAction/wandb/run-20230805_131247-57lo747k/files/model-best)... Done. 0.2s\n"
          ]
        },
        {
          "name": "stdout",
          "output_type": "stream",
          "text": [
            "1818/1818 [==============================] - 81s 44ms/step - loss: 1.9322 - accuracy: 0.3448 - f1_score: 0.2292 - val_loss: 1.8094 - val_accuracy: 0.4495 - val_f1_score: 0.3065\n",
            "Epoch 4/60\n",
            "1818/1818 [==============================] - ETA: 0s - loss: 1.8753 - accuracy: 0.3517 - f1_score: 0.2428"
          ]
        },
        {
          "name": "stderr",
          "output_type": "stream",
          "text": [
            "WARNING:absl:Found untraced functions such as _jit_compiled_convolution_op, _jit_compiled_convolution_op, _jit_compiled_convolution_op, _jit_compiled_convolution_op, _jit_compiled_convolution_op while saving (showing 5 of 84). These functions will not be directly callable after loading.\n",
            "\u001b[34m\u001b[1mwandb\u001b[0m: Adding directory to artifact (/content/gdrive/MyDrive/RifleAction/wandb/run-20230805_131247-57lo747k/files/model-best)... Done. 0.2s\n"
          ]
        },
        {
          "name": "stdout",
          "output_type": "stream",
          "text": [
            "1818/1818 [==============================] - 80s 44ms/step - loss: 1.8753 - accuracy: 0.3517 - f1_score: 0.2428 - val_loss: 1.7393 - val_accuracy: 0.4821 - val_f1_score: 0.3317\n",
            "Epoch 5/60\n",
            "1818/1818 [==============================] - ETA: 0s - loss: 1.8229 - accuracy: 0.3595 - f1_score: 0.2549"
          ]
        },
        {
          "name": "stderr",
          "output_type": "stream",
          "text": [
            "WARNING:absl:Found untraced functions such as _jit_compiled_convolution_op, _jit_compiled_convolution_op, _jit_compiled_convolution_op, _jit_compiled_convolution_op, _jit_compiled_convolution_op while saving (showing 5 of 84). These functions will not be directly callable after loading.\n",
            "\u001b[34m\u001b[1mwandb\u001b[0m: Adding directory to artifact (/content/gdrive/MyDrive/RifleAction/wandb/run-20230805_131247-57lo747k/files/model-best)... Done. 0.2s\n"
          ]
        },
        {
          "name": "stdout",
          "output_type": "stream",
          "text": [
            "1818/1818 [==============================] - 86s 47ms/step - loss: 1.8229 - accuracy: 0.3595 - f1_score: 0.2549 - val_loss: 1.6776 - val_accuracy: 0.4815 - val_f1_score: 0.3345\n",
            "Epoch 6/60\n",
            "1818/1818 [==============================] - ETA: 0s - loss: 1.7752 - accuracy: 0.3654 - f1_score: 0.2623"
          ]
        },
        {
          "name": "stderr",
          "output_type": "stream",
          "text": [
            "WARNING:absl:Found untraced functions such as _jit_compiled_convolution_op, _jit_compiled_convolution_op, _jit_compiled_convolution_op, _jit_compiled_convolution_op, _jit_compiled_convolution_op while saving (showing 5 of 84). These functions will not be directly callable after loading.\n",
            "\u001b[34m\u001b[1mwandb\u001b[0m: Adding directory to artifact (/content/gdrive/MyDrive/RifleAction/wandb/run-20230805_131247-57lo747k/files/model-best)... Done. 0.2s\n"
          ]
        },
        {
          "name": "stdout",
          "output_type": "stream",
          "text": [
            "1818/1818 [==============================] - 86s 47ms/step - loss: 1.7752 - accuracy: 0.3654 - f1_score: 0.2623 - val_loss: 1.6228 - val_accuracy: 0.4218 - val_f1_score: 0.2894\n",
            "Epoch 7/60\n",
            "1818/1818 [==============================] - ETA: 0s - loss: 1.7305 - accuracy: 0.3745 - f1_score: 0.2711"
          ]
        },
        {
          "name": "stderr",
          "output_type": "stream",
          "text": [
            "WARNING:absl:Found untraced functions such as _jit_compiled_convolution_op, _jit_compiled_convolution_op, _jit_compiled_convolution_op, _jit_compiled_convolution_op, _jit_compiled_convolution_op while saving (showing 5 of 84). These functions will not be directly callable after loading.\n",
            "\u001b[34m\u001b[1mwandb\u001b[0m: Adding directory to artifact (/content/gdrive/MyDrive/RifleAction/wandb/run-20230805_131247-57lo747k/files/model-best)... Done. 0.2s\n"
          ]
        },
        {
          "name": "stdout",
          "output_type": "stream",
          "text": [
            "1818/1818 [==============================] - 81s 44ms/step - loss: 1.7305 - accuracy: 0.3745 - f1_score: 0.2711 - val_loss: 1.5850 - val_accuracy: 0.3942 - val_f1_score: 0.2422\n",
            "Epoch 8/60\n",
            "1817/1818 [============================>.] - ETA: 0s - loss: 1.6885 - accuracy: 0.3798 - f1_score: 0.2763"
          ]
        },
        {
          "name": "stderr",
          "output_type": "stream",
          "text": [
            "WARNING:absl:Found untraced functions such as _jit_compiled_convolution_op, _jit_compiled_convolution_op, _jit_compiled_convolution_op, _jit_compiled_convolution_op, _jit_compiled_convolution_op while saving (showing 5 of 84). These functions will not be directly callable after loading.\n",
            "\u001b[34m\u001b[1mwandb\u001b[0m: Adding directory to artifact (/content/gdrive/MyDrive/RifleAction/wandb/run-20230805_131247-57lo747k/files/model-best)... Done. 0.2s\n"
          ]
        },
        {
          "name": "stdout",
          "output_type": "stream",
          "text": [
            "1818/1818 [==============================] - 85s 47ms/step - loss: 1.6885 - accuracy: 0.3798 - f1_score: 0.2763 - val_loss: 1.5443 - val_accuracy: 0.3905 - val_f1_score: 0.2357\n",
            "Epoch 9/60\n",
            "1817/1818 [============================>.] - ETA: 0s - loss: 1.6549 - accuracy: 0.3849 - f1_score: 0.2842"
          ]
        },
        {
          "name": "stderr",
          "output_type": "stream",
          "text": [
            "WARNING:absl:Found untraced functions such as _jit_compiled_convolution_op, _jit_compiled_convolution_op, _jit_compiled_convolution_op, _jit_compiled_convolution_op, _jit_compiled_convolution_op while saving (showing 5 of 84). These functions will not be directly callable after loading.\n",
            "\u001b[34m\u001b[1mwandb\u001b[0m: Adding directory to artifact (/content/gdrive/MyDrive/RifleAction/wandb/run-20230805_131247-57lo747k/files/model-best)... Done. 0.2s\n"
          ]
        },
        {
          "name": "stdout",
          "output_type": "stream",
          "text": [
            "1818/1818 [==============================] - 81s 44ms/step - loss: 1.6548 - accuracy: 0.3849 - f1_score: 0.2842 - val_loss: 1.5072 - val_accuracy: 0.3906 - val_f1_score: 0.2366\n",
            "Epoch 10/60\n",
            "1817/1818 [============================>.] - ETA: 0s - loss: 1.6218 - accuracy: 0.3898 - f1_score: 0.2938"
          ]
        },
        {
          "name": "stderr",
          "output_type": "stream",
          "text": [
            "WARNING:absl:Found untraced functions such as _jit_compiled_convolution_op, _jit_compiled_convolution_op, _jit_compiled_convolution_op, _jit_compiled_convolution_op, _jit_compiled_convolution_op while saving (showing 5 of 84). These functions will not be directly callable after loading.\n",
            "\u001b[34m\u001b[1mwandb\u001b[0m: Adding directory to artifact (/content/gdrive/MyDrive/RifleAction/wandb/run-20230805_131247-57lo747k/files/model-best)... Done. 0.2s\n"
          ]
        },
        {
          "name": "stdout",
          "output_type": "stream",
          "text": [
            "1818/1818 [==============================] - 86s 47ms/step - loss: 1.6218 - accuracy: 0.3898 - f1_score: 0.2939 - val_loss: 1.4709 - val_accuracy: 0.3922 - val_f1_score: 0.2425\n",
            "Epoch 11/60\n",
            "1818/1818 [==============================] - ETA: 0s - loss: 1.5896 - accuracy: 0.3971 - f1_score: 0.3101"
          ]
        },
        {
          "name": "stderr",
          "output_type": "stream",
          "text": [
            "WARNING:absl:Found untraced functions such as _jit_compiled_convolution_op, _jit_compiled_convolution_op, _jit_compiled_convolution_op, _jit_compiled_convolution_op, _jit_compiled_convolution_op while saving (showing 5 of 84). These functions will not be directly callable after loading.\n",
            "\u001b[34m\u001b[1mwandb\u001b[0m: Adding directory to artifact (/content/gdrive/MyDrive/RifleAction/wandb/run-20230805_131247-57lo747k/files/model-best)... Done. 0.2s\n"
          ]
        },
        {
          "name": "stdout",
          "output_type": "stream",
          "text": [
            "1818/1818 [==============================] - 86s 47ms/step - loss: 1.5896 - accuracy: 0.3971 - f1_score: 0.3101 - val_loss: 1.4363 - val_accuracy: 0.4077 - val_f1_score: 0.2817\n",
            "Epoch 12/60\n",
            "1818/1818 [==============================] - ETA: 0s - loss: 1.5607 - accuracy: 0.4085 - f1_score: 0.3316"
          ]
        },
        {
          "name": "stderr",
          "output_type": "stream",
          "text": [
            "WARNING:absl:Found untraced functions such as _jit_compiled_convolution_op, _jit_compiled_convolution_op, _jit_compiled_convolution_op, _jit_compiled_convolution_op, _jit_compiled_convolution_op while saving (showing 5 of 84). These functions will not be directly callable after loading.\n",
            "\u001b[34m\u001b[1mwandb\u001b[0m: Adding directory to artifact (/content/gdrive/MyDrive/RifleAction/wandb/run-20230805_131247-57lo747k/files/model-best)... Done. 0.2s\n"
          ]
        },
        {
          "name": "stdout",
          "output_type": "stream",
          "text": [
            "1818/1818 [==============================] - 81s 44ms/step - loss: 1.5607 - accuracy: 0.4085 - f1_score: 0.3316 - val_loss: 1.4052 - val_accuracy: 0.4395 - val_f1_score: 0.3216\n",
            "Epoch 13/60\n",
            "1817/1818 [============================>.] - ETA: 0s - loss: 1.5330 - accuracy: 0.4184 - f1_score: 0.3502"
          ]
        },
        {
          "name": "stderr",
          "output_type": "stream",
          "text": [
            "WARNING:absl:Found untraced functions such as _jit_compiled_convolution_op, _jit_compiled_convolution_op, _jit_compiled_convolution_op, _jit_compiled_convolution_op, _jit_compiled_convolution_op while saving (showing 5 of 84). These functions will not be directly callable after loading.\n",
            "\u001b[34m\u001b[1mwandb\u001b[0m: Adding directory to artifact (/content/gdrive/MyDrive/RifleAction/wandb/run-20230805_131247-57lo747k/files/model-best)... Done. 0.2s\n"
          ]
        },
        {
          "name": "stdout",
          "output_type": "stream",
          "text": [
            "1818/1818 [==============================] - 86s 47ms/step - loss: 1.5328 - accuracy: 0.4185 - f1_score: 0.3502 - val_loss: 1.3660 - val_accuracy: 0.4407 - val_f1_score: 0.3270\n",
            "Epoch 14/60\n",
            "1818/1818 [==============================] - ETA: 0s - loss: 1.5063 - accuracy: 0.4260 - f1_score: 0.3637"
          ]
        },
        {
          "name": "stderr",
          "output_type": "stream",
          "text": [
            "WARNING:absl:Found untraced functions such as _jit_compiled_convolution_op, _jit_compiled_convolution_op, _jit_compiled_convolution_op, _jit_compiled_convolution_op, _jit_compiled_convolution_op while saving (showing 5 of 84). These functions will not be directly callable after loading.\n",
            "\u001b[34m\u001b[1mwandb\u001b[0m: Adding directory to artifact (/content/gdrive/MyDrive/RifleAction/wandb/run-20230805_131247-57lo747k/files/model-best)... Done. 0.2s\n"
          ]
        },
        {
          "name": "stdout",
          "output_type": "stream",
          "text": [
            "1818/1818 [==============================] - 81s 44ms/step - loss: 1.5063 - accuracy: 0.4260 - f1_score: 0.3637 - val_loss: 1.3416 - val_accuracy: 0.4705 - val_f1_score: 0.3620\n",
            "Epoch 15/60\n",
            "1818/1818 [==============================] - ETA: 0s - loss: 1.4843 - accuracy: 0.4362 - f1_score: 0.3776"
          ]
        },
        {
          "name": "stderr",
          "output_type": "stream",
          "text": [
            "WARNING:absl:Found untraced functions such as _jit_compiled_convolution_op, _jit_compiled_convolution_op, _jit_compiled_convolution_op, _jit_compiled_convolution_op, _jit_compiled_convolution_op while saving (showing 5 of 84). These functions will not be directly callable after loading.\n",
            "\u001b[34m\u001b[1mwandb\u001b[0m: Adding directory to artifact (/content/gdrive/MyDrive/RifleAction/wandb/run-20230805_131247-57lo747k/files/model-best)... Done. 0.2s\n"
          ]
        },
        {
          "name": "stdout",
          "output_type": "stream",
          "text": [
            "1818/1818 [==============================] - 87s 48ms/step - loss: 1.4843 - accuracy: 0.4362 - f1_score: 0.3776 - val_loss: 1.3147 - val_accuracy: 0.4719 - val_f1_score: 0.3640\n",
            "Epoch 16/60\n",
            "1818/1818 [==============================] - ETA: 0s - loss: 1.4644 - accuracy: 0.4442 - f1_score: 0.3887"
          ]
        },
        {
          "name": "stderr",
          "output_type": "stream",
          "text": [
            "WARNING:absl:Found untraced functions such as _jit_compiled_convolution_op, _jit_compiled_convolution_op, _jit_compiled_convolution_op, _jit_compiled_convolution_op, _jit_compiled_convolution_op while saving (showing 5 of 84). These functions will not be directly callable after loading.\n",
            "\u001b[34m\u001b[1mwandb\u001b[0m: Adding directory to artifact (/content/gdrive/MyDrive/RifleAction/wandb/run-20230805_131247-57lo747k/files/model-best)... Done. 0.3s\n"
          ]
        },
        {
          "name": "stdout",
          "output_type": "stream",
          "text": [
            "1818/1818 [==============================] - 86s 48ms/step - loss: 1.4644 - accuracy: 0.4442 - f1_score: 0.3887 - val_loss: 1.2952 - val_accuracy: 0.4795 - val_f1_score: 0.3721\n",
            "Epoch 17/60\n",
            "1818/1818 [==============================] - ETA: 0s - loss: 1.4437 - accuracy: 0.4499 - f1_score: 0.3957"
          ]
        },
        {
          "name": "stderr",
          "output_type": "stream",
          "text": [
            "WARNING:absl:Found untraced functions such as _jit_compiled_convolution_op, _jit_compiled_convolution_op, _jit_compiled_convolution_op, _jit_compiled_convolution_op, _jit_compiled_convolution_op while saving (showing 5 of 84). These functions will not be directly callable after loading.\n",
            "\u001b[34m\u001b[1mwandb\u001b[0m: Adding directory to artifact (/content/gdrive/MyDrive/RifleAction/wandb/run-20230805_131247-57lo747k/files/model-best)... Done. 0.2s\n"
          ]
        },
        {
          "name": "stdout",
          "output_type": "stream",
          "text": [
            "1818/1818 [==============================] - 86s 47ms/step - loss: 1.4437 - accuracy: 0.4499 - f1_score: 0.3957 - val_loss: 1.2753 - val_accuracy: 0.4726 - val_f1_score: 0.3672\n",
            "Epoch 18/60\n",
            "1817/1818 [============================>.] - ETA: 0s - loss: 1.4261 - accuracy: 0.4577 - f1_score: 0.4053"
          ]
        },
        {
          "name": "stderr",
          "output_type": "stream",
          "text": [
            "WARNING:absl:Found untraced functions such as _jit_compiled_convolution_op, _jit_compiled_convolution_op, _jit_compiled_convolution_op, _jit_compiled_convolution_op, _jit_compiled_convolution_op while saving (showing 5 of 84). These functions will not be directly callable after loading.\n",
            "\u001b[34m\u001b[1mwandb\u001b[0m: Adding directory to artifact (/content/gdrive/MyDrive/RifleAction/wandb/run-20230805_131247-57lo747k/files/model-best)... Done. 0.1s\n"
          ]
        },
        {
          "name": "stdout",
          "output_type": "stream",
          "text": [
            "1818/1818 [==============================] - 86s 47ms/step - loss: 1.4260 - accuracy: 0.4578 - f1_score: 0.4054 - val_loss: 1.2596 - val_accuracy: 0.4842 - val_f1_score: 0.3767\n",
            "Epoch 19/60\n",
            "1818/1818 [==============================] - ETA: 0s - loss: 1.4104 - accuracy: 0.4620 - f1_score: 0.4100"
          ]
        },
        {
          "name": "stderr",
          "output_type": "stream",
          "text": [
            "WARNING:absl:Found untraced functions such as _jit_compiled_convolution_op, _jit_compiled_convolution_op, _jit_compiled_convolution_op, _jit_compiled_convolution_op, _jit_compiled_convolution_op while saving (showing 5 of 84). These functions will not be directly callable after loading.\n",
            "\u001b[34m\u001b[1mwandb\u001b[0m: Adding directory to artifact (/content/gdrive/MyDrive/RifleAction/wandb/run-20230805_131247-57lo747k/files/model-best)... Done. 0.2s\n"
          ]
        },
        {
          "name": "stdout",
          "output_type": "stream",
          "text": [
            "1818/1818 [==============================] - 87s 48ms/step - loss: 1.4104 - accuracy: 0.4620 - f1_score: 0.4100 - val_loss: 1.2426 - val_accuracy: 0.4850 - val_f1_score: 0.3776\n",
            "Epoch 20/60\n",
            "1817/1818 [============================>.] - ETA: 0s - loss: 1.3958 - accuracy: 0.4674 - f1_score: 0.4160"
          ]
        },
        {
          "name": "stderr",
          "output_type": "stream",
          "text": [
            "WARNING:absl:Found untraced functions such as _jit_compiled_convolution_op, _jit_compiled_convolution_op, _jit_compiled_convolution_op, _jit_compiled_convolution_op, _jit_compiled_convolution_op while saving (showing 5 of 84). These functions will not be directly callable after loading.\n",
            "\u001b[34m\u001b[1mwandb\u001b[0m: Adding directory to artifact (/content/gdrive/MyDrive/RifleAction/wandb/run-20230805_131247-57lo747k/files/model-best)... Done. 0.2s\n"
          ]
        },
        {
          "name": "stdout",
          "output_type": "stream",
          "text": [
            "1818/1818 [==============================] - 86s 47ms/step - loss: 1.3959 - accuracy: 0.4673 - f1_score: 0.4159 - val_loss: 1.2392 - val_accuracy: 0.4844 - val_f1_score: 0.3785\n",
            "Epoch 21/60\n",
            "1817/1818 [============================>.] - ETA: 0s - loss: 1.3817 - accuracy: 0.4724 - f1_score: 0.4215"
          ]
        },
        {
          "name": "stderr",
          "output_type": "stream",
          "text": [
            "WARNING:absl:Found untraced functions such as _jit_compiled_convolution_op, _jit_compiled_convolution_op, _jit_compiled_convolution_op, _jit_compiled_convolution_op, _jit_compiled_convolution_op while saving (showing 5 of 84). These functions will not be directly callable after loading.\n",
            "\u001b[34m\u001b[1mwandb\u001b[0m: Adding directory to artifact (/content/gdrive/MyDrive/RifleAction/wandb/run-20230805_131247-57lo747k/files/model-best)... Done. 0.2s\n"
          ]
        },
        {
          "name": "stdout",
          "output_type": "stream",
          "text": [
            "1818/1818 [==============================] - 82s 45ms/step - loss: 1.3817 - accuracy: 0.4724 - f1_score: 0.4215 - val_loss: 1.2207 - val_accuracy: 0.4859 - val_f1_score: 0.3791\n",
            "Epoch 22/60\n",
            "1817/1818 [============================>.] - ETA: 0s - loss: 1.3704 - accuracy: 0.4745 - f1_score: 0.4236"
          ]
        },
        {
          "name": "stderr",
          "output_type": "stream",
          "text": [
            "WARNING:absl:Found untraced functions such as _jit_compiled_convolution_op, _jit_compiled_convolution_op, _jit_compiled_convolution_op, _jit_compiled_convolution_op, _jit_compiled_convolution_op while saving (showing 5 of 84). These functions will not be directly callable after loading.\n",
            "\u001b[34m\u001b[1mwandb\u001b[0m: Adding directory to artifact (/content/gdrive/MyDrive/RifleAction/wandb/run-20230805_131247-57lo747k/files/model-best)... Done. 0.2s\n"
          ]
        },
        {
          "name": "stdout",
          "output_type": "stream",
          "text": [
            "1818/1818 [==============================] - 82s 45ms/step - loss: 1.3704 - accuracy: 0.4745 - f1_score: 0.4236 - val_loss: 1.2065 - val_accuracy: 0.4885 - val_f1_score: 0.3809\n",
            "Epoch 23/60\n",
            "1817/1818 [============================>.] - ETA: 0s - loss: 1.3584 - accuracy: 0.4813 - f1_score: 0.4309"
          ]
        },
        {
          "name": "stderr",
          "output_type": "stream",
          "text": [
            "WARNING:absl:Found untraced functions such as _jit_compiled_convolution_op, _jit_compiled_convolution_op, _jit_compiled_convolution_op, _jit_compiled_convolution_op, _jit_compiled_convolution_op while saving (showing 5 of 84). These functions will not be directly callable after loading.\n",
            "\u001b[34m\u001b[1mwandb\u001b[0m: Adding directory to artifact (/content/gdrive/MyDrive/RifleAction/wandb/run-20230805_131247-57lo747k/files/model-best)... Done. 0.2s\n"
          ]
        },
        {
          "name": "stdout",
          "output_type": "stream",
          "text": [
            "1818/1818 [==============================] - 86s 48ms/step - loss: 1.3585 - accuracy: 0.4813 - f1_score: 0.4309 - val_loss: 1.2033 - val_accuracy: 0.4841 - val_f1_score: 0.3794\n",
            "Epoch 24/60\n",
            "1817/1818 [============================>.] - ETA: 0s - loss: 1.3473 - accuracy: 0.4840 - f1_score: 0.4340"
          ]
        },
        {
          "name": "stderr",
          "output_type": "stream",
          "text": [
            "WARNING:absl:Found untraced functions such as _jit_compiled_convolution_op, _jit_compiled_convolution_op, _jit_compiled_convolution_op, _jit_compiled_convolution_op, _jit_compiled_convolution_op while saving (showing 5 of 84). These functions will not be directly callable after loading.\n",
            "\u001b[34m\u001b[1mwandb\u001b[0m: Adding directory to artifact (/content/gdrive/MyDrive/RifleAction/wandb/run-20230805_131247-57lo747k/files/model-best)... Done. 0.2s\n"
          ]
        },
        {
          "name": "stdout",
          "output_type": "stream",
          "text": [
            "1818/1818 [==============================] - 86s 47ms/step - loss: 1.3474 - accuracy: 0.4840 - f1_score: 0.4339 - val_loss: 1.1909 - val_accuracy: 0.4883 - val_f1_score: 0.3836\n",
            "Epoch 25/60\n",
            "1817/1818 [============================>.] - ETA: 0s - loss: 1.3358 - accuracy: 0.4880 - f1_score: 0.4374"
          ]
        },
        {
          "name": "stderr",
          "output_type": "stream",
          "text": [
            "WARNING:absl:Found untraced functions such as _jit_compiled_convolution_op, _jit_compiled_convolution_op, _jit_compiled_convolution_op, _jit_compiled_convolution_op, _jit_compiled_convolution_op while saving (showing 5 of 84). These functions will not be directly callable after loading.\n",
            "\u001b[34m\u001b[1mwandb\u001b[0m: Adding directory to artifact (/content/gdrive/MyDrive/RifleAction/wandb/run-20230805_131247-57lo747k/files/model-best)... Done. 0.2s\n"
          ]
        },
        {
          "name": "stdout",
          "output_type": "stream",
          "text": [
            "1818/1818 [==============================] - 85s 47ms/step - loss: 1.3359 - accuracy: 0.4880 - f1_score: 0.4375 - val_loss: 1.1863 - val_accuracy: 0.4872 - val_f1_score: 0.3848\n",
            "Epoch 26/60\n",
            "1817/1818 [============================>.] - ETA: 0s - loss: 1.3248 - accuracy: 0.4936 - f1_score: 0.4437"
          ]
        },
        {
          "name": "stderr",
          "output_type": "stream",
          "text": [
            "WARNING:absl:Found untraced functions such as _jit_compiled_convolution_op, _jit_compiled_convolution_op, _jit_compiled_convolution_op, _jit_compiled_convolution_op, _jit_compiled_convolution_op while saving (showing 5 of 84). These functions will not be directly callable after loading.\n",
            "\u001b[34m\u001b[1mwandb\u001b[0m: Adding directory to artifact (/content/gdrive/MyDrive/RifleAction/wandb/run-20230805_131247-57lo747k/files/model-best)... Done. 0.2s\n"
          ]
        },
        {
          "name": "stdout",
          "output_type": "stream",
          "text": [
            "1818/1818 [==============================] - 86s 47ms/step - loss: 1.3247 - accuracy: 0.4936 - f1_score: 0.4437 - val_loss: 1.1718 - val_accuracy: 0.4919 - val_f1_score: 0.3890\n",
            "Epoch 27/60\n",
            "1818/1818 [==============================] - ETA: 0s - loss: 1.3155 - accuracy: 0.4944 - f1_score: 0.4443"
          ]
        },
        {
          "name": "stderr",
          "output_type": "stream",
          "text": [
            "WARNING:absl:Found untraced functions such as _jit_compiled_convolution_op, _jit_compiled_convolution_op, _jit_compiled_convolution_op, _jit_compiled_convolution_op, _jit_compiled_convolution_op while saving (showing 5 of 84). These functions will not be directly callable after loading.\n",
            "\u001b[34m\u001b[1mwandb\u001b[0m: Adding directory to artifact (/content/gdrive/MyDrive/RifleAction/wandb/run-20230805_131247-57lo747k/files/model-best)... Done. 0.2s\n"
          ]
        },
        {
          "name": "stdout",
          "output_type": "stream",
          "text": [
            "1818/1818 [==============================] - 82s 45ms/step - loss: 1.3155 - accuracy: 0.4944 - f1_score: 0.4443 - val_loss: 1.1694 - val_accuracy: 0.4901 - val_f1_score: 0.3900\n",
            "Epoch 28/60\n",
            "1817/1818 [============================>.] - ETA: 0s - loss: 1.3073 - accuracy: 0.4978 - f1_score: 0.4474"
          ]
        },
        {
          "name": "stderr",
          "output_type": "stream",
          "text": [
            "WARNING:absl:Found untraced functions such as _jit_compiled_convolution_op, _jit_compiled_convolution_op, _jit_compiled_convolution_op, _jit_compiled_convolution_op, _jit_compiled_convolution_op while saving (showing 5 of 84). These functions will not be directly callable after loading.\n",
            "\u001b[34m\u001b[1mwandb\u001b[0m: Adding directory to artifact (/content/gdrive/MyDrive/RifleAction/wandb/run-20230805_131247-57lo747k/files/model-best)... Done. 0.2s\n"
          ]
        },
        {
          "name": "stdout",
          "output_type": "stream",
          "text": [
            "1818/1818 [==============================] - 88s 48ms/step - loss: 1.3073 - accuracy: 0.4979 - f1_score: 0.4474 - val_loss: 1.1667 - val_accuracy: 0.4912 - val_f1_score: 0.3908\n",
            "Epoch 29/60\n",
            "1817/1818 [============================>.] - ETA: 0s - loss: 1.2979 - accuracy: 0.5027 - f1_score: 0.4525"
          ]
        },
        {
          "name": "stderr",
          "output_type": "stream",
          "text": [
            "WARNING:absl:Found untraced functions such as _jit_compiled_convolution_op, _jit_compiled_convolution_op, _jit_compiled_convolution_op, _jit_compiled_convolution_op, _jit_compiled_convolution_op while saving (showing 5 of 84). These functions will not be directly callable after loading.\n",
            "\u001b[34m\u001b[1mwandb\u001b[0m: Adding directory to artifact (/content/gdrive/MyDrive/RifleAction/wandb/run-20230805_131247-57lo747k/files/model-best)... Done. 0.2s\n"
          ]
        },
        {
          "name": "stdout",
          "output_type": "stream",
          "text": [
            "1818/1818 [==============================] - 89s 49ms/step - loss: 1.2981 - accuracy: 0.5027 - f1_score: 0.4524 - val_loss: 1.1579 - val_accuracy: 0.4941 - val_f1_score: 0.3928\n",
            "Epoch 30/60\n",
            "1818/1818 [==============================] - 74s 41ms/step - loss: 1.2887 - accuracy: 0.5047 - f1_score: 0.4542 - val_loss: 1.1612 - val_accuracy: 0.4938 - val_f1_score: 0.3966\n",
            "Epoch 31/60\n",
            "1818/1818 [==============================] - ETA: 0s - loss: 1.2826 - accuracy: 0.5070 - f1_score: 0.4558"
          ]
        },
        {
          "name": "stderr",
          "output_type": "stream",
          "text": [
            "WARNING:absl:Found untraced functions such as _jit_compiled_convolution_op, _jit_compiled_convolution_op, _jit_compiled_convolution_op, _jit_compiled_convolution_op, _jit_compiled_convolution_op while saving (showing 5 of 84). These functions will not be directly callable after loading.\n",
            "\u001b[34m\u001b[1mwandb\u001b[0m: Adding directory to artifact (/content/gdrive/MyDrive/RifleAction/wandb/run-20230805_131247-57lo747k/files/model-best)... Done. 0.2s\n"
          ]
        },
        {
          "name": "stdout",
          "output_type": "stream",
          "text": [
            "1818/1818 [==============================] - 81s 45ms/step - loss: 1.2826 - accuracy: 0.5070 - f1_score: 0.4558 - val_loss: 1.1497 - val_accuracy: 0.4941 - val_f1_score: 0.3969\n",
            "Epoch 32/60\n",
            "1817/1818 [============================>.] - ETA: 0s - loss: 1.2750 - accuracy: 0.5094 - f1_score: 0.4600"
          ]
        },
        {
          "name": "stderr",
          "output_type": "stream",
          "text": [
            "WARNING:absl:Found untraced functions such as _jit_compiled_convolution_op, _jit_compiled_convolution_op, _jit_compiled_convolution_op, _jit_compiled_convolution_op, _jit_compiled_convolution_op while saving (showing 5 of 84). These functions will not be directly callable after loading.\n",
            "\u001b[34m\u001b[1mwandb\u001b[0m: Adding directory to artifact (/content/gdrive/MyDrive/RifleAction/wandb/run-20230805_131247-57lo747k/files/model-best)... Done. 0.2s\n"
          ]
        },
        {
          "name": "stdout",
          "output_type": "stream",
          "text": [
            "1818/1818 [==============================] - 88s 48ms/step - loss: 1.2750 - accuracy: 0.5095 - f1_score: 0.4600 - val_loss: 1.1456 - val_accuracy: 0.4986 - val_f1_score: 0.4010\n",
            "Epoch 33/60\n",
            "1818/1818 [==============================] - ETA: 0s - loss: 1.2663 - accuracy: 0.5125 - f1_score: 0.4619"
          ]
        },
        {
          "name": "stderr",
          "output_type": "stream",
          "text": [
            "WARNING:absl:Found untraced functions such as _jit_compiled_convolution_op, _jit_compiled_convolution_op, _jit_compiled_convolution_op, _jit_compiled_convolution_op, _jit_compiled_convolution_op while saving (showing 5 of 84). These functions will not be directly callable after loading.\n",
            "\u001b[34m\u001b[1mwandb\u001b[0m: Adding directory to artifact (/content/gdrive/MyDrive/RifleAction/wandb/run-20230805_131247-57lo747k/files/model-best)... Done. 0.2s\n"
          ]
        },
        {
          "name": "stdout",
          "output_type": "stream",
          "text": [
            "1818/1818 [==============================] - 88s 48ms/step - loss: 1.2663 - accuracy: 0.5125 - f1_score: 0.4619 - val_loss: 1.1409 - val_accuracy: 0.5013 - val_f1_score: 0.4029\n",
            "Epoch 34/60\n",
            "1817/1818 [============================>.] - ETA: 0s - loss: 1.2592 - accuracy: 0.5152 - f1_score: 0.4654"
          ]
        },
        {
          "name": "stderr",
          "output_type": "stream",
          "text": [
            "WARNING:absl:Found untraced functions such as _jit_compiled_convolution_op, _jit_compiled_convolution_op, _jit_compiled_convolution_op, _jit_compiled_convolution_op, _jit_compiled_convolution_op while saving (showing 5 of 84). These functions will not be directly callable after loading.\n",
            "\u001b[34m\u001b[1mwandb\u001b[0m: Adding directory to artifact (/content/gdrive/MyDrive/RifleAction/wandb/run-20230805_131247-57lo747k/files/model-best)... Done. 0.2s\n"
          ]
        },
        {
          "name": "stdout",
          "output_type": "stream",
          "text": [
            "1818/1818 [==============================] - 88s 48ms/step - loss: 1.2591 - accuracy: 0.5152 - f1_score: 0.4654 - val_loss: 1.1391 - val_accuracy: 0.4997 - val_f1_score: 0.4025\n",
            "Epoch 35/60\n",
            "1818/1818 [==============================] - ETA: 0s - loss: 1.2522 - accuracy: 0.5180 - f1_score: 0.4685"
          ]
        },
        {
          "name": "stderr",
          "output_type": "stream",
          "text": [
            "WARNING:absl:Found untraced functions such as _jit_compiled_convolution_op, _jit_compiled_convolution_op, _jit_compiled_convolution_op, _jit_compiled_convolution_op, _jit_compiled_convolution_op while saving (showing 5 of 84). These functions will not be directly callable after loading.\n",
            "\u001b[34m\u001b[1mwandb\u001b[0m: Adding directory to artifact (/content/gdrive/MyDrive/RifleAction/wandb/run-20230805_131247-57lo747k/files/model-best)... Done. 0.2s\n"
          ]
        },
        {
          "name": "stdout",
          "output_type": "stream",
          "text": [
            "1818/1818 [==============================] - 87s 48ms/step - loss: 1.2522 - accuracy: 0.5180 - f1_score: 0.4685 - val_loss: 1.1334 - val_accuracy: 0.5030 - val_f1_score: 0.4062\n",
            "Epoch 36/60\n",
            "1817/1818 [============================>.] - ETA: 0s - loss: 1.2466 - accuracy: 0.5197 - f1_score: 0.4706"
          ]
        },
        {
          "name": "stderr",
          "output_type": "stream",
          "text": [
            "WARNING:absl:Found untraced functions such as _jit_compiled_convolution_op, _jit_compiled_convolution_op, _jit_compiled_convolution_op, _jit_compiled_convolution_op, _jit_compiled_convolution_op while saving (showing 5 of 84). These functions will not be directly callable after loading.\n",
            "\u001b[34m\u001b[1mwandb\u001b[0m: Adding directory to artifact (/content/gdrive/MyDrive/RifleAction/wandb/run-20230805_131247-57lo747k/files/model-best)... Done. 0.2s\n"
          ]
        },
        {
          "name": "stdout",
          "output_type": "stream",
          "text": [
            "1818/1818 [==============================] - 88s 48ms/step - loss: 1.2466 - accuracy: 0.5198 - f1_score: 0.4706 - val_loss: 1.1292 - val_accuracy: 0.5044 - val_f1_score: 0.4067\n",
            "Epoch 37/60\n",
            "1817/1818 [============================>.] - ETA: 0s - loss: 1.2428 - accuracy: 0.5226 - f1_score: 0.4731"
          ]
        },
        {
          "name": "stderr",
          "output_type": "stream",
          "text": [
            "WARNING:absl:Found untraced functions such as _jit_compiled_convolution_op, _jit_compiled_convolution_op, _jit_compiled_convolution_op, _jit_compiled_convolution_op, _jit_compiled_convolution_op while saving (showing 5 of 84). These functions will not be directly callable after loading.\n",
            "\u001b[34m\u001b[1mwandb\u001b[0m: Adding directory to artifact (/content/gdrive/MyDrive/RifleAction/wandb/run-20230805_131247-57lo747k/files/model-best)... Done. 0.2s\n"
          ]
        },
        {
          "name": "stdout",
          "output_type": "stream",
          "text": [
            "1818/1818 [==============================] - 83s 46ms/step - loss: 1.2428 - accuracy: 0.5226 - f1_score: 0.4732 - val_loss: 1.1283 - val_accuracy: 0.5048 - val_f1_score: 0.4082\n",
            "Epoch 38/60\n",
            "1818/1818 [==============================] - 70s 38ms/step - loss: 1.2349 - accuracy: 0.5255 - f1_score: 0.4766 - val_loss: 1.1289 - val_accuracy: 0.5045 - val_f1_score: 0.4113\n",
            "Epoch 39/60\n",
            "1817/1818 [============================>.] - ETA: 0s - loss: 1.2272 - accuracy: 0.5259 - f1_score: 0.4769"
          ]
        },
        {
          "name": "stderr",
          "output_type": "stream",
          "text": [
            "WARNING:absl:Found untraced functions such as _jit_compiled_convolution_op, _jit_compiled_convolution_op, _jit_compiled_convolution_op, _jit_compiled_convolution_op, _jit_compiled_convolution_op while saving (showing 5 of 84). These functions will not be directly callable after loading.\n",
            "\u001b[34m\u001b[1mwandb\u001b[0m: Adding directory to artifact (/content/gdrive/MyDrive/RifleAction/wandb/run-20230805_131247-57lo747k/files/model-best)... Done. 0.2s\n"
          ]
        },
        {
          "name": "stdout",
          "output_type": "stream",
          "text": [
            "1818/1818 [==============================] - 82s 45ms/step - loss: 1.2272 - accuracy: 0.5259 - f1_score: 0.4770 - val_loss: 1.1259 - val_accuracy: 0.5075 - val_f1_score: 0.4138\n",
            "Epoch 40/60\n",
            "1817/1818 [============================>.] - ETA: 0s - loss: 1.2221 - accuracy: 0.5266 - f1_score: 0.4788"
          ]
        },
        {
          "name": "stderr",
          "output_type": "stream",
          "text": [
            "WARNING:absl:Found untraced functions such as _jit_compiled_convolution_op, _jit_compiled_convolution_op, _jit_compiled_convolution_op, _jit_compiled_convolution_op, _jit_compiled_convolution_op while saving (showing 5 of 84). These functions will not be directly callable after loading.\n",
            "\u001b[34m\u001b[1mwandb\u001b[0m: Adding directory to artifact (/content/gdrive/MyDrive/RifleAction/wandb/run-20230805_131247-57lo747k/files/model-best)... Done. 0.2s\n"
          ]
        },
        {
          "name": "stdout",
          "output_type": "stream",
          "text": [
            "1818/1818 [==============================] - 88s 48ms/step - loss: 1.2220 - accuracy: 0.5266 - f1_score: 0.4788 - val_loss: 1.1212 - val_accuracy: 0.5073 - val_f1_score: 0.4142\n",
            "Epoch 41/60\n",
            "1818/1818 [==============================] - 75s 41ms/step - loss: 1.2185 - accuracy: 0.5305 - f1_score: 0.4829 - val_loss: 1.1238 - val_accuracy: 0.5101 - val_f1_score: 0.4183\n",
            "Epoch 42/60\n",
            "1817/1818 [============================>.] - ETA: 0s - loss: 1.2145 - accuracy: 0.5324 - f1_score: 0.4842"
          ]
        },
        {
          "name": "stderr",
          "output_type": "stream",
          "text": [
            "WARNING:absl:Found untraced functions such as _jit_compiled_convolution_op, _jit_compiled_convolution_op, _jit_compiled_convolution_op, _jit_compiled_convolution_op, _jit_compiled_convolution_op while saving (showing 5 of 84). These functions will not be directly callable after loading.\n",
            "\u001b[34m\u001b[1mwandb\u001b[0m: Adding directory to artifact (/content/gdrive/MyDrive/RifleAction/wandb/run-20230805_131247-57lo747k/files/model-best)... Done. 0.2s\n"
          ]
        },
        {
          "name": "stdout",
          "output_type": "stream",
          "text": [
            "1818/1818 [==============================] - 82s 45ms/step - loss: 1.2146 - accuracy: 0.5324 - f1_score: 0.4841 - val_loss: 1.1165 - val_accuracy: 0.5054 - val_f1_score: 0.4137\n",
            "Epoch 43/60\n",
            "1818/1818 [==============================] - ETA: 0s - loss: 1.2069 - accuracy: 0.5348 - f1_score: 0.4875"
          ]
        },
        {
          "name": "stderr",
          "output_type": "stream",
          "text": [
            "WARNING:absl:Found untraced functions such as _jit_compiled_convolution_op, _jit_compiled_convolution_op, _jit_compiled_convolution_op, _jit_compiled_convolution_op, _jit_compiled_convolution_op while saving (showing 5 of 84). These functions will not be directly callable after loading.\n",
            "\u001b[34m\u001b[1mwandb\u001b[0m: Adding directory to artifact (/content/gdrive/MyDrive/RifleAction/wandb/run-20230805_131247-57lo747k/files/model-best)... Done. 0.2s\n"
          ]
        },
        {
          "name": "stdout",
          "output_type": "stream",
          "text": [
            "1818/1818 [==============================] - 88s 48ms/step - loss: 1.2069 - accuracy: 0.5348 - f1_score: 0.4875 - val_loss: 1.1145 - val_accuracy: 0.5067 - val_f1_score: 0.4152\n",
            "Epoch 44/60\n",
            "1818/1818 [==============================] - 71s 39ms/step - loss: 1.2024 - accuracy: 0.5352 - f1_score: 0.4878 - val_loss: 1.1170 - val_accuracy: 0.5155 - val_f1_score: 0.4282\n",
            "Epoch 45/60\n",
            "1817/1818 [============================>.] - ETA: 0s - loss: 1.2000 - accuracy: 0.5387 - f1_score: 0.4916"
          ]
        },
        {
          "name": "stderr",
          "output_type": "stream",
          "text": [
            "WARNING:absl:Found untraced functions such as _jit_compiled_convolution_op, _jit_compiled_convolution_op, _jit_compiled_convolution_op, _jit_compiled_convolution_op, _jit_compiled_convolution_op while saving (showing 5 of 84). These functions will not be directly callable after loading.\n",
            "\u001b[34m\u001b[1mwandb\u001b[0m: Adding directory to artifact (/content/gdrive/MyDrive/RifleAction/wandb/run-20230805_131247-57lo747k/files/model-best)... Done. 0.2s\n"
          ]
        },
        {
          "name": "stdout",
          "output_type": "stream",
          "text": [
            "1818/1818 [==============================] - 87s 48ms/step - loss: 1.2001 - accuracy: 0.5387 - f1_score: 0.4916 - val_loss: 1.1142 - val_accuracy: 0.5125 - val_f1_score: 0.4235\n",
            "Epoch 46/60\n",
            "1817/1818 [============================>.] - ETA: 0s - loss: 1.1958 - accuracy: 0.5402 - f1_score: 0.4936"
          ]
        },
        {
          "name": "stderr",
          "output_type": "stream",
          "text": [
            "WARNING:absl:Found untraced functions such as _jit_compiled_convolution_op, _jit_compiled_convolution_op, _jit_compiled_convolution_op, _jit_compiled_convolution_op, _jit_compiled_convolution_op while saving (showing 5 of 84). These functions will not be directly callable after loading.\n",
            "\u001b[34m\u001b[1mwandb\u001b[0m: Adding directory to artifact (/content/gdrive/MyDrive/RifleAction/wandb/run-20230805_131247-57lo747k/files/model-best)... Done. 0.2s\n"
          ]
        },
        {
          "name": "stdout",
          "output_type": "stream",
          "text": [
            "1818/1818 [==============================] - 88s 48ms/step - loss: 1.1958 - accuracy: 0.5402 - f1_score: 0.4936 - val_loss: 1.1042 - val_accuracy: 0.5108 - val_f1_score: 0.4203\n",
            "Epoch 47/60\n",
            "1818/1818 [==============================] - ETA: 0s - loss: 1.1903 - accuracy: 0.5399 - f1_score: 0.4942"
          ]
        },
        {
          "name": "stderr",
          "output_type": "stream",
          "text": [
            "WARNING:absl:Found untraced functions such as _jit_compiled_convolution_op, _jit_compiled_convolution_op, _jit_compiled_convolution_op, _jit_compiled_convolution_op, _jit_compiled_convolution_op while saving (showing 5 of 84). These functions will not be directly callable after loading.\n",
            "\u001b[34m\u001b[1mwandb\u001b[0m: Adding directory to artifact (/content/gdrive/MyDrive/RifleAction/wandb/run-20230805_131247-57lo747k/files/model-best)... Done. 0.3s\n"
          ]
        },
        {
          "name": "stdout",
          "output_type": "stream",
          "text": [
            "1818/1818 [==============================] - 84s 46ms/step - loss: 1.1903 - accuracy: 0.5399 - f1_score: 0.4942 - val_loss: 1.1028 - val_accuracy: 0.5095 - val_f1_score: 0.4195\n",
            "Epoch 48/60\n",
            "1818/1818 [==============================] - ETA: 0s - loss: 1.1842 - accuracy: 0.5449 - f1_score: 0.4986"
          ]
        },
        {
          "name": "stderr",
          "output_type": "stream",
          "text": [
            "WARNING:absl:Found untraced functions such as _jit_compiled_convolution_op, _jit_compiled_convolution_op, _jit_compiled_convolution_op, _jit_compiled_convolution_op, _jit_compiled_convolution_op while saving (showing 5 of 84). These functions will not be directly callable after loading.\n",
            "\u001b[34m\u001b[1mwandb\u001b[0m: Adding directory to artifact (/content/gdrive/MyDrive/RifleAction/wandb/run-20230805_131247-57lo747k/files/model-best)... Done. 0.2s\n"
          ]
        },
        {
          "name": "stdout",
          "output_type": "stream",
          "text": [
            "1818/1818 [==============================] - 87s 48ms/step - loss: 1.1842 - accuracy: 0.5449 - f1_score: 0.4986 - val_loss: 1.1025 - val_accuracy: 0.5158 - val_f1_score: 0.4279\n",
            "Epoch 49/60\n",
            "1818/1818 [==============================] - 70s 38ms/step - loss: 1.1815 - accuracy: 0.5448 - f1_score: 0.4990 - val_loss: 1.1042 - val_accuracy: 0.5184 - val_f1_score: 0.4325\n",
            "Epoch 50/60\n",
            "1818/1818 [==============================] - ETA: 0s - loss: 1.1793 - accuracy: 0.5457 - f1_score: 0.5002"
          ]
        },
        {
          "name": "stderr",
          "output_type": "stream",
          "text": [
            "WARNING:absl:Found untraced functions such as _jit_compiled_convolution_op, _jit_compiled_convolution_op, _jit_compiled_convolution_op, _jit_compiled_convolution_op, _jit_compiled_convolution_op while saving (showing 5 of 84). These functions will not be directly callable after loading.\n",
            "\u001b[34m\u001b[1mwandb\u001b[0m: Adding directory to artifact (/content/gdrive/MyDrive/RifleAction/wandb/run-20230805_131247-57lo747k/files/model-best)... Done. 0.2s\n"
          ]
        },
        {
          "name": "stdout",
          "output_type": "stream",
          "text": [
            "1818/1818 [==============================] - 88s 48ms/step - loss: 1.1793 - accuracy: 0.5457 - f1_score: 0.5002 - val_loss: 1.1000 - val_accuracy: 0.5297 - val_f1_score: 0.4437\n",
            "Epoch 51/60\n",
            "1817/1818 [============================>.] - ETA: 0s - loss: 1.1722 - accuracy: 0.5487 - f1_score: 0.5030"
          ]
        },
        {
          "name": "stderr",
          "output_type": "stream",
          "text": [
            "WARNING:absl:Found untraced functions such as _jit_compiled_convolution_op, _jit_compiled_convolution_op, _jit_compiled_convolution_op, _jit_compiled_convolution_op, _jit_compiled_convolution_op while saving (showing 5 of 84). These functions will not be directly callable after loading.\n",
            "\u001b[34m\u001b[1mwandb\u001b[0m: Adding directory to artifact (/content/gdrive/MyDrive/RifleAction/wandb/run-20230805_131247-57lo747k/files/model-best)... Done. 0.3s\n"
          ]
        },
        {
          "name": "stdout",
          "output_type": "stream",
          "text": [
            "1818/1818 [==============================] - 88s 48ms/step - loss: 1.1723 - accuracy: 0.5486 - f1_score: 0.5029 - val_loss: 1.0960 - val_accuracy: 0.5262 - val_f1_score: 0.4399\n",
            "Epoch 52/60\n",
            "1818/1818 [==============================] - ETA: 0s - loss: 1.1678 - accuracy: 0.5485 - f1_score: 0.5028"
          ]
        },
        {
          "name": "stderr",
          "output_type": "stream",
          "text": [
            "WARNING:absl:Found untraced functions such as _jit_compiled_convolution_op, _jit_compiled_convolution_op, _jit_compiled_convolution_op, _jit_compiled_convolution_op, _jit_compiled_convolution_op while saving (showing 5 of 84). These functions will not be directly callable after loading.\n",
            "\u001b[34m\u001b[1mwandb\u001b[0m: Adding directory to artifact (/content/gdrive/MyDrive/RifleAction/wandb/run-20230805_131247-57lo747k/files/model-best)... Done. 0.2s\n"
          ]
        },
        {
          "name": "stdout",
          "output_type": "stream",
          "text": [
            "1818/1818 [==============================] - 87s 48ms/step - loss: 1.1678 - accuracy: 0.5485 - f1_score: 0.5028 - val_loss: 1.0954 - val_accuracy: 0.5358 - val_f1_score: 0.4515\n",
            "Epoch 53/60\n",
            "1817/1818 [============================>.] - ETA: 0s - loss: 1.1657 - accuracy: 0.5514 - f1_score: 0.5065"
          ]
        },
        {
          "name": "stderr",
          "output_type": "stream",
          "text": [
            "WARNING:absl:Found untraced functions such as _jit_compiled_convolution_op, _jit_compiled_convolution_op, _jit_compiled_convolution_op, _jit_compiled_convolution_op, _jit_compiled_convolution_op while saving (showing 5 of 84). These functions will not be directly callable after loading.\n",
            "\u001b[34m\u001b[1mwandb\u001b[0m: Adding directory to artifact (/content/gdrive/MyDrive/RifleAction/wandb/run-20230805_131247-57lo747k/files/model-best)... Done. 0.2s\n"
          ]
        },
        {
          "name": "stdout",
          "output_type": "stream",
          "text": [
            "1818/1818 [==============================] - 86s 47ms/step - loss: 1.1657 - accuracy: 0.5514 - f1_score: 0.5065 - val_loss: 1.0881 - val_accuracy: 0.5290 - val_f1_score: 0.4422\n",
            "Epoch 54/60\n",
            "1818/1818 [==============================] - 77s 42ms/step - loss: 1.1621 - accuracy: 0.5518 - f1_score: 0.5068 - val_loss: 1.0890 - val_accuracy: 0.5240 - val_f1_score: 0.4383\n",
            "Epoch 55/60\n",
            "1818/1818 [==============================] - 76s 42ms/step - loss: 1.1574 - accuracy: 0.5545 - f1_score: 0.5093 - val_loss: 1.0952 - val_accuracy: 0.5331 - val_f1_score: 0.4486\n",
            "Epoch 56/60\n",
            "1818/1818 [==============================] - ETA: 0s - loss: 1.1553 - accuracy: 0.5547 - f1_score: 0.5102"
          ]
        },
        {
          "name": "stderr",
          "output_type": "stream",
          "text": [
            "WARNING:absl:Found untraced functions such as _jit_compiled_convolution_op, _jit_compiled_convolution_op, _jit_compiled_convolution_op, _jit_compiled_convolution_op, _jit_compiled_convolution_op while saving (showing 5 of 84). These functions will not be directly callable after loading.\n",
            "\u001b[34m\u001b[1mwandb\u001b[0m: Adding directory to artifact (/content/gdrive/MyDrive/RifleAction/wandb/run-20230805_131247-57lo747k/files/model-best)... Done. 0.2s\n"
          ]
        },
        {
          "name": "stdout",
          "output_type": "stream",
          "text": [
            "1818/1818 [==============================] - 88s 49ms/step - loss: 1.1553 - accuracy: 0.5547 - f1_score: 0.5102 - val_loss: 1.0817 - val_accuracy: 0.5300 - val_f1_score: 0.4434\n",
            "Epoch 57/60\n",
            "1818/1818 [==============================] - ETA: 0s - loss: 1.1537 - accuracy: 0.5551 - f1_score: 0.5105"
          ]
        },
        {
          "name": "stderr",
          "output_type": "stream",
          "text": [
            "WARNING:absl:Found untraced functions such as _jit_compiled_convolution_op, _jit_compiled_convolution_op, _jit_compiled_convolution_op, _jit_compiled_convolution_op, _jit_compiled_convolution_op while saving (showing 5 of 84). These functions will not be directly callable after loading.\n",
            "\u001b[34m\u001b[1mwandb\u001b[0m: Adding directory to artifact (/content/gdrive/MyDrive/RifleAction/wandb/run-20230805_131247-57lo747k/files/model-best)... Done. 0.2s\n"
          ]
        },
        {
          "name": "stdout",
          "output_type": "stream",
          "text": [
            "1818/1818 [==============================] - 83s 46ms/step - loss: 1.1537 - accuracy: 0.5551 - f1_score: 0.5105 - val_loss: 1.0781 - val_accuracy: 0.5181 - val_f1_score: 0.4306\n",
            "Epoch 58/60\n",
            "1818/1818 [==============================] - 75s 41ms/step - loss: 1.1460 - accuracy: 0.5607 - f1_score: 0.5164 - val_loss: 1.0849 - val_accuracy: 0.5328 - val_f1_score: 0.4462\n",
            "Epoch 59/60\n",
            "1818/1818 [==============================] - 74s 41ms/step - loss: 1.1438 - accuracy: 0.5583 - f1_score: 0.5136 - val_loss: 1.0869 - val_accuracy: 0.5318 - val_f1_score: 0.4461\n",
            "Epoch 60/60\n",
            "1818/1818 [==============================] - 74s 41ms/step - loss: 1.1403 - accuracy: 0.5604 - f1_score: 0.5165 - val_loss: 1.0837 - val_accuracy: 0.5315 - val_f1_score: 0.4459\n"
          ]
        },
        {
          "data": {
            "text/html": [
              "Waiting for W&B process to finish... <strong style=\"color:green\">(success).</strong>"
            ],
            "text/plain": [
              "<IPython.core.display.HTML object>"
            ]
          },
          "metadata": {},
          "output_type": "display_data"
        },
        {
          "data": {
            "text/html": [
              "<style>\n",
              "    table.wandb td:nth-child(1) { padding: 0 10px; text-align: left ; width: auto;} td:nth-child(2) {text-align: left ; width: 100%}\n",
              "    .wandb-row { display: flex; flex-direction: row; flex-wrap: wrap; justify-content: flex-start; width: 100% }\n",
              "    .wandb-col { display: flex; flex-direction: column; flex-basis: 100%; flex: 1; padding: 10px; }\n",
              "    </style>\n",
              "<div class=\"wandb-row\"><div class=\"wandb-col\"><h3>Run history:</h3><br/><table class=\"wandb\"><tr><td>accuracy</td><td>▁▃▄▄▄▄▄▅▅▅▆▆▆▆▆▆▆▇▇▇▇▇▇▇▇▇▇▇▇▇██████████</td></tr><tr><td>epoch</td><td>▁▁▁▁▂▂▂▂▂▃▃▃▃▃▃▄▄▄▄▄▅▅▅▅▅▅▆▆▆▆▆▆▇▇▇▇▇███</td></tr><tr><td>f1_score</td><td>▁▁▂▂▃▃▃▄▄▅▅▅▆▆▆▆▆▆▇▇▇▇▇▇▇▇▇▇▇▇██████████</td></tr><tr><td>loss</td><td>█▇▆▆▅▅▄▄▄▃▃▃▃▃▃▂▂▂▂▂▂▂▂▂▂▂▂▂▁▁▁▁▁▁▁▁▁▁▁▁</td></tr><tr><td>val_accuracy</td><td>▁▁▆▆▂▂▂▂▄▅▆▅▆▆▆▆▆▆▆▆▆▆▆▇▇▇▇▇▇▇▇▇▇███████</td></tr><tr><td>val_f1_score</td><td>▁▁▅▅▂▂▂▃▄▅▆▆▆▆▆▆▆▆▆▆▆▇▇▇▇▇▇▇▇▇▇▇▇███████</td></tr><tr><td>val_loss</td><td>█▇▆▅▅▄▄▄▃▃▃▂▂▂▂▂▂▂▂▂▂▁▁▁▁▁▁▁▁▁▁▁▁▁▁▁▁▁▁▁</td></tr></table><br/></div><div class=\"wandb-col\"><h3>Run summary:</h3><br/><table class=\"wandb\"><tr><td>accuracy</td><td>0.56036</td></tr><tr><td>best_epoch</td><td>56</td></tr><tr><td>best_val_loss</td><td>1.07811</td></tr><tr><td>epoch</td><td>59</td></tr><tr><td>f1_score</td><td>0.51654</td></tr><tr><td>loss</td><td>1.14026</td></tr><tr><td>val_accuracy</td><td>0.5315</td></tr><tr><td>val_f1_score</td><td>0.44588</td></tr><tr><td>val_loss</td><td>1.08373</td></tr></table><br/></div></div>"
            ],
            "text/plain": [
              "<IPython.core.display.HTML object>"
            ]
          },
          "metadata": {},
          "output_type": "display_data"
        },
        {
          "data": {
            "text/html": [
              " View run <strong style=\"color:#cdcd00\">lunar-sweep-33</strong> at: <a href='https://wandb.ai/remchat/defence-force/runs/57lo747k' target=\"_blank\">https://wandb.ai/remchat/defence-force/runs/57lo747k</a><br/> View job at <a href='https://wandb.ai/remchat/defence-force/jobs/QXJ0aWZhY3RDb2xsZWN0aW9uOjg3OTM1OTcx/version_details/v9' target=\"_blank\">https://wandb.ai/remchat/defence-force/jobs/QXJ0aWZhY3RDb2xsZWN0aW9uOjg3OTM1OTcx/version_details/v9</a><br/>Synced 5 W&B file(s), 1 media file(s), 250 artifact file(s) and 1 other file(s)"
            ],
            "text/plain": [
              "<IPython.core.display.HTML object>"
            ]
          },
          "metadata": {},
          "output_type": "display_data"
        },
        {
          "data": {
            "text/html": [
              "Find logs at: <code>./wandb/run-20230805_131247-57lo747k/logs</code>"
            ],
            "text/plain": [
              "<IPython.core.display.HTML object>"
            ]
          },
          "metadata": {},
          "output_type": "display_data"
        },
        {
          "name": "stderr",
          "output_type": "stream",
          "text": [
            "\u001b[34m\u001b[1mwandb\u001b[0m: Agent Starting Run: olp812gm with config:\n",
            "\u001b[34m\u001b[1mwandb\u001b[0m: \tdropout: 0.3\n",
            "\u001b[34m\u001b[1mwandb\u001b[0m: \tepochs: 60\n",
            "\u001b[34m\u001b[1mwandb\u001b[0m: \tff_dim: 64\n",
            "\u001b[34m\u001b[1mwandb\u001b[0m: \thead_size: 128\n",
            "\u001b[34m\u001b[1mwandb\u001b[0m: \tlearning_rate: 0.0001\n",
            "\u001b[34m\u001b[1mwandb\u001b[0m: \tmlp_dropout: 0.3\n",
            "\u001b[34m\u001b[1mwandb\u001b[0m: \tmlp_units: [64, 32, 16]\n",
            "\u001b[34m\u001b[1mwandb\u001b[0m: \tnum_heads: 32\n",
            "\u001b[34m\u001b[1mwandb\u001b[0m: \tnum_transformer_blocks: 2\n",
            "\u001b[34m\u001b[1mwandb\u001b[0m: \u001b[33mWARNING\u001b[0m Ignored wandb.init() arg project when running a sweep.\n"
          ]
        },
        {
          "data": {
            "text/html": [
              "Tracking run with wandb version 0.15.8"
            ],
            "text/plain": [
              "<IPython.core.display.HTML object>"
            ]
          },
          "metadata": {},
          "output_type": "display_data"
        },
        {
          "data": {
            "text/html": [
              "Run data is saved locally in <code>/content/gdrive/MyDrive/RifleAction/wandb/run-20230805_143831-olp812gm</code>"
            ],
            "text/plain": [
              "<IPython.core.display.HTML object>"
            ]
          },
          "metadata": {},
          "output_type": "display_data"
        },
        {
          "data": {
            "text/html": [
              "Syncing run <strong><a href='https://wandb.ai/remchat/defence-force/runs/olp812gm' target=\"_blank\">woven-sweep-34</a></strong> to <a href='https://wandb.ai/remchat/defence-force' target=\"_blank\">Weights & Biases</a> (<a href='https://wandb.me/run' target=\"_blank\">docs</a>)<br/>Sweep page: <a href='https://wandb.ai/remchat/defence-force/sweeps/k5lpmxhw' target=\"_blank\">https://wandb.ai/remchat/defence-force/sweeps/k5lpmxhw</a>"
            ],
            "text/plain": [
              "<IPython.core.display.HTML object>"
            ]
          },
          "metadata": {},
          "output_type": "display_data"
        },
        {
          "data": {
            "text/html": [
              " View project at <a href='https://wandb.ai/remchat/defence-force' target=\"_blank\">https://wandb.ai/remchat/defence-force</a>"
            ],
            "text/plain": [
              "<IPython.core.display.HTML object>"
            ]
          },
          "metadata": {},
          "output_type": "display_data"
        },
        {
          "data": {
            "text/html": [
              " View sweep at <a href='https://wandb.ai/remchat/defence-force/sweeps/k5lpmxhw' target=\"_blank\">https://wandb.ai/remchat/defence-force/sweeps/k5lpmxhw</a>"
            ],
            "text/plain": [
              "<IPython.core.display.HTML object>"
            ]
          },
          "metadata": {},
          "output_type": "display_data"
        },
        {
          "data": {
            "text/html": [
              " View run at <a href='https://wandb.ai/remchat/defence-force/runs/olp812gm' target=\"_blank\">https://wandb.ai/remchat/defence-force/runs/olp812gm</a>"
            ],
            "text/plain": [
              "<IPython.core.display.HTML object>"
            ]
          },
          "metadata": {},
          "output_type": "display_data"
        },
        {
          "name": "stdout",
          "output_type": "stream",
          "text": [
            "Epoch 1/60\n",
            "1818/1818 [==============================] - ETA: 0s - loss: 1.9963 - accuracy: 0.3167 - f1_score: 0.2018"
          ]
        },
        {
          "name": "stderr",
          "output_type": "stream",
          "text": [
            "WARNING:absl:Found untraced functions such as _jit_compiled_convolution_op, _jit_compiled_convolution_op, _jit_compiled_convolution_op, _jit_compiled_convolution_op, query_layer_call_fn while saving (showing 5 of 28). These functions will not be directly callable after loading.\n",
            "\u001b[34m\u001b[1mwandb\u001b[0m: Adding directory to artifact (/content/gdrive/MyDrive/RifleAction/wandb/run-20230805_143831-olp812gm/files/model-best)... Done. 0.1s\n"
          ]
        },
        {
          "name": "stdout",
          "output_type": "stream",
          "text": [
            "1818/1818 [==============================] - 41s 21ms/step - loss: 1.9963 - accuracy: 0.3167 - f1_score: 0.2018 - val_loss: 1.7792 - val_accuracy: 0.3815 - val_f1_score: 0.2157\n",
            "Epoch 2/60\n",
            "1815/1818 [============================>.] - ETA: 0s - loss: 1.7498 - accuracy: 0.3776 - f1_score: 0.2603"
          ]
        },
        {
          "name": "stderr",
          "output_type": "stream",
          "text": [
            "WARNING:absl:Found untraced functions such as _jit_compiled_convolution_op, _jit_compiled_convolution_op, _jit_compiled_convolution_op, _jit_compiled_convolution_op, query_layer_call_fn while saving (showing 5 of 28). These functions will not be directly callable after loading.\n",
            "\u001b[34m\u001b[1mwandb\u001b[0m: Adding directory to artifact (/content/gdrive/MyDrive/RifleAction/wandb/run-20230805_143831-olp812gm/files/model-best)... Done. 0.1s\n"
          ]
        },
        {
          "name": "stdout",
          "output_type": "stream",
          "text": [
            "1818/1818 [==============================] - 37s 20ms/step - loss: 1.7497 - accuracy: 0.3776 - f1_score: 0.2603 - val_loss: 1.5769 - val_accuracy: 0.3894 - val_f1_score: 0.2313\n",
            "Epoch 3/60\n",
            "1816/1818 [============================>.] - ETA: 0s - loss: 1.6155 - accuracy: 0.4006 - f1_score: 0.3092"
          ]
        },
        {
          "name": "stderr",
          "output_type": "stream",
          "text": [
            "WARNING:absl:Found untraced functions such as _jit_compiled_convolution_op, _jit_compiled_convolution_op, _jit_compiled_convolution_op, _jit_compiled_convolution_op, query_layer_call_fn while saving (showing 5 of 28). These functions will not be directly callable after loading.\n",
            "\u001b[34m\u001b[1mwandb\u001b[0m: Adding directory to artifact (/content/gdrive/MyDrive/RifleAction/wandb/run-20230805_143831-olp812gm/files/model-best)... Done. 0.1s\n"
          ]
        },
        {
          "name": "stdout",
          "output_type": "stream",
          "text": [
            "1818/1818 [==============================] - 36s 20ms/step - loss: 1.6153 - accuracy: 0.4006 - f1_score: 0.3092 - val_loss: 1.4479 - val_accuracy: 0.4694 - val_f1_score: 0.3469\n",
            "Epoch 4/60\n",
            "1817/1818 [============================>.] - ETA: 0s - loss: 1.5279 - accuracy: 0.4276 - f1_score: 0.3520"
          ]
        },
        {
          "name": "stderr",
          "output_type": "stream",
          "text": [
            "WARNING:absl:Found untraced functions such as _jit_compiled_convolution_op, _jit_compiled_convolution_op, _jit_compiled_convolution_op, _jit_compiled_convolution_op, query_layer_call_fn while saving (showing 5 of 28). These functions will not be directly callable after loading.\n",
            "\u001b[34m\u001b[1mwandb\u001b[0m: Adding directory to artifact (/content/gdrive/MyDrive/RifleAction/wandb/run-20230805_143831-olp812gm/files/model-best)... Done. 0.1s\n"
          ]
        },
        {
          "name": "stdout",
          "output_type": "stream",
          "text": [
            "1818/1818 [==============================] - 39s 21ms/step - loss: 1.5278 - accuracy: 0.4277 - f1_score: 0.3520 - val_loss: 1.3571 - val_accuracy: 0.4763 - val_f1_score: 0.3524\n",
            "Epoch 5/60\n",
            "1818/1818 [==============================] - ETA: 0s - loss: 1.4503 - accuracy: 0.4501 - f1_score: 0.3820"
          ]
        },
        {
          "name": "stderr",
          "output_type": "stream",
          "text": [
            "WARNING:absl:Found untraced functions such as _jit_compiled_convolution_op, _jit_compiled_convolution_op, _jit_compiled_convolution_op, _jit_compiled_convolution_op, query_layer_call_fn while saving (showing 5 of 28). These functions will not be directly callable after loading.\n",
            "\u001b[34m\u001b[1mwandb\u001b[0m: Adding directory to artifact (/content/gdrive/MyDrive/RifleAction/wandb/run-20230805_143831-olp812gm/files/model-best)... Done. 0.1s\n"
          ]
        },
        {
          "name": "stdout",
          "output_type": "stream",
          "text": [
            "1818/1818 [==============================] - 38s 21ms/step - loss: 1.4503 - accuracy: 0.4501 - f1_score: 0.3820 - val_loss: 1.2792 - val_accuracy: 0.4738 - val_f1_score: 0.3582\n",
            "Epoch 6/60\n",
            "1818/1818 [==============================] - ETA: 0s - loss: 1.3931 - accuracy: 0.4677 - f1_score: 0.4055"
          ]
        },
        {
          "name": "stderr",
          "output_type": "stream",
          "text": [
            "WARNING:absl:Found untraced functions such as _jit_compiled_convolution_op, _jit_compiled_convolution_op, _jit_compiled_convolution_op, _jit_compiled_convolution_op, query_layer_call_fn while saving (showing 5 of 28). These functions will not be directly callable after loading.\n",
            "\u001b[34m\u001b[1mwandb\u001b[0m: Adding directory to artifact (/content/gdrive/MyDrive/RifleAction/wandb/run-20230805_143831-olp812gm/files/model-best)... Done. 0.1s\n"
          ]
        },
        {
          "name": "stdout",
          "output_type": "stream",
          "text": [
            "1818/1818 [==============================] - 35s 19ms/step - loss: 1.3931 - accuracy: 0.4677 - f1_score: 0.4055 - val_loss: 1.2295 - val_accuracy: 0.4708 - val_f1_score: 0.3602\n",
            "Epoch 7/60\n",
            "1815/1818 [============================>.] - ETA: 0s - loss: 1.3494 - accuracy: 0.4797 - f1_score: 0.4208"
          ]
        },
        {
          "name": "stderr",
          "output_type": "stream",
          "text": [
            "WARNING:absl:Found untraced functions such as _jit_compiled_convolution_op, _jit_compiled_convolution_op, _jit_compiled_convolution_op, _jit_compiled_convolution_op, query_layer_call_fn while saving (showing 5 of 28). These functions will not be directly callable after loading.\n",
            "\u001b[34m\u001b[1mwandb\u001b[0m: Adding directory to artifact (/content/gdrive/MyDrive/RifleAction/wandb/run-20230805_143831-olp812gm/files/model-best)... Done. 0.1s\n"
          ]
        },
        {
          "name": "stdout",
          "output_type": "stream",
          "text": [
            "1818/1818 [==============================] - 35s 19ms/step - loss: 1.3493 - accuracy: 0.4798 - f1_score: 0.4208 - val_loss: 1.2079 - val_accuracy: 0.4624 - val_f1_score: 0.3664\n",
            "Epoch 8/60\n",
            "1817/1818 [============================>.] - ETA: 0s - loss: 1.3137 - accuracy: 0.4938 - f1_score: 0.4366"
          ]
        },
        {
          "name": "stderr",
          "output_type": "stream",
          "text": [
            "WARNING:absl:Found untraced functions such as _jit_compiled_convolution_op, _jit_compiled_convolution_op, _jit_compiled_convolution_op, _jit_compiled_convolution_op, query_layer_call_fn while saving (showing 5 of 28). These functions will not be directly callable after loading.\n",
            "\u001b[34m\u001b[1mwandb\u001b[0m: Adding directory to artifact (/content/gdrive/MyDrive/RifleAction/wandb/run-20230805_143831-olp812gm/files/model-best)... Done. 0.1s\n"
          ]
        },
        {
          "name": "stdout",
          "output_type": "stream",
          "text": [
            "1818/1818 [==============================] - 38s 21ms/step - loss: 1.3137 - accuracy: 0.4938 - f1_score: 0.4366 - val_loss: 1.1746 - val_accuracy: 0.4764 - val_f1_score: 0.3814\n",
            "Epoch 9/60\n",
            "1818/1818 [==============================] - ETA: 0s - loss: 1.2840 - accuracy: 0.5014 - f1_score: 0.4461"
          ]
        },
        {
          "name": "stderr",
          "output_type": "stream",
          "text": [
            "WARNING:absl:Found untraced functions such as _jit_compiled_convolution_op, _jit_compiled_convolution_op, _jit_compiled_convolution_op, _jit_compiled_convolution_op, query_layer_call_fn while saving (showing 5 of 28). These functions will not be directly callable after loading.\n",
            "\u001b[34m\u001b[1mwandb\u001b[0m: Adding directory to artifact (/content/gdrive/MyDrive/RifleAction/wandb/run-20230805_143831-olp812gm/files/model-best)... Done. 0.1s\n"
          ]
        },
        {
          "name": "stdout",
          "output_type": "stream",
          "text": [
            "1818/1818 [==============================] - 38s 21ms/step - loss: 1.2840 - accuracy: 0.5014 - f1_score: 0.4461 - val_loss: 1.1683 - val_accuracy: 0.4667 - val_f1_score: 0.3862\n",
            "Epoch 10/60\n",
            "1815/1818 [============================>.] - ETA: 0s - loss: 1.2639 - accuracy: 0.5108 - f1_score: 0.4562"
          ]
        },
        {
          "name": "stderr",
          "output_type": "stream",
          "text": [
            "WARNING:absl:Found untraced functions such as _jit_compiled_convolution_op, _jit_compiled_convolution_op, _jit_compiled_convolution_op, _jit_compiled_convolution_op, query_layer_call_fn while saving (showing 5 of 28). These functions will not be directly callable after loading.\n",
            "\u001b[34m\u001b[1mwandb\u001b[0m: Adding directory to artifact (/content/gdrive/MyDrive/RifleAction/wandb/run-20230805_143831-olp812gm/files/model-best)... Done. 0.1s\n"
          ]
        },
        {
          "name": "stdout",
          "output_type": "stream",
          "text": [
            "1818/1818 [==============================] - 39s 21ms/step - loss: 1.2639 - accuracy: 0.5108 - f1_score: 0.4562 - val_loss: 1.1503 - val_accuracy: 0.4718 - val_f1_score: 0.3889\n",
            "Epoch 11/60\n",
            "1818/1818 [==============================] - ETA: 0s - loss: 1.2398 - accuracy: 0.5176 - f1_score: 0.4651"
          ]
        },
        {
          "name": "stderr",
          "output_type": "stream",
          "text": [
            "WARNING:absl:Found untraced functions such as _jit_compiled_convolution_op, _jit_compiled_convolution_op, _jit_compiled_convolution_op, _jit_compiled_convolution_op, query_layer_call_fn while saving (showing 5 of 28). These functions will not be directly callable after loading.\n",
            "\u001b[34m\u001b[1mwandb\u001b[0m: Adding directory to artifact (/content/gdrive/MyDrive/RifleAction/wandb/run-20230805_143831-olp812gm/files/model-best)... Done. 0.1s\n"
          ]
        },
        {
          "name": "stdout",
          "output_type": "stream",
          "text": [
            "1818/1818 [==============================] - 39s 21ms/step - loss: 1.2398 - accuracy: 0.5176 - f1_score: 0.4651 - val_loss: 1.1382 - val_accuracy: 0.4761 - val_f1_score: 0.3986\n",
            "Epoch 12/60\n",
            "1815/1818 [============================>.] - ETA: 0s - loss: 1.2212 - accuracy: 0.5255 - f1_score: 0.4743"
          ]
        },
        {
          "name": "stderr",
          "output_type": "stream",
          "text": [
            "WARNING:absl:Found untraced functions such as _jit_compiled_convolution_op, _jit_compiled_convolution_op, _jit_compiled_convolution_op, _jit_compiled_convolution_op, query_layer_call_fn while saving (showing 5 of 28). These functions will not be directly callable after loading.\n",
            "\u001b[34m\u001b[1mwandb\u001b[0m: Adding directory to artifact (/content/gdrive/MyDrive/RifleAction/wandb/run-20230805_143831-olp812gm/files/model-best)... Done. 0.1s\n"
          ]
        },
        {
          "name": "stdout",
          "output_type": "stream",
          "text": [
            "1818/1818 [==============================] - 38s 21ms/step - loss: 1.2211 - accuracy: 0.5255 - f1_score: 0.4744 - val_loss: 1.1241 - val_accuracy: 0.4889 - val_f1_score: 0.4175\n",
            "Epoch 13/60\n",
            "1818/1818 [==============================] - 32s 18ms/step - loss: 1.2033 - accuracy: 0.5302 - f1_score: 0.4815 - val_loss: 1.1315 - val_accuracy: 0.4788 - val_f1_score: 0.4096\n",
            "Epoch 14/60\n",
            "1815/1818 [============================>.] - ETA: 0s - loss: 1.1888 - accuracy: 0.5370 - f1_score: 0.4895"
          ]
        },
        {
          "name": "stderr",
          "output_type": "stream",
          "text": [
            "WARNING:absl:Found untraced functions such as _jit_compiled_convolution_op, _jit_compiled_convolution_op, _jit_compiled_convolution_op, _jit_compiled_convolution_op, query_layer_call_fn while saving (showing 5 of 28). These functions will not be directly callable after loading.\n",
            "\u001b[34m\u001b[1mwandb\u001b[0m: Adding directory to artifact (/content/gdrive/MyDrive/RifleAction/wandb/run-20230805_143831-olp812gm/files/model-best)... Done. 0.1s\n"
          ]
        },
        {
          "name": "stdout",
          "output_type": "stream",
          "text": [
            "1818/1818 [==============================] - 37s 20ms/step - loss: 1.1887 - accuracy: 0.5370 - f1_score: 0.4894 - val_loss: 1.1120 - val_accuracy: 0.5059 - val_f1_score: 0.4345\n",
            "Epoch 15/60\n",
            "1817/1818 [============================>.] - ETA: 0s - loss: 1.1729 - accuracy: 0.5437 - f1_score: 0.4964"
          ]
        },
        {
          "name": "stderr",
          "output_type": "stream",
          "text": [
            "WARNING:absl:Found untraced functions such as _jit_compiled_convolution_op, _jit_compiled_convolution_op, _jit_compiled_convolution_op, _jit_compiled_convolution_op, query_layer_call_fn while saving (showing 5 of 28). These functions will not be directly callable after loading.\n",
            "\u001b[34m\u001b[1mwandb\u001b[0m: Adding directory to artifact (/content/gdrive/MyDrive/RifleAction/wandb/run-20230805_143831-olp812gm/files/model-best)... Done. 0.1s\n"
          ]
        },
        {
          "name": "stdout",
          "output_type": "stream",
          "text": [
            "1818/1818 [==============================] - 35s 20ms/step - loss: 1.1729 - accuracy: 0.5437 - f1_score: 0.4963 - val_loss: 1.1045 - val_accuracy: 0.5094 - val_f1_score: 0.4422\n",
            "Epoch 16/60\n",
            "1817/1818 [============================>.] - ETA: 0s - loss: 1.1612 - accuracy: 0.5477 - f1_score: 0.5018"
          ]
        },
        {
          "name": "stderr",
          "output_type": "stream",
          "text": [
            "WARNING:absl:Found untraced functions such as _jit_compiled_convolution_op, _jit_compiled_convolution_op, _jit_compiled_convolution_op, _jit_compiled_convolution_op, query_layer_call_fn while saving (showing 5 of 28). These functions will not be directly callable after loading.\n",
            "\u001b[34m\u001b[1mwandb\u001b[0m: Adding directory to artifact (/content/gdrive/MyDrive/RifleAction/wandb/run-20230805_143831-olp812gm/files/model-best)... Done. 0.1s\n"
          ]
        },
        {
          "name": "stdout",
          "output_type": "stream",
          "text": [
            "1818/1818 [==============================] - 36s 20ms/step - loss: 1.1612 - accuracy: 0.5477 - f1_score: 0.5018 - val_loss: 1.0923 - val_accuracy: 0.5112 - val_f1_score: 0.4417\n",
            "Epoch 17/60\n",
            "1818/1818 [==============================] - ETA: 0s - loss: 1.1458 - accuracy: 0.5529 - f1_score: 0.5070"
          ]
        },
        {
          "name": "stderr",
          "output_type": "stream",
          "text": [
            "WARNING:absl:Found untraced functions such as _jit_compiled_convolution_op, _jit_compiled_convolution_op, _jit_compiled_convolution_op, _jit_compiled_convolution_op, query_layer_call_fn while saving (showing 5 of 28). These functions will not be directly callable after loading.\n",
            "\u001b[34m\u001b[1mwandb\u001b[0m: Adding directory to artifact (/content/gdrive/MyDrive/RifleAction/wandb/run-20230805_143831-olp812gm/files/model-best)... Done. 0.1s\n"
          ]
        },
        {
          "name": "stdout",
          "output_type": "stream",
          "text": [
            "1818/1818 [==============================] - 37s 20ms/step - loss: 1.1458 - accuracy: 0.5529 - f1_score: 0.5070 - val_loss: 1.0885 - val_accuracy: 0.5052 - val_f1_score: 0.4426\n",
            "Epoch 18/60\n",
            "1816/1818 [============================>.] - ETA: 0s - loss: 1.1392 - accuracy: 0.5559 - f1_score: 0.5108"
          ]
        },
        {
          "name": "stderr",
          "output_type": "stream",
          "text": [
            "WARNING:absl:Found untraced functions such as _jit_compiled_convolution_op, _jit_compiled_convolution_op, _jit_compiled_convolution_op, _jit_compiled_convolution_op, query_layer_call_fn while saving (showing 5 of 28). These functions will not be directly callable after loading.\n",
            "\u001b[34m\u001b[1mwandb\u001b[0m: Adding directory to artifact (/content/gdrive/MyDrive/RifleAction/wandb/run-20230805_143831-olp812gm/files/model-best)... Done. 0.1s\n"
          ]
        },
        {
          "name": "stdout",
          "output_type": "stream",
          "text": [
            "1818/1818 [==============================] - 38s 21ms/step - loss: 1.1393 - accuracy: 0.5558 - f1_score: 0.5108 - val_loss: 1.0746 - val_accuracy: 0.5147 - val_f1_score: 0.4473\n",
            "Epoch 19/60\n",
            "1816/1818 [============================>.] - ETA: 0s - loss: 1.1255 - accuracy: 0.5610 - f1_score: 0.5169"
          ]
        },
        {
          "name": "stderr",
          "output_type": "stream",
          "text": [
            "WARNING:absl:Found untraced functions such as _jit_compiled_convolution_op, _jit_compiled_convolution_op, _jit_compiled_convolution_op, _jit_compiled_convolution_op, query_layer_call_fn while saving (showing 5 of 28). These functions will not be directly callable after loading.\n",
            "\u001b[34m\u001b[1mwandb\u001b[0m: Adding directory to artifact (/content/gdrive/MyDrive/RifleAction/wandb/run-20230805_143831-olp812gm/files/model-best)... Done. 0.1s\n"
          ]
        },
        {
          "name": "stdout",
          "output_type": "stream",
          "text": [
            "1818/1818 [==============================] - 36s 20ms/step - loss: 1.1256 - accuracy: 0.5611 - f1_score: 0.5170 - val_loss: 1.0678 - val_accuracy: 0.5144 - val_f1_score: 0.4433\n",
            "Epoch 20/60\n",
            "1818/1818 [==============================] - ETA: 0s - loss: 1.1160 - accuracy: 0.5628 - f1_score: 0.5193"
          ]
        },
        {
          "name": "stderr",
          "output_type": "stream",
          "text": [
            "WARNING:absl:Found untraced functions such as _jit_compiled_convolution_op, _jit_compiled_convolution_op, _jit_compiled_convolution_op, _jit_compiled_convolution_op, query_layer_call_fn while saving (showing 5 of 28). These functions will not be directly callable after loading.\n",
            "\u001b[34m\u001b[1mwandb\u001b[0m: Adding directory to artifact (/content/gdrive/MyDrive/RifleAction/wandb/run-20230805_143831-olp812gm/files/model-best)... Done. 0.1s\n"
          ]
        },
        {
          "name": "stdout",
          "output_type": "stream",
          "text": [
            "1818/1818 [==============================] - 37s 20ms/step - loss: 1.1160 - accuracy: 0.5628 - f1_score: 0.5193 - val_loss: 1.0636 - val_accuracy: 0.5146 - val_f1_score: 0.4444\n",
            "Epoch 21/60\n",
            "1818/1818 [==============================] - 30s 17ms/step - loss: 1.1077 - accuracy: 0.5687 - f1_score: 0.5250 - val_loss: 1.0652 - val_accuracy: 0.5134 - val_f1_score: 0.4445\n",
            "Epoch 22/60\n",
            "1818/1818 [==============================] - 30s 17ms/step - loss: 1.1007 - accuracy: 0.5717 - f1_score: 0.5285 - val_loss: 1.0675 - val_accuracy: 0.5140 - val_f1_score: 0.4453\n",
            "Epoch 23/60\n",
            "1818/1818 [==============================] - ETA: 0s - loss: 1.0928 - accuracy: 0.5728 - f1_score: 0.5299"
          ]
        },
        {
          "name": "stderr",
          "output_type": "stream",
          "text": [
            "WARNING:absl:Found untraced functions such as _jit_compiled_convolution_op, _jit_compiled_convolution_op, _jit_compiled_convolution_op, _jit_compiled_convolution_op, query_layer_call_fn while saving (showing 5 of 28). These functions will not be directly callable after loading.\n",
            "\u001b[34m\u001b[1mwandb\u001b[0m: Adding directory to artifact (/content/gdrive/MyDrive/RifleAction/wandb/run-20230805_143831-olp812gm/files/model-best)... Done. 0.1s\n"
          ]
        },
        {
          "name": "stdout",
          "output_type": "stream",
          "text": [
            "1818/1818 [==============================] - 37s 20ms/step - loss: 1.0928 - accuracy: 0.5728 - f1_score: 0.5299 - val_loss: 1.0377 - val_accuracy: 0.5274 - val_f1_score: 0.4590\n",
            "Epoch 24/60\n",
            "1818/1818 [==============================] - 31s 17ms/step - loss: 1.0836 - accuracy: 0.5766 - f1_score: 0.5339 - val_loss: 1.0465 - val_accuracy: 0.5183 - val_f1_score: 0.4459\n",
            "Epoch 25/60\n",
            "1817/1818 [============================>.] - ETA: 0s - loss: 1.0816 - accuracy: 0.5786 - f1_score: 0.5361"
          ]
        },
        {
          "name": "stderr",
          "output_type": "stream",
          "text": [
            "WARNING:absl:Found untraced functions such as _jit_compiled_convolution_op, _jit_compiled_convolution_op, _jit_compiled_convolution_op, _jit_compiled_convolution_op, query_layer_call_fn while saving (showing 5 of 28). These functions will not be directly callable after loading.\n",
            "\u001b[34m\u001b[1mwandb\u001b[0m: Adding directory to artifact (/content/gdrive/MyDrive/RifleAction/wandb/run-20230805_143831-olp812gm/files/model-best)... Done. 0.1s\n"
          ]
        },
        {
          "name": "stdout",
          "output_type": "stream",
          "text": [
            "1818/1818 [==============================] - 36s 20ms/step - loss: 1.0816 - accuracy: 0.5786 - f1_score: 0.5361 - val_loss: 1.0367 - val_accuracy: 0.5265 - val_f1_score: 0.4634\n",
            "Epoch 26/60\n",
            "1816/1818 [============================>.] - ETA: 0s - loss: 1.0722 - accuracy: 0.5816 - f1_score: 0.5391"
          ]
        },
        {
          "name": "stderr",
          "output_type": "stream",
          "text": [
            "WARNING:absl:Found untraced functions such as _jit_compiled_convolution_op, _jit_compiled_convolution_op, _jit_compiled_convolution_op, _jit_compiled_convolution_op, query_layer_call_fn while saving (showing 5 of 28). These functions will not be directly callable after loading.\n",
            "\u001b[34m\u001b[1mwandb\u001b[0m: Adding directory to artifact (/content/gdrive/MyDrive/RifleAction/wandb/run-20230805_143831-olp812gm/files/model-best)... Done. 0.1s\n"
          ]
        },
        {
          "name": "stdout",
          "output_type": "stream",
          "text": [
            "1818/1818 [==============================] - 36s 20ms/step - loss: 1.0724 - accuracy: 0.5816 - f1_score: 0.5391 - val_loss: 1.0253 - val_accuracy: 0.5264 - val_f1_score: 0.4580\n",
            "Epoch 27/60\n",
            "1818/1818 [==============================] - ETA: 0s - loss: 1.0686 - accuracy: 0.5822 - f1_score: 0.5401"
          ]
        },
        {
          "name": "stderr",
          "output_type": "stream",
          "text": [
            "WARNING:absl:Found untraced functions such as _jit_compiled_convolution_op, _jit_compiled_convolution_op, _jit_compiled_convolution_op, _jit_compiled_convolution_op, query_layer_call_fn while saving (showing 5 of 28). These functions will not be directly callable after loading.\n",
            "\u001b[34m\u001b[1mwandb\u001b[0m: Adding directory to artifact (/content/gdrive/MyDrive/RifleAction/wandb/run-20230805_143831-olp812gm/files/model-best)... Done. 0.1s\n"
          ]
        },
        {
          "name": "stdout",
          "output_type": "stream",
          "text": [
            "1818/1818 [==============================] - 36s 20ms/step - loss: 1.0686 - accuracy: 0.5822 - f1_score: 0.5401 - val_loss: 1.0200 - val_accuracy: 0.5272 - val_f1_score: 0.4542\n",
            "Epoch 28/60\n",
            "1818/1818 [==============================] - ETA: 0s - loss: 1.0605 - accuracy: 0.5866 - f1_score: 0.5443"
          ]
        },
        {
          "name": "stderr",
          "output_type": "stream",
          "text": [
            "WARNING:absl:Found untraced functions such as _jit_compiled_convolution_op, _jit_compiled_convolution_op, _jit_compiled_convolution_op, _jit_compiled_convolution_op, query_layer_call_fn while saving (showing 5 of 28). These functions will not be directly callable after loading.\n",
            "\u001b[34m\u001b[1mwandb\u001b[0m: Adding directory to artifact (/content/gdrive/MyDrive/RifleAction/wandb/run-20230805_143831-olp812gm/files/model-best)... Done. 0.1s\n"
          ]
        },
        {
          "name": "stdout",
          "output_type": "stream",
          "text": [
            "1818/1818 [==============================] - 37s 21ms/step - loss: 1.0605 - accuracy: 0.5866 - f1_score: 0.5443 - val_loss: 1.0164 - val_accuracy: 0.5352 - val_f1_score: 0.4733\n",
            "Epoch 29/60\n",
            "1818/1818 [==============================] - 31s 17ms/step - loss: 1.0574 - accuracy: 0.5871 - f1_score: 0.5451 - val_loss: 1.0227 - val_accuracy: 0.5434 - val_f1_score: 0.4881\n",
            "Epoch 30/60\n",
            "1816/1818 [============================>.] - ETA: 0s - loss: 1.0515 - accuracy: 0.5884 - f1_score: 0.5466"
          ]
        },
        {
          "name": "stderr",
          "output_type": "stream",
          "text": [
            "WARNING:absl:Found untraced functions such as _jit_compiled_convolution_op, _jit_compiled_convolution_op, _jit_compiled_convolution_op, _jit_compiled_convolution_op, query_layer_call_fn while saving (showing 5 of 28). These functions will not be directly callable after loading.\n",
            "\u001b[34m\u001b[1mwandb\u001b[0m: Adding directory to artifact (/content/gdrive/MyDrive/RifleAction/wandb/run-20230805_143831-olp812gm/files/model-best)... Done. 0.1s\n"
          ]
        },
        {
          "name": "stdout",
          "output_type": "stream",
          "text": [
            "1818/1818 [==============================] - 35s 19ms/step - loss: 1.0514 - accuracy: 0.5884 - f1_score: 0.5466 - val_loss: 1.0117 - val_accuracy: 0.5394 - val_f1_score: 0.4759\n",
            "Epoch 31/60\n",
            "1817/1818 [============================>.] - ETA: 0s - loss: 1.0453 - accuracy: 0.5909 - f1_score: 0.5488"
          ]
        },
        {
          "name": "stderr",
          "output_type": "stream",
          "text": [
            "WARNING:absl:Found untraced functions such as _jit_compiled_convolution_op, _jit_compiled_convolution_op, _jit_compiled_convolution_op, _jit_compiled_convolution_op, query_layer_call_fn while saving (showing 5 of 28). These functions will not be directly callable after loading.\n",
            "\u001b[34m\u001b[1mwandb\u001b[0m: Adding directory to artifact (/content/gdrive/MyDrive/RifleAction/wandb/run-20230805_143831-olp812gm/files/model-best)... Done. 0.1s\n"
          ]
        },
        {
          "name": "stdout",
          "output_type": "stream",
          "text": [
            "1818/1818 [==============================] - 37s 20ms/step - loss: 1.0453 - accuracy: 0.5908 - f1_score: 0.5488 - val_loss: 1.0116 - val_accuracy: 0.5383 - val_f1_score: 0.4769\n",
            "Epoch 32/60\n",
            "1818/1818 [==============================] - ETA: 0s - loss: 1.0395 - accuracy: 0.5914 - f1_score: 0.5493"
          ]
        },
        {
          "name": "stderr",
          "output_type": "stream",
          "text": [
            "WARNING:absl:Found untraced functions such as _jit_compiled_convolution_op, _jit_compiled_convolution_op, _jit_compiled_convolution_op, _jit_compiled_convolution_op, query_layer_call_fn while saving (showing 5 of 28). These functions will not be directly callable after loading.\n",
            "\u001b[34m\u001b[1mwandb\u001b[0m: Adding directory to artifact (/content/gdrive/MyDrive/RifleAction/wandb/run-20230805_143831-olp812gm/files/model-best)... Done. 0.1s\n"
          ]
        },
        {
          "name": "stdout",
          "output_type": "stream",
          "text": [
            "1818/1818 [==============================] - 37s 21ms/step - loss: 1.0395 - accuracy: 0.5914 - f1_score: 0.5493 - val_loss: 1.0063 - val_accuracy: 0.5352 - val_f1_score: 0.4707\n",
            "Epoch 33/60\n",
            "1818/1818 [==============================] - 31s 17ms/step - loss: 1.0351 - accuracy: 0.5940 - f1_score: 0.5523 - val_loss: 1.0225 - val_accuracy: 0.5291 - val_f1_score: 0.4647\n",
            "Epoch 34/60\n",
            "1817/1818 [============================>.] - ETA: 0s - loss: 1.0309 - accuracy: 0.5970 - f1_score: 0.5559"
          ]
        },
        {
          "name": "stderr",
          "output_type": "stream",
          "text": [
            "WARNING:absl:Found untraced functions such as _jit_compiled_convolution_op, _jit_compiled_convolution_op, _jit_compiled_convolution_op, _jit_compiled_convolution_op, query_layer_call_fn while saving (showing 5 of 28). These functions will not be directly callable after loading.\n",
            "\u001b[34m\u001b[1mwandb\u001b[0m: Adding directory to artifact (/content/gdrive/MyDrive/RifleAction/wandb/run-20230805_143831-olp812gm/files/model-best)... Done. 0.1s\n"
          ]
        },
        {
          "name": "stdout",
          "output_type": "stream",
          "text": [
            "1818/1818 [==============================] - 36s 20ms/step - loss: 1.0310 - accuracy: 0.5970 - f1_score: 0.5559 - val_loss: 1.0055 - val_accuracy: 0.5548 - val_f1_score: 0.5016\n",
            "Epoch 35/60\n",
            "1818/1818 [==============================] - 31s 17ms/step - loss: 1.0252 - accuracy: 0.5989 - f1_score: 0.5590 - val_loss: 1.0093 - val_accuracy: 0.5350 - val_f1_score: 0.4666\n",
            "Epoch 36/60\n",
            "1816/1818 [============================>.] - ETA: 0s - loss: 1.0227 - accuracy: 0.6000 - f1_score: 0.5612"
          ]
        },
        {
          "name": "stderr",
          "output_type": "stream",
          "text": [
            "WARNING:absl:Found untraced functions such as _jit_compiled_convolution_op, _jit_compiled_convolution_op, _jit_compiled_convolution_op, _jit_compiled_convolution_op, query_layer_call_fn while saving (showing 5 of 28). These functions will not be directly callable after loading.\n",
            "\u001b[34m\u001b[1mwandb\u001b[0m: Adding directory to artifact (/content/gdrive/MyDrive/RifleAction/wandb/run-20230805_143831-olp812gm/files/model-best)... Done. 0.1s\n"
          ]
        },
        {
          "name": "stdout",
          "output_type": "stream",
          "text": [
            "1818/1818 [==============================] - 35s 19ms/step - loss: 1.0227 - accuracy: 0.6000 - f1_score: 0.5612 - val_loss: 0.9999 - val_accuracy: 0.5464 - val_f1_score: 0.4899\n",
            "Epoch 37/60\n",
            "1816/1818 [============================>.] - ETA: 0s - loss: 1.0165 - accuracy: 0.6029 - f1_score: 0.5661"
          ]
        },
        {
          "name": "stderr",
          "output_type": "stream",
          "text": [
            "WARNING:absl:Found untraced functions such as _jit_compiled_convolution_op, _jit_compiled_convolution_op, _jit_compiled_convolution_op, _jit_compiled_convolution_op, query_layer_call_fn while saving (showing 5 of 28). These functions will not be directly callable after loading.\n",
            "\u001b[34m\u001b[1mwandb\u001b[0m: Adding directory to artifact (/content/gdrive/MyDrive/RifleAction/wandb/run-20230805_143831-olp812gm/files/model-best)... Done. 0.1s\n"
          ]
        },
        {
          "name": "stdout",
          "output_type": "stream",
          "text": [
            "1818/1818 [==============================] - 38s 21ms/step - loss: 1.0164 - accuracy: 0.6029 - f1_score: 0.5661 - val_loss: 0.9888 - val_accuracy: 0.5626 - val_f1_score: 0.5139\n",
            "Epoch 38/60\n",
            "1818/1818 [==============================] - ETA: 0s - loss: 1.0105 - accuracy: 0.6045 - f1_score: 0.5698"
          ]
        },
        {
          "name": "stderr",
          "output_type": "stream",
          "text": [
            "WARNING:absl:Found untraced functions such as _jit_compiled_convolution_op, _jit_compiled_convolution_op, _jit_compiled_convolution_op, _jit_compiled_convolution_op, query_layer_call_fn while saving (showing 5 of 28). These functions will not be directly callable after loading.\n",
            "\u001b[34m\u001b[1mwandb\u001b[0m: Adding directory to artifact (/content/gdrive/MyDrive/RifleAction/wandb/run-20230805_143831-olp812gm/files/model-best)... Done. 0.1s\n"
          ]
        },
        {
          "name": "stdout",
          "output_type": "stream",
          "text": [
            "1818/1818 [==============================] - 37s 20ms/step - loss: 1.0105 - accuracy: 0.6045 - f1_score: 0.5698 - val_loss: 0.9848 - val_accuracy: 0.5816 - val_f1_score: 0.5459\n",
            "Epoch 39/60\n",
            "1818/1818 [==============================] - 31s 17ms/step - loss: 1.0098 - accuracy: 0.6075 - f1_score: 0.5757 - val_loss: 0.9885 - val_accuracy: 0.5814 - val_f1_score: 0.5498\n",
            "Epoch 40/60\n",
            "1818/1818 [==============================] - 31s 17ms/step - loss: 1.0056 - accuracy: 0.6086 - f1_score: 0.5779 - val_loss: 0.9917 - val_accuracy: 0.5847 - val_f1_score: 0.5569\n",
            "Epoch 41/60\n",
            "1817/1818 [============================>.] - ETA: 0s - loss: 0.9988 - accuracy: 0.6132 - f1_score: 0.5840"
          ]
        },
        {
          "name": "stderr",
          "output_type": "stream",
          "text": [
            "WARNING:absl:Found untraced functions such as _jit_compiled_convolution_op, _jit_compiled_convolution_op, _jit_compiled_convolution_op, _jit_compiled_convolution_op, query_layer_call_fn while saving (showing 5 of 28). These functions will not be directly callable after loading.\n",
            "\u001b[34m\u001b[1mwandb\u001b[0m: Adding directory to artifact (/content/gdrive/MyDrive/RifleAction/wandb/run-20230805_143831-olp812gm/files/model-best)... Done. 0.1s\n"
          ]
        },
        {
          "name": "stdout",
          "output_type": "stream",
          "text": [
            "1818/1818 [==============================] - 35s 19ms/step - loss: 0.9989 - accuracy: 0.6131 - f1_score: 0.5839 - val_loss: 0.9666 - val_accuracy: 0.6181 - val_f1_score: 0.5945\n",
            "Epoch 42/60\n",
            "1816/1818 [============================>.] - ETA: 0s - loss: 0.9969 - accuracy: 0.6136 - f1_score: 0.5848"
          ]
        },
        {
          "name": "stderr",
          "output_type": "stream",
          "text": [
            "WARNING:absl:Found untraced functions such as _jit_compiled_convolution_op, _jit_compiled_convolution_op, _jit_compiled_convolution_op, _jit_compiled_convolution_op, query_layer_call_fn while saving (showing 5 of 28). These functions will not be directly callable after loading.\n",
            "\u001b[34m\u001b[1mwandb\u001b[0m: Adding directory to artifact (/content/gdrive/MyDrive/RifleAction/wandb/run-20230805_143831-olp812gm/files/model-best)... Done. 0.1s\n"
          ]
        },
        {
          "name": "stdout",
          "output_type": "stream",
          "text": [
            "1818/1818 [==============================] - 38s 21ms/step - loss: 0.9969 - accuracy: 0.6136 - f1_score: 0.5848 - val_loss: 0.9652 - val_accuracy: 0.6376 - val_f1_score: 0.6163\n",
            "Epoch 43/60\n",
            "1818/1818 [==============================] - ETA: 0s - loss: 0.9920 - accuracy: 0.6166 - f1_score: 0.5891"
          ]
        },
        {
          "name": "stderr",
          "output_type": "stream",
          "text": [
            "WARNING:absl:Found untraced functions such as _jit_compiled_convolution_op, _jit_compiled_convolution_op, _jit_compiled_convolution_op, _jit_compiled_convolution_op, query_layer_call_fn while saving (showing 5 of 28). These functions will not be directly callable after loading.\n",
            "\u001b[34m\u001b[1mwandb\u001b[0m: Adding directory to artifact (/content/gdrive/MyDrive/RifleAction/wandb/run-20230805_143831-olp812gm/files/model-best)... Done. 0.1s\n"
          ]
        },
        {
          "name": "stdout",
          "output_type": "stream",
          "text": [
            "1818/1818 [==============================] - 38s 21ms/step - loss: 0.9920 - accuracy: 0.6166 - f1_score: 0.5891 - val_loss: 0.9642 - val_accuracy: 0.6179 - val_f1_score: 0.5966\n",
            "Epoch 44/60\n",
            "1818/1818 [==============================] - ETA: 0s - loss: 0.9891 - accuracy: 0.6167 - f1_score: 0.5898"
          ]
        },
        {
          "name": "stderr",
          "output_type": "stream",
          "text": [
            "WARNING:absl:Found untraced functions such as _jit_compiled_convolution_op, _jit_compiled_convolution_op, _jit_compiled_convolution_op, _jit_compiled_convolution_op, query_layer_call_fn while saving (showing 5 of 28). These functions will not be directly callable after loading.\n",
            "\u001b[34m\u001b[1mwandb\u001b[0m: Adding directory to artifact (/content/gdrive/MyDrive/RifleAction/wandb/run-20230805_143831-olp812gm/files/model-best)... Done. 0.1s\n"
          ]
        },
        {
          "name": "stdout",
          "output_type": "stream",
          "text": [
            "1818/1818 [==============================] - 37s 21ms/step - loss: 0.9891 - accuracy: 0.6167 - f1_score: 0.5898 - val_loss: 0.9588 - val_accuracy: 0.6327 - val_f1_score: 0.6121\n",
            "Epoch 45/60\n",
            "1818/1818 [==============================] - 32s 17ms/step - loss: 0.9879 - accuracy: 0.6169 - f1_score: 0.5904 - val_loss: 0.9616 - val_accuracy: 0.6485 - val_f1_score: 0.6286\n",
            "Epoch 46/60\n",
            "1818/1818 [==============================] - 30s 17ms/step - loss: 0.9869 - accuracy: 0.6204 - f1_score: 0.5940 - val_loss: 0.9631 - val_accuracy: 0.6309 - val_f1_score: 0.6126\n",
            "Epoch 47/60\n",
            "1818/1818 [==============================] - ETA: 0s - loss: 0.9793 - accuracy: 0.6210 - f1_score: 0.5952"
          ]
        },
        {
          "name": "stderr",
          "output_type": "stream",
          "text": [
            "WARNING:absl:Found untraced functions such as _jit_compiled_convolution_op, _jit_compiled_convolution_op, _jit_compiled_convolution_op, _jit_compiled_convolution_op, query_layer_call_fn while saving (showing 5 of 28). These functions will not be directly callable after loading.\n",
            "\u001b[34m\u001b[1mwandb\u001b[0m: Adding directory to artifact (/content/gdrive/MyDrive/RifleAction/wandb/run-20230805_143831-olp812gm/files/model-best)... Done. 0.1s\n"
          ]
        },
        {
          "name": "stdout",
          "output_type": "stream",
          "text": [
            "1818/1818 [==============================] - 37s 21ms/step - loss: 0.9793 - accuracy: 0.6210 - f1_score: 0.5952 - val_loss: 0.9551 - val_accuracy: 0.6261 - val_f1_score: 0.6073\n",
            "Epoch 48/60\n",
            "1818/1818 [==============================] - ETA: 0s - loss: 0.9775 - accuracy: 0.6217 - f1_score: 0.5962"
          ]
        },
        {
          "name": "stderr",
          "output_type": "stream",
          "text": [
            "WARNING:absl:Found untraced functions such as _jit_compiled_convolution_op, _jit_compiled_convolution_op, _jit_compiled_convolution_op, _jit_compiled_convolution_op, query_layer_call_fn while saving (showing 5 of 28). These functions will not be directly callable after loading.\n",
            "\u001b[34m\u001b[1mwandb\u001b[0m: Adding directory to artifact (/content/gdrive/MyDrive/RifleAction/wandb/run-20230805_143831-olp812gm/files/model-best)... Done. 0.2s\n"
          ]
        },
        {
          "name": "stdout",
          "output_type": "stream",
          "text": [
            "1818/1818 [==============================] - 38s 21ms/step - loss: 0.9775 - accuracy: 0.6217 - f1_score: 0.5962 - val_loss: 0.9545 - val_accuracy: 0.6509 - val_f1_score: 0.6316\n",
            "Epoch 49/60\n",
            "1818/1818 [==============================] - ETA: 0s - loss: 0.9784 - accuracy: 0.6233 - f1_score: 0.5982"
          ]
        },
        {
          "name": "stderr",
          "output_type": "stream",
          "text": [
            "WARNING:absl:Found untraced functions such as _jit_compiled_convolution_op, _jit_compiled_convolution_op, _jit_compiled_convolution_op, _jit_compiled_convolution_op, query_layer_call_fn while saving (showing 5 of 28). These functions will not be directly callable after loading.\n",
            "\u001b[34m\u001b[1mwandb\u001b[0m: Adding directory to artifact (/content/gdrive/MyDrive/RifleAction/wandb/run-20230805_143831-olp812gm/files/model-best)... Done. 0.1s\n"
          ]
        },
        {
          "name": "stdout",
          "output_type": "stream",
          "text": [
            "1818/1818 [==============================] - 36s 20ms/step - loss: 0.9784 - accuracy: 0.6233 - f1_score: 0.5982 - val_loss: 0.9370 - val_accuracy: 0.6574 - val_f1_score: 0.6377\n",
            "Epoch 50/60\n",
            "1818/1818 [==============================] - 31s 17ms/step - loss: 0.9740 - accuracy: 0.6245 - f1_score: 0.5996 - val_loss: 0.9529 - val_accuracy: 0.6439 - val_f1_score: 0.6258\n",
            "Epoch 51/60\n",
            "1816/1818 [============================>.] - ETA: 0s - loss: 0.9684 - accuracy: 0.6279 - f1_score: 0.6030"
          ]
        },
        {
          "name": "stderr",
          "output_type": "stream",
          "text": [
            "WARNING:absl:Found untraced functions such as _jit_compiled_convolution_op, _jit_compiled_convolution_op, _jit_compiled_convolution_op, _jit_compiled_convolution_op, query_layer_call_fn while saving (showing 5 of 28). These functions will not be directly callable after loading.\n",
            "\u001b[34m\u001b[1mwandb\u001b[0m: Adding directory to artifact (/content/gdrive/MyDrive/RifleAction/wandb/run-20230805_143831-olp812gm/files/model-best)... Done. 0.1s\n"
          ]
        },
        {
          "name": "stdout",
          "output_type": "stream",
          "text": [
            "1818/1818 [==============================] - 37s 20ms/step - loss: 0.9684 - accuracy: 0.6279 - f1_score: 0.6031 - val_loss: 0.9273 - val_accuracy: 0.6540 - val_f1_score: 0.6353\n",
            "Epoch 52/60\n",
            "1817/1818 [============================>.] - ETA: 0s - loss: 0.9672 - accuracy: 0.6266 - f1_score: 0.6017"
          ]
        },
        {
          "name": "stderr",
          "output_type": "stream",
          "text": [
            "WARNING:absl:Found untraced functions such as _jit_compiled_convolution_op, _jit_compiled_convolution_op, _jit_compiled_convolution_op, _jit_compiled_convolution_op, query_layer_call_fn while saving (showing 5 of 28). These functions will not be directly callable after loading.\n",
            "\u001b[34m\u001b[1mwandb\u001b[0m: Adding directory to artifact (/content/gdrive/MyDrive/RifleAction/wandb/run-20230805_143831-olp812gm/files/model-best)... Done. 0.1s\n"
          ]
        },
        {
          "name": "stdout",
          "output_type": "stream",
          "text": [
            "1818/1818 [==============================] - 35s 19ms/step - loss: 0.9670 - accuracy: 0.6267 - f1_score: 0.6018 - val_loss: 0.9217 - val_accuracy: 0.6666 - val_f1_score: 0.6465\n",
            "Epoch 53/60\n",
            "1818/1818 [==============================] - 31s 17ms/step - loss: 0.9688 - accuracy: 0.6260 - f1_score: 0.6018 - val_loss: 0.9635 - val_accuracy: 0.6151 - val_f1_score: 0.5990\n",
            "Epoch 54/60\n",
            "1818/1818 [==============================] - 30s 16ms/step - loss: 0.9658 - accuracy: 0.6269 - f1_score: 0.6022 - val_loss: 0.9343 - val_accuracy: 0.6605 - val_f1_score: 0.6410\n",
            "Epoch 55/60\n",
            "1815/1818 [============================>.] - ETA: 0s - loss: 0.9637 - accuracy: 0.6289 - f1_score: 0.6047"
          ]
        },
        {
          "name": "stderr",
          "output_type": "stream",
          "text": [
            "WARNING:absl:Found untraced functions such as _jit_compiled_convolution_op, _jit_compiled_convolution_op, _jit_compiled_convolution_op, _jit_compiled_convolution_op, query_layer_call_fn while saving (showing 5 of 28). These functions will not be directly callable after loading.\n",
            "\u001b[34m\u001b[1mwandb\u001b[0m: Adding directory to artifact (/content/gdrive/MyDrive/RifleAction/wandb/run-20230805_143831-olp812gm/files/model-best)... Done. 0.1s\n"
          ]
        },
        {
          "name": "stdout",
          "output_type": "stream",
          "text": [
            "1818/1818 [==============================] - 36s 20ms/step - loss: 0.9635 - accuracy: 0.6289 - f1_score: 0.6047 - val_loss: 0.9180 - val_accuracy: 0.6669 - val_f1_score: 0.6483\n",
            "Epoch 56/60\n",
            "1815/1818 [============================>.] - ETA: 0s - loss: 0.9583 - accuracy: 0.6314 - f1_score: 0.6072"
          ]
        },
        {
          "name": "stderr",
          "output_type": "stream",
          "text": [
            "WARNING:absl:Found untraced functions such as _jit_compiled_convolution_op, _jit_compiled_convolution_op, _jit_compiled_convolution_op, _jit_compiled_convolution_op, query_layer_call_fn while saving (showing 5 of 28). These functions will not be directly callable after loading.\n",
            "\u001b[34m\u001b[1mwandb\u001b[0m: Adding directory to artifact (/content/gdrive/MyDrive/RifleAction/wandb/run-20230805_143831-olp812gm/files/model-best)... Done. 0.1s\n"
          ]
        },
        {
          "name": "stdout",
          "output_type": "stream",
          "text": [
            "1818/1818 [==============================] - 35s 19ms/step - loss: 0.9583 - accuracy: 0.6314 - f1_score: 0.6072 - val_loss: 0.9171 - val_accuracy: 0.6721 - val_f1_score: 0.6534\n",
            "Epoch 57/60\n",
            "1818/1818 [==============================] - 31s 17ms/step - loss: 0.9597 - accuracy: 0.6313 - f1_score: 0.6072 - val_loss: 0.9596 - val_accuracy: 0.6173 - val_f1_score: 0.6025\n",
            "Epoch 58/60\n",
            "1818/1818 [==============================] - ETA: 0s - loss: 0.9592 - accuracy: 0.6304 - f1_score: 0.6065"
          ]
        },
        {
          "name": "stderr",
          "output_type": "stream",
          "text": [
            "WARNING:absl:Found untraced functions such as _jit_compiled_convolution_op, _jit_compiled_convolution_op, _jit_compiled_convolution_op, _jit_compiled_convolution_op, query_layer_call_fn while saving (showing 5 of 28). These functions will not be directly callable after loading.\n",
            "\u001b[34m\u001b[1mwandb\u001b[0m: Adding directory to artifact (/content/gdrive/MyDrive/RifleAction/wandb/run-20230805_143831-olp812gm/files/model-best)... Done. 0.1s\n"
          ]
        },
        {
          "name": "stdout",
          "output_type": "stream",
          "text": [
            "1818/1818 [==============================] - 36s 20ms/step - loss: 0.9592 - accuracy: 0.6304 - f1_score: 0.6065 - val_loss: 0.9147 - val_accuracy: 0.6664 - val_f1_score: 0.6481\n",
            "Epoch 59/60\n",
            "1818/1818 [==============================] - 30s 17ms/step - loss: 0.9536 - accuracy: 0.6351 - f1_score: 0.6115 - val_loss: 0.9155 - val_accuracy: 0.6686 - val_f1_score: 0.6492\n",
            "Epoch 60/60\n",
            "1817/1818 [============================>.] - ETA: 0s - loss: 0.9557 - accuracy: 0.6327 - f1_score: 0.6092"
          ]
        },
        {
          "name": "stderr",
          "output_type": "stream",
          "text": [
            "WARNING:absl:Found untraced functions such as _jit_compiled_convolution_op, _jit_compiled_convolution_op, _jit_compiled_convolution_op, _jit_compiled_convolution_op, query_layer_call_fn while saving (showing 5 of 28). These functions will not be directly callable after loading.\n",
            "\u001b[34m\u001b[1mwandb\u001b[0m: Adding directory to artifact (/content/gdrive/MyDrive/RifleAction/wandb/run-20230805_143831-olp812gm/files/model-best)... Done. 0.1s\n"
          ]
        },
        {
          "name": "stdout",
          "output_type": "stream",
          "text": [
            "\b\b\b\b\b\b\b\b\b\b\b\b\b\b\b\b\b\b\b\b\b\b\b\b\b\b\b\b\b\b\b\b\b\b\b\b\b\b\b\b\b\b\b\b\b\b\b\b\b\b\b\b\b\b\b\b\b\b\b\b\b\b\b\b\b\b\b\b\b\b\b\b\b\b\b\b\b\b\b\b\b\b\b\b\b\b\b\b\b\b\b\b\b\b\b\b\b\b\b\b\b\b\b\b\b\r1818/1818 [==============================] - 36s 20ms/step - loss: 0.9557 - accuracy: 0.6327 - f1_score: 0.6092 - val_loss: 0.9097 - val_accuracy: 0.6645 - val_f1_score: 0.6460\n"
          ]
        },
        {
          "data": {
            "text/html": [
              "Waiting for W&B process to finish... <strong style=\"color:green\">(success).</strong>"
            ],
            "text/plain": [
              "<IPython.core.display.HTML object>"
            ]
          },
          "metadata": {},
          "output_type": "display_data"
        },
        {
          "data": {
            "text/html": [
              "<style>\n",
              "    table.wandb td:nth-child(1) { padding: 0 10px; text-align: left ; width: auto;} td:nth-child(2) {text-align: left ; width: 100%}\n",
              "    .wandb-row { display: flex; flex-direction: row; flex-wrap: wrap; justify-content: flex-start; width: 100% }\n",
              "    .wandb-col { display: flex; flex-direction: column; flex-basis: 100%; flex: 1; padding: 10px; }\n",
              "    </style>\n",
              "<div class=\"wandb-row\"><div class=\"wandb-col\"><h3>Run history:</h3><br/><table class=\"wandb\"><tr><td>accuracy</td><td>▁▂▃▄▅▅▅▅▆▆▆▆▆▆▇▇▇▇▇▇▇▇▇▇▇▇▇█████████████</td></tr><tr><td>epoch</td><td>▁▁▁▁▂▂▂▂▂▃▃▃▃▃▃▄▄▄▄▄▅▅▅▅▅▅▆▆▆▆▆▆▇▇▇▇▇███</td></tr><tr><td>f1_score</td><td>▁▂▄▄▅▅▅▆▆▆▆▆▆▆▇▇▇▇▇▇▇▇▇▇▇▇▇█████████████</td></tr><tr><td>loss</td><td>█▆▅▄▄▃▃▃▃▃▂▂▂▂▂▂▂▂▂▂▂▂▂▁▁▁▁▁▁▁▁▁▁▁▁▁▁▁▁▁</td></tr><tr><td>val_accuracy</td><td>▁▁▃▃▃▃▃▃▃▄▄▄▄▄▄▅▄▄▅▅▅▅▅▅▅▆▆▇▇▇▇▇█▇█▇████</td></tr><tr><td>val_f1_score</td><td>▁▁▃▃▃▄▄▄▄▄▅▅▅▅▅▅▅▅▅▅▅▅▆▅▆▆▆▇▇▇▇▇███▇████</td></tr><tr><td>val_loss</td><td>█▆▅▄▃▃▃▃▃▃▂▂▂▂▂▂▂▂▂▂▂▂▂▂▂▂▂▁▁▁▁▁▁▁▁▁▁▁▁▁</td></tr></table><br/></div><div class=\"wandb-col\"><h3>Run summary:</h3><br/><table class=\"wandb\"><tr><td>accuracy</td><td>0.63275</td></tr><tr><td>best_epoch</td><td>59</td></tr><tr><td>best_val_loss</td><td>0.9097</td></tr><tr><td>epoch</td><td>59</td></tr><tr><td>f1_score</td><td>0.60923</td></tr><tr><td>loss</td><td>0.95567</td></tr><tr><td>val_accuracy</td><td>0.66446</td></tr><tr><td>val_f1_score</td><td>0.64604</td></tr><tr><td>val_loss</td><td>0.9097</td></tr></table><br/></div></div>"
            ],
            "text/plain": [
              "<IPython.core.display.HTML object>"
            ]
          },
          "metadata": {},
          "output_type": "display_data"
        },
        {
          "data": {
            "text/html": [
              " View run <strong style=\"color:#cdcd00\">woven-sweep-34</strong> at: <a href='https://wandb.ai/remchat/defence-force/runs/olp812gm' target=\"_blank\">https://wandb.ai/remchat/defence-force/runs/olp812gm</a><br/> View job at <a href='https://wandb.ai/remchat/defence-force/jobs/QXJ0aWZhY3RDb2xsZWN0aW9uOjg3OTM1OTcx/version_details/v9' target=\"_blank\">https://wandb.ai/remchat/defence-force/jobs/QXJ0aWZhY3RDb2xsZWN0aW9uOjg3OTM1OTcx/version_details/v9</a><br/>Synced 5 W&B file(s), 1 media file(s), 220 artifact file(s) and 1 other file(s)"
            ],
            "text/plain": [
              "<IPython.core.display.HTML object>"
            ]
          },
          "metadata": {},
          "output_type": "display_data"
        },
        {
          "data": {
            "text/html": [
              "Find logs at: <code>./wandb/run-20230805_143831-olp812gm/logs</code>"
            ],
            "text/plain": [
              "<IPython.core.display.HTML object>"
            ]
          },
          "metadata": {},
          "output_type": "display_data"
        },
        {
          "name": "stderr",
          "output_type": "stream",
          "text": [
            "\u001b[34m\u001b[1mwandb\u001b[0m: Agent Starting Run: w413jfsd with config:\n",
            "\u001b[34m\u001b[1mwandb\u001b[0m: \tdropout: 0.3\n",
            "\u001b[34m\u001b[1mwandb\u001b[0m: \tepochs: 60\n",
            "\u001b[34m\u001b[1mwandb\u001b[0m: \tff_dim: 64\n",
            "\u001b[34m\u001b[1mwandb\u001b[0m: \thead_size: 32\n",
            "\u001b[34m\u001b[1mwandb\u001b[0m: \tlearning_rate: 0.001\n",
            "\u001b[34m\u001b[1mwandb\u001b[0m: \tmlp_dropout: 0.5\n",
            "\u001b[34m\u001b[1mwandb\u001b[0m: \tmlp_units: [128, 64]\n",
            "\u001b[34m\u001b[1mwandb\u001b[0m: \tnum_heads: 32\n",
            "\u001b[34m\u001b[1mwandb\u001b[0m: \tnum_transformer_blocks: 2\n",
            "\u001b[34m\u001b[1mwandb\u001b[0m: \u001b[33mWARNING\u001b[0m Ignored wandb.init() arg project when running a sweep.\n"
          ]
        },
        {
          "data": {
            "text/html": [
              "Tracking run with wandb version 0.15.8"
            ],
            "text/plain": [
              "<IPython.core.display.HTML object>"
            ]
          },
          "metadata": {},
          "output_type": "display_data"
        },
        {
          "data": {
            "text/html": [
              "Run data is saved locally in <code>/content/gdrive/MyDrive/RifleAction/wandb/run-20230805_151610-w413jfsd</code>"
            ],
            "text/plain": [
              "<IPython.core.display.HTML object>"
            ]
          },
          "metadata": {},
          "output_type": "display_data"
        },
        {
          "data": {
            "text/html": [
              "Syncing run <strong><a href='https://wandb.ai/remchat/defence-force/runs/w413jfsd' target=\"_blank\">golden-sweep-35</a></strong> to <a href='https://wandb.ai/remchat/defence-force' target=\"_blank\">Weights & Biases</a> (<a href='https://wandb.me/run' target=\"_blank\">docs</a>)<br/>Sweep page: <a href='https://wandb.ai/remchat/defence-force/sweeps/k5lpmxhw' target=\"_blank\">https://wandb.ai/remchat/defence-force/sweeps/k5lpmxhw</a>"
            ],
            "text/plain": [
              "<IPython.core.display.HTML object>"
            ]
          },
          "metadata": {},
          "output_type": "display_data"
        },
        {
          "data": {
            "text/html": [
              " View project at <a href='https://wandb.ai/remchat/defence-force' target=\"_blank\">https://wandb.ai/remchat/defence-force</a>"
            ],
            "text/plain": [
              "<IPython.core.display.HTML object>"
            ]
          },
          "metadata": {},
          "output_type": "display_data"
        },
        {
          "data": {
            "text/html": [
              " View sweep at <a href='https://wandb.ai/remchat/defence-force/sweeps/k5lpmxhw' target=\"_blank\">https://wandb.ai/remchat/defence-force/sweeps/k5lpmxhw</a>"
            ],
            "text/plain": [
              "<IPython.core.display.HTML object>"
            ]
          },
          "metadata": {},
          "output_type": "display_data"
        },
        {
          "data": {
            "text/html": [
              " View run at <a href='https://wandb.ai/remchat/defence-force/runs/w413jfsd' target=\"_blank\">https://wandb.ai/remchat/defence-force/runs/w413jfsd</a>"
            ],
            "text/plain": [
              "<IPython.core.display.HTML object>"
            ]
          },
          "metadata": {},
          "output_type": "display_data"
        },
        {
          "name": "stdout",
          "output_type": "stream",
          "text": [
            "Epoch 1/60\n",
            "1818/1818 [==============================] - ETA: 0s - loss: 1.3423 - accuracy: 0.4943 - f1_score: 0.4533"
          ]
        },
        {
          "name": "stderr",
          "output_type": "stream",
          "text": [
            "WARNING:absl:Found untraced functions such as _jit_compiled_convolution_op, _jit_compiled_convolution_op, _jit_compiled_convolution_op, _jit_compiled_convolution_op, query_layer_call_fn while saving (showing 5 of 28). These functions will not be directly callable after loading.\n",
            "\u001b[34m\u001b[1mwandb\u001b[0m: Adding directory to artifact (/content/gdrive/MyDrive/RifleAction/wandb/run-20230805_151610-w413jfsd/files/model-best)... Done. 0.1s\n"
          ]
        },
        {
          "name": "stdout",
          "output_type": "stream",
          "text": [
            "1818/1818 [==============================] - 33s 16ms/step - loss: 1.3423 - accuracy: 0.4943 - f1_score: 0.4533 - val_loss: 1.0367 - val_accuracy: 0.5383 - val_f1_score: 0.4770\n",
            "Epoch 2/60\n",
            "1818/1818 [==============================] - ETA: 0s - loss: 1.0373 - accuracy: 0.5933 - f1_score: 0.5644"
          ]
        },
        {
          "name": "stderr",
          "output_type": "stream",
          "text": [
            "WARNING:absl:Found untraced functions such as _jit_compiled_convolution_op, _jit_compiled_convolution_op, _jit_compiled_convolution_op, _jit_compiled_convolution_op, query_layer_call_fn while saving (showing 5 of 28). These functions will not be directly callable after loading.\n",
            "\u001b[34m\u001b[1mwandb\u001b[0m: Adding directory to artifact (/content/gdrive/MyDrive/RifleAction/wandb/run-20230805_151610-w413jfsd/files/model-best)... Done. 0.0s\n"
          ]
        },
        {
          "name": "stdout",
          "output_type": "stream",
          "text": [
            "1818/1818 [==============================] - 31s 17ms/step - loss: 1.0373 - accuracy: 0.5933 - f1_score: 0.5644 - val_loss: 0.9310 - val_accuracy: 0.6447 - val_f1_score: 0.6252\n",
            "Epoch 3/60\n",
            "1817/1818 [============================>.] - ETA: 0s - loss: 0.9519 - accuracy: 0.6277 - f1_score: 0.6072"
          ]
        },
        {
          "name": "stderr",
          "output_type": "stream",
          "text": [
            "WARNING:absl:Found untraced functions such as _jit_compiled_convolution_op, _jit_compiled_convolution_op, _jit_compiled_convolution_op, _jit_compiled_convolution_op, query_layer_call_fn while saving (showing 5 of 28). These functions will not be directly callable after loading.\n",
            "\u001b[34m\u001b[1mwandb\u001b[0m: Adding directory to artifact (/content/gdrive/MyDrive/RifleAction/wandb/run-20230805_151610-w413jfsd/files/model-best)... Done. 0.0s\n"
          ]
        },
        {
          "name": "stdout",
          "output_type": "stream",
          "text": [
            "1818/1818 [==============================] - 30s 16ms/step - loss: 0.9518 - accuracy: 0.6277 - f1_score: 0.6072 - val_loss: 0.9236 - val_accuracy: 0.6061 - val_f1_score: 0.5812\n",
            "Epoch 4/60\n",
            "1817/1818 [============================>.] - ETA: 0s - loss: 0.9112 - accuracy: 0.6440 - f1_score: 0.6271"
          ]
        },
        {
          "name": "stderr",
          "output_type": "stream",
          "text": [
            "WARNING:absl:Found untraced functions such as _jit_compiled_convolution_op, _jit_compiled_convolution_op, _jit_compiled_convolution_op, _jit_compiled_convolution_op, query_layer_call_fn while saving (showing 5 of 28). These functions will not be directly callable after loading.\n",
            "\u001b[34m\u001b[1mwandb\u001b[0m: Adding directory to artifact (/content/gdrive/MyDrive/RifleAction/wandb/run-20230805_151610-w413jfsd/files/model-best)... Done. 0.0s\n"
          ]
        },
        {
          "name": "stdout",
          "output_type": "stream",
          "text": [
            "1818/1818 [==============================] - 31s 17ms/step - loss: 0.9112 - accuracy: 0.6441 - f1_score: 0.6271 - val_loss: 0.8964 - val_accuracy: 0.6251 - val_f1_score: 0.6125\n",
            "Epoch 5/60\n",
            "1817/1818 [============================>.] - ETA: 0s - loss: 0.8852 - accuracy: 0.6543 - f1_score: 0.6396"
          ]
        },
        {
          "name": "stderr",
          "output_type": "stream",
          "text": [
            "WARNING:absl:Found untraced functions such as _jit_compiled_convolution_op, _jit_compiled_convolution_op, _jit_compiled_convolution_op, _jit_compiled_convolution_op, query_layer_call_fn while saving (showing 5 of 28). These functions will not be directly callable after loading.\n",
            "\u001b[34m\u001b[1mwandb\u001b[0m: Adding directory to artifact (/content/gdrive/MyDrive/RifleAction/wandb/run-20230805_151610-w413jfsd/files/model-best)... Done. 0.0s\n"
          ]
        },
        {
          "name": "stdout",
          "output_type": "stream",
          "text": [
            "1818/1818 [==============================] - 29s 16ms/step - loss: 0.8852 - accuracy: 0.6543 - f1_score: 0.6395 - val_loss: 0.8652 - val_accuracy: 0.6674 - val_f1_score: 0.6564\n",
            "Epoch 6/60\n",
            "1818/1818 [==============================] - 25s 14ms/step - loss: 0.8629 - accuracy: 0.6647 - f1_score: 0.6519 - val_loss: 0.8984 - val_accuracy: 0.6201 - val_f1_score: 0.6145\n",
            "Epoch 7/60\n",
            "1818/1818 [==============================] - 23s 12ms/step - loss: 0.8473 - accuracy: 0.6686 - f1_score: 0.6559 - val_loss: 0.8876 - val_accuracy: 0.6452 - val_f1_score: 0.6453\n",
            "Epoch 8/60\n",
            "1818/1818 [==============================] - 25s 14ms/step - loss: 0.8339 - accuracy: 0.6741 - f1_score: 0.6619 - val_loss: 0.9146 - val_accuracy: 0.6278 - val_f1_score: 0.6217\n",
            "Epoch 9/60\n",
            "1818/1818 [==============================] - 24s 13ms/step - loss: 0.8244 - accuracy: 0.6786 - f1_score: 0.6673 - val_loss: 0.8910 - val_accuracy: 0.6410 - val_f1_score: 0.6298\n",
            "Epoch 10/60\n",
            "1818/1818 [==============================] - 25s 14ms/step - loss: 0.8153 - accuracy: 0.6812 - f1_score: 0.6701 - val_loss: 0.9102 - val_accuracy: 0.6450 - val_f1_score: 0.6396\n",
            "Epoch 11/60\n",
            "1818/1818 [==============================] - 24s 13ms/step - loss: 0.8101 - accuracy: 0.6834 - f1_score: 0.6729 - val_loss: 0.9237 - val_accuracy: 0.6518 - val_f1_score: 0.6407\n",
            "Epoch 12/60\n",
            "1818/1818 [==============================] - 25s 14ms/step - loss: 0.8043 - accuracy: 0.6860 - f1_score: 0.6759 - val_loss: 0.9358 - val_accuracy: 0.6272 - val_f1_score: 0.6290\n",
            "Epoch 13/60\n",
            "1818/1818 [==============================] - 24s 13ms/step - loss: 0.7955 - accuracy: 0.6898 - f1_score: 0.6799 - val_loss: 0.9099 - val_accuracy: 0.6484 - val_f1_score: 0.6502\n",
            "Epoch 14/60\n",
            "1818/1818 [==============================] - 25s 14ms/step - loss: 0.7939 - accuracy: 0.6878 - f1_score: 0.6778 - val_loss: 0.9214 - val_accuracy: 0.6492 - val_f1_score: 0.6452\n",
            "Epoch 15/60\n",
            "1818/1818 [==============================] - 23s 13ms/step - loss: 0.7864 - accuracy: 0.6923 - f1_score: 0.6836 - val_loss: 0.8996 - val_accuracy: 0.6513 - val_f1_score: 0.6453\n"
          ]
        },
        {
          "data": {
            "text/html": [
              "Waiting for W&B process to finish... <strong style=\"color:green\">(success).</strong>"
            ],
            "text/plain": [
              "<IPython.core.display.HTML object>"
            ]
          },
          "metadata": {},
          "output_type": "display_data"
        },
        {
          "data": {
            "text/html": [
              "<style>\n",
              "    table.wandb td:nth-child(1) { padding: 0 10px; text-align: left ; width: auto;} td:nth-child(2) {text-align: left ; width: 100%}\n",
              "    .wandb-row { display: flex; flex-direction: row; flex-wrap: wrap; justify-content: flex-start; width: 100% }\n",
              "    .wandb-col { display: flex; flex-direction: column; flex-basis: 100%; flex: 1; padding: 10px; }\n",
              "    </style>\n",
              "<div class=\"wandb-row\"><div class=\"wandb-col\"><h3>Run history:</h3><br/><table class=\"wandb\"><tr><td>accuracy</td><td>▁▄▆▆▇▇▇▇███████</td></tr><tr><td>epoch</td><td>▁▁▂▃▃▃▄▅▅▅▆▇▇▇█</td></tr><tr><td>f1_score</td><td>▁▄▆▆▇▇▇▇███████</td></tr><tr><td>loss</td><td>█▄▃▃▂▂▂▂▁▁▁▁▁▁▁</td></tr><tr><td>val_accuracy</td><td>▁▇▅▆█▅▇▆▇▇▇▆▇▇▇</td></tr><tr><td>val_f1_score</td><td>▁▇▅▆█▆█▇▇▇▇▇███</td></tr><tr><td>val_loss</td><td>█▄▃▂▁▂▂▃▂▃▃▄▃▃▂</td></tr></table><br/></div><div class=\"wandb-col\"><h3>Run summary:</h3><br/><table class=\"wandb\"><tr><td>accuracy</td><td>0.6923</td></tr><tr><td>best_epoch</td><td>4</td></tr><tr><td>best_val_loss</td><td>0.86524</td></tr><tr><td>epoch</td><td>14</td></tr><tr><td>f1_score</td><td>0.68358</td></tr><tr><td>loss</td><td>0.78644</td></tr><tr><td>val_accuracy</td><td>0.65126</td></tr><tr><td>val_f1_score</td><td>0.64534</td></tr><tr><td>val_loss</td><td>0.89963</td></tr></table><br/></div></div>"
            ],
            "text/plain": [
              "<IPython.core.display.HTML object>"
            ]
          },
          "metadata": {},
          "output_type": "display_data"
        },
        {
          "data": {
            "text/html": [
              " View run <strong style=\"color:#cdcd00\">golden-sweep-35</strong> at: <a href='https://wandb.ai/remchat/defence-force/runs/w413jfsd' target=\"_blank\">https://wandb.ai/remchat/defence-force/runs/w413jfsd</a><br/> View job at <a href='https://wandb.ai/remchat/defence-force/jobs/QXJ0aWZhY3RDb2xsZWN0aW9uOjg3OTM1OTcx/version_details/v8' target=\"_blank\">https://wandb.ai/remchat/defence-force/jobs/QXJ0aWZhY3RDb2xsZWN0aW9uOjg3OTM1OTcx/version_details/v8</a><br/>Synced 5 W&B file(s), 1 media file(s), 25 artifact file(s) and 1 other file(s)"
            ],
            "text/plain": [
              "<IPython.core.display.HTML object>"
            ]
          },
          "metadata": {},
          "output_type": "display_data"
        },
        {
          "data": {
            "text/html": [
              "Find logs at: <code>./wandb/run-20230805_151610-w413jfsd/logs</code>"
            ],
            "text/plain": [
              "<IPython.core.display.HTML object>"
            ]
          },
          "metadata": {},
          "output_type": "display_data"
        },
        {
          "name": "stderr",
          "output_type": "stream",
          "text": [
            "\u001b[34m\u001b[1mwandb\u001b[0m: Agent Starting Run: 88fxe1h7 with config:\n",
            "\u001b[34m\u001b[1mwandb\u001b[0m: \tdropout: 0.1\n",
            "\u001b[34m\u001b[1mwandb\u001b[0m: \tepochs: 60\n",
            "\u001b[34m\u001b[1mwandb\u001b[0m: \tff_dim: 32\n",
            "\u001b[34m\u001b[1mwandb\u001b[0m: \thead_size: 64\n",
            "\u001b[34m\u001b[1mwandb\u001b[0m: \tlearning_rate: 0.001\n",
            "\u001b[34m\u001b[1mwandb\u001b[0m: \tmlp_dropout: 0.1\n",
            "\u001b[34m\u001b[1mwandb\u001b[0m: \tmlp_units: [64, 32, 16]\n",
            "\u001b[34m\u001b[1mwandb\u001b[0m: \tnum_heads: 4\n",
            "\u001b[34m\u001b[1mwandb\u001b[0m: \tnum_transformer_blocks: 6\n",
            "\u001b[34m\u001b[1mwandb\u001b[0m: \u001b[33mWARNING\u001b[0m Ignored wandb.init() arg project when running a sweep.\n"
          ]
        },
        {
          "data": {
            "text/html": [
              "Tracking run with wandb version 0.15.8"
            ],
            "text/plain": [
              "<IPython.core.display.HTML object>"
            ]
          },
          "metadata": {},
          "output_type": "display_data"
        },
        {
          "data": {
            "text/html": [
              "Run data is saved locally in <code>/content/gdrive/MyDrive/RifleAction/wandb/run-20230805_152506-88fxe1h7</code>"
            ],
            "text/plain": [
              "<IPython.core.display.HTML object>"
            ]
          },
          "metadata": {},
          "output_type": "display_data"
        },
        {
          "data": {
            "text/html": [
              "Syncing run <strong><a href='https://wandb.ai/remchat/defence-force/runs/88fxe1h7' target=\"_blank\">whole-sweep-36</a></strong> to <a href='https://wandb.ai/remchat/defence-force' target=\"_blank\">Weights & Biases</a> (<a href='https://wandb.me/run' target=\"_blank\">docs</a>)<br/>Sweep page: <a href='https://wandb.ai/remchat/defence-force/sweeps/k5lpmxhw' target=\"_blank\">https://wandb.ai/remchat/defence-force/sweeps/k5lpmxhw</a>"
            ],
            "text/plain": [
              "<IPython.core.display.HTML object>"
            ]
          },
          "metadata": {},
          "output_type": "display_data"
        },
        {
          "data": {
            "text/html": [
              " View project at <a href='https://wandb.ai/remchat/defence-force' target=\"_blank\">https://wandb.ai/remchat/defence-force</a>"
            ],
            "text/plain": [
              "<IPython.core.display.HTML object>"
            ]
          },
          "metadata": {},
          "output_type": "display_data"
        },
        {
          "data": {
            "text/html": [
              " View sweep at <a href='https://wandb.ai/remchat/defence-force/sweeps/k5lpmxhw' target=\"_blank\">https://wandb.ai/remchat/defence-force/sweeps/k5lpmxhw</a>"
            ],
            "text/plain": [
              "<IPython.core.display.HTML object>"
            ]
          },
          "metadata": {},
          "output_type": "display_data"
        },
        {
          "data": {
            "text/html": [
              " View run at <a href='https://wandb.ai/remchat/defence-force/runs/88fxe1h7' target=\"_blank\">https://wandb.ai/remchat/defence-force/runs/88fxe1h7</a>"
            ],
            "text/plain": [
              "<IPython.core.display.HTML object>"
            ]
          },
          "metadata": {},
          "output_type": "display_data"
        },
        {
          "name": "stdout",
          "output_type": "stream",
          "text": [
            "Epoch 1/60\n",
            "1818/1818 [==============================] - ETA: 0s - loss: 1.2358 - accuracy: 0.5339 - f1_score: 0.4973"
          ]
        },
        {
          "name": "stderr",
          "output_type": "stream",
          "text": [
            "WARNING:absl:Found untraced functions such as _jit_compiled_convolution_op, _jit_compiled_convolution_op, _jit_compiled_convolution_op, _jit_compiled_convolution_op, _jit_compiled_convolution_op while saving (showing 5 of 84). These functions will not be directly callable after loading.\n",
            "\u001b[34m\u001b[1mwandb\u001b[0m: Adding directory to artifact (/content/gdrive/MyDrive/RifleAction/wandb/run-20230805_152506-88fxe1h7/files/model-best)... Done. 0.0s\n"
          ]
        },
        {
          "name": "stdout",
          "output_type": "stream",
          "text": [
            "1818/1818 [==============================] - 68s 34ms/step - loss: 1.2358 - accuracy: 0.5339 - f1_score: 0.4973 - val_loss: 1.0667 - val_accuracy: 0.4988 - val_f1_score: 0.4533\n",
            "Epoch 2/60\n",
            "1818/1818 [==============================] - ETA: 0s - loss: 0.9446 - accuracy: 0.6334 - f1_score: 0.6039"
          ]
        },
        {
          "name": "stderr",
          "output_type": "stream",
          "text": [
            "WARNING:absl:Found untraced functions such as _jit_compiled_convolution_op, _jit_compiled_convolution_op, _jit_compiled_convolution_op, _jit_compiled_convolution_op, _jit_compiled_convolution_op while saving (showing 5 of 84). These functions will not be directly callable after loading.\n",
            "\u001b[34m\u001b[1mwandb\u001b[0m: Adding directory to artifact (/content/gdrive/MyDrive/RifleAction/wandb/run-20230805_152506-88fxe1h7/files/model-best)... Done. 0.1s\n"
          ]
        },
        {
          "name": "stdout",
          "output_type": "stream",
          "text": [
            "1818/1818 [==============================] - 64s 35ms/step - loss: 0.9446 - accuracy: 0.6334 - f1_score: 0.6039 - val_loss: 1.0227 - val_accuracy: 0.5413 - val_f1_score: 0.5091\n",
            "Epoch 3/60\n",
            "1818/1818 [==============================] - ETA: 0s - loss: 0.8615 - accuracy: 0.6636 - f1_score: 0.6434"
          ]
        },
        {
          "name": "stderr",
          "output_type": "stream",
          "text": [
            "WARNING:absl:Found untraced functions such as _jit_compiled_convolution_op, _jit_compiled_convolution_op, _jit_compiled_convolution_op, _jit_compiled_convolution_op, _jit_compiled_convolution_op while saving (showing 5 of 84). These functions will not be directly callable after loading.\n",
            "\u001b[34m\u001b[1mwandb\u001b[0m: Adding directory to artifact (/content/gdrive/MyDrive/RifleAction/wandb/run-20230805_152506-88fxe1h7/files/model-best)... Done. 0.0s\n"
          ]
        },
        {
          "name": "stdout",
          "output_type": "stream",
          "text": [
            "1818/1818 [==============================] - 63s 35ms/step - loss: 0.8615 - accuracy: 0.6636 - f1_score: 0.6434 - val_loss: 0.9785 - val_accuracy: 0.5871 - val_f1_score: 0.5847\n",
            "Epoch 4/60\n",
            "1817/1818 [============================>.] - ETA: 0s - loss: 0.8146 - accuracy: 0.6814 - f1_score: 0.6666"
          ]
        },
        {
          "name": "stderr",
          "output_type": "stream",
          "text": [
            "WARNING:absl:Found untraced functions such as _jit_compiled_convolution_op, _jit_compiled_convolution_op, _jit_compiled_convolution_op, _jit_compiled_convolution_op, _jit_compiled_convolution_op while saving (showing 5 of 84). These functions will not be directly callable after loading.\n",
            "\u001b[34m\u001b[1mwandb\u001b[0m: Adding directory to artifact (/content/gdrive/MyDrive/RifleAction/wandb/run-20230805_152506-88fxe1h7/files/model-best)... Done. 0.0s\n"
          ]
        },
        {
          "name": "stdout",
          "output_type": "stream",
          "text": [
            "1818/1818 [==============================] - 61s 34ms/step - loss: 0.8146 - accuracy: 0.6814 - f1_score: 0.6666 - val_loss: 0.9479 - val_accuracy: 0.6070 - val_f1_score: 0.6051\n",
            "Epoch 5/60\n",
            "1818/1818 [==============================] - 50s 27ms/step - loss: 0.7842 - accuracy: 0.6936 - f1_score: 0.6836 - val_loss: 0.9509 - val_accuracy: 0.6018 - val_f1_score: 0.6037\n",
            "Epoch 6/60\n",
            "1818/1818 [==============================] - 52s 29ms/step - loss: 0.7595 - accuracy: 0.7027 - f1_score: 0.6949 - val_loss: 0.9542 - val_accuracy: 0.6268 - val_f1_score: 0.6330\n",
            "Epoch 7/60\n",
            "1818/1818 [==============================] - 51s 28ms/step - loss: 0.7375 - accuracy: 0.7119 - f1_score: 0.7061 - val_loss: 0.9879 - val_accuracy: 0.6062 - val_f1_score: 0.6175\n",
            "Epoch 8/60\n",
            "1818/1818 [==============================] - 49s 27ms/step - loss: 0.7215 - accuracy: 0.7188 - f1_score: 0.7139 - val_loss: 0.9963 - val_accuracy: 0.6144 - val_f1_score: 0.6208\n",
            "Epoch 9/60\n",
            "1818/1818 [==============================] - 51s 28ms/step - loss: 0.7083 - accuracy: 0.7243 - f1_score: 0.7200 - val_loss: 1.0307 - val_accuracy: 0.6074 - val_f1_score: 0.6168\n",
            "Epoch 10/60\n",
            "1818/1818 [==============================] - 53s 29ms/step - loss: 0.6940 - accuracy: 0.7296 - f1_score: 0.7260 - val_loss: 0.9935 - val_accuracy: 0.6174 - val_f1_score: 0.6270\n",
            "Epoch 11/60\n",
            "1818/1818 [==============================] - 50s 28ms/step - loss: 0.6869 - accuracy: 0.7328 - f1_score: 0.7294 - val_loss: 0.9958 - val_accuracy: 0.6265 - val_f1_score: 0.6310\n",
            "Epoch 12/60\n",
            "1818/1818 [==============================] - 50s 28ms/step - loss: 0.6787 - accuracy: 0.7360 - f1_score: 0.7329 - val_loss: 1.0755 - val_accuracy: 0.5978 - val_f1_score: 0.6079\n",
            "Epoch 13/60\n",
            "1818/1818 [==============================] - 51s 28ms/step - loss: 0.6707 - accuracy: 0.7394 - f1_score: 0.7366 - val_loss: 0.9998 - val_accuracy: 0.6247 - val_f1_score: 0.6324\n",
            "Epoch 14/60\n",
            "1818/1818 [==============================] - 53s 29ms/step - loss: 0.6627 - accuracy: 0.7429 - f1_score: 0.7402 - val_loss: 1.0022 - val_accuracy: 0.6280 - val_f1_score: 0.6310\n",
            "Epoch 15/60\n",
            "1818/1818 [==============================] - 50s 27ms/step - loss: 0.6571 - accuracy: 0.7445 - f1_score: 0.7419 - val_loss: 1.0935 - val_accuracy: 0.6053 - val_f1_score: 0.6181\n",
            "Epoch 16/60\n",
            "1818/1818 [==============================] - 51s 28ms/step - loss: 0.6525 - accuracy: 0.7461 - f1_score: 0.7436 - val_loss: 1.0833 - val_accuracy: 0.6064 - val_f1_score: 0.6161\n"
          ]
        },
        {
          "data": {
            "text/html": [
              "Waiting for W&B process to finish... <strong style=\"color:green\">(success).</strong>"
            ],
            "text/plain": [
              "<IPython.core.display.HTML object>"
            ]
          },
          "metadata": {},
          "output_type": "display_data"
        },
        {
          "data": {
            "text/html": [
              "<style>\n",
              "    table.wandb td:nth-child(1) { padding: 0 10px; text-align: left ; width: auto;} td:nth-child(2) {text-align: left ; width: 100%}\n",
              "    .wandb-row { display: flex; flex-direction: row; flex-wrap: wrap; justify-content: flex-start; width: 100% }\n",
              "    .wandb-col { display: flex; flex-direction: column; flex-basis: 100%; flex: 1; padding: 10px; }\n",
              "    </style>\n",
              "<div class=\"wandb-row\"><div class=\"wandb-col\"><h3>Run history:</h3><br/><table class=\"wandb\"><tr><td>accuracy</td><td>▁▄▅▆▆▇▇▇▇▇██████</td></tr><tr><td>epoch</td><td>▁▁▂▂▃▃▄▄▅▅▆▆▇▇██</td></tr><tr><td>f1_score</td><td>▁▄▅▆▆▇▇▇▇▇██████</td></tr><tr><td>loss</td><td>█▅▄▃▃▂▂▂▂▁▁▁▁▁▁▁</td></tr><tr><td>val_accuracy</td><td>▁▃▆▇▇█▇▇▇▇█▆██▇▇</td></tr><tr><td>val_f1_score</td><td>▁▃▆▇▇█▇█▇██▇██▇▇</td></tr><tr><td>val_loss</td><td>▇▅▂▁▁▁▃▃▅▃▃▇▃▄██</td></tr></table><br/></div><div class=\"wandb-col\"><h3>Run summary:</h3><br/><table class=\"wandb\"><tr><td>accuracy</td><td>0.74613</td></tr><tr><td>best_epoch</td><td>3</td></tr><tr><td>best_val_loss</td><td>0.94786</td></tr><tr><td>epoch</td><td>15</td></tr><tr><td>f1_score</td><td>0.74364</td></tr><tr><td>loss</td><td>0.65255</td></tr><tr><td>val_accuracy</td><td>0.60642</td></tr><tr><td>val_f1_score</td><td>0.61612</td></tr><tr><td>val_loss</td><td>1.08334</td></tr></table><br/></div></div>"
            ],
            "text/plain": [
              "<IPython.core.display.HTML object>"
            ]
          },
          "metadata": {},
          "output_type": "display_data"
        },
        {
          "data": {
            "text/html": [
              " View run <strong style=\"color:#cdcd00\">whole-sweep-36</strong> at: <a href='https://wandb.ai/remchat/defence-force/runs/88fxe1h7' target=\"_blank\">https://wandb.ai/remchat/defence-force/runs/88fxe1h7</a><br/> View job at <a href='https://wandb.ai/remchat/defence-force/jobs/QXJ0aWZhY3RDb2xsZWN0aW9uOjg3OTM1OTcx/version_details/v9' target=\"_blank\">https://wandb.ai/remchat/defence-force/jobs/QXJ0aWZhY3RDb2xsZWN0aW9uOjg3OTM1OTcx/version_details/v9</a><br/>Synced 5 W&B file(s), 1 media file(s), 20 artifact file(s) and 1 other file(s)"
            ],
            "text/plain": [
              "<IPython.core.display.HTML object>"
            ]
          },
          "metadata": {},
          "output_type": "display_data"
        },
        {
          "data": {
            "text/html": [
              "Find logs at: <code>./wandb/run-20230805_152506-88fxe1h7/logs</code>"
            ],
            "text/plain": [
              "<IPython.core.display.HTML object>"
            ]
          },
          "metadata": {},
          "output_type": "display_data"
        },
        {
          "name": "stderr",
          "output_type": "stream",
          "text": [
            "\u001b[34m\u001b[1mwandb\u001b[0m: Agent Starting Run: l7f2fprb with config:\n",
            "\u001b[34m\u001b[1mwandb\u001b[0m: \tdropout: 0.5\n",
            "\u001b[34m\u001b[1mwandb\u001b[0m: \tepochs: 60\n",
            "\u001b[34m\u001b[1mwandb\u001b[0m: \tff_dim: 16\n",
            "\u001b[34m\u001b[1mwandb\u001b[0m: \thead_size: 64\n",
            "\u001b[34m\u001b[1mwandb\u001b[0m: \tlearning_rate: 3e-05\n",
            "\u001b[34m\u001b[1mwandb\u001b[0m: \tmlp_dropout: 0.5\n",
            "\u001b[34m\u001b[1mwandb\u001b[0m: \tmlp_units: [128, 64]\n",
            "\u001b[34m\u001b[1mwandb\u001b[0m: \tnum_heads: 4\n",
            "\u001b[34m\u001b[1mwandb\u001b[0m: \tnum_transformer_blocks: 6\n",
            "\u001b[34m\u001b[1mwandb\u001b[0m: \u001b[33mWARNING\u001b[0m Ignored wandb.init() arg project when running a sweep.\n"
          ]
        },
        {
          "data": {
            "text/html": [
              "Tracking run with wandb version 0.15.8"
            ],
            "text/plain": [
              "<IPython.core.display.HTML object>"
            ]
          },
          "metadata": {},
          "output_type": "display_data"
        },
        {
          "data": {
            "text/html": [
              "Run data is saved locally in <code>/content/gdrive/MyDrive/RifleAction/wandb/run-20230805_154154-l7f2fprb</code>"
            ],
            "text/plain": [
              "<IPython.core.display.HTML object>"
            ]
          },
          "metadata": {},
          "output_type": "display_data"
        },
        {
          "data": {
            "text/html": [
              "Syncing run <strong><a href='https://wandb.ai/remchat/defence-force/runs/l7f2fprb' target=\"_blank\">super-sweep-37</a></strong> to <a href='https://wandb.ai/remchat/defence-force' target=\"_blank\">Weights & Biases</a> (<a href='https://wandb.me/run' target=\"_blank\">docs</a>)<br/>Sweep page: <a href='https://wandb.ai/remchat/defence-force/sweeps/k5lpmxhw' target=\"_blank\">https://wandb.ai/remchat/defence-force/sweeps/k5lpmxhw</a>"
            ],
            "text/plain": [
              "<IPython.core.display.HTML object>"
            ]
          },
          "metadata": {},
          "output_type": "display_data"
        },
        {
          "data": {
            "text/html": [
              " View project at <a href='https://wandb.ai/remchat/defence-force' target=\"_blank\">https://wandb.ai/remchat/defence-force</a>"
            ],
            "text/plain": [
              "<IPython.core.display.HTML object>"
            ]
          },
          "metadata": {},
          "output_type": "display_data"
        },
        {
          "data": {
            "text/html": [
              " View sweep at <a href='https://wandb.ai/remchat/defence-force/sweeps/k5lpmxhw' target=\"_blank\">https://wandb.ai/remchat/defence-force/sweeps/k5lpmxhw</a>"
            ],
            "text/plain": [
              "<IPython.core.display.HTML object>"
            ]
          },
          "metadata": {},
          "output_type": "display_data"
        },
        {
          "data": {
            "text/html": [
              " View run at <a href='https://wandb.ai/remchat/defence-force/runs/l7f2fprb' target=\"_blank\">https://wandb.ai/remchat/defence-force/runs/l7f2fprb</a>"
            ],
            "text/plain": [
              "<IPython.core.display.HTML object>"
            ]
          },
          "metadata": {},
          "output_type": "display_data"
        },
        {
          "name": "stdout",
          "output_type": "stream",
          "text": [
            "Epoch 1/60\n",
            "1817/1818 [============================>.] - ETA: 0s - loss: 2.0971 - accuracy: 0.2743 - f1_score: 0.2030"
          ]
        },
        {
          "name": "stderr",
          "output_type": "stream",
          "text": [
            "WARNING:absl:Found untraced functions such as _jit_compiled_convolution_op, _jit_compiled_convolution_op, _jit_compiled_convolution_op, _jit_compiled_convolution_op, _jit_compiled_convolution_op while saving (showing 5 of 84). These functions will not be directly callable after loading.\n",
            "\u001b[34m\u001b[1mwandb\u001b[0m: Adding directory to artifact (/content/gdrive/MyDrive/RifleAction/wandb/run-20230805_154154-l7f2fprb/files/model-best)... Done. 0.0s\n"
          ]
        },
        {
          "name": "stdout",
          "output_type": "stream",
          "text": [
            "1818/1818 [==============================] - 67s 33ms/step - loss: 2.0970 - accuracy: 0.2743 - f1_score: 0.2030 - val_loss: 1.9175 - val_accuracy: 0.3744 - val_f1_score: 0.2040\n",
            "Epoch 2/60\n",
            "1817/1818 [============================>.] - ETA: 0s - loss: 1.8788 - accuracy: 0.3523 - f1_score: 0.2289"
          ]
        },
        {
          "name": "stderr",
          "output_type": "stream",
          "text": [
            "WARNING:absl:Found untraced functions such as _jit_compiled_convolution_op, _jit_compiled_convolution_op, _jit_compiled_convolution_op, _jit_compiled_convolution_op, _jit_compiled_convolution_op while saving (showing 5 of 84). These functions will not be directly callable after loading.\n",
            "\u001b[34m\u001b[1mwandb\u001b[0m: Adding directory to artifact (/content/gdrive/MyDrive/RifleAction/wandb/run-20230805_154154-l7f2fprb/files/model-best)... Done. 0.1s\n"
          ]
        },
        {
          "name": "stdout",
          "output_type": "stream",
          "text": [
            "1818/1818 [==============================] - 63s 35ms/step - loss: 1.8788 - accuracy: 0.3523 - f1_score: 0.2289 - val_loss: 1.8087 - val_accuracy: 0.3745 - val_f1_score: 0.2042\n",
            "Epoch 3/60\n",
            "1816/1818 [============================>.] - ETA: 0s - loss: 1.7845 - accuracy: 0.3758 - f1_score: 0.2750"
          ]
        },
        {
          "name": "stderr",
          "output_type": "stream",
          "text": [
            "WARNING:absl:Found untraced functions such as _jit_compiled_convolution_op, _jit_compiled_convolution_op, _jit_compiled_convolution_op, _jit_compiled_convolution_op, _jit_compiled_convolution_op while saving (showing 5 of 84). These functions will not be directly callable after loading.\n",
            "\u001b[34m\u001b[1mwandb\u001b[0m: Adding directory to artifact (/content/gdrive/MyDrive/RifleAction/wandb/run-20230805_154154-l7f2fprb/files/model-best)... Done. 0.1s\n"
          ]
        },
        {
          "name": "stdout",
          "output_type": "stream",
          "text": [
            "1818/1818 [==============================] - 61s 33ms/step - loss: 1.7845 - accuracy: 0.3758 - f1_score: 0.2749 - val_loss: 1.6988 - val_accuracy: 0.4002 - val_f1_score: 0.2494\n",
            "Epoch 4/60\n",
            "1816/1818 [============================>.] - ETA: 0s - loss: 1.7055 - accuracy: 0.3914 - f1_score: 0.3041"
          ]
        },
        {
          "name": "stderr",
          "output_type": "stream",
          "text": [
            "WARNING:absl:Found untraced functions such as _jit_compiled_convolution_op, _jit_compiled_convolution_op, _jit_compiled_convolution_op, _jit_compiled_convolution_op, _jit_compiled_convolution_op while saving (showing 5 of 84). These functions will not be directly callable after loading.\n",
            "\u001b[34m\u001b[1mwandb\u001b[0m: Adding directory to artifact (/content/gdrive/MyDrive/RifleAction/wandb/run-20230805_154154-l7f2fprb/files/model-best)... Done. 0.1s\n"
          ]
        },
        {
          "name": "stdout",
          "output_type": "stream",
          "text": [
            "1818/1818 [==============================] - 61s 34ms/step - loss: 1.7053 - accuracy: 0.3915 - f1_score: 0.3042 - val_loss: 1.6043 - val_accuracy: 0.4332 - val_f1_score: 0.3069\n",
            "Epoch 5/60\n",
            "1817/1818 [============================>.] - ETA: 0s - loss: 1.6376 - accuracy: 0.4068 - f1_score: 0.3309"
          ]
        },
        {
          "name": "stderr",
          "output_type": "stream",
          "text": [
            "WARNING:absl:Found untraced functions such as _jit_compiled_convolution_op, _jit_compiled_convolution_op, _jit_compiled_convolution_op, _jit_compiled_convolution_op, _jit_compiled_convolution_op while saving (showing 5 of 84). These functions will not be directly callable after loading.\n",
            "\u001b[34m\u001b[1mwandb\u001b[0m: Adding directory to artifact (/content/gdrive/MyDrive/RifleAction/wandb/run-20230805_154154-l7f2fprb/files/model-best)... Done. 0.1s\n"
          ]
        },
        {
          "name": "stdout",
          "output_type": "stream",
          "text": [
            "1818/1818 [==============================] - 61s 34ms/step - loss: 1.6375 - accuracy: 0.4069 - f1_score: 0.3310 - val_loss: 1.5404 - val_accuracy: 0.4373 - val_f1_score: 0.3157\n",
            "Epoch 6/60\n",
            "1816/1818 [============================>.] - ETA: 0s - loss: 1.5842 - accuracy: 0.4193 - f1_score: 0.3510"
          ]
        },
        {
          "name": "stderr",
          "output_type": "stream",
          "text": [
            "WARNING:absl:Found untraced functions such as _jit_compiled_convolution_op, _jit_compiled_convolution_op, _jit_compiled_convolution_op, _jit_compiled_convolution_op, _jit_compiled_convolution_op while saving (showing 5 of 84). These functions will not be directly callable after loading.\n",
            "\u001b[34m\u001b[1mwandb\u001b[0m: Adding directory to artifact (/content/gdrive/MyDrive/RifleAction/wandb/run-20230805_154154-l7f2fprb/files/model-best)... Done. 0.0s\n"
          ]
        },
        {
          "name": "stdout",
          "output_type": "stream",
          "text": [
            "1818/1818 [==============================] - 59s 33ms/step - loss: 1.5841 - accuracy: 0.4193 - f1_score: 0.3510 - val_loss: 1.4894 - val_accuracy: 0.4536 - val_f1_score: 0.3388\n",
            "Epoch 7/60\n",
            "1817/1818 [============================>.] - ETA: 0s - loss: 1.5413 - accuracy: 0.4295 - f1_score: 0.3676"
          ]
        },
        {
          "name": "stderr",
          "output_type": "stream",
          "text": [
            "WARNING:absl:Found untraced functions such as _jit_compiled_convolution_op, _jit_compiled_convolution_op, _jit_compiled_convolution_op, _jit_compiled_convolution_op, _jit_compiled_convolution_op while saving (showing 5 of 84). These functions will not be directly callable after loading.\n",
            "\u001b[34m\u001b[1mwandb\u001b[0m: Adding directory to artifact (/content/gdrive/MyDrive/RifleAction/wandb/run-20230805_154154-l7f2fprb/files/model-best)... Done. 0.0s\n"
          ]
        },
        {
          "name": "stdout",
          "output_type": "stream",
          "text": [
            "1818/1818 [==============================] - 60s 33ms/step - loss: 1.5413 - accuracy: 0.4295 - f1_score: 0.3676 - val_loss: 1.4459 - val_accuracy: 0.4532 - val_f1_score: 0.3435\n",
            "Epoch 8/60\n",
            "1816/1818 [============================>.] - ETA: 0s - loss: 1.5023 - accuracy: 0.4405 - f1_score: 0.3827"
          ]
        },
        {
          "name": "stderr",
          "output_type": "stream",
          "text": [
            "WARNING:absl:Found untraced functions such as _jit_compiled_convolution_op, _jit_compiled_convolution_op, _jit_compiled_convolution_op, _jit_compiled_convolution_op, _jit_compiled_convolution_op while saving (showing 5 of 84). These functions will not be directly callable after loading.\n",
            "\u001b[34m\u001b[1mwandb\u001b[0m: Adding directory to artifact (/content/gdrive/MyDrive/RifleAction/wandb/run-20230805_154154-l7f2fprb/files/model-best)... Done. 0.0s\n"
          ]
        },
        {
          "name": "stdout",
          "output_type": "stream",
          "text": [
            "1818/1818 [==============================] - 60s 33ms/step - loss: 1.5024 - accuracy: 0.4405 - f1_score: 0.3827 - val_loss: 1.4104 - val_accuracy: 0.4563 - val_f1_score: 0.3494\n",
            "Epoch 9/60\n",
            "1817/1818 [============================>.] - ETA: 0s - loss: 1.4703 - accuracy: 0.4501 - f1_score: 0.3961"
          ]
        },
        {
          "name": "stderr",
          "output_type": "stream",
          "text": [
            "WARNING:absl:Found untraced functions such as _jit_compiled_convolution_op, _jit_compiled_convolution_op, _jit_compiled_convolution_op, _jit_compiled_convolution_op, _jit_compiled_convolution_op while saving (showing 5 of 84). These functions will not be directly callable after loading.\n",
            "\u001b[34m\u001b[1mwandb\u001b[0m: Adding directory to artifact (/content/gdrive/MyDrive/RifleAction/wandb/run-20230805_154154-l7f2fprb/files/model-best)... Done. 0.0s\n"
          ]
        },
        {
          "name": "stdout",
          "output_type": "stream",
          "text": [
            "1818/1818 [==============================] - 60s 33ms/step - loss: 1.4703 - accuracy: 0.4501 - f1_score: 0.3961 - val_loss: 1.3616 - val_accuracy: 0.4601 - val_f1_score: 0.3532\n",
            "Epoch 10/60\n",
            "1817/1818 [============================>.] - ETA: 0s - loss: 1.4392 - accuracy: 0.4601 - f1_score: 0.4085"
          ]
        },
        {
          "name": "stderr",
          "output_type": "stream",
          "text": [
            "WARNING:absl:Found untraced functions such as _jit_compiled_convolution_op, _jit_compiled_convolution_op, _jit_compiled_convolution_op, _jit_compiled_convolution_op, _jit_compiled_convolution_op while saving (showing 5 of 84). These functions will not be directly callable after loading.\n",
            "\u001b[34m\u001b[1mwandb\u001b[0m: Adding directory to artifact (/content/gdrive/MyDrive/RifleAction/wandb/run-20230805_154154-l7f2fprb/files/model-best)... Done. 0.0s\n"
          ]
        },
        {
          "name": "stdout",
          "output_type": "stream",
          "text": [
            "1818/1818 [==============================] - 61s 33ms/step - loss: 1.4393 - accuracy: 0.4601 - f1_score: 0.4085 - val_loss: 1.3383 - val_accuracy: 0.4577 - val_f1_score: 0.3540\n",
            "Epoch 11/60\n",
            "1817/1818 [============================>.] - ETA: 0s - loss: 1.4136 - accuracy: 0.4687 - f1_score: 0.4189"
          ]
        },
        {
          "name": "stderr",
          "output_type": "stream",
          "text": [
            "WARNING:absl:Found untraced functions such as _jit_compiled_convolution_op, _jit_compiled_convolution_op, _jit_compiled_convolution_op, _jit_compiled_convolution_op, _jit_compiled_convolution_op while saving (showing 5 of 84). These functions will not be directly callable after loading.\n",
            "\u001b[34m\u001b[1mwandb\u001b[0m: Adding directory to artifact (/content/gdrive/MyDrive/RifleAction/wandb/run-20230805_154154-l7f2fprb/files/model-best)... Done. 0.0s\n"
          ]
        },
        {
          "name": "stdout",
          "output_type": "stream",
          "text": [
            "1818/1818 [==============================] - 61s 33ms/step - loss: 1.4137 - accuracy: 0.4687 - f1_score: 0.4189 - val_loss: 1.2853 - val_accuracy: 0.4648 - val_f1_score: 0.3607\n",
            "Epoch 12/60\n",
            "1817/1818 [============================>.] - ETA: 0s - loss: 1.3873 - accuracy: 0.4764 - f1_score: 0.4285"
          ]
        },
        {
          "name": "stderr",
          "output_type": "stream",
          "text": [
            "WARNING:absl:Found untraced functions such as _jit_compiled_convolution_op, _jit_compiled_convolution_op, _jit_compiled_convolution_op, _jit_compiled_convolution_op, _jit_compiled_convolution_op while saving (showing 5 of 84). These functions will not be directly callable after loading.\n",
            "\u001b[34m\u001b[1mwandb\u001b[0m: Adding directory to artifact (/content/gdrive/MyDrive/RifleAction/wandb/run-20230805_154154-l7f2fprb/files/model-best)... Done. 0.0s\n"
          ]
        },
        {
          "name": "stdout",
          "output_type": "stream",
          "text": [
            "1818/1818 [==============================] - 63s 35ms/step - loss: 1.3874 - accuracy: 0.4764 - f1_score: 0.4285 - val_loss: 1.2504 - val_accuracy: 0.4703 - val_f1_score: 0.3676\n",
            "Epoch 13/60\n",
            "1818/1818 [==============================] - ETA: 0s - loss: 1.3653 - accuracy: 0.4857 - f1_score: 0.4394"
          ]
        },
        {
          "name": "stderr",
          "output_type": "stream",
          "text": [
            "WARNING:absl:Found untraced functions such as _jit_compiled_convolution_op, _jit_compiled_convolution_op, _jit_compiled_convolution_op, _jit_compiled_convolution_op, _jit_compiled_convolution_op while saving (showing 5 of 84). These functions will not be directly callable after loading.\n",
            "\u001b[34m\u001b[1mwandb\u001b[0m: Adding directory to artifact (/content/gdrive/MyDrive/RifleAction/wandb/run-20230805_154154-l7f2fprb/files/model-best)... Done. 0.1s\n"
          ]
        },
        {
          "name": "stdout",
          "output_type": "stream",
          "text": [
            "1818/1818 [==============================] - 60s 33ms/step - loss: 1.3653 - accuracy: 0.4857 - f1_score: 0.4394 - val_loss: 1.2289 - val_accuracy: 0.4725 - val_f1_score: 0.3705\n",
            "Epoch 14/60\n",
            "1818/1818 [==============================] - ETA: 0s - loss: 1.3454 - accuracy: 0.4893 - f1_score: 0.4439"
          ]
        },
        {
          "name": "stderr",
          "output_type": "stream",
          "text": [
            "WARNING:absl:Found untraced functions such as _jit_compiled_convolution_op, _jit_compiled_convolution_op, _jit_compiled_convolution_op, _jit_compiled_convolution_op, _jit_compiled_convolution_op while saving (showing 5 of 84). These functions will not be directly callable after loading.\n",
            "\u001b[34m\u001b[1mwandb\u001b[0m: Adding directory to artifact (/content/gdrive/MyDrive/RifleAction/wandb/run-20230805_154154-l7f2fprb/files/model-best)... Done. 0.1s\n"
          ]
        },
        {
          "name": "stdout",
          "output_type": "stream",
          "text": [
            "1818/1818 [==============================] - 59s 32ms/step - loss: 1.3454 - accuracy: 0.4893 - f1_score: 0.4439 - val_loss: 1.2156 - val_accuracy: 0.4739 - val_f1_score: 0.3744\n",
            "Epoch 15/60\n",
            "1817/1818 [============================>.] - ETA: 0s - loss: 1.3291 - accuracy: 0.4953 - f1_score: 0.4516"
          ]
        },
        {
          "name": "stderr",
          "output_type": "stream",
          "text": [
            "WARNING:absl:Found untraced functions such as _jit_compiled_convolution_op, _jit_compiled_convolution_op, _jit_compiled_convolution_op, _jit_compiled_convolution_op, _jit_compiled_convolution_op while saving (showing 5 of 84). These functions will not be directly callable after loading.\n",
            "\u001b[34m\u001b[1mwandb\u001b[0m: Adding directory to artifact (/content/gdrive/MyDrive/RifleAction/wandb/run-20230805_154154-l7f2fprb/files/model-best)... Done. 0.0s\n"
          ]
        },
        {
          "name": "stdout",
          "output_type": "stream",
          "text": [
            "1818/1818 [==============================] - 61s 34ms/step - loss: 1.3290 - accuracy: 0.4953 - f1_score: 0.4517 - val_loss: 1.2053 - val_accuracy: 0.4748 - val_f1_score: 0.3760\n",
            "Epoch 16/60\n",
            "1817/1818 [============================>.] - ETA: 0s - loss: 1.3095 - accuracy: 0.5026 - f1_score: 0.4592"
          ]
        },
        {
          "name": "stderr",
          "output_type": "stream",
          "text": [
            "WARNING:absl:Found untraced functions such as _jit_compiled_convolution_op, _jit_compiled_convolution_op, _jit_compiled_convolution_op, _jit_compiled_convolution_op, _jit_compiled_convolution_op while saving (showing 5 of 84). These functions will not be directly callable after loading.\n",
            "\u001b[34m\u001b[1mwandb\u001b[0m: Adding directory to artifact (/content/gdrive/MyDrive/RifleAction/wandb/run-20230805_154154-l7f2fprb/files/model-best)... Done. 0.0s\n"
          ]
        },
        {
          "name": "stdout",
          "output_type": "stream",
          "text": [
            "1818/1818 [==============================] - 61s 34ms/step - loss: 1.3094 - accuracy: 0.5026 - f1_score: 0.4592 - val_loss: 1.1913 - val_accuracy: 0.4806 - val_f1_score: 0.3845\n",
            "Epoch 17/60\n",
            "1818/1818 [==============================] - ETA: 0s - loss: 1.2963 - accuracy: 0.5067 - f1_score: 0.4646"
          ]
        },
        {
          "name": "stderr",
          "output_type": "stream",
          "text": [
            "WARNING:absl:Found untraced functions such as _jit_compiled_convolution_op, _jit_compiled_convolution_op, _jit_compiled_convolution_op, _jit_compiled_convolution_op, _jit_compiled_convolution_op while saving (showing 5 of 84). These functions will not be directly callable after loading.\n",
            "\u001b[34m\u001b[1mwandb\u001b[0m: Adding directory to artifact (/content/gdrive/MyDrive/RifleAction/wandb/run-20230805_154154-l7f2fprb/files/model-best)... Done. 0.0s\n"
          ]
        },
        {
          "name": "stdout",
          "output_type": "stream",
          "text": [
            "1818/1818 [==============================] - 59s 33ms/step - loss: 1.2963 - accuracy: 0.5067 - f1_score: 0.4646 - val_loss: 1.1819 - val_accuracy: 0.4848 - val_f1_score: 0.3910\n",
            "Epoch 18/60\n",
            "1818/1818 [==============================] - ETA: 0s - loss: 1.2810 - accuracy: 0.5106 - f1_score: 0.4680"
          ]
        },
        {
          "name": "stderr",
          "output_type": "stream",
          "text": [
            "WARNING:absl:Found untraced functions such as _jit_compiled_convolution_op, _jit_compiled_convolution_op, _jit_compiled_convolution_op, _jit_compiled_convolution_op, _jit_compiled_convolution_op while saving (showing 5 of 84). These functions will not be directly callable after loading.\n",
            "\u001b[34m\u001b[1mwandb\u001b[0m: Adding directory to artifact (/content/gdrive/MyDrive/RifleAction/wandb/run-20230805_154154-l7f2fprb/files/model-best)... Done. 0.0s\n"
          ]
        },
        {
          "name": "stdout",
          "output_type": "stream",
          "text": [
            "1818/1818 [==============================] - 60s 33ms/step - loss: 1.2810 - accuracy: 0.5106 - f1_score: 0.4680 - val_loss: 1.1795 - val_accuracy: 0.4851 - val_f1_score: 0.3922\n",
            "Epoch 19/60\n",
            "1818/1818 [==============================] - ETA: 0s - loss: 1.2678 - accuracy: 0.5154 - f1_score: 0.4739"
          ]
        },
        {
          "name": "stderr",
          "output_type": "stream",
          "text": [
            "WARNING:absl:Found untraced functions such as _jit_compiled_convolution_op, _jit_compiled_convolution_op, _jit_compiled_convolution_op, _jit_compiled_convolution_op, _jit_compiled_convolution_op while saving (showing 5 of 84). These functions will not be directly callable after loading.\n",
            "\u001b[34m\u001b[1mwandb\u001b[0m: Adding directory to artifact (/content/gdrive/MyDrive/RifleAction/wandb/run-20230805_154154-l7f2fprb/files/model-best)... Done. 0.0s\n"
          ]
        },
        {
          "name": "stdout",
          "output_type": "stream",
          "text": [
            "1818/1818 [==============================] - 60s 33ms/step - loss: 1.2678 - accuracy: 0.5154 - f1_score: 0.4739 - val_loss: 1.1675 - val_accuracy: 0.4907 - val_f1_score: 0.3998\n",
            "Epoch 20/60\n",
            "1816/1818 [============================>.] - ETA: 0s - loss: 1.2560 - accuracy: 0.5198 - f1_score: 0.4793"
          ]
        },
        {
          "name": "stderr",
          "output_type": "stream",
          "text": [
            "WARNING:absl:Found untraced functions such as _jit_compiled_convolution_op, _jit_compiled_convolution_op, _jit_compiled_convolution_op, _jit_compiled_convolution_op, _jit_compiled_convolution_op while saving (showing 5 of 84). These functions will not be directly callable after loading.\n",
            "\u001b[34m\u001b[1mwandb\u001b[0m: Adding directory to artifact (/content/gdrive/MyDrive/RifleAction/wandb/run-20230805_154154-l7f2fprb/files/model-best)... Done. 0.0s\n"
          ]
        },
        {
          "name": "stdout",
          "output_type": "stream",
          "text": [
            "1818/1818 [==============================] - 60s 33ms/step - loss: 1.2559 - accuracy: 0.5199 - f1_score: 0.4794 - val_loss: 1.1622 - val_accuracy: 0.4934 - val_f1_score: 0.4064\n",
            "Epoch 21/60\n",
            "1818/1818 [==============================] - ETA: 0s - loss: 1.2426 - accuracy: 0.5234 - f1_score: 0.4835"
          ]
        },
        {
          "name": "stderr",
          "output_type": "stream",
          "text": [
            "WARNING:absl:Found untraced functions such as _jit_compiled_convolution_op, _jit_compiled_convolution_op, _jit_compiled_convolution_op, _jit_compiled_convolution_op, _jit_compiled_convolution_op while saving (showing 5 of 84). These functions will not be directly callable after loading.\n",
            "\u001b[34m\u001b[1mwandb\u001b[0m: Adding directory to artifact (/content/gdrive/MyDrive/RifleAction/wandb/run-20230805_154154-l7f2fprb/files/model-best)... Done. 0.0s\n"
          ]
        },
        {
          "name": "stdout",
          "output_type": "stream",
          "text": [
            "1818/1818 [==============================] - 60s 33ms/step - loss: 1.2426 - accuracy: 0.5234 - f1_score: 0.4835 - val_loss: 1.1469 - val_accuracy: 0.5051 - val_f1_score: 0.4174\n",
            "Epoch 22/60\n",
            "1818/1818 [==============================] - 48s 27ms/step - loss: 1.2342 - accuracy: 0.5282 - f1_score: 0.4888 - val_loss: 1.1528 - val_accuracy: 0.4957 - val_f1_score: 0.4081\n",
            "Epoch 23/60\n",
            "1818/1818 [==============================] - 48s 27ms/step - loss: 1.2236 - accuracy: 0.5309 - f1_score: 0.4913 - val_loss: 1.1473 - val_accuracy: 0.4985 - val_f1_score: 0.4089\n",
            "Epoch 24/60\n",
            "1816/1818 [============================>.] - ETA: 0s - loss: 1.2121 - accuracy: 0.5350 - f1_score: 0.4959"
          ]
        },
        {
          "name": "stderr",
          "output_type": "stream",
          "text": [
            "WARNING:absl:Found untraced functions such as _jit_compiled_convolution_op, _jit_compiled_convolution_op, _jit_compiled_convolution_op, _jit_compiled_convolution_op, _jit_compiled_convolution_op while saving (showing 5 of 84). These functions will not be directly callable after loading.\n",
            "\u001b[34m\u001b[1mwandb\u001b[0m: Adding directory to artifact (/content/gdrive/MyDrive/RifleAction/wandb/run-20230805_154154-l7f2fprb/files/model-best)... Done. 0.0s\n"
          ]
        },
        {
          "name": "stdout",
          "output_type": "stream",
          "text": [
            "1818/1818 [==============================] - 60s 33ms/step - loss: 1.2120 - accuracy: 0.5350 - f1_score: 0.4960 - val_loss: 1.1363 - val_accuracy: 0.5053 - val_f1_score: 0.4172\n",
            "Epoch 25/60\n",
            "1818/1818 [==============================] - ETA: 0s - loss: 1.2070 - accuracy: 0.5352 - f1_score: 0.4963"
          ]
        },
        {
          "name": "stderr",
          "output_type": "stream",
          "text": [
            "WARNING:absl:Found untraced functions such as _jit_compiled_convolution_op, _jit_compiled_convolution_op, _jit_compiled_convolution_op, _jit_compiled_convolution_op, _jit_compiled_convolution_op while saving (showing 5 of 84). These functions will not be directly callable after loading.\n",
            "\u001b[34m\u001b[1mwandb\u001b[0m: Adding directory to artifact (/content/gdrive/MyDrive/RifleAction/wandb/run-20230805_154154-l7f2fprb/files/model-best)... Done. 0.0s\n"
          ]
        },
        {
          "name": "stdout",
          "output_type": "stream",
          "text": [
            "1818/1818 [==============================] - 61s 33ms/step - loss: 1.2070 - accuracy: 0.5352 - f1_score: 0.4963 - val_loss: 1.1323 - val_accuracy: 0.5038 - val_f1_score: 0.4142\n",
            "Epoch 26/60\n",
            "1817/1818 [============================>.] - ETA: 0s - loss: 1.1972 - accuracy: 0.5390 - f1_score: 0.5005"
          ]
        },
        {
          "name": "stderr",
          "output_type": "stream",
          "text": [
            "WARNING:absl:Found untraced functions such as _jit_compiled_convolution_op, _jit_compiled_convolution_op, _jit_compiled_convolution_op, _jit_compiled_convolution_op, _jit_compiled_convolution_op while saving (showing 5 of 84). These functions will not be directly callable after loading.\n",
            "\u001b[34m\u001b[1mwandb\u001b[0m: Adding directory to artifact (/content/gdrive/MyDrive/RifleAction/wandb/run-20230805_154154-l7f2fprb/files/model-best)... Done. 0.0s\n"
          ]
        },
        {
          "name": "stdout",
          "output_type": "stream",
          "text": [
            "1818/1818 [==============================] - 63s 35ms/step - loss: 1.1972 - accuracy: 0.5390 - f1_score: 0.5005 - val_loss: 1.1276 - val_accuracy: 0.5086 - val_f1_score: 0.4245\n",
            "Epoch 27/60\n",
            "1816/1818 [============================>.] - ETA: 0s - loss: 1.1893 - accuracy: 0.5422 - f1_score: 0.5048"
          ]
        },
        {
          "name": "stderr",
          "output_type": "stream",
          "text": [
            "WARNING:absl:Found untraced functions such as _jit_compiled_convolution_op, _jit_compiled_convolution_op, _jit_compiled_convolution_op, _jit_compiled_convolution_op, _jit_compiled_convolution_op while saving (showing 5 of 84). These functions will not be directly callable after loading.\n",
            "\u001b[34m\u001b[1mwandb\u001b[0m: Adding directory to artifact (/content/gdrive/MyDrive/RifleAction/wandb/run-20230805_154154-l7f2fprb/files/model-best)... Done. 0.0s\n"
          ]
        },
        {
          "name": "stdout",
          "output_type": "stream",
          "text": [
            "1818/1818 [==============================] - 61s 34ms/step - loss: 1.1893 - accuracy: 0.5421 - f1_score: 0.5047 - val_loss: 1.1243 - val_accuracy: 0.5082 - val_f1_score: 0.4225\n",
            "Epoch 28/60\n",
            "1817/1818 [============================>.] - ETA: 0s - loss: 1.1819 - accuracy: 0.5455 - f1_score: 0.5075"
          ]
        },
        {
          "name": "stderr",
          "output_type": "stream",
          "text": [
            "WARNING:absl:Found untraced functions such as _jit_compiled_convolution_op, _jit_compiled_convolution_op, _jit_compiled_convolution_op, _jit_compiled_convolution_op, _jit_compiled_convolution_op while saving (showing 5 of 84). These functions will not be directly callable after loading.\n",
            "\u001b[34m\u001b[1mwandb\u001b[0m: Adding directory to artifact (/content/gdrive/MyDrive/RifleAction/wandb/run-20230805_154154-l7f2fprb/files/model-best)... Done. 0.0s\n"
          ]
        },
        {
          "name": "stdout",
          "output_type": "stream",
          "text": [
            "1818/1818 [==============================] - 63s 34ms/step - loss: 1.1819 - accuracy: 0.5455 - f1_score: 0.5075 - val_loss: 1.1177 - val_accuracy: 0.5076 - val_f1_score: 0.4215\n",
            "Epoch 29/60\n",
            "1817/1818 [============================>.] - ETA: 0s - loss: 1.1762 - accuracy: 0.5489 - f1_score: 0.5114"
          ]
        },
        {
          "name": "stderr",
          "output_type": "stream",
          "text": [
            "WARNING:absl:Found untraced functions such as _jit_compiled_convolution_op, _jit_compiled_convolution_op, _jit_compiled_convolution_op, _jit_compiled_convolution_op, _jit_compiled_convolution_op while saving (showing 5 of 84). These functions will not be directly callable after loading.\n",
            "\u001b[34m\u001b[1mwandb\u001b[0m: Adding directory to artifact (/content/gdrive/MyDrive/RifleAction/wandb/run-20230805_154154-l7f2fprb/files/model-best)... Done. 0.0s\n"
          ]
        },
        {
          "name": "stdout",
          "output_type": "stream",
          "text": [
            "1818/1818 [==============================] - 61s 33ms/step - loss: 1.1762 - accuracy: 0.5489 - f1_score: 0.5114 - val_loss: 1.1069 - val_accuracy: 0.5174 - val_f1_score: 0.4344\n",
            "Epoch 30/60\n",
            "1818/1818 [==============================] - 48s 26ms/step - loss: 1.1672 - accuracy: 0.5514 - f1_score: 0.5145 - val_loss: 1.1095 - val_accuracy: 0.5158 - val_f1_score: 0.4327\n",
            "Epoch 31/60\n",
            "1817/1818 [============================>.] - ETA: 0s - loss: 1.1622 - accuracy: 0.5545 - f1_score: 0.5175"
          ]
        },
        {
          "name": "stderr",
          "output_type": "stream",
          "text": [
            "WARNING:absl:Found untraced functions such as _jit_compiled_convolution_op, _jit_compiled_convolution_op, _jit_compiled_convolution_op, _jit_compiled_convolution_op, _jit_compiled_convolution_op while saving (showing 5 of 84). These functions will not be directly callable after loading.\n",
            "\u001b[34m\u001b[1mwandb\u001b[0m: Adding directory to artifact (/content/gdrive/MyDrive/RifleAction/wandb/run-20230805_154154-l7f2fprb/files/model-best)... Done. 0.1s\n"
          ]
        },
        {
          "name": "stdout",
          "output_type": "stream",
          "text": [
            "1818/1818 [==============================] - 60s 33ms/step - loss: 1.1623 - accuracy: 0.5545 - f1_score: 0.5175 - val_loss: 1.0986 - val_accuracy: 0.5220 - val_f1_score: 0.4412\n",
            "Epoch 32/60\n",
            "1818/1818 [==============================] - 48s 26ms/step - loss: 1.1539 - accuracy: 0.5562 - f1_score: 0.5203 - val_loss: 1.0988 - val_accuracy: 0.5186 - val_f1_score: 0.4396\n",
            "Epoch 33/60\n",
            "1817/1818 [============================>.] - ETA: 0s - loss: 1.1498 - accuracy: 0.5586 - f1_score: 0.5225"
          ]
        },
        {
          "name": "stderr",
          "output_type": "stream",
          "text": [
            "WARNING:absl:Found untraced functions such as _jit_compiled_convolution_op, _jit_compiled_convolution_op, _jit_compiled_convolution_op, _jit_compiled_convolution_op, _jit_compiled_convolution_op while saving (showing 5 of 84). These functions will not be directly callable after loading.\n",
            "\u001b[34m\u001b[1mwandb\u001b[0m: Adding directory to artifact (/content/gdrive/MyDrive/RifleAction/wandb/run-20230805_154154-l7f2fprb/files/model-best)... Done. 0.1s\n"
          ]
        },
        {
          "name": "stdout",
          "output_type": "stream",
          "text": [
            "1818/1818 [==============================] - 63s 34ms/step - loss: 1.1498 - accuracy: 0.5586 - f1_score: 0.5225 - val_loss: 1.0901 - val_accuracy: 0.5281 - val_f1_score: 0.4537\n",
            "Epoch 34/60\n",
            "1818/1818 [==============================] - 48s 26ms/step - loss: 1.1448 - accuracy: 0.5605 - f1_score: 0.5245 - val_loss: 1.0912 - val_accuracy: 0.5220 - val_f1_score: 0.4449\n",
            "Epoch 35/60\n",
            "1818/1818 [==============================] - ETA: 0s - loss: 1.1393 - accuracy: 0.5623 - f1_score: 0.5265"
          ]
        },
        {
          "name": "stderr",
          "output_type": "stream",
          "text": [
            "WARNING:absl:Found untraced functions such as _jit_compiled_convolution_op, _jit_compiled_convolution_op, _jit_compiled_convolution_op, _jit_compiled_convolution_op, _jit_compiled_convolution_op while saving (showing 5 of 84). These functions will not be directly callable after loading.\n",
            "\u001b[34m\u001b[1mwandb\u001b[0m: Adding directory to artifact (/content/gdrive/MyDrive/RifleAction/wandb/run-20230805_154154-l7f2fprb/files/model-best)... Done. 0.1s\n"
          ]
        },
        {
          "name": "stdout",
          "output_type": "stream",
          "text": [
            "1818/1818 [==============================] - 60s 33ms/step - loss: 1.1393 - accuracy: 0.5623 - f1_score: 0.5265 - val_loss: 1.0893 - val_accuracy: 0.5223 - val_f1_score: 0.4458\n",
            "Epoch 36/60\n",
            "1817/1818 [============================>.] - ETA: 0s - loss: 1.1347 - accuracy: 0.5643 - f1_score: 0.5283"
          ]
        },
        {
          "name": "stderr",
          "output_type": "stream",
          "text": [
            "WARNING:absl:Found untraced functions such as _jit_compiled_convolution_op, _jit_compiled_convolution_op, _jit_compiled_convolution_op, _jit_compiled_convolution_op, _jit_compiled_convolution_op while saving (showing 5 of 84). These functions will not be directly callable after loading.\n",
            "\u001b[34m\u001b[1mwandb\u001b[0m: Adding directory to artifact (/content/gdrive/MyDrive/RifleAction/wandb/run-20230805_154154-l7f2fprb/files/model-best)... Done. 0.1s\n"
          ]
        },
        {
          "name": "stdout",
          "output_type": "stream",
          "text": [
            "1818/1818 [==============================] - 60s 33ms/step - loss: 1.1347 - accuracy: 0.5643 - f1_score: 0.5283 - val_loss: 1.0856 - val_accuracy: 0.5233 - val_f1_score: 0.4460\n",
            "Epoch 37/60\n",
            "1818/1818 [==============================] - ETA: 0s - loss: 1.1293 - accuracy: 0.5660 - f1_score: 0.5301"
          ]
        },
        {
          "name": "stderr",
          "output_type": "stream",
          "text": [
            "WARNING:absl:Found untraced functions such as _jit_compiled_convolution_op, _jit_compiled_convolution_op, _jit_compiled_convolution_op, _jit_compiled_convolution_op, _jit_compiled_convolution_op while saving (showing 5 of 84). These functions will not be directly callable after loading.\n",
            "\u001b[34m\u001b[1mwandb\u001b[0m: Adding directory to artifact (/content/gdrive/MyDrive/RifleAction/wandb/run-20230805_154154-l7f2fprb/files/model-best)... Done. 0.0s\n"
          ]
        },
        {
          "name": "stdout",
          "output_type": "stream",
          "text": [
            "1818/1818 [==============================] - 59s 32ms/step - loss: 1.1293 - accuracy: 0.5660 - f1_score: 0.5301 - val_loss: 1.0784 - val_accuracy: 0.5433 - val_f1_score: 0.4787\n",
            "Epoch 38/60\n",
            "1817/1818 [============================>.] - ETA: 0s - loss: 1.1253 - accuracy: 0.5688 - f1_score: 0.5334"
          ]
        },
        {
          "name": "stderr",
          "output_type": "stream",
          "text": [
            "WARNING:absl:Found untraced functions such as _jit_compiled_convolution_op, _jit_compiled_convolution_op, _jit_compiled_convolution_op, _jit_compiled_convolution_op, _jit_compiled_convolution_op while saving (showing 5 of 84). These functions will not be directly callable after loading.\n",
            "\u001b[34m\u001b[1mwandb\u001b[0m: Adding directory to artifact (/content/gdrive/MyDrive/RifleAction/wandb/run-20230805_154154-l7f2fprb/files/model-best)... Done. 0.0s\n"
          ]
        },
        {
          "name": "stdout",
          "output_type": "stream",
          "text": [
            "1818/1818 [==============================] - 60s 33ms/step - loss: 1.1253 - accuracy: 0.5688 - f1_score: 0.5335 - val_loss: 1.0755 - val_accuracy: 0.5300 - val_f1_score: 0.4583\n",
            "Epoch 39/60\n",
            "1818/1818 [==============================] - 48s 26ms/step - loss: 1.1157 - accuracy: 0.5713 - f1_score: 0.5363 - val_loss: 1.0758 - val_accuracy: 0.5268 - val_f1_score: 0.4530\n",
            "Epoch 40/60\n",
            "1816/1818 [============================>.] - ETA: 0s - loss: 1.1132 - accuracy: 0.5717 - f1_score: 0.5367"
          ]
        },
        {
          "name": "stderr",
          "output_type": "stream",
          "text": [
            "WARNING:absl:Found untraced functions such as _jit_compiled_convolution_op, _jit_compiled_convolution_op, _jit_compiled_convolution_op, _jit_compiled_convolution_op, _jit_compiled_convolution_op while saving (showing 5 of 84). These functions will not be directly callable after loading.\n",
            "\u001b[34m\u001b[1mwandb\u001b[0m: Adding directory to artifact (/content/gdrive/MyDrive/RifleAction/wandb/run-20230805_154154-l7f2fprb/files/model-best)... Done. 0.0s\n"
          ]
        },
        {
          "name": "stdout",
          "output_type": "stream",
          "text": [
            "1818/1818 [==============================] - 59s 33ms/step - loss: 1.1131 - accuracy: 0.5718 - f1_score: 0.5368 - val_loss: 1.0720 - val_accuracy: 0.5323 - val_f1_score: 0.4618\n",
            "Epoch 41/60\n",
            "1816/1818 [============================>.] - ETA: 0s - loss: 1.1075 - accuracy: 0.5760 - f1_score: 0.5408"
          ]
        },
        {
          "name": "stderr",
          "output_type": "stream",
          "text": [
            "WARNING:absl:Found untraced functions such as _jit_compiled_convolution_op, _jit_compiled_convolution_op, _jit_compiled_convolution_op, _jit_compiled_convolution_op, _jit_compiled_convolution_op while saving (showing 5 of 84). These functions will not be directly callable after loading.\n",
            "\u001b[34m\u001b[1mwandb\u001b[0m: Adding directory to artifact (/content/gdrive/MyDrive/RifleAction/wandb/run-20230805_154154-l7f2fprb/files/model-best)... Done. 0.0s\n"
          ]
        },
        {
          "name": "stdout",
          "output_type": "stream",
          "text": [
            "1818/1818 [==============================] - 60s 33ms/step - loss: 1.1075 - accuracy: 0.5760 - f1_score: 0.5408 - val_loss: 1.0638 - val_accuracy: 0.5454 - val_f1_score: 0.4789\n",
            "Epoch 42/60\n",
            "1818/1818 [==============================] - 49s 27ms/step - loss: 1.1032 - accuracy: 0.5768 - f1_score: 0.5420 - val_loss: 1.0718 - val_accuracy: 0.5256 - val_f1_score: 0.4535\n",
            "Epoch 43/60\n",
            "1818/1818 [==============================] - 48s 26ms/step - loss: 1.1001 - accuracy: 0.5770 - f1_score: 0.5416 - val_loss: 1.0653 - val_accuracy: 0.5444 - val_f1_score: 0.4808\n",
            "Epoch 44/60\n",
            "1816/1818 [============================>.] - ETA: 0s - loss: 1.0971 - accuracy: 0.5796 - f1_score: 0.5453"
          ]
        },
        {
          "name": "stderr",
          "output_type": "stream",
          "text": [
            "WARNING:absl:Found untraced functions such as _jit_compiled_convolution_op, _jit_compiled_convolution_op, _jit_compiled_convolution_op, _jit_compiled_convolution_op, _jit_compiled_convolution_op while saving (showing 5 of 84). These functions will not be directly callable after loading.\n",
            "\u001b[34m\u001b[1mwandb\u001b[0m: Adding directory to artifact (/content/gdrive/MyDrive/RifleAction/wandb/run-20230805_154154-l7f2fprb/files/model-best)... Done. 0.0s\n"
          ]
        },
        {
          "name": "stdout",
          "output_type": "stream",
          "text": [
            "1818/1818 [==============================] - 60s 33ms/step - loss: 1.0972 - accuracy: 0.5796 - f1_score: 0.5453 - val_loss: 1.0603 - val_accuracy: 0.5498 - val_f1_score: 0.4853\n",
            "Epoch 45/60\n",
            "1818/1818 [==============================] - 51s 28ms/step - loss: 1.0915 - accuracy: 0.5812 - f1_score: 0.5463 - val_loss: 1.0659 - val_accuracy: 0.5355 - val_f1_score: 0.4711\n",
            "Epoch 46/60\n",
            "1817/1818 [============================>.] - ETA: 0s - loss: 1.0871 - accuracy: 0.5837 - f1_score: 0.5485"
          ]
        },
        {
          "name": "stderr",
          "output_type": "stream",
          "text": [
            "WARNING:absl:Found untraced functions such as _jit_compiled_convolution_op, _jit_compiled_convolution_op, _jit_compiled_convolution_op, _jit_compiled_convolution_op, _jit_compiled_convolution_op while saving (showing 5 of 84). These functions will not be directly callable after loading.\n",
            "\u001b[34m\u001b[1mwandb\u001b[0m: Adding directory to artifact (/content/gdrive/MyDrive/RifleAction/wandb/run-20230805_154154-l7f2fprb/files/model-best)... Done. 0.0s\n"
          ]
        },
        {
          "name": "stdout",
          "output_type": "stream",
          "text": [
            "1818/1818 [==============================] - 60s 33ms/step - loss: 1.0871 - accuracy: 0.5837 - f1_score: 0.5484 - val_loss: 1.0601 - val_accuracy: 0.5427 - val_f1_score: 0.4812\n",
            "Epoch 47/60\n",
            "1817/1818 [============================>.] - ETA: 0s - loss: 1.0856 - accuracy: 0.5852 - f1_score: 0.5510"
          ]
        },
        {
          "name": "stderr",
          "output_type": "stream",
          "text": [
            "WARNING:absl:Found untraced functions such as _jit_compiled_convolution_op, _jit_compiled_convolution_op, _jit_compiled_convolution_op, _jit_compiled_convolution_op, _jit_compiled_convolution_op while saving (showing 5 of 84). These functions will not be directly callable after loading.\n",
            "\u001b[34m\u001b[1mwandb\u001b[0m: Adding directory to artifact (/content/gdrive/MyDrive/RifleAction/wandb/run-20230805_154154-l7f2fprb/files/model-best)... Done. 0.1s\n"
          ]
        },
        {
          "name": "stdout",
          "output_type": "stream",
          "text": [
            "1818/1818 [==============================] - 61s 33ms/step - loss: 1.0857 - accuracy: 0.5852 - f1_score: 0.5510 - val_loss: 1.0467 - val_accuracy: 0.5808 - val_f1_score: 0.5216\n",
            "Epoch 48/60\n",
            "1818/1818 [==============================] - 47s 26ms/step - loss: 1.0786 - accuracy: 0.5857 - f1_score: 0.5516 - val_loss: 1.0498 - val_accuracy: 0.5634 - val_f1_score: 0.5055\n",
            "Epoch 49/60\n",
            "1818/1818 [==============================] - ETA: 0s - loss: 1.0759 - accuracy: 0.5877 - f1_score: 0.5534"
          ]
        },
        {
          "name": "stderr",
          "output_type": "stream",
          "text": [
            "WARNING:absl:Found untraced functions such as _jit_compiled_convolution_op, _jit_compiled_convolution_op, _jit_compiled_convolution_op, _jit_compiled_convolution_op, _jit_compiled_convolution_op while saving (showing 5 of 84). These functions will not be directly callable after loading.\n",
            "\u001b[34m\u001b[1mwandb\u001b[0m: Adding directory to artifact (/content/gdrive/MyDrive/RifleAction/wandb/run-20230805_154154-l7f2fprb/files/model-best)... Done. 0.1s\n"
          ]
        },
        {
          "name": "stdout",
          "output_type": "stream",
          "text": [
            "1818/1818 [==============================] - 60s 33ms/step - loss: 1.0759 - accuracy: 0.5877 - f1_score: 0.5534 - val_loss: 1.0443 - val_accuracy: 0.5776 - val_f1_score: 0.5199\n",
            "Epoch 50/60\n",
            "1817/1818 [============================>.] - ETA: 0s - loss: 1.0716 - accuracy: 0.5896 - f1_score: 0.5559"
          ]
        },
        {
          "name": "stderr",
          "output_type": "stream",
          "text": [
            "WARNING:absl:Found untraced functions such as _jit_compiled_convolution_op, _jit_compiled_convolution_op, _jit_compiled_convolution_op, _jit_compiled_convolution_op, _jit_compiled_convolution_op while saving (showing 5 of 84). These functions will not be directly callable after loading.\n",
            "\u001b[34m\u001b[1mwandb\u001b[0m: Adding directory to artifact (/content/gdrive/MyDrive/RifleAction/wandb/run-20230805_154154-l7f2fprb/files/model-best)... Done. 0.0s\n"
          ]
        },
        {
          "name": "stdout",
          "output_type": "stream",
          "text": [
            "1818/1818 [==============================] - 60s 33ms/step - loss: 1.0716 - accuracy: 0.5896 - f1_score: 0.5559 - val_loss: 1.0424 - val_accuracy: 0.5709 - val_f1_score: 0.5151\n",
            "Epoch 51/60\n",
            "1816/1818 [============================>.] - ETA: 0s - loss: 1.0708 - accuracy: 0.5895 - f1_score: 0.5551"
          ]
        },
        {
          "name": "stderr",
          "output_type": "stream",
          "text": [
            "WARNING:absl:Found untraced functions such as _jit_compiled_convolution_op, _jit_compiled_convolution_op, _jit_compiled_convolution_op, _jit_compiled_convolution_op, _jit_compiled_convolution_op while saving (showing 5 of 84). These functions will not be directly callable after loading.\n",
            "\u001b[34m\u001b[1mwandb\u001b[0m: Adding directory to artifact (/content/gdrive/MyDrive/RifleAction/wandb/run-20230805_154154-l7f2fprb/files/model-best)... Done. 0.0s\n"
          ]
        },
        {
          "name": "stdout",
          "output_type": "stream",
          "text": [
            "1818/1818 [==============================] - 57s 31ms/step - loss: 1.0709 - accuracy: 0.5895 - f1_score: 0.5551 - val_loss: 1.0401 - val_accuracy: 0.5737 - val_f1_score: 0.5167\n",
            "Epoch 52/60\n",
            "1818/1818 [==============================] - 46s 25ms/step - loss: 1.0666 - accuracy: 0.5904 - f1_score: 0.5565 - val_loss: 1.0412 - val_accuracy: 0.5733 - val_f1_score: 0.5166\n",
            "Epoch 53/60\n",
            "1818/1818 [==============================] - ETA: 0s - loss: 1.0653 - accuracy: 0.5925 - f1_score: 0.5585"
          ]
        },
        {
          "name": "stderr",
          "output_type": "stream",
          "text": [
            "WARNING:absl:Found untraced functions such as _jit_compiled_convolution_op, _jit_compiled_convolution_op, _jit_compiled_convolution_op, _jit_compiled_convolution_op, _jit_compiled_convolution_op while saving (showing 5 of 84). These functions will not be directly callable after loading.\n",
            "\u001b[34m\u001b[1mwandb\u001b[0m: Adding directory to artifact (/content/gdrive/MyDrive/RifleAction/wandb/run-20230805_154154-l7f2fprb/files/model-best)... Done. 0.0s\n"
          ]
        },
        {
          "name": "stdout",
          "output_type": "stream",
          "text": [
            "1818/1818 [==============================] - 57s 31ms/step - loss: 1.0653 - accuracy: 0.5925 - f1_score: 0.5585 - val_loss: 1.0391 - val_accuracy: 0.5754 - val_f1_score: 0.5198\n",
            "Epoch 54/60\n",
            "1816/1818 [============================>.] - ETA: 0s - loss: 1.0598 - accuracy: 0.5936 - f1_score: 0.5596"
          ]
        },
        {
          "name": "stderr",
          "output_type": "stream",
          "text": [
            "WARNING:absl:Found untraced functions such as _jit_compiled_convolution_op, _jit_compiled_convolution_op, _jit_compiled_convolution_op, _jit_compiled_convolution_op, _jit_compiled_convolution_op while saving (showing 5 of 84). These functions will not be directly callable after loading.\n",
            "\u001b[34m\u001b[1mwandb\u001b[0m: Adding directory to artifact (/content/gdrive/MyDrive/RifleAction/wandb/run-20230805_154154-l7f2fprb/files/model-best)... Done. 0.0s\n"
          ]
        },
        {
          "name": "stdout",
          "output_type": "stream",
          "text": [
            "1818/1818 [==============================] - 58s 32ms/step - loss: 1.0597 - accuracy: 0.5936 - f1_score: 0.5596 - val_loss: 1.0357 - val_accuracy: 0.5770 - val_f1_score: 0.5227\n",
            "Epoch 55/60\n",
            "1817/1818 [============================>.] - ETA: 0s - loss: 1.0567 - accuracy: 0.5931 - f1_score: 0.5598"
          ]
        },
        {
          "name": "stderr",
          "output_type": "stream",
          "text": [
            "WARNING:absl:Found untraced functions such as _jit_compiled_convolution_op, _jit_compiled_convolution_op, _jit_compiled_convolution_op, _jit_compiled_convolution_op, _jit_compiled_convolution_op while saving (showing 5 of 84). These functions will not be directly callable after loading.\n",
            "\u001b[34m\u001b[1mwandb\u001b[0m: Adding directory to artifact (/content/gdrive/MyDrive/RifleAction/wandb/run-20230805_154154-l7f2fprb/files/model-best)... Done. 0.0s\n"
          ]
        },
        {
          "name": "stdout",
          "output_type": "stream",
          "text": [
            "1818/1818 [==============================] - 58s 32ms/step - loss: 1.0567 - accuracy: 0.5931 - f1_score: 0.5598 - val_loss: 1.0328 - val_accuracy: 0.5799 - val_f1_score: 0.5232\n",
            "Epoch 56/60\n",
            "1817/1818 [============================>.] - ETA: 0s - loss: 1.0539 - accuracy: 0.5973 - f1_score: 0.5639"
          ]
        },
        {
          "name": "stderr",
          "output_type": "stream",
          "text": [
            "WARNING:absl:Found untraced functions such as _jit_compiled_convolution_op, _jit_compiled_convolution_op, _jit_compiled_convolution_op, _jit_compiled_convolution_op, _jit_compiled_convolution_op while saving (showing 5 of 84). These functions will not be directly callable after loading.\n",
            "\u001b[34m\u001b[1mwandb\u001b[0m: Adding directory to artifact (/content/gdrive/MyDrive/RifleAction/wandb/run-20230805_154154-l7f2fprb/files/model-best)... Done. 0.0s\n"
          ]
        },
        {
          "name": "stdout",
          "output_type": "stream",
          "text": [
            "1818/1818 [==============================] - 57s 32ms/step - loss: 1.0539 - accuracy: 0.5973 - f1_score: 0.5639 - val_loss: 1.0307 - val_accuracy: 0.5753 - val_f1_score: 0.5174\n",
            "Epoch 57/60\n",
            "1816/1818 [============================>.] - ETA: 0s - loss: 1.0509 - accuracy: 0.5963 - f1_score: 0.5626"
          ]
        },
        {
          "name": "stderr",
          "output_type": "stream",
          "text": [
            "WARNING:absl:Found untraced functions such as _jit_compiled_convolution_op, _jit_compiled_convolution_op, _jit_compiled_convolution_op, _jit_compiled_convolution_op, _jit_compiled_convolution_op while saving (showing 5 of 84). These functions will not be directly callable after loading.\n",
            "\u001b[34m\u001b[1mwandb\u001b[0m: Adding directory to artifact (/content/gdrive/MyDrive/RifleAction/wandb/run-20230805_154154-l7f2fprb/files/model-best)... Done. 0.0s\n"
          ]
        },
        {
          "name": "stdout",
          "output_type": "stream",
          "text": [
            "1818/1818 [==============================] - 57s 32ms/step - loss: 1.0511 - accuracy: 0.5963 - f1_score: 0.5625 - val_loss: 1.0281 - val_accuracy: 0.5779 - val_f1_score: 0.5246\n",
            "Epoch 58/60\n",
            "1816/1818 [============================>.] - ETA: 0s - loss: 1.0492 - accuracy: 0.5984 - f1_score: 0.5651"
          ]
        },
        {
          "name": "stderr",
          "output_type": "stream",
          "text": [
            "WARNING:absl:Found untraced functions such as _jit_compiled_convolution_op, _jit_compiled_convolution_op, _jit_compiled_convolution_op, _jit_compiled_convolution_op, _jit_compiled_convolution_op while saving (showing 5 of 84). These functions will not be directly callable after loading.\n",
            "\u001b[34m\u001b[1mwandb\u001b[0m: Adding directory to artifact (/content/gdrive/MyDrive/RifleAction/wandb/run-20230805_154154-l7f2fprb/files/model-best)... Done. 0.0s\n"
          ]
        },
        {
          "name": "stdout",
          "output_type": "stream",
          "text": [
            "1818/1818 [==============================] - 58s 32ms/step - loss: 1.0491 - accuracy: 0.5985 - f1_score: 0.5652 - val_loss: 1.0267 - val_accuracy: 0.5803 - val_f1_score: 0.5246\n",
            "Epoch 59/60\n",
            "1818/1818 [==============================] - ETA: 0s - loss: 1.0457 - accuracy: 0.5997 - f1_score: 0.5661"
          ]
        },
        {
          "name": "stderr",
          "output_type": "stream",
          "text": [
            "WARNING:absl:Found untraced functions such as _jit_compiled_convolution_op, _jit_compiled_convolution_op, _jit_compiled_convolution_op, _jit_compiled_convolution_op, _jit_compiled_convolution_op while saving (showing 5 of 84). These functions will not be directly callable after loading.\n",
            "\u001b[34m\u001b[1mwandb\u001b[0m: Adding directory to artifact (/content/gdrive/MyDrive/RifleAction/wandb/run-20230805_154154-l7f2fprb/files/model-best)... Done. 0.0s\n"
          ]
        },
        {
          "name": "stdout",
          "output_type": "stream",
          "text": [
            "1818/1818 [==============================] - 58s 32ms/step - loss: 1.0457 - accuracy: 0.5997 - f1_score: 0.5661 - val_loss: 1.0263 - val_accuracy: 0.5798 - val_f1_score: 0.5252\n",
            "Epoch 60/60\n",
            "1817/1818 [============================>.] - ETA: 0s - loss: 1.0434 - accuracy: 0.6001 - f1_score: 0.5669"
          ]
        },
        {
          "name": "stderr",
          "output_type": "stream",
          "text": [
            "WARNING:absl:Found untraced functions such as _jit_compiled_convolution_op, _jit_compiled_convolution_op, _jit_compiled_convolution_op, _jit_compiled_convolution_op, _jit_compiled_convolution_op while saving (showing 5 of 84). These functions will not be directly callable after loading.\n",
            "\u001b[34m\u001b[1mwandb\u001b[0m: Adding directory to artifact (/content/gdrive/MyDrive/RifleAction/wandb/run-20230805_154154-l7f2fprb/files/model-best)... Done. 0.0s\n"
          ]
        },
        {
          "name": "stdout",
          "output_type": "stream",
          "text": [
            "\b\b\b\b\b\b\b\b\b\b\b\b\b\b\b\b\b\b\b\b\b\b\b\b\b\b\b\b\b\b\b\b\b\b\b\b\b\b\b\b\b\b\b\b\b\b\b\b\b\b\b\b\b\b\b\b\b\b\b\b\b\b\b\b\b\b\b\b\b\b\b\b\b\b\b\b\b\b\b\b\b\b\b\b\b\b\b\b\b\b\b\b\b\b\b\b\b\b\b\b\b\b\b\b\b\r1818/1818 [==============================] - 58s 32ms/step - loss: 1.0434 - accuracy: 0.6001 - f1_score: 0.5669 - val_loss: 1.0252 - val_accuracy: 0.5756 - val_f1_score: 0.5219\n"
          ]
        },
        {
          "data": {
            "text/html": [
              "Waiting for W&B process to finish... <strong style=\"color:green\">(success).</strong>"
            ],
            "text/plain": [
              "<IPython.core.display.HTML object>"
            ]
          },
          "metadata": {},
          "output_type": "display_data"
        },
        {
          "data": {
            "text/html": [
              "<style>\n",
              "    table.wandb td:nth-child(1) { padding: 0 10px; text-align: left ; width: auto;} td:nth-child(2) {text-align: left ; width: 100%}\n",
              "    .wandb-row { display: flex; flex-direction: row; flex-wrap: wrap; justify-content: flex-start; width: 100% }\n",
              "    .wandb-col { display: flex; flex-direction: column; flex-basis: 100%; flex: 1; padding: 10px; }\n",
              "    </style>\n",
              "<div class=\"wandb-row\"><div class=\"wandb-col\"><h3>Run history:</h3><br/><table class=\"wandb\"><tr><td>accuracy</td><td>▁▃▄▄▄▅▅▅▆▆▆▆▆▆▆▇▇▇▇▇▇▇▇▇▇▇▇▇████████████</td></tr><tr><td>epoch</td><td>▁▁▁▁▂▂▂▂▂▃▃▃▃▃▃▄▄▄▄▄▅▅▅▅▅▅▆▆▆▆▆▆▇▇▇▇▇███</td></tr><tr><td>f1_score</td><td>▁▁▃▃▄▄▅▅▆▆▆▆▆▆▆▇▇▇▇▇▇▇▇▇▇▇▇▇████████████</td></tr><tr><td>loss</td><td>█▇▅▅▄▄▄▃▃▃▃▃▂▂▂▂▂▂▂▂▂▂▂▂▂▂▁▁▁▁▁▁▁▁▁▁▁▁▁▁</td></tr><tr><td>val_accuracy</td><td>▁▁▃▃▄▄▄▄▄▄▅▅▅▅▅▅▅▆▆▆▆▆▆▆▇▆▆▇▇▇▇█████████</td></tr><tr><td>val_f1_score</td><td>▁▁▃▃▄▄▄▄▅▅▅▅▅▅▅▅▆▆▆▆▆▆▆▆▇▇▇▇▇▇▇█████████</td></tr><tr><td>val_loss</td><td>█▇▆▅▄▄▃▃▃▂▂▂▂▂▂▂▂▂▂▂▂▂▂▂▁▁▁▁▁▁▁▁▁▁▁▁▁▁▁▁</td></tr></table><br/></div><div class=\"wandb-col\"><h3>Run summary:</h3><br/><table class=\"wandb\"><tr><td>accuracy</td><td>0.60014</td></tr><tr><td>best_epoch</td><td>59</td></tr><tr><td>best_val_loss</td><td>1.02522</td></tr><tr><td>epoch</td><td>59</td></tr><tr><td>f1_score</td><td>0.56692</td></tr><tr><td>loss</td><td>1.04336</td></tr><tr><td>val_accuracy</td><td>0.57561</td></tr><tr><td>val_f1_score</td><td>0.5219</td></tr><tr><td>val_loss</td><td>1.02522</td></tr></table><br/></div></div>"
            ],
            "text/plain": [
              "<IPython.core.display.HTML object>"
            ]
          },
          "metadata": {},
          "output_type": "display_data"
        },
        {
          "data": {
            "text/html": [
              " View run <strong style=\"color:#cdcd00\">super-sweep-37</strong> at: <a href='https://wandb.ai/remchat/defence-force/runs/l7f2fprb' target=\"_blank\">https://wandb.ai/remchat/defence-force/runs/l7f2fprb</a><br/> View job at <a href='https://wandb.ai/remchat/defence-force/jobs/QXJ0aWZhY3RDb2xsZWN0aW9uOjg3OTM1OTcx/version_details/v8' target=\"_blank\">https://wandb.ai/remchat/defence-force/jobs/QXJ0aWZhY3RDb2xsZWN0aW9uOjg3OTM1OTcx/version_details/v8</a><br/>Synced 5 W&B file(s), 1 media file(s), 245 artifact file(s) and 1 other file(s)"
            ],
            "text/plain": [
              "<IPython.core.display.HTML object>"
            ]
          },
          "metadata": {},
          "output_type": "display_data"
        },
        {
          "data": {
            "text/html": [
              "Find logs at: <code>./wandb/run-20230805_154154-l7f2fprb/logs</code>"
            ],
            "text/plain": [
              "<IPython.core.display.HTML object>"
            ]
          },
          "metadata": {},
          "output_type": "display_data"
        },
        {
          "name": "stderr",
          "output_type": "stream",
          "text": [
            "\u001b[34m\u001b[1mwandb\u001b[0m: Sweep Agent: Waiting for job.\n",
            "\u001b[34m\u001b[1mwandb\u001b[0m: Sweep Agent: Exiting.\n"
          ]
        }
      ],
      "source": [
        "# Assuming you already have the sweep_config defined\n",
        "sweep_id = wandb.sweep(sweep_config, project=\"defence-force\")\n",
        "sweep_id = 'k5lpmxhw'\n",
        "\n",
        "# Run the sweep\n",
        "wandb.agent(sweep_id, train)\n"
      ]
    },
    {
      "cell_type": "code",
      "execution_count": null,
      "metadata": {
        "colab": {
          "base_uri": "https://localhost:8080/"
        },
        "id": "kGrOi1RrBrPP",
        "outputId": "b2ee9f02-2c69-48da-a527-c4c66291d995"
      },
      "outputs": [
        {
          "name": "stdout",
          "output_type": "stream",
          "text": [
            "\u001b[34m\u001b[1mwandb\u001b[0m: Cancelling sweep prasi/defence-force/r1i92r3u\n",
            "\u001b[34m\u001b[1mwandb\u001b[0m: \u001b[32m\u001b[41mERROR\u001b[0m Find detailed error logs at: /content/gdrive/MyDrive/RifleAction/wandb/debug-cli.root.log\n",
            "Error: \u001b[31mSweep prasi/defence-force/r1i92r3u not found\u001b[0m\n"
          ]
        }
      ],
      "source": [
        "!wandb sweep --cancel prasi/defence-force/r1i92r3u"
      ]
    },
    {
      "cell_type": "code",
      "execution_count": null,
      "metadata": {
        "colab": {
          "base_uri": "https://localhost:8080/"
        },
        "id": "679eHWIGyPY0",
        "outputId": "36245109-6f0c-4bf3-9194-2355505e0b37"
      },
      "outputs": [
        {
          "data": {
            "text/plain": [
              "Index(['None', 'aim', 'cocking', 'extreme low ready', 'high ready',\n",
              "       'low ready', 'magazine change', 'magazine recovery', 'scanning'],\n",
              "      dtype='object')"
            ]
          },
          "execution_count": 21,
          "metadata": {},
          "output_type": "execute_result"
        }
      ],
      "source": [
        "\n",
        "classes"
      ]
    },
    {
      "cell_type": "code",
      "execution_count": null,
      "metadata": {
        "colab": {
          "base_uri": "https://localhost:8080/"
        },
        "id": "glpfkH0eyj9Z",
        "outputId": "582130c2-bf10-4cd2-e2df-4951bf15e2bc"
      },
      "outputs": [
        {
          "data": {
            "text/plain": [
              "Index(['None', 'aim', 'extreme low ready', 'high ready', 'low ready',\n",
              "       'magazine change', 'scanning', 'shot'],\n",
              "      dtype='object')"
            ]
          },
          "execution_count": 22,
          "metadata": {},
          "output_type": "execute_result"
        }
      ],
      "source": [
        "test_classes"
      ]
    },
    {
      "cell_type": "markdown",
      "metadata": {
        "id": "uj-GVIi81cjT"
      },
      "source": [
        "#Save the model"
      ]
    },
    {
      "cell_type": "code",
      "execution_count": null,
      "metadata": {
        "colab": {
          "base_uri": "https://localhost:8080/"
        },
        "id": "ETe3Wn5a1cjU",
        "outputId": "908937c8-8cad-4b6b-eab1-613a5f101f83"
      },
      "outputs": [
        {
          "output_type": "stream",
          "name": "stderr",
          "text": [
            "/usr/local/lib/python3.10/dist-packages/keras/src/engine/training.py:3000: UserWarning: You are saving your model as an HDF5 file via `model.save()`. This file format is considered legacy. We recommend using instead the native Keras format, e.g. `model.save('my_model.keras')`.\n",
            "  saving_api.save_model(\n"
          ]
        }
      ],
      "source": [
        "# M4 uses M4 data of participants 2-5 and test on 1\n",
        "# M4_2 uses the same data but transforms approch and multishot labels to simpler labels\n",
        "model.save(\"./model_label_M4.h5\", overwrite=True)"
      ]
    },
    {
      "cell_type": "markdown",
      "source": [
        "# Evaluate Model and Generate Figures"
      ],
      "metadata": {
        "id": "WCCIrSwuZA4O"
      }
    },
    {
      "cell_type": "code",
      "execution_count": null,
      "metadata": {
        "id": "pp0f-Iul3bVt"
      },
      "outputs": [],
      "source": [
        "model:Model = load_model(\"./model_label_M4.h5\") # type:ignore\n",
        "# model:Model = load_model(\"./model_all_test.keras\") # type:ignore"
      ]
    },
    {
      "cell_type": "code",
      "execution_count": null,
      "metadata": {
        "id": "L4vTucKtmUC2"
      },
      "outputs": [],
      "source": [
        "data_formatter = DataLoader()\n",
        "for i in range(1,11):\n",
        "    data_path = f\"./M4/Participant_1/Raw_Data/{i}.csv\"\n",
        "    label_path = f\"./M4/Participant_1/Labels/{i}.csv\"\n",
        "    data_formatter.load_data(data_path, label_path)\n",
        "\n",
        "features, temp_labels, classes= data_formatter.dataset()"
      ]
    },
    {
      "cell_type": "code",
      "execution_count": null,
      "metadata": {
        "colab": {
          "base_uri": "https://localhost:8080/"
        },
        "id": "c9NCaiIYeIUP",
        "outputId": "64a091c5-1d90-4d25-9c9d-90a0adcd1c1d"
      },
      "outputs": [
        {
          "data": {
            "text/plain": [
              "array([0, 0, 0, 0, 1, 0, 0, 0, 0], dtype=uint8)"
            ]
          },
          "execution_count": 29,
          "metadata": {},
          "output_type": "execute_result"
        }
      ],
      "source": [
        "temp_labels[0]"
      ]
    },
    {
      "cell_type": "code",
      "execution_count": null,
      "metadata": {
        "id": "D_5iITKRYOD_"
      },
      "outputs": [],
      "source": [
        "Num_Classes = 10\n",
        "labels = np.zeros((temp_labels.shape[0], Num_Classes), dtype=np.uint8)\n",
        "labels[:, :temp_labels.shape[1]] = temp_labels"
      ]
    },
    {
      "cell_type": "code",
      "execution_count": null,
      "metadata": {
        "colab": {
          "base_uri": "https://localhost:8080/"
        },
        "id": "PJ7NSqNOmWVS",
        "outputId": "4cd69124-6d67-4cc6-822c-9368fe21b7e2"
      },
      "outputs": [
        {
          "data": {
            "text/plain": [
              "Index(['None', 'aim', 'cocking', 'extreme low ready', 'high ready',\n",
              "       'low ready', 'magazine change', 'magazine recovery', 'scanning'],\n",
              "      dtype='object')"
            ]
          },
          "execution_count": 33,
          "metadata": {},
          "output_type": "execute_result"
        }
      ],
      "source": [
        "classes"
      ]
    },
    {
      "cell_type": "code",
      "execution_count": null,
      "metadata": {
        "colab": {
          "base_uri": "https://localhost:8080/"
        },
        "id": "JTmlramjmYkq",
        "outputId": "a535a7d3-6914-4171-ac2e-19ee8e5e7728"
      },
      "outputs": [
        {
          "name": "stdout",
          "output_type": "stream",
          "text": [
            "787/787 [==============================] - 5s 6ms/step - loss: 3.4542 - categorical_accuracy: 0.5155\n"
          ]
        },
        {
          "data": {
            "text/plain": [
              "{'loss': 3.4542012214660645, 'categorical_accuracy': 0.515476644039154}"
            ]
          },
          "execution_count": 37,
          "metadata": {},
          "output_type": "execute_result"
        }
      ],
      "source": [
        "result = model.evaluate(features, labels, return_dict=True)\n",
        "result"
      ]
    },
    {
      "cell_type": "code",
      "execution_count": null,
      "metadata": {
        "colab": {
          "base_uri": "https://localhost:8080/"
        },
        "id": "V8Hm0UXmZfMT",
        "outputId": "1a8ec7d6-8645-4c7c-b89f-1deb10da674c"
      },
      "outputs": [
        {
          "output_type": "stream",
          "name": "stdout",
          "text": [
            "822/822 [==============================] - 5s 5ms/step\n"
          ]
        }
      ],
      "source": [
        "# model.predict(np.asarray([features[0]]))\n",
        "pred = model.predict(test_features)\n",
        "max_indicies = np.argmax (pred, axis = 1)\n",
        "y_prediction = np.zeros_like(pred, dtype=np.uint8)\n",
        "\n",
        "# Set the elements with maximum indices in each row to 1\n",
        "y_prediction[np.arange(y_prediction.shape[0]), max_indicies] = 1"
      ]
    },
    {
      "cell_type": "code",
      "execution_count": null,
      "metadata": {
        "id": "Ow3VQHtOZ9km",
        "colab": {
          "base_uri": "https://localhost:8080/"
        },
        "outputId": "31de24b6-9bee-47e2-f531-c8c50f6223ef"
      },
      "outputs": [
        {
          "output_type": "execute_result",
          "data": {
            "text/plain": [
              "array([[1, 0, 0, ..., 0, 0, 0],\n",
              "       [1, 0, 0, ..., 0, 0, 0],\n",
              "       [1, 0, 0, ..., 0, 0, 0],\n",
              "       ...,\n",
              "       [1, 0, 0, ..., 0, 0, 0],\n",
              "       [1, 0, 0, ..., 0, 0, 0],\n",
              "       [1, 0, 0, ..., 0, 0, 0]], dtype=uint8)"
            ]
          },
          "metadata": {},
          "execution_count": 23
        }
      ],
      "source": [
        "y_prediction"
      ]
    },
    {
      "cell_type": "code",
      "source": [
        "from sklearn.metrics import precision_recall_curve, average_precision_score\n",
        "import matplotlib.pyplot as plt\n",
        "import seaborn as sns  # For a better-looking plot\n",
        "\n",
        "# Set a Seaborn theme\n",
        "sns.set_style(\"whitegrid\")\n",
        "sns.set_context(\"talk\")\n",
        "\n",
        "y_true = test_labels\n",
        "# y_pred = binary_pred\n",
        "num_labels = len(all_classes)\n",
        "\n",
        "precision = dict()\n",
        "recall = dict()\n",
        "average_precision = dict()\n",
        "\n",
        "for i in range(num_labels):\n",
        "    precision[i], recall[i], _ = precision_recall_curve(y_true[:, i], y_pred[:, i])\n",
        "    average_precision[i] = average_precision_score(y_true[:, i], y_pred[:, i])\n",
        "\n",
        "# Compute micro-average precision-recall curve and area\n",
        "precision[\"micro\"], recall[\"micro\"], _ = precision_recall_curve(y_true.ravel(), y_pred.ravel())\n",
        "average_precision[\"micro\"] = average_precision_score(y_true, y_pred, average=\"micro\")\n",
        "\n",
        "plt.figure(figsize=(12, 8))\n",
        "\n",
        "# Plot individual class precision-recall curves\n",
        "line_styles = ['-', '--', '-.', ':']\n",
        "for i, label in enumerate(mlb.classes_):\n",
        "    plt.plot(recall[i], precision[i], lw=2, linestyle=line_styles[i % 4], label='%s (AP = %0.2f)' % (label, average_precision[i]))\n",
        "\n",
        "# Plot micro-average curve\n",
        "plt.plot(recall[\"micro\"], precision[\"micro\"], lw=2, color='black', label='micro-average (AP = {0:0.2f})'.format(average_precision[\"micro\"]))\n",
        "\n",
        "plt.xlabel('Recall')\n",
        "plt.ylabel('Precision')\n",
        "plt.title('Precision-Recall Curve for Each Label')\n",
        "plt.legend(loc='upper left', bbox_to_anchor=(1, 1))\n",
        "plt.xlim([0.0, 1.0])\n",
        "plt.ylim([0.0, 1.05])\n",
        "plt.tight_layout()\n",
        "\n",
        "# Save to a file before showing, to retain resolution\n",
        "plt.savefig(\"precision_recall_curve_multilabel.png\", dpi=300, bbox_inches='tight')\n",
        "\n",
        "plt.show()\n"
      ],
      "metadata": {
        "colab": {
          "base_uri": "https://localhost:8080/",
          "height": 246
        },
        "id": "OfD8SVfwoZTP",
        "outputId": "3f7ade03-d59a-4680-adc8-c2241c71ef66"
      },
      "execution_count": null,
      "outputs": [
        {
          "output_type": "error",
          "ename": "NameError",
          "evalue": "ignored",
          "traceback": [
            "\u001b[0;31m---------------------------------------------------------------------------\u001b[0m",
            "\u001b[0;31mNameError\u001b[0m                                 Traceback (most recent call last)",
            "\u001b[0;32m<ipython-input-24-dc9ddc348028>\u001b[0m in \u001b[0;36m<cell line: 17>\u001b[0;34m()\u001b[0m\n\u001b[1;32m     16\u001b[0m \u001b[0;34m\u001b[0m\u001b[0m\n\u001b[1;32m     17\u001b[0m \u001b[0;32mfor\u001b[0m \u001b[0mi\u001b[0m \u001b[0;32min\u001b[0m \u001b[0mrange\u001b[0m\u001b[0;34m(\u001b[0m\u001b[0mnum_labels\u001b[0m\u001b[0;34m)\u001b[0m\u001b[0;34m:\u001b[0m\u001b[0;34m\u001b[0m\u001b[0;34m\u001b[0m\u001b[0m\n\u001b[0;32m---> 18\u001b[0;31m     \u001b[0mprecision\u001b[0m\u001b[0;34m[\u001b[0m\u001b[0mi\u001b[0m\u001b[0;34m]\u001b[0m\u001b[0;34m,\u001b[0m \u001b[0mrecall\u001b[0m\u001b[0;34m[\u001b[0m\u001b[0mi\u001b[0m\u001b[0;34m]\u001b[0m\u001b[0;34m,\u001b[0m \u001b[0m_\u001b[0m \u001b[0;34m=\u001b[0m \u001b[0mprecision_recall_curve\u001b[0m\u001b[0;34m(\u001b[0m\u001b[0my_true\u001b[0m\u001b[0;34m[\u001b[0m\u001b[0;34m:\u001b[0m\u001b[0;34m,\u001b[0m \u001b[0mi\u001b[0m\u001b[0;34m]\u001b[0m\u001b[0;34m,\u001b[0m \u001b[0my_pred\u001b[0m\u001b[0;34m[\u001b[0m\u001b[0;34m:\u001b[0m\u001b[0;34m,\u001b[0m \u001b[0mi\u001b[0m\u001b[0;34m]\u001b[0m\u001b[0;34m)\u001b[0m\u001b[0;34m\u001b[0m\u001b[0;34m\u001b[0m\u001b[0m\n\u001b[0m\u001b[1;32m     19\u001b[0m     \u001b[0maverage_precision\u001b[0m\u001b[0;34m[\u001b[0m\u001b[0mi\u001b[0m\u001b[0;34m]\u001b[0m \u001b[0;34m=\u001b[0m \u001b[0maverage_precision_score\u001b[0m\u001b[0;34m(\u001b[0m\u001b[0my_true\u001b[0m\u001b[0;34m[\u001b[0m\u001b[0;34m:\u001b[0m\u001b[0;34m,\u001b[0m \u001b[0mi\u001b[0m\u001b[0;34m]\u001b[0m\u001b[0;34m,\u001b[0m \u001b[0my_pred\u001b[0m\u001b[0;34m[\u001b[0m\u001b[0;34m:\u001b[0m\u001b[0;34m,\u001b[0m \u001b[0mi\u001b[0m\u001b[0;34m]\u001b[0m\u001b[0;34m)\u001b[0m\u001b[0;34m\u001b[0m\u001b[0;34m\u001b[0m\u001b[0m\n\u001b[1;32m     20\u001b[0m \u001b[0;34m\u001b[0m\u001b[0m\n",
            "\u001b[0;31mNameError\u001b[0m: name 'y_pred' is not defined"
          ]
        }
      ]
    },
    {
      "cell_type": "code",
      "source": [
        "from sklearn.metrics import precision_recall_curve, roc_curve, auc, average_precision_score\n",
        "import matplotlib.pyplot as plt\n",
        "\n",
        "y_true = test_labels\n",
        "y_pred = binary_pred\n",
        "num_labels = len(all_classes)\n",
        "\n",
        "precision = dict()\n",
        "recall = dict()\n",
        "average_precision = dict()\n",
        "\n",
        "for i in range(num_labels):\n",
        "    precision[i], recall[i], _ = precision_recall_curve(y_true[:, i], y_pred[:, i])\n",
        "    average_precision[i] = average_precision_score(y_true[:, i], y_pred[:, i])\n",
        "\n",
        "# Compute micro-average precision-recall curve and area\n",
        "precision[\"micro\"], recall[\"micro\"], _ = precision_recall_curve(y_true.ravel(), y_pred.ravel())\n",
        "average_precision[\"micro\"] = average_precision_score(y_true, y_pred, average=\"micro\")\n",
        "\n",
        "plt.figure(figsize=(12, 8))\n",
        "plt.grid(True)\n",
        "\n",
        "# Plot individual class precision-recall curves\n",
        "for i, label in enumerate(mlb.classes_):\n",
        "    plt.plot(recall[i], precision[i], lw=2, label='%s (AP = %0.2f)' % (label, average_precision[i]))\n",
        "\n",
        "# Plot micro-average curve\n",
        "plt.plot(recall[\"micro\"], precision[\"micro\"], lw=2, color='gold', linestyle=':', label='micro-average (AP = {0:0.2f})'.format(average_precision[\"micro\"]))\n",
        "\n",
        "plt.xlabel('Recall')\n",
        "plt.ylabel('Precision')\n",
        "plt.xlim([0.0, 1.0])\n",
        "plt.ylim([0.0, 1.05])\n",
        "plt.title('Precision-Recall Curve for Each Class')\n",
        "plt.legend(loc='upper left', bbox_to_anchor=(1, 1))\n",
        "plt.tight_layout()\n",
        "plt.show()\n"
      ],
      "metadata": {
        "colab": {
          "base_uri": "https://localhost:8080/",
          "height": 807
        },
        "id": "u266a2yKtWMa",
        "outputId": "9e8c12d8-b8c2-4dfa-a595-8ffcfa5c9a27"
      },
      "execution_count": null,
      "outputs": [
        {
          "output_type": "display_data",
          "data": {
            "text/plain": [
              "<Figure size 1200x800 with 1 Axes>"
            ],
            "image/png": "[encoded data removed]"
          },
          "metadata": {}
        }
      ]
    },
    {
      "cell_type": "code",
      "execution_count": null,
      "metadata": {
        "id": "AxyuELZnmyz8",
        "colab": {
          "base_uri": "https://localhost:8080/",
          "height": 341
        },
        "outputId": "624b9f9d-fa37-4ecc-e345-38043b355510"
      },
      "outputs": [
        {
          "output_type": "error",
          "ename": "ValueError",
          "evalue": "ignored",
          "traceback": [
            "\u001b[0;31m---------------------------------------------------------------------------\u001b[0m",
            "\u001b[0;31mValueError\u001b[0m                                Traceback (most recent call last)",
            "\u001b[0;32m<ipython-input-46-8561cf23023f>\u001b[0m in \u001b[0;36m<cell line: 4>\u001b[0;34m()\u001b[0m\n\u001b[1;32m      2\u001b[0m \u001b[0;34m\u001b[0m\u001b[0m\n\u001b[1;32m      3\u001b[0m \u001b[0;31m# Calculate the confusion matrix\u001b[0m\u001b[0;34m\u001b[0m\u001b[0;34m\u001b[0m\u001b[0m\n\u001b[0;32m----> 4\u001b[0;31m \u001b[0mconfusion_mat\u001b[0m \u001b[0;34m=\u001b[0m \u001b[0mconfusion_matrix\u001b[0m\u001b[0;34m(\u001b[0m\u001b[0mtest_labels\u001b[0m\u001b[0;34m,\u001b[0m \u001b[0mbinary_pred\u001b[0m\u001b[0;34m)\u001b[0m\u001b[0;34m\u001b[0m\u001b[0;34m\u001b[0m\u001b[0m\n\u001b[0m",
            "\u001b[0;32m/usr/local/lib/python3.10/dist-packages/sklearn/metrics/_classification.py\u001b[0m in \u001b[0;36mconfusion_matrix\u001b[0;34m(y_true, y_pred, labels, sample_weight, normalize)\u001b[0m\n\u001b[1;32m    317\u001b[0m     \u001b[0my_type\u001b[0m\u001b[0;34m,\u001b[0m \u001b[0my_true\u001b[0m\u001b[0;34m,\u001b[0m \u001b[0my_pred\u001b[0m \u001b[0;34m=\u001b[0m \u001b[0m_check_targets\u001b[0m\u001b[0;34m(\u001b[0m\u001b[0my_true\u001b[0m\u001b[0;34m,\u001b[0m \u001b[0my_pred\u001b[0m\u001b[0;34m)\u001b[0m\u001b[0;34m\u001b[0m\u001b[0;34m\u001b[0m\u001b[0m\n\u001b[1;32m    318\u001b[0m     \u001b[0;32mif\u001b[0m \u001b[0my_type\u001b[0m \u001b[0;32mnot\u001b[0m \u001b[0;32min\u001b[0m \u001b[0;34m(\u001b[0m\u001b[0;34m\"binary\"\u001b[0m\u001b[0;34m,\u001b[0m \u001b[0;34m\"multiclass\"\u001b[0m\u001b[0;34m)\u001b[0m\u001b[0;34m:\u001b[0m\u001b[0;34m\u001b[0m\u001b[0;34m\u001b[0m\u001b[0m\n\u001b[0;32m--> 319\u001b[0;31m         \u001b[0;32mraise\u001b[0m \u001b[0mValueError\u001b[0m\u001b[0;34m(\u001b[0m\u001b[0;34m\"%s is not supported\"\u001b[0m \u001b[0;34m%\u001b[0m \u001b[0my_type\u001b[0m\u001b[0;34m)\u001b[0m\u001b[0;34m\u001b[0m\u001b[0;34m\u001b[0m\u001b[0m\n\u001b[0m\u001b[1;32m    320\u001b[0m \u001b[0;34m\u001b[0m\u001b[0m\n\u001b[1;32m    321\u001b[0m     \u001b[0;32mif\u001b[0m \u001b[0mlabels\u001b[0m \u001b[0;32mis\u001b[0m \u001b[0;32mNone\u001b[0m\u001b[0;34m:\u001b[0m\u001b[0;34m\u001b[0m\u001b[0;34m\u001b[0m\u001b[0m\n",
            "\u001b[0;31mValueError\u001b[0m: multilabel-indicator is not supported"
          ]
        }
      ],
      "source": [
        "from sklearn.metrics import confusion_matrix\n",
        "\n",
        "# Calculate the confusion matrix\n",
        "confusion_mat = confusion_matrix(test_labels, binary_pred)\n"
      ]
    },
    {
      "cell_type": "code",
      "execution_count": null,
      "metadata": {
        "colab": {
          "base_uri": "https://localhost:8080/"
        },
        "id": "PhUuEuIBUiNI",
        "outputId": "c15cb177-db43-43e1-a4e8-2e0aa15f0d76"
      },
      "outputs": [
        {
          "data": {
            "text/plain": [
              "(25167, 10)"
            ]
          },
          "execution_count": 47,
          "metadata": {},
          "output_type": "execute_result"
        }
      ],
      "source": [
        "import pandas as pd\n",
        "\n",
        "# Create a DataFrame from the confusion matrix\n",
        "confusion_df = pd.DataFrame(confusion_mat, index=mlb.classes_, columns=mlb.classes_)\n"
      ]
    },
    {
      "cell_type": "code",
      "execution_count": null,
      "metadata": {
        "id": "2R__1KmutP-Y"
      },
      "outputs": [],
      "source": [
        "import seaborn as sns\n",
        "import matplotlib.pyplot as plt\n",
        "\n",
        "# Create a heatmap using Seaborn\n",
        "plt.figure(figsize=(8, 6))\n",
        "sns.heatmap(confusion_df, annot=True, fmt='d', cmap='Blues', linewidths=.5)\n",
        "plt.xlabel('Predicted')\n",
        "plt.ylabel('True')\n",
        "plt.title('Confusion Matrix')\n",
        "plt.show()"
      ]
    },
    {
      "cell_type": "code",
      "execution_count": null,
      "metadata": {
        "colab": {
          "base_uri": "https://localhost:8080/",
          "height": 35
        },
        "id": "NIjid1oTc8b_",
        "outputId": "8caf5fa4-c9e9-4d82-aad7-abed1c4c964e"
      },
      "outputs": [
        {
          "data": {
            "text/plain": [
              "<Figure size 640x480 with 0 Axes>"
            ]
          },
          "metadata": {},
          "output_type": "display_data"
        }
      ],
      "source": [
        "plt.savefig(\"M4_2-5_CM.jpg\")"
      ]
    },
    {
      "cell_type": "code",
      "execution_count": null,
      "metadata": {
        "colab": {
          "base_uri": "https://localhost:8080/"
        },
        "id": "TY4hVq7ep3Yz",
        "outputId": "2b5f7c34-25e2-4d5d-9588-f46cbb4b9d57"
      },
      "outputs": [
        {
          "name": "stdout",
          "output_type": "stream",
          "text": [
            "863/863 [==============================] - 4s 4ms/step\n",
            "              precision    recall  f1-score   support\n",
            "\n",
            "           0       0.67      0.63      0.65     10330\n",
            "           1       0.75      0.86      0.80      3785\n",
            "           2       0.46      0.42      0.44      3827\n",
            "           3       0.24      0.51      0.33       744\n",
            "           4       0.39      0.41      0.40      1507\n",
            "           5       0.82      0.69      0.75      3582\n",
            "           6       0.19      0.26      0.22       739\n",
            "           7       0.59      0.72      0.65      1344\n",
            "           8       0.88      0.74      0.80      1460\n",
            "           9       0.00      0.00      0.00       270\n",
            "\n",
            "    accuracy                           0.62     27588\n",
            "   macro avg       0.50      0.52      0.50     27588\n",
            "weighted avg       0.63      0.62      0.62     27588\n",
            "\n"
          ]
        },
        {
          "name": "stderr",
          "output_type": "stream",
          "text": [
            "/usr/local/lib/python3.10/dist-packages/sklearn/metrics/_classification.py:1344: UndefinedMetricWarning: Precision and F-score are ill-defined and being set to 0.0 in labels with no predicted samples. Use `zero_division` parameter to control this behavior.\n",
            "  _warn_prf(average, modifier, msg_start, len(result))\n",
            "/usr/local/lib/python3.10/dist-packages/sklearn/metrics/_classification.py:1344: UndefinedMetricWarning: Precision and F-score are ill-defined and being set to 0.0 in labels with no predicted samples. Use `zero_division` parameter to control this behavior.\n",
            "  _warn_prf(average, modifier, msg_start, len(result))\n",
            "/usr/local/lib/python3.10/dist-packages/sklearn/metrics/_classification.py:1344: UndefinedMetricWarning: Precision and F-score are ill-defined and being set to 0.0 in labels with no predicted samples. Use `zero_division` parameter to control this behavior.\n",
            "  _warn_prf(average, modifier, msg_start, len(result))\n"
          ]
        }
      ],
      "source": [
        "from sklearn.metrics import classification_report\n",
        "\n",
        "\n",
        "y_pred = model.predict(test_features)\n",
        "y_pred_classes = np.argmax(y_pred, axis=-1)\n",
        "y_true_classes = np.argmax(test_labels, axis=-1)\n",
        "\n",
        "print(classification_report(y_true_classes, y_pred_classes))\n"
      ]
    },
    {
      "cell_type": "code",
      "execution_count": null,
      "metadata": {
        "colab": {
          "base_uri": "https://localhost:8080/"
        },
        "id": "ja2dfXYKro8j",
        "outputId": "d10d0576-f089-493f-e315-90b3cf1fa183"
      },
      "outputs": [
        {
          "name": "stdout",
          "output_type": "stream",
          "text": [
            "Accuracy for each class:\n",
            "Class None: 0.6306\n",
            "Class aim: 0.8602\n",
            "Class cocking: 0.4207\n",
            "Class extreme low ready: 0.5081\n",
            "Class high ready: 0.4134\n",
            "Class low ready: 0.6854\n",
            "Class magazine change: 0.2585\n",
            "Class magazine recovery: 0.7225\n",
            "Class scanning: 0.7404\n",
            "Class shot: 0.0000\n"
          ]
        }
      ],
      "source": [
        "import numpy as np\n",
        "\n",
        "# Assuming the model's output is one-hot encoded (e.g., using `to_categorical`)\n",
        "# You can use np.argmax to convert the one-hot encoded predictions and labels back to class indices.\n",
        "y_pred_classes = np.argmax(y_pred, axis=1)\n",
        "y_true_classes = np.argmax(test_labels, axis=1)\n",
        "\n",
        "# Get the list of unique class labels\n",
        "class_labels = np.unique(y_true_classes)\n",
        "\n",
        "# Calculate accuracy for each class\n",
        "class_accuracy = {}\n",
        "for index, label in zip(class_labels, all_classes):\n",
        "    correct_preds = np.where((y_true_classes == index) & (y_pred_classes == index))[0]\n",
        "    class_accuracy[label] = len(correct_preds) / np.sum(y_true_classes == index)\n",
        "\n",
        "print(\"Accuracy for each class:\")\n",
        "for label, accuracy in class_accuracy.items():\n",
        "    print(f\"Class {label}: {accuracy:.4f}\")\n"
      ]
    }
  ],
  "metadata": {
    "colab": {
      "provenance": [],
      "gpuType": "T4",
      "include_colab_link": true
    },
    "kernelspec": {
      "display_name": "Python 3",
      "name": "python3"
    },
    "language_info": {
      "codemirror_mode": {
        "name": "ipython",
        "version": 3
      },
      "file_extension": ".py",
      "mimetype": "text/x-python",
      "name": "python",
      "nbconvert_exporter": "python",
      "pygments_lexer": "ipython3",
      "version": "3.9.7"
    },
    "vscode": {
      "interpreter": {
        "hash": "6520c383a4b5d3d3020425c4574b5553744bc3fddf2231eebec922bd7484977b"
      }
    },
    "widgets": {
      "application/vnd.jupyter.widget-state+json": {
        "01f10736d244427ba048469bad0788bb": {
          "model_module": "@jupyter-widgets/controls",
          "model_module_version": "1.5.0",
          "model_name": "LabelModel",
          "state": {
            "_dom_classes": [],
            "_model_module": "@jupyter-widgets/controls",
            "_model_module_version": "1.5.0",
            "_model_name": "LabelModel",
            "_view_count": null,
            "_view_module": "@jupyter-widgets/controls",
            "_view_module_version": "1.5.0",
            "_view_name": "LabelView",
            "description": "",
            "description_tooltip": null,
            "layout": "IPY_MODEL_626b32c8551646a28b7aed85f2d5c6c5",
            "placeholder": "​",
            "style": "IPY_MODEL_c244333cdcdc4837a95d6f145a4773fe",
            "value": "155.477 MB of 204.696 MB uploaded (0.458 MB deduped)\r"
          }
        },
        "023d8ce57f40469ea2ab4d8dc5a8ed57": {
          "model_module": "@jupyter-widgets/controls",
          "model_module_version": "1.5.0",
          "model_name": "FloatProgressModel",
          "state": {
            "_dom_classes": [],
            "_model_module": "@jupyter-widgets/controls",
            "_model_module_version": "1.5.0",
            "_model_name": "FloatProgressModel",
            "_view_count": null,
            "_view_module": "@jupyter-widgets/controls",
            "_view_module_version": "1.5.0",
            "_view_name": "ProgressView",
            "bar_style": "",
            "description": "",
            "description_tooltip": null,
            "layout": "IPY_MODEL_7ce2d8f3d28f460480f720e2f0e81a07",
            "max": 1,
            "min": 0,
            "orientation": "horizontal",
            "style": "IPY_MODEL_30b523d9de0a482dabcb480f61ae8d10",
            "value": 0.9998647535680326
          }
        },
        "0bb04b1573ed4483aa2b7760f7d8879b": {
          "model_module": "@jupyter-widgets/controls",
          "model_module_version": "1.5.0",
          "model_name": "VBoxModel",
          "state": {
            "_dom_classes": [],
            "_model_module": "@jupyter-widgets/controls",
            "_model_module_version": "1.5.0",
            "_model_name": "VBoxModel",
            "_view_count": null,
            "_view_module": "@jupyter-widgets/controls",
            "_view_module_version": "1.5.0",
            "_view_name": "VBoxView",
            "box_style": "",
            "children": [
              "IPY_MODEL_2260ab9b9a0e4606b07c1000680c8f24",
              "IPY_MODEL_023d8ce57f40469ea2ab4d8dc5a8ed57"
            ],
            "layout": "IPY_MODEL_d5024eb8a406407587fe3cc8d93e5ce0"
          }
        },
        "2260ab9b9a0e4606b07c1000680c8f24": {
          "model_module": "@jupyter-widgets/controls",
          "model_module_version": "1.5.0",
          "model_name": "LabelModel",
          "state": {
            "_dom_classes": [],
            "_model_module": "@jupyter-widgets/controls",
            "_model_module_version": "1.5.0",
            "_model_name": "LabelModel",
            "_view_count": null,
            "_view_module": "@jupyter-widgets/controls",
            "_view_module_version": "1.5.0",
            "_view_name": "LabelView",
            "description": "",
            "description_tooltip": null,
            "layout": "IPY_MODEL_2b38fdbeada84fdfb4b7ca26f2a21333",
            "placeholder": "​",
            "style": "IPY_MODEL_4435499e33654a21b170434055187fd7",
            "value": "630.217 MB of 630.302 MB uploaded (4.806 MB deduped)\r"
          }
        },
        "29ac5bdb886b4663b56365e4acec34bf": {
          "model_module": "@jupyter-widgets/base",
          "model_module_version": "1.2.0",
          "model_name": "LayoutModel",
          "state": {
            "_model_module": "@jupyter-widgets/base",
            "_model_module_version": "1.2.0",
            "_model_name": "LayoutModel",
            "_view_count": null,
            "_view_module": "@jupyter-widgets/base",
            "_view_module_version": "1.2.0",
            "_view_name": "LayoutView",
            "align_content": null,
            "align_items": null,
            "align_self": null,
            "border": null,
            "bottom": null,
            "display": null,
            "flex": null,
            "flex_flow": null,
            "grid_area": null,
            "grid_auto_columns": null,
            "grid_auto_flow": null,
            "grid_auto_rows": null,
            "grid_column": null,
            "grid_gap": null,
            "grid_row": null,
            "grid_template_areas": null,
            "grid_template_columns": null,
            "grid_template_rows": null,
            "height": null,
            "justify_content": null,
            "justify_items": null,
            "left": null,
            "margin": null,
            "max_height": null,
            "max_width": null,
            "min_height": null,
            "min_width": null,
            "object_fit": null,
            "object_position": null,
            "order": null,
            "overflow": null,
            "overflow_x": null,
            "overflow_y": null,
            "padding": null,
            "right": null,
            "top": null,
            "visibility": null,
            "width": null
          }
        },
        "2b38fdbeada84fdfb4b7ca26f2a21333": {
          "model_module": "@jupyter-widgets/base",
          "model_module_version": "1.2.0",
          "model_name": "LayoutModel",
          "state": {
            "_model_module": "@jupyter-widgets/base",
            "_model_module_version": "1.2.0",
            "_model_name": "LayoutModel",
            "_view_count": null,
            "_view_module": "@jupyter-widgets/base",
            "_view_module_version": "1.2.0",
            "_view_name": "LayoutView",
            "align_content": null,
            "align_items": null,
            "align_self": null,
            "border": null,
            "bottom": null,
            "display": null,
            "flex": null,
            "flex_flow": null,
            "grid_area": null,
            "grid_auto_columns": null,
            "grid_auto_flow": null,
            "grid_auto_rows": null,
            "grid_column": null,
            "grid_gap": null,
            "grid_row": null,
            "grid_template_areas": null,
            "grid_template_columns": null,
            "grid_template_rows": null,
            "height": null,
            "justify_content": null,
            "justify_items": null,
            "left": null,
            "margin": null,
            "max_height": null,
            "max_width": null,
            "min_height": null,
            "min_width": null,
            "object_fit": null,
            "object_position": null,
            "order": null,
            "overflow": null,
            "overflow_x": null,
            "overflow_y": null,
            "padding": null,
            "right": null,
            "top": null,
            "visibility": null,
            "width": null
          }
        },
        "30b523d9de0a482dabcb480f61ae8d10": {
          "model_module": "@jupyter-widgets/controls",
          "model_module_version": "1.5.0",
          "model_name": "ProgressStyleModel",
          "state": {
            "_model_module": "@jupyter-widgets/controls",
            "_model_module_version": "1.5.0",
            "_model_name": "ProgressStyleModel",
            "_view_count": null,
            "_view_module": "@jupyter-widgets/base",
            "_view_module_version": "1.2.0",
            "_view_name": "StyleView",
            "bar_color": null,
            "description_width": ""
          }
        },
        "4435499e33654a21b170434055187fd7": {
          "model_module": "@jupyter-widgets/controls",
          "model_module_version": "1.5.0",
          "model_name": "DescriptionStyleModel",
          "state": {
            "_model_module": "@jupyter-widgets/controls",
            "_model_module_version": "1.5.0",
            "_model_name": "DescriptionStyleModel",
            "_view_count": null,
            "_view_module": "@jupyter-widgets/base",
            "_view_module_version": "1.2.0",
            "_view_name": "StyleView",
            "description_width": ""
          }
        },
        "626b32c8551646a28b7aed85f2d5c6c5": {
          "model_module": "@jupyter-widgets/base",
          "model_module_version": "1.2.0",
          "model_name": "LayoutModel",
          "state": {
            "_model_module": "@jupyter-widgets/base",
            "_model_module_version": "1.2.0",
            "_model_name": "LayoutModel",
            "_view_count": null,
            "_view_module": "@jupyter-widgets/base",
            "_view_module_version": "1.2.0",
            "_view_name": "LayoutView",
            "align_content": null,
            "align_items": null,
            "align_self": null,
            "border": null,
            "bottom": null,
            "display": null,
            "flex": null,
            "flex_flow": null,
            "grid_area": null,
            "grid_auto_columns": null,
            "grid_auto_flow": null,
            "grid_auto_rows": null,
            "grid_column": null,
            "grid_gap": null,
            "grid_row": null,
            "grid_template_areas": null,
            "grid_template_columns": null,
            "grid_template_rows": null,
            "height": null,
            "justify_content": null,
            "justify_items": null,
            "left": null,
            "margin": null,
            "max_height": null,
            "max_width": null,
            "min_height": null,
            "min_width": null,
            "object_fit": null,
            "object_position": null,
            "order": null,
            "overflow": null,
            "overflow_x": null,
            "overflow_y": null,
            "padding": null,
            "right": null,
            "top": null,
            "visibility": null,
            "width": null
          }
        },
        "696bceef70c74f58ac9111f9bf86becf": {
          "model_module": "@jupyter-widgets/base",
          "model_module_version": "1.2.0",
          "model_name": "LayoutModel",
          "state": {
            "_model_module": "@jupyter-widgets/base",
            "_model_module_version": "1.2.0",
            "_model_name": "LayoutModel",
            "_view_count": null,
            "_view_module": "@jupyter-widgets/base",
            "_view_module_version": "1.2.0",
            "_view_name": "LayoutView",
            "align_content": null,
            "align_items": null,
            "align_self": null,
            "border": null,
            "bottom": null,
            "display": null,
            "flex": null,
            "flex_flow": null,
            "grid_area": null,
            "grid_auto_columns": null,
            "grid_auto_flow": null,
            "grid_auto_rows": null,
            "grid_column": null,
            "grid_gap": null,
            "grid_row": null,
            "grid_template_areas": null,
            "grid_template_columns": null,
            "grid_template_rows": null,
            "height": null,
            "justify_content": null,
            "justify_items": null,
            "left": null,
            "margin": null,
            "max_height": null,
            "max_width": null,
            "min_height": null,
            "min_width": null,
            "object_fit": null,
            "object_position": null,
            "order": null,
            "overflow": null,
            "overflow_x": null,
            "overflow_y": null,
            "padding": null,
            "right": null,
            "top": null,
            "visibility": null,
            "width": null
          }
        },
        "6ccacface7324031a1d6a3fb2c16edc8": {
          "model_module": "@jupyter-widgets/controls",
          "model_module_version": "1.5.0",
          "model_name": "VBoxModel",
          "state": {
            "_dom_classes": [],
            "_model_module": "@jupyter-widgets/controls",
            "_model_module_version": "1.5.0",
            "_model_name": "VBoxModel",
            "_view_count": null,
            "_view_module": "@jupyter-widgets/controls",
            "_view_module_version": "1.5.0",
            "_view_name": "VBoxView",
            "box_style": "",
            "children": [
              "IPY_MODEL_01f10736d244427ba048469bad0788bb",
              "IPY_MODEL_8c203a8939104ca6acdebe36fade4c6b"
            ],
            "layout": "IPY_MODEL_696bceef70c74f58ac9111f9bf86becf"
          }
        },
        "6f440d87a8264247b480298730418aba": {
          "model_module": "@jupyter-widgets/controls",
          "model_module_version": "1.5.0",
          "model_name": "ProgressStyleModel",
          "state": {
            "_model_module": "@jupyter-widgets/controls",
            "_model_module_version": "1.5.0",
            "_model_name": "ProgressStyleModel",
            "_view_count": null,
            "_view_module": "@jupyter-widgets/base",
            "_view_module_version": "1.2.0",
            "_view_name": "StyleView",
            "bar_color": null,
            "description_width": ""
          }
        },
        "7ce2d8f3d28f460480f720e2f0e81a07": {
          "model_module": "@jupyter-widgets/base",
          "model_module_version": "1.2.0",
          "model_name": "LayoutModel",
          "state": {
            "_model_module": "@jupyter-widgets/base",
            "_model_module_version": "1.2.0",
            "_model_name": "LayoutModel",
            "_view_count": null,
            "_view_module": "@jupyter-widgets/base",
            "_view_module_version": "1.2.0",
            "_view_name": "LayoutView",
            "align_content": null,
            "align_items": null,
            "align_self": null,
            "border": null,
            "bottom": null,
            "display": null,
            "flex": null,
            "flex_flow": null,
            "grid_area": null,
            "grid_auto_columns": null,
            "grid_auto_flow": null,
            "grid_auto_rows": null,
            "grid_column": null,
            "grid_gap": null,
            "grid_row": null,
            "grid_template_areas": null,
            "grid_template_columns": null,
            "grid_template_rows": null,
            "height": null,
            "justify_content": null,
            "justify_items": null,
            "left": null,
            "margin": null,
            "max_height": null,
            "max_width": null,
            "min_height": null,
            "min_width": null,
            "object_fit": null,
            "object_position": null,
            "order": null,
            "overflow": null,
            "overflow_x": null,
            "overflow_y": null,
            "padding": null,
            "right": null,
            "top": null,
            "visibility": null,
            "width": null
          }
        },
        "8c203a8939104ca6acdebe36fade4c6b": {
          "model_module": "@jupyter-widgets/controls",
          "model_module_version": "1.5.0",
          "model_name": "FloatProgressModel",
          "state": {
            "_dom_classes": [],
            "_model_module": "@jupyter-widgets/controls",
            "_model_module_version": "1.5.0",
            "_model_name": "FloatProgressModel",
            "_view_count": null,
            "_view_module": "@jupyter-widgets/controls",
            "_view_module_version": "1.5.0",
            "_view_name": "ProgressView",
            "bar_style": "",
            "description": "",
            "description_tooltip": null,
            "layout": "IPY_MODEL_29ac5bdb886b4663b56365e4acec34bf",
            "max": 1,
            "min": 0,
            "orientation": "horizontal",
            "style": "IPY_MODEL_6f440d87a8264247b480298730418aba",
            "value": 0.7595539363486679
          }
        },
        "c244333cdcdc4837a95d6f145a4773fe": {
          "model_module": "@jupyter-widgets/controls",
          "model_module_version": "1.5.0",
          "model_name": "DescriptionStyleModel",
          "state": {
            "_model_module": "@jupyter-widgets/controls",
            "_model_module_version": "1.5.0",
            "_model_name": "DescriptionStyleModel",
            "_view_count": null,
            "_view_module": "@jupyter-widgets/base",
            "_view_module_version": "1.2.0",
            "_view_name": "StyleView",
            "description_width": ""
          }
        },
        "d5024eb8a406407587fe3cc8d93e5ce0": {
          "model_module": "@jupyter-widgets/base",
          "model_module_version": "1.2.0",
          "model_name": "LayoutModel",
          "state": {
            "_model_module": "@jupyter-widgets/base",
            "_model_module_version": "1.2.0",
            "_model_name": "LayoutModel",
            "_view_count": null,
            "_view_module": "@jupyter-widgets/base",
            "_view_module_version": "1.2.0",
            "_view_name": "LayoutView",
            "align_content": null,
            "align_items": null,
            "align_self": null,
            "border": null,
            "bottom": null,
            "display": null,
            "flex": null,
            "flex_flow": null,
            "grid_area": null,
            "grid_auto_columns": null,
            "grid_auto_flow": null,
            "grid_auto_rows": null,
            "grid_column": null,
            "grid_gap": null,
            "grid_row": null,
            "grid_template_areas": null,
            "grid_template_columns": null,
            "grid_template_rows": null,
            "height": null,
            "justify_content": null,
            "justify_items": null,
            "left": null,
            "margin": null,
            "max_height": null,
            "max_width": null,
            "min_height": null,
            "min_width": null,
            "object_fit": null,
            "object_position": null,
            "order": null,
            "overflow": null,
            "overflow_x": null,
            "overflow_y": null,
            "padding": null,
            "right": null,
            "top": null,
            "visibility": null,
            "width": null
          }
        },
        "3dcc14237bbb4b479d1b7bfe09ee03c9": {
          "model_module": "@jupyter-widgets/controls",
          "model_name": "VBoxModel",
          "model_module_version": "1.5.0",
          "state": {
            "_dom_classes": [],
            "_model_module": "@jupyter-widgets/controls",
            "_model_module_version": "1.5.0",
            "_model_name": "VBoxModel",
            "_view_count": null,
            "_view_module": "@jupyter-widgets/controls",
            "_view_module_version": "1.5.0",
            "_view_name": "VBoxView",
            "box_style": "",
            "children": [
              "IPY_MODEL_4c9f5dffe51749edb83afc245c1b0af8",
              "IPY_MODEL_dcb25ae2f88c4c23a09eaf617661b964"
            ],
            "layout": "IPY_MODEL_3239c273918b49198563e1ac413a41d8"
          }
        },
        "4c9f5dffe51749edb83afc245c1b0af8": {
          "model_module": "@jupyter-widgets/controls",
          "model_name": "LabelModel",
          "model_module_version": "1.5.0",
          "state": {
            "_dom_classes": [],
            "_model_module": "@jupyter-widgets/controls",
            "_model_module_version": "1.5.0",
            "_model_name": "LabelModel",
            "_view_count": null,
            "_view_module": "@jupyter-widgets/controls",
            "_view_module_version": "1.5.0",
            "_view_name": "LabelView",
            "description": "",
            "description_tooltip": null,
            "layout": "IPY_MODEL_b092d302f60b46e096993dba6ea99451",
            "placeholder": "​",
            "style": "IPY_MODEL_4d1617cd75084e62967fda755e5d5edd",
            "value": "0.008 MB of 0.016 MB uploaded (0.000 MB deduped)\r"
          }
        },
        "dcb25ae2f88c4c23a09eaf617661b964": {
          "model_module": "@jupyter-widgets/controls",
          "model_name": "FloatProgressModel",
          "model_module_version": "1.5.0",
          "state": {
            "_dom_classes": [],
            "_model_module": "@jupyter-widgets/controls",
            "_model_module_version": "1.5.0",
            "_model_name": "FloatProgressModel",
            "_view_count": null,
            "_view_module": "@jupyter-widgets/controls",
            "_view_module_version": "1.5.0",
            "_view_name": "ProgressView",
            "bar_style": "",
            "description": "",
            "description_tooltip": null,
            "layout": "IPY_MODEL_5928016d4809420c8b02e6737dec72d6",
            "max": 1,
            "min": 0,
            "orientation": "horizontal",
            "style": "IPY_MODEL_6cbfe3bf2aec4fe4b199c1a4bcb49c3e",
            "value": 0.4996452642781128
          }
        },
        "3239c273918b49198563e1ac413a41d8": {
          "model_module": "@jupyter-widgets/base",
          "model_name": "LayoutModel",
          "model_module_version": "1.2.0",
          "state": {
            "_model_module": "@jupyter-widgets/base",
            "_model_module_version": "1.2.0",
            "_model_name": "LayoutModel",
            "_view_count": null,
            "_view_module": "@jupyter-widgets/base",
            "_view_module_version": "1.2.0",
            "_view_name": "LayoutView",
            "align_content": null,
            "align_items": null,
            "align_self": null,
            "border": null,
            "bottom": null,
            "display": null,
            "flex": null,
            "flex_flow": null,
            "grid_area": null,
            "grid_auto_columns": null,
            "grid_auto_flow": null,
            "grid_auto_rows": null,
            "grid_column": null,
            "grid_gap": null,
            "grid_row": null,
            "grid_template_areas": null,
            "grid_template_columns": null,
            "grid_template_rows": null,
            "height": null,
            "justify_content": null,
            "justify_items": null,
            "left": null,
            "margin": null,
            "max_height": null,
            "max_width": null,
            "min_height": null,
            "min_width": null,
            "object_fit": null,
            "object_position": null,
            "order": null,
            "overflow": null,
            "overflow_x": null,
            "overflow_y": null,
            "padding": null,
            "right": null,
            "top": null,
            "visibility": null,
            "width": null
          }
        },
        "b092d302f60b46e096993dba6ea99451": {
          "model_module": "@jupyter-widgets/base",
          "model_name": "LayoutModel",
          "model_module_version": "1.2.0",
          "state": {
            "_model_module": "@jupyter-widgets/base",
            "_model_module_version": "1.2.0",
            "_model_name": "LayoutModel",
            "_view_count": null,
            "_view_module": "@jupyter-widgets/base",
            "_view_module_version": "1.2.0",
            "_view_name": "LayoutView",
            "align_content": null,
            "align_items": null,
            "align_self": null,
            "border": null,
            "bottom": null,
            "display": null,
            "flex": null,
            "flex_flow": null,
            "grid_area": null,
            "grid_auto_columns": null,
            "grid_auto_flow": null,
            "grid_auto_rows": null,
            "grid_column": null,
            "grid_gap": null,
            "grid_row": null,
            "grid_template_areas": null,
            "grid_template_columns": null,
            "grid_template_rows": null,
            "height": null,
            "justify_content": null,
            "justify_items": null,
            "left": null,
            "margin": null,
            "max_height": null,
            "max_width": null,
            "min_height": null,
            "min_width": null,
            "object_fit": null,
            "object_position": null,
            "order": null,
            "overflow": null,
            "overflow_x": null,
            "overflow_y": null,
            "padding": null,
            "right": null,
            "top": null,
            "visibility": null,
            "width": null
          }
        },
        "4d1617cd75084e62967fda755e5d5edd": {
          "model_module": "@jupyter-widgets/controls",
          "model_name": "DescriptionStyleModel",
          "model_module_version": "1.5.0",
          "state": {
            "_model_module": "@jupyter-widgets/controls",
            "_model_module_version": "1.5.0",
            "_model_name": "DescriptionStyleModel",
            "_view_count": null,
            "_view_module": "@jupyter-widgets/base",
            "_view_module_version": "1.2.0",
            "_view_name": "StyleView",
            "description_width": ""
          }
        },
        "5928016d4809420c8b02e6737dec72d6": {
          "model_module": "@jupyter-widgets/base",
          "model_name": "LayoutModel",
          "model_module_version": "1.2.0",
          "state": {
            "_model_module": "@jupyter-widgets/base",
            "_model_module_version": "1.2.0",
            "_model_name": "LayoutModel",
            "_view_count": null,
            "_view_module": "@jupyter-widgets/base",
            "_view_module_version": "1.2.0",
            "_view_name": "LayoutView",
            "align_content": null,
            "align_items": null,
            "align_self": null,
            "border": null,
            "bottom": null,
            "display": null,
            "flex": null,
            "flex_flow": null,
            "grid_area": null,
            "grid_auto_columns": null,
            "grid_auto_flow": null,
            "grid_auto_rows": null,
            "grid_column": null,
            "grid_gap": null,
            "grid_row": null,
            "grid_template_areas": null,
            "grid_template_columns": null,
            "grid_template_rows": null,
            "height": null,
            "justify_content": null,
            "justify_items": null,
            "left": null,
            "margin": null,
            "max_height": null,
            "max_width": null,
            "min_height": null,
            "min_width": null,
            "object_fit": null,
            "object_position": null,
            "order": null,
            "overflow": null,
            "overflow_x": null,
            "overflow_y": null,
            "padding": null,
            "right": null,
            "top": null,
            "visibility": null,
            "width": null
          }
        },
        "6cbfe3bf2aec4fe4b199c1a4bcb49c3e": {
          "model_module": "@jupyter-widgets/controls",
          "model_name": "ProgressStyleModel",
          "model_module_version": "1.5.0",
          "state": {
            "_model_module": "@jupyter-widgets/controls",
            "_model_module_version": "1.5.0",
            "_model_name": "ProgressStyleModel",
            "_view_count": null,
            "_view_module": "@jupyter-widgets/base",
            "_view_module_version": "1.2.0",
            "_view_name": "StyleView",
            "bar_color": null,
            "description_width": ""
          }
        }
      }
    },
    "accelerator": "GPU"
  },
  "nbformat": 4,
  "nbformat_minor": 0
}